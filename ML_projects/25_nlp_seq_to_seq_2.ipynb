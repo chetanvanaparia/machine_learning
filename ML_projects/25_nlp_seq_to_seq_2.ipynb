{
  "cells": [
    {
      "cell_type": "markdown",
      "metadata": {
        "id": "vmGWTdRmKRph"
      },
      "source": [
        "<font color='blue'>**Preprocess data**</font>"
      ]
    },
    {
      "cell_type": "code",
      "execution_count": null,
      "metadata": {
        "colab": {
          "base_uri": "https://localhost:8080/",
          "height": 206
        },
        "id": "9QqElB_nKZos",
        "outputId": "cf055ceb-9d87-4768-a0f7-6bfe1ed6951c"
      },
      "outputs": [
        {
          "output_type": "execute_result",
          "data": {
            "text/plain": [
              "  english   italian\n",
              "0     Hi.     Ciao!\n",
              "1     Hi.     Ciao.\n",
              "2    Run!    Corri!\n",
              "3    Run!    Corra!\n",
              "4    Run!  Correte!"
            ],
            "text/html": [
              "\n",
              "  <div id=\"df-e5187456-577e-4d89-a94f-d4b32cbee400\">\n",
              "    <div class=\"colab-df-container\">\n",
              "      <div>\n",
              "<style scoped>\n",
              "    .dataframe tbody tr th:only-of-type {\n",
              "        vertical-align: middle;\n",
              "    }\n",
              "\n",
              "    .dataframe tbody tr th {\n",
              "        vertical-align: top;\n",
              "    }\n",
              "\n",
              "    .dataframe thead th {\n",
              "        text-align: right;\n",
              "    }\n",
              "</style>\n",
              "<table border=\"1\" class=\"dataframe\">\n",
              "  <thead>\n",
              "    <tr style=\"text-align: right;\">\n",
              "      <th></th>\n",
              "      <th>english</th>\n",
              "      <th>italian</th>\n",
              "    </tr>\n",
              "  </thead>\n",
              "  <tbody>\n",
              "    <tr>\n",
              "      <th>0</th>\n",
              "      <td>Hi.</td>\n",
              "      <td>Ciao!</td>\n",
              "    </tr>\n",
              "    <tr>\n",
              "      <th>1</th>\n",
              "      <td>Hi.</td>\n",
              "      <td>Ciao.</td>\n",
              "    </tr>\n",
              "    <tr>\n",
              "      <th>2</th>\n",
              "      <td>Run!</td>\n",
              "      <td>Corri!</td>\n",
              "    </tr>\n",
              "    <tr>\n",
              "      <th>3</th>\n",
              "      <td>Run!</td>\n",
              "      <td>Corra!</td>\n",
              "    </tr>\n",
              "    <tr>\n",
              "      <th>4</th>\n",
              "      <td>Run!</td>\n",
              "      <td>Correte!</td>\n",
              "    </tr>\n",
              "  </tbody>\n",
              "</table>\n",
              "</div>\n",
              "      <button class=\"colab-df-convert\" onclick=\"convertToInteractive('df-e5187456-577e-4d89-a94f-d4b32cbee400')\"\n",
              "              title=\"Convert this dataframe to an interactive table.\"\n",
              "              style=\"display:none;\">\n",
              "        \n",
              "  <svg xmlns=\"http://www.w3.org/2000/svg\" height=\"24px\"viewBox=\"0 0 24 24\"\n",
              "       width=\"24px\">\n",
              "    <path d=\"M0 0h24v24H0V0z\" fill=\"none\"/>\n",
              "    <path d=\"M18.56 5.44l.94 2.06.94-2.06 2.06-.94-2.06-.94-.94-2.06-.94 2.06-2.06.94zm-11 1L8.5 8.5l.94-2.06 2.06-.94-2.06-.94L8.5 2.5l-.94 2.06-2.06.94zm10 10l.94 2.06.94-2.06 2.06-.94-2.06-.94-.94-2.06-.94 2.06-2.06.94z\"/><path d=\"M17.41 7.96l-1.37-1.37c-.4-.4-.92-.59-1.43-.59-.52 0-1.04.2-1.43.59L10.3 9.45l-7.72 7.72c-.78.78-.78 2.05 0 2.83L4 21.41c.39.39.9.59 1.41.59.51 0 1.02-.2 1.41-.59l7.78-7.78 2.81-2.81c.8-.78.8-2.07 0-2.86zM5.41 20L4 18.59l7.72-7.72 1.47 1.35L5.41 20z\"/>\n",
              "  </svg>\n",
              "      </button>\n",
              "      \n",
              "  <style>\n",
              "    .colab-df-container {\n",
              "      display:flex;\n",
              "      flex-wrap:wrap;\n",
              "      gap: 12px;\n",
              "    }\n",
              "\n",
              "    .colab-df-convert {\n",
              "      background-color: #E8F0FE;\n",
              "      border: none;\n",
              "      border-radius: 50%;\n",
              "      cursor: pointer;\n",
              "      display: none;\n",
              "      fill: #1967D2;\n",
              "      height: 32px;\n",
              "      padding: 0 0 0 0;\n",
              "      width: 32px;\n",
              "    }\n",
              "\n",
              "    .colab-df-convert:hover {\n",
              "      background-color: #E2EBFA;\n",
              "      box-shadow: 0px 1px 2px rgba(60, 64, 67, 0.3), 0px 1px 3px 1px rgba(60, 64, 67, 0.15);\n",
              "      fill: #174EA6;\n",
              "    }\n",
              "\n",
              "    [theme=dark] .colab-df-convert {\n",
              "      background-color: #3B4455;\n",
              "      fill: #D2E3FC;\n",
              "    }\n",
              "\n",
              "    [theme=dark] .colab-df-convert:hover {\n",
              "      background-color: #434B5C;\n",
              "      box-shadow: 0px 1px 3px 1px rgba(0, 0, 0, 0.15);\n",
              "      filter: drop-shadow(0px 1px 2px rgba(0, 0, 0, 0.3));\n",
              "      fill: #FFFFFF;\n",
              "    }\n",
              "  </style>\n",
              "\n",
              "      <script>\n",
              "        const buttonEl =\n",
              "          document.querySelector('#df-e5187456-577e-4d89-a94f-d4b32cbee400 button.colab-df-convert');\n",
              "        buttonEl.style.display =\n",
              "          google.colab.kernel.accessAllowed ? 'block' : 'none';\n",
              "\n",
              "        async function convertToInteractive(key) {\n",
              "          const element = document.querySelector('#df-e5187456-577e-4d89-a94f-d4b32cbee400');\n",
              "          const dataTable =\n",
              "            await google.colab.kernel.invokeFunction('convertToInteractive',\n",
              "                                                     [key], {});\n",
              "          if (!dataTable) return;\n",
              "\n",
              "          const docLinkHtml = 'Like what you see? Visit the ' +\n",
              "            '<a target=\"_blank\" href=https://colab.research.google.com/notebooks/data_table.ipynb>data table notebook</a>'\n",
              "            + ' to learn more about interactive tables.';\n",
              "          element.innerHTML = '';\n",
              "          dataTable['output_type'] = 'display_data';\n",
              "          await google.colab.output.renderOutput(dataTable, element);\n",
              "          const docLink = document.createElement('div');\n",
              "          docLink.innerHTML = docLinkHtml;\n",
              "          element.appendChild(docLink);\n",
              "        }\n",
              "      </script>\n",
              "    </div>\n",
              "  </div>\n",
              "  "
            ]
          },
          "metadata": {},
          "execution_count": 13
        }
      ],
      "source": [
        "import pandas as pd\n",
        "import re\n",
        "with open('ita.txt', 'r') as f:\n",
        "    eng=[]\n",
        "    ita=[]\n",
        "    for i in f.readlines():\n",
        "        eng.append(i.split(\"\\t\")[0])\n",
        "        ita.append(i.split(\"\\t\")[1])\n",
        "data = pd.DataFrame(data=list(zip(eng, ita)), columns=['english','italian'])\n",
        "data.head()"
      ]
    },
    {
      "cell_type": "code",
      "execution_count": null,
      "metadata": {
        "colab": {
          "base_uri": "https://localhost:8080/",
          "height": 206
        },
        "id": "XnDyE0ljbYor",
        "outputId": "1ce1462c-0794-4ba6-acc1-0e3a64ff690d"
      },
      "outputs": [
        {
          "output_type": "execute_result",
          "data": {
            "text/plain": [
              "  english  italian\n",
              "0      hi     ciao\n",
              "1      hi     ciao\n",
              "2     run    corri\n",
              "3     run    corra\n",
              "4     run  correte"
            ],
            "text/html": [
              "\n",
              "  <div id=\"df-fd7b1b3d-eaa7-4e8f-9b68-db2e0e194c15\">\n",
              "    <div class=\"colab-df-container\">\n",
              "      <div>\n",
              "<style scoped>\n",
              "    .dataframe tbody tr th:only-of-type {\n",
              "        vertical-align: middle;\n",
              "    }\n",
              "\n",
              "    .dataframe tbody tr th {\n",
              "        vertical-align: top;\n",
              "    }\n",
              "\n",
              "    .dataframe thead th {\n",
              "        text-align: right;\n",
              "    }\n",
              "</style>\n",
              "<table border=\"1\" class=\"dataframe\">\n",
              "  <thead>\n",
              "    <tr style=\"text-align: right;\">\n",
              "      <th></th>\n",
              "      <th>english</th>\n",
              "      <th>italian</th>\n",
              "    </tr>\n",
              "  </thead>\n",
              "  <tbody>\n",
              "    <tr>\n",
              "      <th>0</th>\n",
              "      <td>hi</td>\n",
              "      <td>ciao</td>\n",
              "    </tr>\n",
              "    <tr>\n",
              "      <th>1</th>\n",
              "      <td>hi</td>\n",
              "      <td>ciao</td>\n",
              "    </tr>\n",
              "    <tr>\n",
              "      <th>2</th>\n",
              "      <td>run</td>\n",
              "      <td>corri</td>\n",
              "    </tr>\n",
              "    <tr>\n",
              "      <th>3</th>\n",
              "      <td>run</td>\n",
              "      <td>corra</td>\n",
              "    </tr>\n",
              "    <tr>\n",
              "      <th>4</th>\n",
              "      <td>run</td>\n",
              "      <td>correte</td>\n",
              "    </tr>\n",
              "  </tbody>\n",
              "</table>\n",
              "</div>\n",
              "      <button class=\"colab-df-convert\" onclick=\"convertToInteractive('df-fd7b1b3d-eaa7-4e8f-9b68-db2e0e194c15')\"\n",
              "              title=\"Convert this dataframe to an interactive table.\"\n",
              "              style=\"display:none;\">\n",
              "        \n",
              "  <svg xmlns=\"http://www.w3.org/2000/svg\" height=\"24px\"viewBox=\"0 0 24 24\"\n",
              "       width=\"24px\">\n",
              "    <path d=\"M0 0h24v24H0V0z\" fill=\"none\"/>\n",
              "    <path d=\"M18.56 5.44l.94 2.06.94-2.06 2.06-.94-2.06-.94-.94-2.06-.94 2.06-2.06.94zm-11 1L8.5 8.5l.94-2.06 2.06-.94-2.06-.94L8.5 2.5l-.94 2.06-2.06.94zm10 10l.94 2.06.94-2.06 2.06-.94-2.06-.94-.94-2.06-.94 2.06-2.06.94z\"/><path d=\"M17.41 7.96l-1.37-1.37c-.4-.4-.92-.59-1.43-.59-.52 0-1.04.2-1.43.59L10.3 9.45l-7.72 7.72c-.78.78-.78 2.05 0 2.83L4 21.41c.39.39.9.59 1.41.59.51 0 1.02-.2 1.41-.59l7.78-7.78 2.81-2.81c.8-.78.8-2.07 0-2.86zM5.41 20L4 18.59l7.72-7.72 1.47 1.35L5.41 20z\"/>\n",
              "  </svg>\n",
              "      </button>\n",
              "      \n",
              "  <style>\n",
              "    .colab-df-container {\n",
              "      display:flex;\n",
              "      flex-wrap:wrap;\n",
              "      gap: 12px;\n",
              "    }\n",
              "\n",
              "    .colab-df-convert {\n",
              "      background-color: #E8F0FE;\n",
              "      border: none;\n",
              "      border-radius: 50%;\n",
              "      cursor: pointer;\n",
              "      display: none;\n",
              "      fill: #1967D2;\n",
              "      height: 32px;\n",
              "      padding: 0 0 0 0;\n",
              "      width: 32px;\n",
              "    }\n",
              "\n",
              "    .colab-df-convert:hover {\n",
              "      background-color: #E2EBFA;\n",
              "      box-shadow: 0px 1px 2px rgba(60, 64, 67, 0.3), 0px 1px 3px 1px rgba(60, 64, 67, 0.15);\n",
              "      fill: #174EA6;\n",
              "    }\n",
              "\n",
              "    [theme=dark] .colab-df-convert {\n",
              "      background-color: #3B4455;\n",
              "      fill: #D2E3FC;\n",
              "    }\n",
              "\n",
              "    [theme=dark] .colab-df-convert:hover {\n",
              "      background-color: #434B5C;\n",
              "      box-shadow: 0px 1px 3px 1px rgba(0, 0, 0, 0.15);\n",
              "      filter: drop-shadow(0px 1px 2px rgba(0, 0, 0, 0.3));\n",
              "      fill: #FFFFFF;\n",
              "    }\n",
              "  </style>\n",
              "\n",
              "      <script>\n",
              "        const buttonEl =\n",
              "          document.querySelector('#df-fd7b1b3d-eaa7-4e8f-9b68-db2e0e194c15 button.colab-df-convert');\n",
              "        buttonEl.style.display =\n",
              "          google.colab.kernel.accessAllowed ? 'block' : 'none';\n",
              "\n",
              "        async function convertToInteractive(key) {\n",
              "          const element = document.querySelector('#df-fd7b1b3d-eaa7-4e8f-9b68-db2e0e194c15');\n",
              "          const dataTable =\n",
              "            await google.colab.kernel.invokeFunction('convertToInteractive',\n",
              "                                                     [key], {});\n",
              "          if (!dataTable) return;\n",
              "\n",
              "          const docLinkHtml = 'Like what you see? Visit the ' +\n",
              "            '<a target=\"_blank\" href=https://colab.research.google.com/notebooks/data_table.ipynb>data table notebook</a>'\n",
              "            + ' to learn more about interactive tables.';\n",
              "          element.innerHTML = '';\n",
              "          dataTable['output_type'] = 'display_data';\n",
              "          await google.colab.output.renderOutput(dataTable, element);\n",
              "          const docLink = document.createElement('div');\n",
              "          docLink.innerHTML = docLinkHtml;\n",
              "          element.appendChild(docLink);\n",
              "        }\n",
              "      </script>\n",
              "    </div>\n",
              "  </div>\n",
              "  "
            ]
          },
          "metadata": {},
          "execution_count": 14
        }
      ],
      "source": [
        "def decontractions(phrase):\n",
        "  \"\"\"decontracted takes text and convert contractions into natural form.\n",
        "     ref: https://stackoverflow.com/questions/19790188/expanding-english-language-contractions-in-python/47091490#47091490\"\"\"\n",
        "\n",
        "  # specific\n",
        "  phrase = re.sub(r\"won\\'t\", \"will not\", phrase)\n",
        "  phrase = re.sub(r\"can\\'t\", \"can not\", phrase)\n",
        "  phrase = re.sub(r\"won\\’t\", \"will not\", phrase)\n",
        "  phrase = re.sub(r\"can\\’t\", \"can not\", phrase)\n",
        "\n",
        "  # general\n",
        "  phrase = re.sub(r\"n\\'t\", \" not\", phrase)\n",
        "  phrase = re.sub(r\"\\'re\", \" are\", phrase)\n",
        "  phrase = re.sub(r\"\\'s\", \" is\", phrase)\n",
        "  phrase = re.sub(r\"\\'d\", \" would\", phrase)\n",
        "  phrase = re.sub(r\"\\'ll\", \" will\", phrase)\n",
        "  phrase = re.sub(r\"\\'t\", \" not\", phrase)\n",
        "  phrase = re.sub(r\"\\'ve\", \" have\", phrase)\n",
        "  phrase = re.sub(r\"\\'m\", \" am\", phrase)\n",
        "\n",
        "  phrase = re.sub(r\"n\\’t\", \" not\", phrase)\n",
        "  phrase = re.sub(r\"\\’re\", \" are\", phrase)\n",
        "  phrase = re.sub(r\"\\’s\", \" is\", phrase)\n",
        "  phrase = re.sub(r\"\\’d\", \" would\", phrase)\n",
        "  phrase = re.sub(r\"\\’ll\", \" will\", phrase)\n",
        "  phrase = re.sub(r\"\\’t\", \" not\", phrase)\n",
        "  phrase = re.sub(r\"\\’ve\", \" have\", phrase)\n",
        "  phrase = re.sub(r\"\\’m\", \" am\", phrase)\n",
        "\n",
        "  return phrase\n",
        "\n",
        "def preprocess(text):\n",
        "    # convert all the text into lower letters\n",
        "    # use this function to remove the contractions: https://gist.github.com/anandborad/d410a49a493b56dace4f814ab5325bbd\n",
        "    # remove all the spacial characters: except space ' '\n",
        "    text = text.lower()\n",
        "    text = decontractions(text)\n",
        "    text = re.sub('[^A-Za-z0-9 ]+', '', text)\n",
        "    return text\n",
        "\n",
        "def preprocess_ita(text):\n",
        "    # convert all the text into lower letters\n",
        "    # remove the words betweent brakets ()\n",
        "    # remove these characters: {'$', ')', '?', '\"', '’', '.',  '°', '!', ';', '/', \"'\", '€', '%', ':', ',', '('}\n",
        "    # replace these spl characters with space: '\\u200b', '\\xa0', '-', '/'\n",
        "    # remove all the spacial characters: except space ' '\n",
        "    text = text.lower()\n",
        "    text = decontractions(text)\n",
        "    text = re.sub('[$)\\?\"’.°!;\\'€%:,(/]', '', text)\n",
        "    text = re.sub('\\u200b', ' ', text)\n",
        "    text = re.sub('\\xa0', ' ', text)\n",
        "    text = re.sub('-', ' ', text)\n",
        "    return text\n",
        "\n",
        "\n",
        "data['english'] = data['english'].apply(preprocess)\n",
        "data['italian'] = data['italian'].apply(preprocess_ita)\n",
        "data.head()"
      ]
    },
    {
      "cell_type": "code",
      "source": [
        "data.shape"
      ],
      "metadata": {
        "colab": {
          "base_uri": "https://localhost:8080/"
        },
        "id": "OyiklLpTxhW7",
        "outputId": "bb9ac89f-5c72-47b7-e996-4896f1058d3b"
      },
      "execution_count": null,
      "outputs": [
        {
          "output_type": "execute_result",
          "data": {
            "text/plain": [
              "(354238, 2)"
            ]
          },
          "metadata": {},
          "execution_count": 5
        }
      ]
    },
    {
      "cell_type": "code",
      "execution_count": null,
      "metadata": {
        "colab": {
          "base_uri": "https://localhost:8080/",
          "height": 328
        },
        "id": "frL1wvLwSz7_",
        "outputId": "6e30bb8c-a865-4943-e723-056e364998e6"
      },
      "outputs": [
        {
          "output_type": "stream",
          "name": "stdout",
          "text": [
            "(357866, 3)\n"
          ]
        },
        {
          "output_type": "stream",
          "name": "stderr",
          "text": [
            "/usr/local/lib/python3.7/dist-packages/ipykernel_launcher.py:7: SettingWithCopyWarning: \n",
            "A value is trying to be set on a copy of a slice from a DataFrame.\n",
            "Try using .loc[row_indexer,col_indexer] = value instead\n",
            "\n",
            "See the caveats in the documentation: https://pandas.pydata.org/pandas-docs/stable/user_guide/indexing.html#returning-a-view-versus-a-copy\n",
            "  import sys\n"
          ]
        },
        {
          "output_type": "execute_result",
          "data": {
            "text/plain": [
              "   italian  english_inp english_out\n",
              "0     ciao   <start> hi    hi <end>\n",
              "1     ciao   <start> hi    hi <end>\n",
              "2    corri  <start> run   run <end>\n",
              "3    corra  <start> run   run <end>\n",
              "4  correte  <start> run   run <end>"
            ],
            "text/html": [
              "\n",
              "  <div id=\"df-dfc88548-e17e-4986-9644-daf0f4e0a318\">\n",
              "    <div class=\"colab-df-container\">\n",
              "      <div>\n",
              "<style scoped>\n",
              "    .dataframe tbody tr th:only-of-type {\n",
              "        vertical-align: middle;\n",
              "    }\n",
              "\n",
              "    .dataframe tbody tr th {\n",
              "        vertical-align: top;\n",
              "    }\n",
              "\n",
              "    .dataframe thead th {\n",
              "        text-align: right;\n",
              "    }\n",
              "</style>\n",
              "<table border=\"1\" class=\"dataframe\">\n",
              "  <thead>\n",
              "    <tr style=\"text-align: right;\">\n",
              "      <th></th>\n",
              "      <th>italian</th>\n",
              "      <th>english_inp</th>\n",
              "      <th>english_out</th>\n",
              "    </tr>\n",
              "  </thead>\n",
              "  <tbody>\n",
              "    <tr>\n",
              "      <th>0</th>\n",
              "      <td>ciao</td>\n",
              "      <td>&lt;start&gt; hi</td>\n",
              "      <td>hi &lt;end&gt;</td>\n",
              "    </tr>\n",
              "    <tr>\n",
              "      <th>1</th>\n",
              "      <td>ciao</td>\n",
              "      <td>&lt;start&gt; hi</td>\n",
              "      <td>hi &lt;end&gt;</td>\n",
              "    </tr>\n",
              "    <tr>\n",
              "      <th>2</th>\n",
              "      <td>corri</td>\n",
              "      <td>&lt;start&gt; run</td>\n",
              "      <td>run &lt;end&gt;</td>\n",
              "    </tr>\n",
              "    <tr>\n",
              "      <th>3</th>\n",
              "      <td>corra</td>\n",
              "      <td>&lt;start&gt; run</td>\n",
              "      <td>run &lt;end&gt;</td>\n",
              "    </tr>\n",
              "    <tr>\n",
              "      <th>4</th>\n",
              "      <td>correte</td>\n",
              "      <td>&lt;start&gt; run</td>\n",
              "      <td>run &lt;end&gt;</td>\n",
              "    </tr>\n",
              "  </tbody>\n",
              "</table>\n",
              "</div>\n",
              "      <button class=\"colab-df-convert\" onclick=\"convertToInteractive('df-dfc88548-e17e-4986-9644-daf0f4e0a318')\"\n",
              "              title=\"Convert this dataframe to an interactive table.\"\n",
              "              style=\"display:none;\">\n",
              "        \n",
              "  <svg xmlns=\"http://www.w3.org/2000/svg\" height=\"24px\"viewBox=\"0 0 24 24\"\n",
              "       width=\"24px\">\n",
              "    <path d=\"M0 0h24v24H0V0z\" fill=\"none\"/>\n",
              "    <path d=\"M18.56 5.44l.94 2.06.94-2.06 2.06-.94-2.06-.94-.94-2.06-.94 2.06-2.06.94zm-11 1L8.5 8.5l.94-2.06 2.06-.94-2.06-.94L8.5 2.5l-.94 2.06-2.06.94zm10 10l.94 2.06.94-2.06 2.06-.94-2.06-.94-.94-2.06-.94 2.06-2.06.94z\"/><path d=\"M17.41 7.96l-1.37-1.37c-.4-.4-.92-.59-1.43-.59-.52 0-1.04.2-1.43.59L10.3 9.45l-7.72 7.72c-.78.78-.78 2.05 0 2.83L4 21.41c.39.39.9.59 1.41.59.51 0 1.02-.2 1.41-.59l7.78-7.78 2.81-2.81c.8-.78.8-2.07 0-2.86zM5.41 20L4 18.59l7.72-7.72 1.47 1.35L5.41 20z\"/>\n",
              "  </svg>\n",
              "      </button>\n",
              "      \n",
              "  <style>\n",
              "    .colab-df-container {\n",
              "      display:flex;\n",
              "      flex-wrap:wrap;\n",
              "      gap: 12px;\n",
              "    }\n",
              "\n",
              "    .colab-df-convert {\n",
              "      background-color: #E8F0FE;\n",
              "      border: none;\n",
              "      border-radius: 50%;\n",
              "      cursor: pointer;\n",
              "      display: none;\n",
              "      fill: #1967D2;\n",
              "      height: 32px;\n",
              "      padding: 0 0 0 0;\n",
              "      width: 32px;\n",
              "    }\n",
              "\n",
              "    .colab-df-convert:hover {\n",
              "      background-color: #E2EBFA;\n",
              "      box-shadow: 0px 1px 2px rgba(60, 64, 67, 0.3), 0px 1px 3px 1px rgba(60, 64, 67, 0.15);\n",
              "      fill: #174EA6;\n",
              "    }\n",
              "\n",
              "    [theme=dark] .colab-df-convert {\n",
              "      background-color: #3B4455;\n",
              "      fill: #D2E3FC;\n",
              "    }\n",
              "\n",
              "    [theme=dark] .colab-df-convert:hover {\n",
              "      background-color: #434B5C;\n",
              "      box-shadow: 0px 1px 3px 1px rgba(0, 0, 0, 0.15);\n",
              "      filter: drop-shadow(0px 1px 2px rgba(0, 0, 0, 0.3));\n",
              "      fill: #FFFFFF;\n",
              "    }\n",
              "  </style>\n",
              "\n",
              "      <script>\n",
              "        const buttonEl =\n",
              "          document.querySelector('#df-dfc88548-e17e-4986-9644-daf0f4e0a318 button.colab-df-convert');\n",
              "        buttonEl.style.display =\n",
              "          google.colab.kernel.accessAllowed ? 'block' : 'none';\n",
              "\n",
              "        async function convertToInteractive(key) {\n",
              "          const element = document.querySelector('#df-dfc88548-e17e-4986-9644-daf0f4e0a318');\n",
              "          const dataTable =\n",
              "            await google.colab.kernel.invokeFunction('convertToInteractive',\n",
              "                                                     [key], {});\n",
              "          if (!dataTable) return;\n",
              "\n",
              "          const docLinkHtml = 'Like what you see? Visit the ' +\n",
              "            '<a target=\"_blank\" href=https://colab.research.google.com/notebooks/data_table.ipynb>data table notebook</a>'\n",
              "            + ' to learn more about interactive tables.';\n",
              "          element.innerHTML = '';\n",
              "          dataTable['output_type'] = 'display_data';\n",
              "          await google.colab.output.renderOutput(dataTable, element);\n",
              "          const docLink = document.createElement('div');\n",
              "          docLink.innerHTML = docLinkHtml;\n",
              "          element.appendChild(docLink);\n",
              "        }\n",
              "      </script>\n",
              "    </div>\n",
              "  </div>\n",
              "  "
            ]
          },
          "metadata": {},
          "execution_count": 15
        }
      ],
      "source": [
        "data['italian_len'] = data['italian'].str.split().apply(len)\n",
        "data = data[data['italian_len'] < 20]\n",
        "\n",
        "data['english_len'] = data['english'].str.split().apply(len)\n",
        "data = data[data['english_len'] < 20]\n",
        "\n",
        "data['english_inp'] = '<start> ' + data['english'].astype(str)\n",
        "data['english_out'] = data['english'].astype(str) + ' <end>'\n",
        "\n",
        "data = data.drop(['english','italian_len','english_len'], axis=1)\n",
        "# only for the first sentance add a toke <end> so that we will have <end> in tokenizer\n",
        "print( data.shape )\n",
        "data.head()"
      ]
    },
    {
      "cell_type": "code",
      "execution_count": null,
      "metadata": {
        "colab": {
          "base_uri": "https://localhost:8080/",
          "height": 363
        },
        "id": "xZX5xAcmxqPo",
        "outputId": "ee7050c2-11c1-4538-fe1a-d5af8a62c56a"
      },
      "outputs": [
        {
          "output_type": "execute_result",
          "data": {
            "text/plain": [
              "                                       italian  \\\n",
              "57234                         non avevi scelta   \n",
              "34906                  faccia ciò che le piace   \n",
              "100472             perché le foglie sono verdi   \n",
              "105156               ho comprato questo per te   \n",
              "72882                distribuisci le carte tom   \n",
              "133869               tutte noi facciamo errori   \n",
              "39551                    è soltanto un uccello   \n",
              "132493       perché lasciare che vada sprecata   \n",
              "322459    andiamo a pescare assieme ogni tanto   \n",
              "283830  sono un vecchio amico del padre di tom   \n",
              "\n",
              "                                           english_inp  \\\n",
              "57234                        <start> you had no choice   \n",
              "34906                         <start> do what you like   \n",
              "100472                    <start> why are leaves green   \n",
              "105156                   <start> i bought this for you   \n",
              "72882                       <start> deal the cards tom   \n",
              "133869                 <start> all of us make mistakes   \n",
              "39551                        <start> it is just a bird   \n",
              "132493                  <start> why let it go to waste   \n",
              "322459  <start> we go fishing together once in a while   \n",
              "283830     <start> i am an old friend of tom is father   \n",
              "\n",
              "                                         english_out  \n",
              "57234                        you had no choice <end>  \n",
              "34906                         do what you like <end>  \n",
              "100472                    why are leaves green <end>  \n",
              "105156                   i bought this for you <end>  \n",
              "72882                       deal the cards tom <end>  \n",
              "133869                 all of us make mistakes <end>  \n",
              "39551                        it is just a bird <end>  \n",
              "132493                  why let it go to waste <end>  \n",
              "322459  we go fishing together once in a while <end>  \n",
              "283830     i am an old friend of tom is father <end>  "
            ],
            "text/html": [
              "\n",
              "  <div id=\"df-670173bf-cc14-483c-8c71-3494fe0134d5\">\n",
              "    <div class=\"colab-df-container\">\n",
              "      <div>\n",
              "<style scoped>\n",
              "    .dataframe tbody tr th:only-of-type {\n",
              "        vertical-align: middle;\n",
              "    }\n",
              "\n",
              "    .dataframe tbody tr th {\n",
              "        vertical-align: top;\n",
              "    }\n",
              "\n",
              "    .dataframe thead th {\n",
              "        text-align: right;\n",
              "    }\n",
              "</style>\n",
              "<table border=\"1\" class=\"dataframe\">\n",
              "  <thead>\n",
              "    <tr style=\"text-align: right;\">\n",
              "      <th></th>\n",
              "      <th>italian</th>\n",
              "      <th>english_inp</th>\n",
              "      <th>english_out</th>\n",
              "    </tr>\n",
              "  </thead>\n",
              "  <tbody>\n",
              "    <tr>\n",
              "      <th>57234</th>\n",
              "      <td>non avevi scelta</td>\n",
              "      <td>&lt;start&gt; you had no choice</td>\n",
              "      <td>you had no choice &lt;end&gt;</td>\n",
              "    </tr>\n",
              "    <tr>\n",
              "      <th>34906</th>\n",
              "      <td>faccia ciò che le piace</td>\n",
              "      <td>&lt;start&gt; do what you like</td>\n",
              "      <td>do what you like &lt;end&gt;</td>\n",
              "    </tr>\n",
              "    <tr>\n",
              "      <th>100472</th>\n",
              "      <td>perché le foglie sono verdi</td>\n",
              "      <td>&lt;start&gt; why are leaves green</td>\n",
              "      <td>why are leaves green &lt;end&gt;</td>\n",
              "    </tr>\n",
              "    <tr>\n",
              "      <th>105156</th>\n",
              "      <td>ho comprato questo per te</td>\n",
              "      <td>&lt;start&gt; i bought this for you</td>\n",
              "      <td>i bought this for you &lt;end&gt;</td>\n",
              "    </tr>\n",
              "    <tr>\n",
              "      <th>72882</th>\n",
              "      <td>distribuisci le carte tom</td>\n",
              "      <td>&lt;start&gt; deal the cards tom</td>\n",
              "      <td>deal the cards tom &lt;end&gt;</td>\n",
              "    </tr>\n",
              "    <tr>\n",
              "      <th>133869</th>\n",
              "      <td>tutte noi facciamo errori</td>\n",
              "      <td>&lt;start&gt; all of us make mistakes</td>\n",
              "      <td>all of us make mistakes &lt;end&gt;</td>\n",
              "    </tr>\n",
              "    <tr>\n",
              "      <th>39551</th>\n",
              "      <td>è soltanto un uccello</td>\n",
              "      <td>&lt;start&gt; it is just a bird</td>\n",
              "      <td>it is just a bird &lt;end&gt;</td>\n",
              "    </tr>\n",
              "    <tr>\n",
              "      <th>132493</th>\n",
              "      <td>perché lasciare che vada sprecata</td>\n",
              "      <td>&lt;start&gt; why let it go to waste</td>\n",
              "      <td>why let it go to waste &lt;end&gt;</td>\n",
              "    </tr>\n",
              "    <tr>\n",
              "      <th>322459</th>\n",
              "      <td>andiamo a pescare assieme ogni tanto</td>\n",
              "      <td>&lt;start&gt; we go fishing together once in a while</td>\n",
              "      <td>we go fishing together once in a while &lt;end&gt;</td>\n",
              "    </tr>\n",
              "    <tr>\n",
              "      <th>283830</th>\n",
              "      <td>sono un vecchio amico del padre di tom</td>\n",
              "      <td>&lt;start&gt; i am an old friend of tom is father</td>\n",
              "      <td>i am an old friend of tom is father &lt;end&gt;</td>\n",
              "    </tr>\n",
              "  </tbody>\n",
              "</table>\n",
              "</div>\n",
              "      <button class=\"colab-df-convert\" onclick=\"convertToInteractive('df-670173bf-cc14-483c-8c71-3494fe0134d5')\"\n",
              "              title=\"Convert this dataframe to an interactive table.\"\n",
              "              style=\"display:none;\">\n",
              "        \n",
              "  <svg xmlns=\"http://www.w3.org/2000/svg\" height=\"24px\"viewBox=\"0 0 24 24\"\n",
              "       width=\"24px\">\n",
              "    <path d=\"M0 0h24v24H0V0z\" fill=\"none\"/>\n",
              "    <path d=\"M18.56 5.44l.94 2.06.94-2.06 2.06-.94-2.06-.94-.94-2.06-.94 2.06-2.06.94zm-11 1L8.5 8.5l.94-2.06 2.06-.94-2.06-.94L8.5 2.5l-.94 2.06-2.06.94zm10 10l.94 2.06.94-2.06 2.06-.94-2.06-.94-.94-2.06-.94 2.06-2.06.94z\"/><path d=\"M17.41 7.96l-1.37-1.37c-.4-.4-.92-.59-1.43-.59-.52 0-1.04.2-1.43.59L10.3 9.45l-7.72 7.72c-.78.78-.78 2.05 0 2.83L4 21.41c.39.39.9.59 1.41.59.51 0 1.02-.2 1.41-.59l7.78-7.78 2.81-2.81c.8-.78.8-2.07 0-2.86zM5.41 20L4 18.59l7.72-7.72 1.47 1.35L5.41 20z\"/>\n",
              "  </svg>\n",
              "      </button>\n",
              "      \n",
              "  <style>\n",
              "    .colab-df-container {\n",
              "      display:flex;\n",
              "      flex-wrap:wrap;\n",
              "      gap: 12px;\n",
              "    }\n",
              "\n",
              "    .colab-df-convert {\n",
              "      background-color: #E8F0FE;\n",
              "      border: none;\n",
              "      border-radius: 50%;\n",
              "      cursor: pointer;\n",
              "      display: none;\n",
              "      fill: #1967D2;\n",
              "      height: 32px;\n",
              "      padding: 0 0 0 0;\n",
              "      width: 32px;\n",
              "    }\n",
              "\n",
              "    .colab-df-convert:hover {\n",
              "      background-color: #E2EBFA;\n",
              "      box-shadow: 0px 1px 2px rgba(60, 64, 67, 0.3), 0px 1px 3px 1px rgba(60, 64, 67, 0.15);\n",
              "      fill: #174EA6;\n",
              "    }\n",
              "\n",
              "    [theme=dark] .colab-df-convert {\n",
              "      background-color: #3B4455;\n",
              "      fill: #D2E3FC;\n",
              "    }\n",
              "\n",
              "    [theme=dark] .colab-df-convert:hover {\n",
              "      background-color: #434B5C;\n",
              "      box-shadow: 0px 1px 3px 1px rgba(0, 0, 0, 0.15);\n",
              "      filter: drop-shadow(0px 1px 2px rgba(0, 0, 0, 0.3));\n",
              "      fill: #FFFFFF;\n",
              "    }\n",
              "  </style>\n",
              "\n",
              "      <script>\n",
              "        const buttonEl =\n",
              "          document.querySelector('#df-670173bf-cc14-483c-8c71-3494fe0134d5 button.colab-df-convert');\n",
              "        buttonEl.style.display =\n",
              "          google.colab.kernel.accessAllowed ? 'block' : 'none';\n",
              "\n",
              "        async function convertToInteractive(key) {\n",
              "          const element = document.querySelector('#df-670173bf-cc14-483c-8c71-3494fe0134d5');\n",
              "          const dataTable =\n",
              "            await google.colab.kernel.invokeFunction('convertToInteractive',\n",
              "                                                     [key], {});\n",
              "          if (!dataTable) return;\n",
              "\n",
              "          const docLinkHtml = 'Like what you see? Visit the ' +\n",
              "            '<a target=\"_blank\" href=https://colab.research.google.com/notebooks/data_table.ipynb>data table notebook</a>'\n",
              "            + ' to learn more about interactive tables.';\n",
              "          element.innerHTML = '';\n",
              "          dataTable['output_type'] = 'display_data';\n",
              "          await google.colab.output.renderOutput(dataTable, element);\n",
              "          const docLink = document.createElement('div');\n",
              "          docLink.innerHTML = docLinkHtml;\n",
              "          element.appendChild(docLink);\n",
              "        }\n",
              "      </script>\n",
              "    </div>\n",
              "  </div>\n",
              "  "
            ]
          },
          "metadata": {},
          "execution_count": 16
        }
      ],
      "source": [
        "data.sample(10)"
      ]
    },
    {
      "cell_type": "code",
      "execution_count": null,
      "metadata": {
        "id": "Q4LnYZXFgo0f"
      },
      "outputs": [],
      "source": [
        "import tensorflow as tf\n",
        "from tensorflow.keras.layers import Embedding, LSTM, Dense\n",
        "from tensorflow.keras.models import Model\n",
        "from tensorflow.keras.preprocessing.text import Tokenizer\n",
        "from tensorflow.keras.preprocessing.sequence import pad_sequences\n",
        "import numpy as np\n"
      ]
    },
    {
      "cell_type": "code",
      "execution_count": null,
      "metadata": {
        "colab": {
          "base_uri": "https://localhost:8080/",
          "height": 35
        },
        "id": "qE-Tafb6wCuM",
        "outputId": "83fdbdf4-045f-470f-83a1-264bbc26558d"
      },
      "outputs": [
        {
          "data": {
            "text/plain": [
              "False"
            ]
          },
          "execution_count": 7,
          "metadata": {
            "tags": []
          },
          "output_type": "execute_result"
        }
      ],
      "source": [
        "def grader_1(data):\n",
        "    shape_value = data.shape ==(340044, 3)\n",
        "    tknizer = Tokenizer(char_level=True)\n",
        "    tknizer.fit_on_texts(data['italian'].values)\n",
        "    ita_chars = tknizer.word_index.keys()\n",
        "    diff_chars_ita = set(ita_chars)-set([' ', 't', 'a', 'o', 'r', 'e', 's', 'i', 'n', 'l', 'c', 'm', 'u', 'd', 'p', 'v', 'h', 'g', 'b', 'f', 'è', 'q', 'z', 'ò', 'à', 'y', 'é', 'ì', 'ù', 'k', 'w', '0', 'j', '1', '3', '2', 'x', '9', '5', '8', '4', '6', '7', 'á', 'ñ', 'ê', 'ü', 'ō', 'î', 'ö', 'ú', 'º'])\n",
        "    tknizer = Tokenizer(char_level=True)\n",
        "    tknizer.fit_on_texts(data['english_inp'].values)\n",
        "    eng_chars = tknizer.word_index.keys()\n",
        "    diff_chars_eng = set(eng_chars)-set(['<','>',' ', 'e', 'o', 't', 'i', 'a', 'n', 's', 'h', 'r', 'l', 'd', 'm', 'y', 'u', 'w', 'g', 'c', 'p', 'f', 'b', 'k', 'v', 'j', 'x', 'z', 'q', '0', '1', '3', '2', '9', '5', '8', '6', '4', '7'])\n",
        "    unique_char_value = (len(diff_chars_eng)==0) and (len(diff_chars_ita)==0)\n",
        "    return unique_char_value and shape_value\n",
        "\n",
        "grader_1(data)"
      ]
    },
    {
      "cell_type": "markdown",
      "metadata": {
        "id": "S8RDrP4xKabR"
      },
      "source": [
        "## <font color='blue'>**Implement custom encoder decoder**</font>"
      ]
    },
    {
      "cell_type": "code",
      "execution_count": null,
      "metadata": {
        "colab": {
          "base_uri": "https://localhost:8080/"
        },
        "id": "nkN899jH_C-A",
        "outputId": "27434486-e62b-4ea3-85c3-d5fcba7104e0"
      },
      "outputs": [
        {
          "output_type": "stream",
          "name": "stdout",
          "text": [
            "Archive:  glove.6B.zip\n",
            "  inflating: glove.6B.50d.txt        \n",
            "  inflating: glove.6B.100d.txt       \n",
            "  inflating: glove.6B.200d.txt       \n",
            "  inflating: glove.6B.300d.txt       \n"
          ]
        }
      ],
      "source": [
        "!unzip glove.6B.zip"
      ]
    },
    {
      "cell_type": "markdown",
      "metadata": {
        "id": "5UkrJWbbag_l"
      },
      "source": [
        "## Task 1: Writing Inference for vanilla Encoder-Decoder\n",
        "\n",
        "__ 1. please download the model weights from <a href='https://drive.google.com/file/d/1S14Bx8sQHfaCS5XLgc2xeOhhtA84n5je/view?usp=sharing'>here</a>, and load the weights __ <br>\n",
        "__ 2. Implement the inference i.e given a italian text get the english transilation of it, do this for any random 1000 sentences in train data and 1000 sentences in validation data __ <br>\n",
        "__ 3. Compute the BLEU score for both train data translations and validation data translations __<br>"
      ]
    },
    {
      "cell_type": "code",
      "execution_count": null,
      "metadata": {
        "id": "zQhRe_YZf4D1"
      },
      "outputs": [],
      "source": [
        "class Encoder(tf.keras.layers.Layer):\n",
        "    def __init__(self, vocab_size, embedding_dim, input_length, enc_units):\n",
        "        super().__init__()\n",
        "        self.vocab_size = vocab_size\n",
        "        self.embedding_dim = embedding_dim\n",
        "        self.input_length = input_length\n",
        "        self.enc_units= enc_units\n",
        "        self.lstm_output = 0\n",
        "        self.lstm_state_h=0\n",
        "        self.lstm_state_c=0\n",
        "        \n",
        "    def build(self, input_shape):\n",
        "        self.embedding = Embedding(input_dim=self.vocab_size, output_dim=self.embedding_dim, input_length=self.input_length,\n",
        "                           mask_zero=True, name=\"embedding_layer_encoder\")\n",
        "        self.lstm = LSTM(self.enc_units, return_state=True, return_sequences=True, name=\"Encoder_LSTM\")\n",
        "        \n",
        "    def call(self, input_sentances, training=True):\n",
        "        input_embedd                           = self.embedding(input_sentances)\n",
        "        self.lstm_output, self.lstm_state_h,self.lstm_state_c = self.lstm(input_embedd)\n",
        "        return self.lstm_output, self.lstm_state_h,self.lstm_state_c\n",
        "    def get_states(self):\n",
        "        return self.lstm_state_h,self.lstm_state_c\n",
        "    \n",
        "    \n",
        "class Decoder(tf.keras.layers.Layer):\n",
        "    def __init__(self, vocab_size, embedding_dim, input_length, dec_units):\n",
        "        super().__init__()\n",
        "        self.vocab_size = vocab_size\n",
        "        self.embedding_dim = 100\n",
        "        self.dec_units = dec_units\n",
        "        self.input_length = input_length\n",
        "        self.embedding = Embedding(input_dim=self.vocab_size, output_dim=self.embedding_dim, input_length=self.input_length,\n",
        "                           mask_zero=True, name=\"embedding_layer_decoder\", weights=[embedding_matrix], trainable=False)\n",
        "        self.lstm = LSTM(self.dec_units, return_sequences=True, return_state=True, name=\"Decoder_LSTM\")\n",
        "        \n",
        "    def call(self, target_sentances, state_h, state_c):\n",
        "        #print(target_sentances.shape)\n",
        "        target_embedd           = self.embedding(target_sentances)\n",
        "        #print(target_embedd.shape)\n",
        "        lstm_output, state_h,state_c        = self.lstm(target_embedd, initial_state=[state_h, state_c])\n",
        "        return lstm_output,state_h,state_c\n",
        "\n"
      ]
    },
    {
      "cell_type": "code",
      "execution_count": null,
      "metadata": {
        "id": "UG50P52vhMu8"
      },
      "outputs": [],
      "source": [
        "from sklearn.model_selection import train_test_split\n",
        "train, validation = train_test_split(data, test_size=0.2)"
      ]
    },
    {
      "cell_type": "code",
      "source": [
        "train.shape , validation.shape"
      ],
      "metadata": {
        "colab": {
          "base_uri": "https://localhost:8080/"
        },
        "id": "O1s3RxMLykmN",
        "outputId": "7ad7025b-997f-4c9d-dc23-1b059d2d5d86"
      },
      "execution_count": null,
      "outputs": [
        {
          "output_type": "execute_result",
          "data": {
            "text/plain": [
              "((286292, 3), (71574, 3))"
            ]
          },
          "metadata": {},
          "execution_count": 20
        }
      ]
    },
    {
      "cell_type": "code",
      "execution_count": null,
      "metadata": {
        "id": "9mp9dzm1hwv-"
      },
      "outputs": [],
      "source": [
        "# train.shape, validation.shape\n",
        "# for one sentence we will be adding <end> token so that the tokanizer learns the word <end>\n",
        "# with this we can use only one tokenizer for both encoder output and decoder output\n",
        "train.iloc[0]['english_inp']= str(train.iloc[0]['english_inp'])+' <end>'\n",
        "train.iloc[0]['english_out']= str(train.iloc[0]['english_out'])+' <end>'"
      ]
    },
    {
      "cell_type": "code",
      "execution_count": null,
      "metadata": {
        "colab": {
          "base_uri": "https://localhost:8080/",
          "height": 206
        },
        "id": "Su69ZPzTsxmn",
        "outputId": "62f2f77b-2e9b-4d48-a1a9-5dd2e58b709c"
      },
      "outputs": [
        {
          "output_type": "execute_result",
          "data": {
            "text/plain": [
              "                                       italian  \\\n",
              "253303                  tom è ricco ma mary no   \n",
              "298758  lei pensa che dovremmo alzare i prezzi   \n",
              "250904              fumare fa male alla salute   \n",
              "186220              devo fare qualche acquisto   \n",
              "20969                              è delizioso   \n",
              "\n",
              "                                         english_inp  \\\n",
              "253303  <start> tom is wealthy but mary is not <end>   \n",
              "298758   <start> do you think we should raise prices   \n",
              "250904        <start> smoking is bad for your health   \n",
              "186220            <start> i have some shopping to do   \n",
              "20969                        <start> it is delicious   \n",
              "\n",
              "                                       english_out  \n",
              "253303  tom is wealthy but mary is not <end> <end>  \n",
              "298758   do you think we should raise prices <end>  \n",
              "250904        smoking is bad for your health <end>  \n",
              "186220            i have some shopping to do <end>  \n",
              "20969                        it is delicious <end>  "
            ],
            "text/html": [
              "\n",
              "  <div id=\"df-74b32f1f-1c7a-479b-8e4c-ab804d45718f\">\n",
              "    <div class=\"colab-df-container\">\n",
              "      <div>\n",
              "<style scoped>\n",
              "    .dataframe tbody tr th:only-of-type {\n",
              "        vertical-align: middle;\n",
              "    }\n",
              "\n",
              "    .dataframe tbody tr th {\n",
              "        vertical-align: top;\n",
              "    }\n",
              "\n",
              "    .dataframe thead th {\n",
              "        text-align: right;\n",
              "    }\n",
              "</style>\n",
              "<table border=\"1\" class=\"dataframe\">\n",
              "  <thead>\n",
              "    <tr style=\"text-align: right;\">\n",
              "      <th></th>\n",
              "      <th>italian</th>\n",
              "      <th>english_inp</th>\n",
              "      <th>english_out</th>\n",
              "    </tr>\n",
              "  </thead>\n",
              "  <tbody>\n",
              "    <tr>\n",
              "      <th>253303</th>\n",
              "      <td>tom è ricco ma mary no</td>\n",
              "      <td>&lt;start&gt; tom is wealthy but mary is not &lt;end&gt;</td>\n",
              "      <td>tom is wealthy but mary is not &lt;end&gt; &lt;end&gt;</td>\n",
              "    </tr>\n",
              "    <tr>\n",
              "      <th>298758</th>\n",
              "      <td>lei pensa che dovremmo alzare i prezzi</td>\n",
              "      <td>&lt;start&gt; do you think we should raise prices</td>\n",
              "      <td>do you think we should raise prices &lt;end&gt;</td>\n",
              "    </tr>\n",
              "    <tr>\n",
              "      <th>250904</th>\n",
              "      <td>fumare fa male alla salute</td>\n",
              "      <td>&lt;start&gt; smoking is bad for your health</td>\n",
              "      <td>smoking is bad for your health &lt;end&gt;</td>\n",
              "    </tr>\n",
              "    <tr>\n",
              "      <th>186220</th>\n",
              "      <td>devo fare qualche acquisto</td>\n",
              "      <td>&lt;start&gt; i have some shopping to do</td>\n",
              "      <td>i have some shopping to do &lt;end&gt;</td>\n",
              "    </tr>\n",
              "    <tr>\n",
              "      <th>20969</th>\n",
              "      <td>è delizioso</td>\n",
              "      <td>&lt;start&gt; it is delicious</td>\n",
              "      <td>it is delicious &lt;end&gt;</td>\n",
              "    </tr>\n",
              "  </tbody>\n",
              "</table>\n",
              "</div>\n",
              "      <button class=\"colab-df-convert\" onclick=\"convertToInteractive('df-74b32f1f-1c7a-479b-8e4c-ab804d45718f')\"\n",
              "              title=\"Convert this dataframe to an interactive table.\"\n",
              "              style=\"display:none;\">\n",
              "        \n",
              "  <svg xmlns=\"http://www.w3.org/2000/svg\" height=\"24px\"viewBox=\"0 0 24 24\"\n",
              "       width=\"24px\">\n",
              "    <path d=\"M0 0h24v24H0V0z\" fill=\"none\"/>\n",
              "    <path d=\"M18.56 5.44l.94 2.06.94-2.06 2.06-.94-2.06-.94-.94-2.06-.94 2.06-2.06.94zm-11 1L8.5 8.5l.94-2.06 2.06-.94-2.06-.94L8.5 2.5l-.94 2.06-2.06.94zm10 10l.94 2.06.94-2.06 2.06-.94-2.06-.94-.94-2.06-.94 2.06-2.06.94z\"/><path d=\"M17.41 7.96l-1.37-1.37c-.4-.4-.92-.59-1.43-.59-.52 0-1.04.2-1.43.59L10.3 9.45l-7.72 7.72c-.78.78-.78 2.05 0 2.83L4 21.41c.39.39.9.59 1.41.59.51 0 1.02-.2 1.41-.59l7.78-7.78 2.81-2.81c.8-.78.8-2.07 0-2.86zM5.41 20L4 18.59l7.72-7.72 1.47 1.35L5.41 20z\"/>\n",
              "  </svg>\n",
              "      </button>\n",
              "      \n",
              "  <style>\n",
              "    .colab-df-container {\n",
              "      display:flex;\n",
              "      flex-wrap:wrap;\n",
              "      gap: 12px;\n",
              "    }\n",
              "\n",
              "    .colab-df-convert {\n",
              "      background-color: #E8F0FE;\n",
              "      border: none;\n",
              "      border-radius: 50%;\n",
              "      cursor: pointer;\n",
              "      display: none;\n",
              "      fill: #1967D2;\n",
              "      height: 32px;\n",
              "      padding: 0 0 0 0;\n",
              "      width: 32px;\n",
              "    }\n",
              "\n",
              "    .colab-df-convert:hover {\n",
              "      background-color: #E2EBFA;\n",
              "      box-shadow: 0px 1px 2px rgba(60, 64, 67, 0.3), 0px 1px 3px 1px rgba(60, 64, 67, 0.15);\n",
              "      fill: #174EA6;\n",
              "    }\n",
              "\n",
              "    [theme=dark] .colab-df-convert {\n",
              "      background-color: #3B4455;\n",
              "      fill: #D2E3FC;\n",
              "    }\n",
              "\n",
              "    [theme=dark] .colab-df-convert:hover {\n",
              "      background-color: #434B5C;\n",
              "      box-shadow: 0px 1px 3px 1px rgba(0, 0, 0, 0.15);\n",
              "      filter: drop-shadow(0px 1px 2px rgba(0, 0, 0, 0.3));\n",
              "      fill: #FFFFFF;\n",
              "    }\n",
              "  </style>\n",
              "\n",
              "      <script>\n",
              "        const buttonEl =\n",
              "          document.querySelector('#df-74b32f1f-1c7a-479b-8e4c-ab804d45718f button.colab-df-convert');\n",
              "        buttonEl.style.display =\n",
              "          google.colab.kernel.accessAllowed ? 'block' : 'none';\n",
              "\n",
              "        async function convertToInteractive(key) {\n",
              "          const element = document.querySelector('#df-74b32f1f-1c7a-479b-8e4c-ab804d45718f');\n",
              "          const dataTable =\n",
              "            await google.colab.kernel.invokeFunction('convertToInteractive',\n",
              "                                                     [key], {});\n",
              "          if (!dataTable) return;\n",
              "\n",
              "          const docLinkHtml = 'Like what you see? Visit the ' +\n",
              "            '<a target=\"_blank\" href=https://colab.research.google.com/notebooks/data_table.ipynb>data table notebook</a>'\n",
              "            + ' to learn more about interactive tables.';\n",
              "          element.innerHTML = '';\n",
              "          dataTable['output_type'] = 'display_data';\n",
              "          await google.colab.output.renderOutput(dataTable, element);\n",
              "          const docLink = document.createElement('div');\n",
              "          docLink.innerHTML = docLinkHtml;\n",
              "          element.appendChild(docLink);\n",
              "        }\n",
              "      </script>\n",
              "    </div>\n",
              "  </div>\n",
              "  "
            ]
          },
          "metadata": {},
          "execution_count": 22
        }
      ],
      "source": [
        "train.head()"
      ]
    },
    {
      "cell_type": "code",
      "execution_count": null,
      "metadata": {
        "colab": {
          "base_uri": "https://localhost:8080/",
          "height": 206
        },
        "id": "CGqQDR8FWV3D",
        "outputId": "2da839e1-c598-48ec-fc1b-343bb62854dc"
      },
      "outputs": [
        {
          "output_type": "execute_result",
          "data": {
            "text/plain": [
              "                                         italian  \\\n",
              "122226       io lo sapevo che stavate scherzando   \n",
              "259291             come si scrive il tuo cognome   \n",
              "180692    perché le vostre gambe stanno tremando   \n",
              "273646  io mi sto trasformando in uno snob penso   \n",
              "270933                   quante volte è capitato   \n",
              "\n",
              "                                     english_inp  \\\n",
              "122226            <start> i knew you were joking   \n",
              "259291   <start> how do you spell your last name   \n",
              "180692         <start> why are your legs shaking   \n",
              "273646  <start> i am turning into a snob i think   \n",
              "270933  <start> how many times has that happened   \n",
              "\n",
              "                                   english_out  \n",
              "122226            i knew you were joking <end>  \n",
              "259291   how do you spell your last name <end>  \n",
              "180692         why are your legs shaking <end>  \n",
              "273646  i am turning into a snob i think <end>  \n",
              "270933  how many times has that happened <end>  "
            ],
            "text/html": [
              "\n",
              "  <div id=\"df-5e3464b6-07c4-4002-9f6a-8716f821fbcd\">\n",
              "    <div class=\"colab-df-container\">\n",
              "      <div>\n",
              "<style scoped>\n",
              "    .dataframe tbody tr th:only-of-type {\n",
              "        vertical-align: middle;\n",
              "    }\n",
              "\n",
              "    .dataframe tbody tr th {\n",
              "        vertical-align: top;\n",
              "    }\n",
              "\n",
              "    .dataframe thead th {\n",
              "        text-align: right;\n",
              "    }\n",
              "</style>\n",
              "<table border=\"1\" class=\"dataframe\">\n",
              "  <thead>\n",
              "    <tr style=\"text-align: right;\">\n",
              "      <th></th>\n",
              "      <th>italian</th>\n",
              "      <th>english_inp</th>\n",
              "      <th>english_out</th>\n",
              "    </tr>\n",
              "  </thead>\n",
              "  <tbody>\n",
              "    <tr>\n",
              "      <th>122226</th>\n",
              "      <td>io lo sapevo che stavate scherzando</td>\n",
              "      <td>&lt;start&gt; i knew you were joking</td>\n",
              "      <td>i knew you were joking &lt;end&gt;</td>\n",
              "    </tr>\n",
              "    <tr>\n",
              "      <th>259291</th>\n",
              "      <td>come si scrive il tuo cognome</td>\n",
              "      <td>&lt;start&gt; how do you spell your last name</td>\n",
              "      <td>how do you spell your last name &lt;end&gt;</td>\n",
              "    </tr>\n",
              "    <tr>\n",
              "      <th>180692</th>\n",
              "      <td>perché le vostre gambe stanno tremando</td>\n",
              "      <td>&lt;start&gt; why are your legs shaking</td>\n",
              "      <td>why are your legs shaking &lt;end&gt;</td>\n",
              "    </tr>\n",
              "    <tr>\n",
              "      <th>273646</th>\n",
              "      <td>io mi sto trasformando in uno snob penso</td>\n",
              "      <td>&lt;start&gt; i am turning into a snob i think</td>\n",
              "      <td>i am turning into a snob i think &lt;end&gt;</td>\n",
              "    </tr>\n",
              "    <tr>\n",
              "      <th>270933</th>\n",
              "      <td>quante volte è capitato</td>\n",
              "      <td>&lt;start&gt; how many times has that happened</td>\n",
              "      <td>how many times has that happened &lt;end&gt;</td>\n",
              "    </tr>\n",
              "  </tbody>\n",
              "</table>\n",
              "</div>\n",
              "      <button class=\"colab-df-convert\" onclick=\"convertToInteractive('df-5e3464b6-07c4-4002-9f6a-8716f821fbcd')\"\n",
              "              title=\"Convert this dataframe to an interactive table.\"\n",
              "              style=\"display:none;\">\n",
              "        \n",
              "  <svg xmlns=\"http://www.w3.org/2000/svg\" height=\"24px\"viewBox=\"0 0 24 24\"\n",
              "       width=\"24px\">\n",
              "    <path d=\"M0 0h24v24H0V0z\" fill=\"none\"/>\n",
              "    <path d=\"M18.56 5.44l.94 2.06.94-2.06 2.06-.94-2.06-.94-.94-2.06-.94 2.06-2.06.94zm-11 1L8.5 8.5l.94-2.06 2.06-.94-2.06-.94L8.5 2.5l-.94 2.06-2.06.94zm10 10l.94 2.06.94-2.06 2.06-.94-2.06-.94-.94-2.06-.94 2.06-2.06.94z\"/><path d=\"M17.41 7.96l-1.37-1.37c-.4-.4-.92-.59-1.43-.59-.52 0-1.04.2-1.43.59L10.3 9.45l-7.72 7.72c-.78.78-.78 2.05 0 2.83L4 21.41c.39.39.9.59 1.41.59.51 0 1.02-.2 1.41-.59l7.78-7.78 2.81-2.81c.8-.78.8-2.07 0-2.86zM5.41 20L4 18.59l7.72-7.72 1.47 1.35L5.41 20z\"/>\n",
              "  </svg>\n",
              "      </button>\n",
              "      \n",
              "  <style>\n",
              "    .colab-df-container {\n",
              "      display:flex;\n",
              "      flex-wrap:wrap;\n",
              "      gap: 12px;\n",
              "    }\n",
              "\n",
              "    .colab-df-convert {\n",
              "      background-color: #E8F0FE;\n",
              "      border: none;\n",
              "      border-radius: 50%;\n",
              "      cursor: pointer;\n",
              "      display: none;\n",
              "      fill: #1967D2;\n",
              "      height: 32px;\n",
              "      padding: 0 0 0 0;\n",
              "      width: 32px;\n",
              "    }\n",
              "\n",
              "    .colab-df-convert:hover {\n",
              "      background-color: #E2EBFA;\n",
              "      box-shadow: 0px 1px 2px rgba(60, 64, 67, 0.3), 0px 1px 3px 1px rgba(60, 64, 67, 0.15);\n",
              "      fill: #174EA6;\n",
              "    }\n",
              "\n",
              "    [theme=dark] .colab-df-convert {\n",
              "      background-color: #3B4455;\n",
              "      fill: #D2E3FC;\n",
              "    }\n",
              "\n",
              "    [theme=dark] .colab-df-convert:hover {\n",
              "      background-color: #434B5C;\n",
              "      box-shadow: 0px 1px 3px 1px rgba(0, 0, 0, 0.15);\n",
              "      filter: drop-shadow(0px 1px 2px rgba(0, 0, 0, 0.3));\n",
              "      fill: #FFFFFF;\n",
              "    }\n",
              "  </style>\n",
              "\n",
              "      <script>\n",
              "        const buttonEl =\n",
              "          document.querySelector('#df-5e3464b6-07c4-4002-9f6a-8716f821fbcd button.colab-df-convert');\n",
              "        buttonEl.style.display =\n",
              "          google.colab.kernel.accessAllowed ? 'block' : 'none';\n",
              "\n",
              "        async function convertToInteractive(key) {\n",
              "          const element = document.querySelector('#df-5e3464b6-07c4-4002-9f6a-8716f821fbcd');\n",
              "          const dataTable =\n",
              "            await google.colab.kernel.invokeFunction('convertToInteractive',\n",
              "                                                     [key], {});\n",
              "          if (!dataTable) return;\n",
              "\n",
              "          const docLinkHtml = 'Like what you see? Visit the ' +\n",
              "            '<a target=\"_blank\" href=https://colab.research.google.com/notebooks/data_table.ipynb>data table notebook</a>'\n",
              "            + ' to learn more about interactive tables.';\n",
              "          element.innerHTML = '';\n",
              "          dataTable['output_type'] = 'display_data';\n",
              "          await google.colab.output.renderOutput(dataTable, element);\n",
              "          const docLink = document.createElement('div');\n",
              "          docLink.innerHTML = docLinkHtml;\n",
              "          element.appendChild(docLink);\n",
              "        }\n",
              "      </script>\n",
              "    </div>\n",
              "  </div>\n",
              "  "
            ]
          },
          "metadata": {},
          "execution_count": 23
        }
      ],
      "source": [
        "validation.head()"
      ]
    },
    {
      "cell_type": "code",
      "execution_count": null,
      "metadata": {
        "colab": {
          "base_uri": "https://localhost:8080/",
          "height": 542
        },
        "id": "cpuPONunjYKj",
        "outputId": "ab2b82d1-10d0-4e6e-c5ec-08c9d963bb5a"
      },
      "outputs": [
        {
          "output_type": "display_data",
          "data": {
            "text/plain": [
              "<Figure size 432x288 with 1 Axes>"
            ],
            "image/png": "[encoded data removed]"
          },
          "metadata": {
            "needs_background": "light"
          }
        },
        {
          "output_type": "display_data",
          "data": {
            "text/plain": [
              "<Figure size 432x288 with 1 Axes>"
            ],
            "image/png": "[encoded data removed]"
          },
          "metadata": {
            "needs_background": "light"
          }
        }
      ],
      "source": [
        "ita_lengths = train['italian'].str.split().apply(len)\n",
        "eng_lengths = train['english_inp'].str.split().apply(len)\n",
        "import seaborn as sns\n",
        "import matplotlib.pyplot as plt\n",
        "sns.kdeplot(ita_lengths)\n",
        "plt.show()\n",
        "sns.kdeplot(eng_lengths)\n",
        "plt.show()"
      ]
    },
    {
      "cell_type": "code",
      "execution_count": null,
      "metadata": {
        "id": "GPa0ldDWkav8"
      },
      "outputs": [],
      "source": [
        "tknizer_ita = Tokenizer()\n",
        "tknizer_ita.fit_on_texts(train['italian'].values)\n",
        "\n",
        "tknizer_eng = Tokenizer(filters='!\"#$%&()*+,-./:;=?@[\\\\]^_`{|}~\\t\\n')\n",
        "tknizer_eng.fit_on_texts(train['english_inp'].values)"
      ]
    },
    {
      "cell_type": "code",
      "execution_count": null,
      "metadata": {
        "colab": {
          "base_uri": "https://localhost:8080/"
        },
        "id": "hBb0yEYlCynz",
        "outputId": "9fe27658-5e0d-4776-90ba-1f93905a3e8a"
      },
      "outputs": [
        {
          "output_type": "stream",
          "name": "stdout",
          "text": [
            "13188\n",
            "26870\n"
          ]
        }
      ],
      "source": [
        "vocab_size_eng=len(tknizer_eng.word_index.keys())\n",
        "print(vocab_size_eng)\n",
        "vocab_size_ita=len(tknizer_ita.word_index.keys())\n",
        "print(vocab_size_ita)\n"
      ]
    },
    {
      "cell_type": "code",
      "source": [
        "#vocab_size_eng=13042\n",
        "#vocab_size_ita=26626"
      ],
      "metadata": {
        "id": "0ljs7pzTRWYe"
      },
      "execution_count": null,
      "outputs": []
    },
    {
      "cell_type": "code",
      "source": [
        "data_path = '/content/drive/My Drive/Colab Notebooks/25_NLP_attention/data/'"
      ],
      "metadata": {
        "id": "hdTuvysjy9so"
      },
      "execution_count": null,
      "outputs": []
    },
    {
      "cell_type": "code",
      "execution_count": null,
      "metadata": {
        "id": "olaKF9rb_zz1"
      },
      "outputs": [],
      "source": [
        "embeddings_index = dict()\n",
        "f = open( data_path + 'glove.6B.100d.txt')\n",
        "for line in f:\n",
        "    values = line.split()\n",
        "    word = values[0]\n",
        "    coefs = np.asarray(values[1:], dtype='float32')\n",
        "    embeddings_index[word] = coefs\n",
        "f.close()\n",
        "\n",
        "embedding_matrix = np.zeros((vocab_size_eng+1, 100))\n",
        "for word, i in tknizer_eng.word_index.items():\n",
        "  embedding_vector = embeddings_index.get(word)\n",
        "  if embedding_vector is not None:\n",
        "    embedding_matrix[i] = embedding_vector"
      ]
    },
    {
      "cell_type": "code",
      "source": [
        "for word, i in tknizer_eng.word_index.items():\n",
        "  print( word , i )\n",
        "  if (i >= 5):\n",
        "    break\n",
        "\n",
        "tknizer_eng.index_word[5]"
      ],
      "metadata": {
        "colab": {
          "base_uri": "https://localhost:8080/",
          "height": 122
        },
        "id": "Wqe3ExU-274X",
        "outputId": "af70d49e-b3b3-4166-a066-4460e7a3c252"
      },
      "execution_count": null,
      "outputs": [
        {
          "output_type": "stream",
          "name": "stdout",
          "text": [
            "<start> 1\n",
            "i 2\n",
            "you 3\n",
            "tom 4\n",
            "to 5\n"
          ]
        },
        {
          "output_type": "execute_result",
          "data": {
            "text/plain": [
              "'to'"
            ],
            "application/vnd.google.colaboratory.intrinsic+json": {
              "type": "string"
            }
          },
          "metadata": {},
          "execution_count": 18
        }
      ]
    },
    {
      "cell_type": "code",
      "source": [
        "embedding_matrix.shape"
      ],
      "metadata": {
        "colab": {
          "base_uri": "https://localhost:8080/"
        },
        "id": "sGx2nQEUznNl",
        "outputId": "922a32b0-eff7-4fe7-8062-915b94323e61"
      },
      "execution_count": null,
      "outputs": [
        {
          "output_type": "execute_result",
          "data": {
            "text/plain": [
              "(13189, 100)"
            ]
          },
          "metadata": {},
          "execution_count": 27
        }
      ]
    },
    {
      "cell_type": "code",
      "source": [
        "tknizer_eng.word_index['<start>'], tknizer_eng.word_index['<end>'], tknizer_eng.index_word[12751]"
      ],
      "metadata": {
        "colab": {
          "base_uri": "https://localhost:8080/"
        },
        "id": "C1Dw7rwEz0rH",
        "outputId": "79dc9e73-e435-42f2-9e4b-b434a1104b68"
      },
      "execution_count": null,
      "outputs": [
        {
          "output_type": "execute_result",
          "data": {
            "text/plain": [
              "(1, 10438, 'lending')"
            ]
          },
          "metadata": {},
          "execution_count": 28
        }
      ]
    },
    {
      "cell_type": "code",
      "source": [
        "tknizer_eng.word_index.get('<end>')"
      ],
      "metadata": {
        "colab": {
          "base_uri": "https://localhost:8080/"
        },
        "id": "VjRWCKTP0LtY",
        "outputId": "1ccef5d9-80b9-45d0-e013-7006ccc2fe90"
      },
      "execution_count": null,
      "outputs": [
        {
          "output_type": "execute_result",
          "data": {
            "text/plain": [
              "10387"
            ]
          },
          "metadata": {},
          "execution_count": 22
        }
      ]
    },
    {
      "cell_type": "code",
      "execution_count": null,
      "metadata": {
        "colab": {
          "base_uri": "https://localhost:8080/",
          "height": 35
        },
        "id": "nm1uoAC-Nwuk",
        "outputId": "03aa3f22-9e29-4de1-9d11-6a8825bd3824"
      },
      "outputs": [
        {
          "data": {
            "text/plain": [
              "(1, 10106, 'respective')"
            ]
          },
          "execution_count": 72,
          "metadata": {
            "tags": []
          },
          "output_type": "execute_result"
        }
      ],
      "source": [
        "#tknizer_eng.word_index['<start>'], tknizer_eng.word_index['<end>'], tknizer_eng.index_word[12751]"
      ]
    },
    {
      "cell_type": "code",
      "execution_count": null,
      "metadata": {
        "id": "7mBXRd_sus3C"
      },
      "outputs": [],
      "source": [
        "class Dataset:\n",
        "    def __init__(self, data, tknizer_ita, tknizer_eng, max_len):\n",
        "        self.encoder_inps = data['italian'].values\n",
        "        self.decoder_inps = data['english_inp'].values\n",
        "        self.decoder_outs = data['english_out'].values\n",
        "        self.tknizer_eng = tknizer_eng\n",
        "        self.tknizer_ita = tknizer_ita\n",
        "        self.max_len = max_len\n",
        "\n",
        "    def __getitem__(self, i):\n",
        "        self.encoder_seq = self.tknizer_ita.texts_to_sequences([self.encoder_inps[i]]) # need to pass list of values\n",
        "        self.decoder_inp_seq = self.tknizer_eng.texts_to_sequences([self.decoder_inps[i]])\n",
        "        self.decoder_out_seq = self.tknizer_eng.texts_to_sequences([self.decoder_outs[i]])\n",
        "\n",
        "        self.encoder_seq = pad_sequences(self.encoder_seq, maxlen=self.max_len, dtype='int32', padding='post')\n",
        "        self.decoder_inp_seq = pad_sequences(self.decoder_inp_seq, maxlen=self.max_len, dtype='int32', padding='post')\n",
        "        self.decoder_out_seq = pad_sequences(self.decoder_out_seq, maxlen=self.max_len, dtype='int32', padding='post')\n",
        "        return self.encoder_seq, self.decoder_inp_seq, self.decoder_out_seq\n",
        "\n",
        "    def __len__(self): # your model.fit_gen requires this function\n",
        "        return len(self.encoder_inps)\n",
        "\n",
        "    \n",
        "class Dataloder(tf.keras.utils.Sequence):    \n",
        "    def __init__(self, dataset, batch_size=1):\n",
        "        self.dataset = dataset\n",
        "        self.batch_size = batch_size\n",
        "        self.indexes = np.arange(len(self.dataset.encoder_inps))\n",
        "\n",
        "    def __getitem__(self, i):\n",
        "        start = i * self.batch_size\n",
        "        stop = (i + 1) * self.batch_size\n",
        "        data = []\n",
        "        for j in range(start, stop):\n",
        "            data.append(self.dataset[j])\n",
        "\n",
        "        batch = [np.squeeze(np.stack(samples, axis=1), axis=0) for samples in zip(*data)]\n",
        "        return tuple([[batch[0],batch[1]],batch[2]])\n",
        "\n",
        "    def __len__(self):  # your model.fit_gen requires this function\n",
        "        return len(self.indexes) // self.batch_size\n",
        "\n",
        "    def on_epoch_end(self):\n",
        "        self.indexes = np.random.permutation(self.indexes)"
      ]
    },
    {
      "cell_type": "code",
      "execution_count": null,
      "metadata": {
        "colab": {
          "base_uri": "https://localhost:8080/"
        },
        "id": "eDKh6iikRUyg",
        "outputId": "4eeea9b7-3df1-45ad-8385-5808a7237787"
      },
      "outputs": [
        {
          "output_type": "stream",
          "name": "stdout",
          "text": [
            "(1024, 20) (1024, 20) (1024, 20)\n"
          ]
        }
      ],
      "source": [
        "train_dataset = Dataset(train, tknizer_ita, tknizer_eng, 20)\n",
        "test_dataset  = Dataset(validation, tknizer_ita, tknizer_eng, 20)\n",
        "batch_size=1024\n",
        "train_dataloader = Dataloder(train_dataset, batch_size=batch_size)\n",
        "test_dataloader = Dataloder(test_dataset, batch_size=batch_size)\n",
        "\n",
        "\n",
        "print(train_dataloader[0][0][0].shape, train_dataloader[0][0][1].shape, train_dataloader[0][1].shape)"
      ]
    },
    {
      "cell_type": "code",
      "execution_count": null,
      "metadata": {
        "id": "sOELLwbcbjSM"
      },
      "outputs": [],
      "source": [
        "\n",
        "class MyModel(Model):\n",
        "    def __init__(self, encoder_inputs_length,decoder_inputs_length, output_vocab_size):\n",
        "        super().__init__() # https://stackoverflow.com/a/27134600/4084039\n",
        "        self.encoder = Encoder(vocab_size=vocab_size_ita+1, embedding_dim=50, input_length=encoder_inputs_length, enc_units=256)\n",
        "        self.decoder = Decoder(vocab_size=vocab_size_eng+1, embedding_dim=100, input_length=decoder_inputs_length, dec_units=256)\n",
        "        self.dense   = Dense(output_vocab_size, activation='softmax')\n",
        "        \n",
        "        \n",
        "    def call(self, data):\n",
        "        input,output = data[0], data[1]\n",
        "        print(input.shape,output.shape)\n",
        "        encoder_output, encoder_h, encoder_c = self.encoder(input)\n",
        "        decoder_output,_,_                       = self.decoder(output, encoder_h, encoder_c)\n",
        "        output                               = self.dense(decoder_output)\n",
        "        return output"
      ]
    },
    {
      "cell_type": "code",
      "source": [
        "import os\n",
        "import random as rn"
      ],
      "metadata": {
        "id": "ZuTAWVj0M5zz"
      },
      "execution_count": null,
      "outputs": []
    },
    {
      "cell_type": "code",
      "execution_count": null,
      "metadata": {
        "id": "AWScVZJXcSZU"
      },
      "outputs": [],
      "source": [
        "os.environ['PYTHONHASHSEED'] = '7'\n",
        "\n",
        "tf.keras.backend.clear_session()\n",
        "## Set the random seed values to regenerate the model.\n",
        "np.random.seed(10)\n",
        "rn.seed(10)\n",
        "\n",
        "model  = MyModel(encoder_inputs_length=20,decoder_inputs_length=20,output_vocab_size=vocab_size_eng)\n",
        "optimizer = tf.keras.optimizers.Adam()\n",
        "model.compile(optimizer=optimizer,loss='sparse_categorical_crossentropy')\n"
      ]
    },
    {
      "cell_type": "code",
      "source": [
        "#model.summary()"
      ],
      "metadata": {
        "id": "T4yCdoxmH6o9"
      },
      "execution_count": null,
      "outputs": []
    },
    {
      "cell_type": "code",
      "source": [
        "train_steps=train.shape[0]//batch_size\n",
        "valid_steps=validation.shape[0]//batch_size\n",
        "train_steps , valid_steps"
      ],
      "metadata": {
        "colab": {
          "base_uri": "https://localhost:8080/"
        },
        "id": "gs8vo0hKIIfO",
        "outputId": "cbe1f0bb-3cd4-4325-c976-ed314f0f92d7"
      },
      "execution_count": null,
      "outputs": [
        {
          "output_type": "execute_result",
          "data": {
            "text/plain": [
              "(279, 69)"
            ]
          },
          "metadata": {},
          "execution_count": 35
        }
      ]
    },
    {
      "cell_type": "code",
      "source": [
        "\n",
        "model.fit(train_dataloader, steps_per_epoch=train_steps, epochs=10 , \\\n",
        "                    validation_data=train_dataloader, validation_steps=train_steps)\n",
        "\n"
      ],
      "metadata": {
        "colab": {
          "base_uri": "https://localhost:8080/"
        },
        "id": "6KjgfYfAT8nl",
        "outputId": "dc2a2488-91c7-45a0-ccba-d9c79d8daf92"
      },
      "execution_count": null,
      "outputs": [
        {
          "output_type": "stream",
          "name": "stdout",
          "text": [
            "Epoch 1/10\n",
            "279/279 [==============================] - 95s 339ms/step - loss: 1.4923 - val_loss: 1.4028\n",
            "Epoch 2/10\n",
            "279/279 [==============================] - 95s 340ms/step - loss: 1.3281 - val_loss: 1.2443\n",
            "Epoch 3/10\n",
            "279/279 [==============================] - 95s 341ms/step - loss: 1.1856 - val_loss: 1.1190\n",
            "Epoch 4/10\n",
            "279/279 [==============================] - 95s 340ms/step - loss: 1.0707 - val_loss: 1.0134\n",
            "Epoch 5/10\n",
            "279/279 [==============================] - 94s 338ms/step - loss: 0.9742 - val_loss: 0.9258\n",
            "Epoch 6/10\n",
            "279/279 [==============================] - 95s 339ms/step - loss: 0.8901 - val_loss: 0.8425\n",
            "Epoch 7/10\n",
            "279/279 [==============================] - 95s 340ms/step - loss: 0.8139 - val_loss: 0.7685\n",
            "Epoch 8/10\n",
            "279/279 [==============================] - 95s 339ms/step - loss: 0.7426 - val_loss: 0.6995\n",
            "Epoch 9/10\n",
            "279/279 [==============================] - 95s 339ms/step - loss: 0.6770 - val_loss: 0.6376\n",
            "Epoch 10/10\n",
            "279/279 [==============================] - 95s 340ms/step - loss: 0.6166 - val_loss: 0.5786\n"
          ]
        },
        {
          "output_type": "execute_result",
          "data": {
            "text/plain": [
              "<keras.callbacks.History at 0x7fc213fe2ed0>"
            ]
          },
          "metadata": {},
          "execution_count": 37
        }
      ]
    },
    {
      "cell_type": "code",
      "source": [
        "\n",
        "model.fit(train_dataloader, steps_per_epoch=train_steps, epochs=30, \\\n",
        "                    validation_data=train_dataloader, validation_steps=train_steps)\n",
        "\n"
      ],
      "metadata": {
        "colab": {
          "base_uri": "https://localhost:8080/"
        },
        "id": "7iaGfZas0sor",
        "outputId": "5286e1df-2f7f-4764-84c3-da9d9f889f53"
      },
      "execution_count": null,
      "outputs": [
        {
          "output_type": "stream",
          "name": "stdout",
          "text": [
            "(1024, 20) (1024, 20)\n",
            "Epoch 1/30\n",
            "(None, None) (None, None)\n",
            "(None, None) (None, None)\n",
            "276/276 [==============================] - ETA: 0s - loss: 1.8036(None, None) (None, None)\n",
            "276/276 [==============================] - 97s 325ms/step - loss: 1.8036 - val_loss: 1.5942\n",
            "Epoch 2/30\n",
            "276/276 [==============================] - 90s 326ms/step - loss: 1.5063 - val_loss: 1.4195\n",
            "Epoch 3/30\n",
            "276/276 [==============================] - 132s 478ms/step - loss: 1.3537 - val_loss: 1.2772\n",
            "Epoch 4/30\n",
            "276/276 [==============================] - 89s 322ms/step - loss: 1.2131 - val_loss: 1.1456\n",
            "Epoch 5/30\n",
            "276/276 [==============================] - 89s 324ms/step - loss: 1.0970 - val_loss: 1.0370\n",
            "Epoch 6/30\n",
            "276/276 [==============================] - 90s 325ms/step - loss: 0.9967 - val_loss: 0.9453\n",
            "Epoch 7/30\n",
            "276/276 [==============================] - 90s 326ms/step - loss: 0.9094 - val_loss: 0.8610\n",
            "Epoch 8/30\n",
            "276/276 [==============================] - 91s 329ms/step - loss: 0.8323 - val_loss: 0.7885\n",
            "Epoch 9/30\n",
            "276/276 [==============================] - 91s 328ms/step - loss: 0.7633 - val_loss: 0.7219\n",
            "Epoch 10/30\n",
            "276/276 [==============================] - 94s 342ms/step - loss: 0.6982 - val_loss: 0.6570\n",
            "Epoch 11/30\n",
            "276/276 [==============================] - 91s 328ms/step - loss: 0.6362 - val_loss: 0.5973\n",
            "Epoch 12/30\n",
            "276/276 [==============================] - 90s 327ms/step - loss: 0.5785 - val_loss: 0.5415\n",
            "Epoch 13/30\n",
            "276/276 [==============================] - 90s 326ms/step - loss: 0.5265 - val_loss: 0.4916\n",
            "Epoch 14/30\n",
            "276/276 [==============================] - 90s 326ms/step - loss: 0.4819 - val_loss: 0.4501\n",
            "Epoch 15/30\n",
            "276/276 [==============================] - 91s 329ms/step - loss: 0.4393 - val_loss: 0.4109\n",
            "Epoch 16/30\n",
            "276/276 [==============================] - 91s 329ms/step - loss: 0.4032 - val_loss: 0.3758\n",
            "Epoch 17/30\n",
            "276/276 [==============================] - 90s 327ms/step - loss: 0.3717 - val_loss: 0.3473\n",
            "Epoch 18/30\n",
            "276/276 [==============================] - 90s 326ms/step - loss: 0.3448 - val_loss: 0.3220\n",
            "Epoch 19/30\n",
            "276/276 [==============================] - 90s 327ms/step - loss: 0.3205 - val_loss: 0.3002\n",
            "Epoch 20/30\n",
            "276/276 [==============================] - 91s 328ms/step - loss: 0.2992 - val_loss: 0.2796\n",
            "Epoch 21/30\n",
            "276/276 [==============================] - 91s 329ms/step - loss: 0.2805 - val_loss: 0.2620\n",
            "Epoch 22/30\n",
            "276/276 [==============================] - 90s 326ms/step - loss: 0.2639 - val_loss: 0.2477\n",
            "Epoch 23/30\n",
            "276/276 [==============================] - 90s 326ms/step - loss: 0.2490 - val_loss: 0.2331\n",
            "Epoch 24/30\n",
            "276/276 [==============================] - 90s 327ms/step - loss: 0.2357 - val_loss: 0.2204\n",
            "Epoch 25/30\n",
            "276/276 [==============================] - 91s 328ms/step - loss: 0.2233 - val_loss: 0.2097\n",
            "Epoch 26/30\n",
            "276/276 [==============================] - 91s 330ms/step - loss: 0.2126 - val_loss: 0.2000\n",
            "Epoch 27/30\n",
            "276/276 [==============================] - 90s 325ms/step - loss: 0.2025 - val_loss: 0.1904\n",
            "Epoch 28/30\n",
            "276/276 [==============================] - 90s 326ms/step - loss: 0.1937 - val_loss: 0.1810\n",
            "Epoch 29/30\n",
            "276/276 [==============================] - 90s 326ms/step - loss: 0.1852 - val_loss: 0.1732\n",
            "Epoch 30/30\n",
            "276/276 [==============================] - 90s 328ms/step - loss: 0.1773 - val_loss: 0.1660\n"
          ]
        },
        {
          "output_type": "execute_result",
          "data": {
            "text/plain": [
              "<keras.callbacks.History at 0x7f9b6d628790>"
            ]
          },
          "metadata": {},
          "execution_count": 39
        }
      ]
    },
    {
      "cell_type": "code",
      "execution_count": null,
      "metadata": {
        "id": "mzLeRdjT8F_m"
      },
      "outputs": [],
      "source": [
        "\n",
        "#model.save_weights( data_path +'saved_model/'+ 'seq_seq_reference_1_acc_0_16.h5')\n"
      ]
    },
    {
      "cell_type": "code",
      "source": [
        "#model.load_model( data_path +'saved_model/'+ 'seq_seq_reference_1_acc_0_16.h5')"
      ],
      "metadata": {
        "id": "z9foaGYHRGyI"
      },
      "execution_count": null,
      "outputs": []
    },
    {
      "cell_type": "code",
      "execution_count": null,
      "metadata": {
        "id": "0iHiLdROM23l"
      },
      "outputs": [],
      "source": [
        "#Create an object of your custom model.\n",
        "#Compile and train your model on dot scoring function.\n",
        "# Visualize few sentences randomly in Test data\n",
        "# Predict on 1000 random sentences on test data and calculate the average BLEU score of these sentences.\n",
        "# https://www.nltk.org/_modules/nltk/translate/bleu_score.html\n",
        "\n",
        "#Sample example\n",
        "import nltk.translate.bleu_score as bleu\n",
        "reference = ['i am groot'.split(),] # the original\n",
        "translation = 'it is ship'.split() # trasilated using model\n",
        "print('BLEU score: {}'.format(bleu.sentence_bleu(reference, translation)))"
      ]
    },
    {
      "cell_type": "code",
      "execution_count": null,
      "metadata": {
        "id": "EjOS4_8RaKsY"
      },
      "outputs": [],
      "source": [
        "def predict(input_sentence):\n",
        "  \n",
        " '''\n",
        "  A. Given input sentence, convert the sentence into integers using tokenizer used earlier\n",
        "  B. Pass the input_sequence to encoder. we get encoder_outputs, last time step hidden and cell state\n",
        "  C. Initialize index of <start> as input to decoder. and encoder final states as input_states to decoder\n",
        "  D. till we reach max_length of decoder or till the model predicted word <end>:\n",
        "         -> predicted_out,state_h,state_c=model.layers[1](dec_input,states)\n",
        "         -> pass the predicted_out on to dense layer (model.layers[2])\n",
        "         -> states=[state_h,state_c]\n",
        "         -> And get the word using the tokenizer(word index) and then store it in a string.\n",
        "         -> Update the input_to_decoder with current predictions\n",
        "  F. Return the predicted sentence\n",
        " '''\n",
        "\n",
        "\n",
        " return translated_sentence"
      ]
    },
    {
      "cell_type": "code",
      "source": [
        "def get_ita_pad_sentence( sentence , token_italien):\n",
        "  seq_ita_1 = token_italien.texts_to_sequences( sentence )\n",
        "  ita_pad_sent = pad_sequences( seq_ita_1 , maxlen= 100 , dtype='int32', padding='post')\n",
        "  return ita_pad_sent\n"
      ],
      "metadata": {
        "id": "bzBrt0REZRNv"
      },
      "execution_count": null,
      "outputs": []
    },
    {
      "cell_type": "code",
      "source": [
        "tknizer_eng.word_index['<end>']"
      ],
      "metadata": {
        "colab": {
          "base_uri": "https://localhost:8080/"
        },
        "id": "JpCfssV782LO",
        "outputId": "9e07e183-570d-4b54-8510-c82880b0f6dc"
      },
      "execution_count": null,
      "outputs": [
        {
          "output_type": "execute_result",
          "data": {
            "text/plain": [
              "10387"
            ]
          },
          "metadata": {},
          "execution_count": 76
        }
      ]
    },
    {
      "cell_type": "code",
      "source": [
        "#index = 101\n",
        "#print( train['italian'][index:index+1].values )\n",
        "#print( train['english_inp'][index:index+1].values )\n",
        "#inp_sent_1 = get_ita_pad_sentence( train['italian'][index:index+1] , tknizer_ita )\n",
        "#print( inp_sent_1[0][0:10] )\n",
        "\n",
        "#encoder_state_value=model.layers[0]( inp_sent_1 )\n",
        "#encoder_out_put , h_stete , c_stete  = model.layers[0]( inp_sent_1 )\n",
        "#encoder_state_value=encoder_state_value[1:]\n",
        "\n",
        "#print( encoder_state_value[0][0:1].shape , encoder_state_value[0][1:1].shape ,encoder_state_value[0][2:3].shape )\n",
        "#print( encoder_state_value )\n",
        "\n",
        "#target_word=np.zeros((1,1))\n",
        "# <start>:1 , <end>:2 -- \n",
        "#target_word[0,0]=1\n",
        "\n",
        "#inference(encoder_out_put , h_stete , c_stete)\n",
        "#target_word\n",
        "#out_put.shape\n",
        "#tknizer_eng.index_word[1]\n",
        "#np.array( [1] )\n",
        "#h_stete.shape , c_stete.shape\n",
        "index = 119\n",
        "#print( train['italian'][index:index+1].values )\n",
        "#print( str(train['english_inp'][index:index+1].values)[9:] )\n",
        "#inp_sent_1 = get_ita_pad_sentence( train['italian'][index:index+1] , tknizer_ita )\n",
        "#print( inp_sent_1 )\n",
        "#encoder_out_put , h_stete , c_stete  = model.layers[0]( inp_sent_1 )\n",
        "#inference( train['italian'][index:index+1].values )\n",
        "#np.argmax( np.array( [1.8414561e-08, 1.6834068e-08 ,2.3598440e-01 , 1.8017859e-08 ,1.8367379e-08,1.5047453e-08]), 0 )\n",
        "\n",
        "trans_sent = inference( ['ti ricordi di me'])\n",
        "trans_sent"
      ],
      "metadata": {
        "colab": {
          "base_uri": "https://localhost:8080/",
          "height": 35
        },
        "id": "1i8THdm9ZJYr",
        "outputId": "8794c4ee-7a81-4547-f452-c22a079121af"
      },
      "execution_count": null,
      "outputs": [
        {
          "output_type": "execute_result",
          "data": {
            "text/plain": [
              "' do you remember me'"
            ],
            "application/vnd.google.colaboratory.intrinsic+json": {
              "type": "string"
            }
          },
          "metadata": {},
          "execution_count": 39
        }
      ]
    },
    {
      "cell_type": "code",
      "source": [
        "import ipywidgets as widgets\n",
        "from IPython.display import display"
      ],
      "metadata": {
        "id": "rLqIqiDujSns"
      },
      "execution_count": null,
      "outputs": []
    },
    {
      "cell_type": "code",
      "source": [
        "\n",
        "button = widgets.Button(description=\"Transate !\")\n",
        "inp = widgets.Text(description='Enter Italian:')\n",
        "eng_lbl = widgets.Label(value='English :')\n",
        "display(inp)\n",
        "display(button)\n",
        "display( eng_lbl )\n",
        "\n",
        "#Box = widgets.HBox([button,inp])\n",
        "\n",
        "value_list = []\n",
        "\n",
        "def on_button_clicked(b):\n",
        "    #value_list.append(inp.value)\n",
        "    #print(inp.value)\n",
        "    trans_sent = inference( ['' + str(inp.value) ])\n",
        "    #print(trans_sent)\n",
        "    eng_lbl.value = 'English : ' + str(trans_sent)\n",
        "\n",
        "button.on_click(on_button_clicked)\n",
        "#Box"
      ],
      "metadata": {
        "colab": {
          "base_uri": "https://localhost:8080/",
          "height": 113,
          "referenced_widgets": [
            "7d935e48735d4e2583b8cc03ea0a0016",
            "b24bd639ef814f4e87ba337b474fa529",
            "18d8fff3596f4f8d9f8c945e942d2ae4",
            "0efcdf017aaf4646ae4fadd64345f388",
            "d49b211d234b46c2b8123fa947db321f",
            "30343a56228a4b10ac2b4148f3181aba",
            "beb4bc66357443f0b35674086768a0aa",
            "da8c40cb3ed544c8895ed26319d6a4b2",
            "402791a6da6c440bb600577507b3971e"
          ]
        },
        "id": "kwt6y6KYjQmk",
        "outputId": "e744f825-4afe-4470-faf9-f4ba4a70ef75"
      },
      "execution_count": null,
      "outputs": [
        {
          "output_type": "display_data",
          "data": {
            "text/plain": [
              "Text(value='', description='Enter Italian:')"
            ],
            "application/vnd.jupyter.widget-view+json": {
              "version_major": 2,
              "version_minor": 0,
              "model_id": "7d935e48735d4e2583b8cc03ea0a0016"
            }
          },
          "metadata": {}
        },
        {
          "output_type": "display_data",
          "data": {
            "text/plain": [
              "Button(description='Transate !', style=ButtonStyle())"
            ],
            "application/vnd.jupyter.widget-view+json": {
              "version_major": 2,
              "version_minor": 0,
              "model_id": "0efcdf017aaf4646ae4fadd64345f388"
            }
          },
          "metadata": {}
        },
        {
          "output_type": "display_data",
          "data": {
            "text/plain": [
              "Label(value='English :')"
            ],
            "application/vnd.jupyter.widget-view+json": {
              "version_major": 2,
              "version_minor": 0,
              "model_id": "beb4bc66357443f0b35674086768a0aa"
            }
          },
          "metadata": {}
        }
      ]
    },
    {
      "cell_type": "code",
      "source": [
        "#ita_sent = input('Enter the italian sentence: ')\n",
        "#ita_sent"
      ],
      "metadata": {
        "id": "kGZmaWncc0ez"
      },
      "execution_count": null,
      "outputs": []
    },
    {
      "cell_type": "code",
      "source": [
        "def inference( sentence ):\n",
        "  '''\n",
        "    Function that takes Italian sequence and returns English sequence\n",
        "  '''\n",
        "  \n",
        "  seq_ita_1 = tknizer_ita.texts_to_sequences( sentence )\n",
        "  italian_padded_sent = pad_sequences( seq_ita_1 , maxlen= 100 , dtype='int32', padding='post')\n",
        "\n",
        "  #seq=seq.reshape(-1,9)\n",
        "  # Input the sequence to encoder_model and get the final timestep encoder_states(Hidden and cell state)\n",
        "  #encoder_state_value=encoder_model.predict(seq)\n",
        "  encoder_out_put , state_h, state_c  = model.layers[0]( italian_padded_sent )\n",
        "  #encoder_state_value=encoder_state_value[1:]\n",
        "  # encoder_state_value[0] -- hidden_state -- shape (None,256)\n",
        "  # encoder_state_value[1] -- cell_state -- shape (None,256)\n",
        "\n",
        "  # Target word\n",
        "  target_word=np.zeros((1,1))\n",
        "  # <start>:1 , <end>:2 -- \n",
        "  # <start>:1, <end>:10387\n",
        "  target_word[0,0]=1\n",
        "  \n",
        "  stop_condition=False\n",
        "  sent=''\n",
        "  k=0\n",
        "  while not stop_condition:\n",
        "\n",
        "      # We are giving a target_word which represents <start> and encoder_states to the decoder_model\n",
        "      #output,state_h,state_c=decoder_model.predict([target_word]+encoder_state_value)\n",
        "      dec_output,state_h,state_c = model.layers[1]( np.array( target_word ) , state_h,state_c)\n",
        "      # As the target word length is 1. We will only have one time step\n",
        "      #encoder_state_value=[state_h,state_c]\n",
        "      # Output shape (1,eng_vocab_size). Find the word which the decoder predicted with max_probability\n",
        "      dense_output = model.layers[2]( dec_output )\n",
        "      #print( dense_output[0][0] )\n",
        "      #output=np.argmax(output,-1)\n",
        "      output=np.argmax( dense_output[0][0] , 0 )\n",
        "      #print(output)\n",
        "      # The output is a integer sequence, to get back the word. We use our lookup table reverse_dict\n",
        "      #tknizer_eng.index_word[5] , eng_index_word\n",
        "      #sent=sent + ' ' + tknizer_eng.index_word[int(output)]\n",
        "      k+=1\n",
        "      # If the max_length of the sequence is reached or the model predicted 2 (<end>) stop your model\n",
        "      if k>10 or output==int(tknizer_eng.word_index['<end>']):\n",
        "        stop_condition=True\n",
        "      else :\n",
        "        sent=sent + ' ' + tknizer_eng.index_word[int(output)]\n",
        "      \n",
        "      target_word=output.reshape(1,1)\n",
        "  \n",
        "  return sent\n"
      ],
      "metadata": {
        "id": "abd_HWGJyr4t"
      },
      "execution_count": null,
      "outputs": []
    },
    {
      "cell_type": "code",
      "execution_count": null,
      "metadata": {
        "colab": {
          "base_uri": "https://localhost:8080/",
          "height": 139
        },
        "id": "ribYvQP7aKsa",
        "outputId": "559fa641-bb3f-425d-c5d7-6ecd655ff681"
      },
      "outputs": [
        {
          "name": "stdout",
          "output_type": "stream",
          "text": [
            "(1, 1)\n",
            "(1, 1, 100)\n",
            "(1, 1)\n",
            "(1, 1, 100)\n",
            "(1, 1)\n",
            "(1, 1, 100)\n",
            "look around\n"
          ]
        }
      ],
      "source": [
        "output=predict('si guardi attorno')\n",
        "print(output)"
      ]
    },
    {
      "cell_type": "code",
      "execution_count": null,
      "metadata": {
        "colab": {
          "base_uri": "https://localhost:8080/",
          "height": 347
        },
        "id": "Q8Y1-kZ1aKsb",
        "outputId": "c8fd8e46-ef4b-4ff3-a496-64bead99b582"
      },
      "outputs": [
        {
          "name": "stdout",
          "output_type": "stream",
          "text": [
            "(1, 1)\n",
            "(1, 1, 100)\n",
            "(1, 1)\n",
            "(1, 1, 100)\n",
            "(1, 1)\n",
            "(1, 1, 100)\n",
            "(1, 1)\n",
            "(1, 1, 100)\n",
            "(1, 1)\n",
            "(1, 1, 100)\n",
            "(1, 1)\n",
            "(1, 1, 100)\n",
            "(1, 1)\n",
            "(1, 1, 100)\n",
            "(1, 1)\n",
            "(1, 1, 100)\n",
            "(1, 1)\n",
            "(1, 1, 100)\n",
            "i do not get along with that one\n"
          ]
        }
      ],
      "source": [
        "output=predict('non vado daccordo con quel tipo')\n",
        "print(output)"
      ]
    },
    {
      "cell_type": "code",
      "execution_count": null,
      "metadata": {
        "colab": {
          "base_uri": "https://localhost:8080/",
          "height": 278
        },
        "id": "oz8xHoYLaKsd",
        "outputId": "1918f89a-9c44-48ce-dad2-9da5118c80ba"
      },
      "outputs": [
        {
          "name": "stdout",
          "output_type": "stream",
          "text": [
            "(1, 1)\n",
            "(1, 1, 100)\n",
            "(1, 1)\n",
            "(1, 1, 100)\n",
            "(1, 1)\n",
            "(1, 1, 100)\n",
            "(1, 1)\n",
            "(1, 1, 100)\n",
            "(1, 1)\n",
            "(1, 1, 100)\n",
            "(1, 1)\n",
            "(1, 1, 100)\n",
            "(1, 1)\n",
            "(1, 1, 100)\n"
          ]
        },
        {
          "data": {
            "application/vnd.google.colaboratory.intrinsic+json": {
              "type": "string"
            },
            "text/plain": [
              "'what do you want to know'"
            ]
          },
          "execution_count": 92,
          "metadata": {
            "tags": []
          },
          "output_type": "execute_result"
        }
      ],
      "source": [
        "predict('lei che cosa vuole sapere')"
      ]
    },
    {
      "cell_type": "code",
      "execution_count": null,
      "metadata": {
        "id": "wsKz-aStxBfv"
      },
      "outputs": [],
      "source": []
    }
  ],
  "metadata": {
    "kernelspec": {
      "display_name": "Python 3",
      "language": "python",
      "name": "python3"
    },
    "language_info": {
      "codemirror_mode": {
        "name": "ipython",
        "version": 3
      },
      "file_extension": ".py",
      "mimetype": "text/x-python",
      "name": "python",
      "nbconvert_exporter": "python",
      "pygments_lexer": "ipython3",
      "version": "3.7.4"
    },
    "colab": {
      "provenance": []
    },
    "accelerator": "GPU",
    "gpuClass": "standard",
    "widgets": {
      "application/vnd.jupyter.widget-state+json": {
        "7d935e48735d4e2583b8cc03ea0a0016": {
          "model_module": "@jupyter-widgets/controls",
          "model_name": "TextModel",
          "model_module_version": "1.5.0",
          "state": {
            "_dom_classes": [],
            "_model_module": "@jupyter-widgets/controls",
            "_model_module_version": "1.5.0",
            "_model_name": "TextModel",
            "_view_count": null,
            "_view_module": "@jupyter-widgets/controls",
            "_view_module_version": "1.5.0",
            "_view_name": "TextView",
            "continuous_update": true,
            "description": "Enter Italian:",
            "description_tooltip": null,
            "disabled": false,
            "layout": "IPY_MODEL_b24bd639ef814f4e87ba337b474fa529",
            "placeholder": "​",
            "style": "IPY_MODEL_18d8fff3596f4f8d9f8c945e942d2ae4",
            "value": "Ciao, come stai"
          }
        },
        "b24bd639ef814f4e87ba337b474fa529": {
          "model_module": "@jupyter-widgets/base",
          "model_name": "LayoutModel",
          "model_module_version": "1.2.0",
          "state": {
            "_model_module": "@jupyter-widgets/base",
            "_model_module_version": "1.2.0",
            "_model_name": "LayoutModel",
            "_view_count": null,
            "_view_module": "@jupyter-widgets/base",
            "_view_module_version": "1.2.0",
            "_view_name": "LayoutView",
            "align_content": null,
            "align_items": null,
            "align_self": null,
            "border": null,
            "bottom": null,
            "display": null,
            "flex": null,
            "flex_flow": null,
            "grid_area": null,
            "grid_auto_columns": null,
            "grid_auto_flow": null,
            "grid_auto_rows": null,
            "grid_column": null,
            "grid_gap": null,
            "grid_row": null,
            "grid_template_areas": null,
            "grid_template_columns": null,
            "grid_template_rows": null,
            "height": null,
            "justify_content": null,
            "justify_items": null,
            "left": null,
            "margin": null,
            "max_height": null,
            "max_width": null,
            "min_height": null,
            "min_width": null,
            "object_fit": null,
            "object_position": null,
            "order": null,
            "overflow": null,
            "overflow_x": null,
            "overflow_y": null,
            "padding": null,
            "right": null,
            "top": null,
            "visibility": null,
            "width": null
          }
        },
        "18d8fff3596f4f8d9f8c945e942d2ae4": {
          "model_module": "@jupyter-widgets/controls",
          "model_name": "DescriptionStyleModel",
          "model_module_version": "1.5.0",
          "state": {
            "_model_module": "@jupyter-widgets/controls",
            "_model_module_version": "1.5.0",
            "_model_name": "DescriptionStyleModel",
            "_view_count": null,
            "_view_module": "@jupyter-widgets/base",
            "_view_module_version": "1.2.0",
            "_view_name": "StyleView",
            "description_width": ""
          }
        },
        "0efcdf017aaf4646ae4fadd64345f388": {
          "model_module": "@jupyter-widgets/controls",
          "model_name": "ButtonModel",
          "model_module_version": "1.5.0",
          "state": {
            "_dom_classes": [],
            "_model_module": "@jupyter-widgets/controls",
            "_model_module_version": "1.5.0",
            "_model_name": "ButtonModel",
            "_view_count": null,
            "_view_module": "@jupyter-widgets/controls",
            "_view_module_version": "1.5.0",
            "_view_name": "ButtonView",
            "button_style": "",
            "description": "Transate !",
            "disabled": false,
            "icon": "",
            "layout": "IPY_MODEL_d49b211d234b46c2b8123fa947db321f",
            "style": "IPY_MODEL_30343a56228a4b10ac2b4148f3181aba",
            "tooltip": ""
          }
        },
        "d49b211d234b46c2b8123fa947db321f": {
          "model_module": "@jupyter-widgets/base",
          "model_name": "LayoutModel",
          "model_module_version": "1.2.0",
          "state": {
            "_model_module": "@jupyter-widgets/base",
            "_model_module_version": "1.2.0",
            "_model_name": "LayoutModel",
            "_view_count": null,
            "_view_module": "@jupyter-widgets/base",
            "_view_module_version": "1.2.0",
            "_view_name": "LayoutView",
            "align_content": null,
            "align_items": null,
            "align_self": null,
            "border": null,
            "bottom": null,
            "display": null,
            "flex": null,
            "flex_flow": null,
            "grid_area": null,
            "grid_auto_columns": null,
            "grid_auto_flow": null,
            "grid_auto_rows": null,
            "grid_column": null,
            "grid_gap": null,
            "grid_row": null,
            "grid_template_areas": null,
            "grid_template_columns": null,
            "grid_template_rows": null,
            "height": null,
            "justify_content": null,
            "justify_items": null,
            "left": null,
            "margin": null,
            "max_height": null,
            "max_width": null,
            "min_height": null,
            "min_width": null,
            "object_fit": null,
            "object_position": null,
            "order": null,
            "overflow": null,
            "overflow_x": null,
            "overflow_y": null,
            "padding": null,
            "right": null,
            "top": null,
            "visibility": null,
            "width": null
          }
        },
        "30343a56228a4b10ac2b4148f3181aba": {
          "model_module": "@jupyter-widgets/controls",
          "model_name": "ButtonStyleModel",
          "model_module_version": "1.5.0",
          "state": {
            "_model_module": "@jupyter-widgets/controls",
            "_model_module_version": "1.5.0",
            "_model_name": "ButtonStyleModel",
            "_view_count": null,
            "_view_module": "@jupyter-widgets/base",
            "_view_module_version": "1.2.0",
            "_view_name": "StyleView",
            "button_color": null,
            "font_weight": ""
          }
        },
        "beb4bc66357443f0b35674086768a0aa": {
          "model_module": "@jupyter-widgets/controls",
          "model_name": "LabelModel",
          "model_module_version": "1.5.0",
          "state": {
            "_dom_classes": [],
            "_model_module": "@jupyter-widgets/controls",
            "_model_module_version": "1.5.0",
            "_model_name": "LabelModel",
            "_view_count": null,
            "_view_module": "@jupyter-widgets/controls",
            "_view_module_version": "1.5.0",
            "_view_name": "LabelView",
            "description": "",
            "description_tooltip": null,
            "layout": "IPY_MODEL_da8c40cb3ed544c8895ed26319d6a4b2",
            "placeholder": "​",
            "style": "IPY_MODEL_402791a6da6c440bb600577507b3971e",
            "value": "English :  how much is it"
          }
        },
        "da8c40cb3ed544c8895ed26319d6a4b2": {
          "model_module": "@jupyter-widgets/base",
          "model_name": "LayoutModel",
          "model_module_version": "1.2.0",
          "state": {
            "_model_module": "@jupyter-widgets/base",
            "_model_module_version": "1.2.0",
            "_model_name": "LayoutModel",
            "_view_count": null,
            "_view_module": "@jupyter-widgets/base",
            "_view_module_version": "1.2.0",
            "_view_name": "LayoutView",
            "align_content": null,
            "align_items": null,
            "align_self": null,
            "border": null,
            "bottom": null,
            "display": null,
            "flex": null,
            "flex_flow": null,
            "grid_area": null,
            "grid_auto_columns": null,
            "grid_auto_flow": null,
            "grid_auto_rows": null,
            "grid_column": null,
            "grid_gap": null,
            "grid_row": null,
            "grid_template_areas": null,
            "grid_template_columns": null,
            "grid_template_rows": null,
            "height": null,
            "justify_content": null,
            "justify_items": null,
            "left": null,
            "margin": null,
            "max_height": null,
            "max_width": null,
            "min_height": null,
            "min_width": null,
            "object_fit": null,
            "object_position": null,
            "order": null,
            "overflow": null,
            "overflow_x": null,
            "overflow_y": null,
            "padding": null,
            "right": null,
            "top": null,
            "visibility": null,
            "width": null
          }
        },
        "402791a6da6c440bb600577507b3971e": {
          "model_module": "@jupyter-widgets/controls",
          "model_name": "DescriptionStyleModel",
          "model_module_version": "1.5.0",
          "state": {
            "_model_module": "@jupyter-widgets/controls",
            "_model_module_version": "1.5.0",
            "_model_name": "DescriptionStyleModel",
            "_view_count": null,
            "_view_module": "@jupyter-widgets/base",
            "_view_module_version": "1.2.0",
            "_view_name": "StyleView",
            "description_width": ""
          }
        }
      }
    }
  },
  "nbformat": 4,
  "nbformat_minor": 0
}