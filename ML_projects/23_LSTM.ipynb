{
 "cells": [
  {
   "cell_type": "code",
   "execution_count": 61,
   "metadata": {
    "executionInfo": {
     "elapsed": 1203,
     "status": "ok",
     "timestamp": 1605518911704,
     "user": {
      "displayName": "chetan vanapariya",
      "photoUrl": "",
      "userId": "09687593949013731715"
     },
     "user_tz": -330
    },
    "id": "pCbU6xvfPXS8"
   },
   "outputs": [],
   "source": [
    "import pandas as pd\n",
    "import numpy as np\n",
    "from sklearn.model_selection import train_test_split\n",
    "\n",
    "from tensorflow.keras.layers import Dense,Input,Dropout,Flatten,Embedding , concatenate , LSTM,Conv1D\n",
    "from tensorflow.keras.models import Model\n",
    "import random as rn\n",
    "import os\n",
    "\n",
    "import tensorflow as tf\n",
    "\n",
    "from sklearn.metrics import roc_auc_score\n",
    "from sklearn import metrics\n",
    "from sklearn.feature_extraction.text import CountVectorizer\n",
    "from sklearn.feature_extraction.text import TfidfVectorizer\n",
    "from sklearn.preprocessing import Normalizer\n",
    "\n",
    "import pickle\n",
    "\n",
    "from tensorflow.keras.preprocessing.text import Tokenizer\n",
    "from tensorflow.keras.preprocessing.sequence import pad_sequences"
   ]
  },
  {
   "cell_type": "code",
   "execution_count": 6,
   "metadata": {
    "executionInfo": {
     "elapsed": 4334,
     "status": "ok",
     "timestamp": 1605512750299,
     "user": {
      "displayName": "chetan vanapariya",
      "photoUrl": "",
      "userId": "09687593949013731715"
     },
     "user_tz": -330
    },
    "id": "wx6Ig8GzM60D"
   },
   "outputs": [],
   "source": [
    "path_ = ''\n",
    "data = pd.read_csv(path_ + 'preprocessed_data.csv' )"
   ]
  },
  {
   "cell_type": "code",
   "execution_count": 4,
   "metadata": {
    "colab": {
     "base_uri": "https://localhost:8080/",
     "height": 205
    },
    "executionInfo": {
     "elapsed": 1254,
     "status": "ok",
     "timestamp": 1605512723059,
     "user": {
      "displayName": "chetan vanapariya",
      "photoUrl": "",
      "userId": "09687593949013731715"
     },
     "user_tz": -330
    },
    "id": "nnr2cWSOPpDl",
    "outputId": "083d6962-3311-49d4-9a32-5be83845f0ca"
   },
   "outputs": [
    {
     "data": {
      "text/html": [
       "<div>\n",
       "<style scoped>\n",
       "    .dataframe tbody tr th:only-of-type {\n",
       "        vertical-align: middle;\n",
       "    }\n",
       "\n",
       "    .dataframe tbody tr th {\n",
       "        vertical-align: top;\n",
       "    }\n",
       "\n",
       "    .dataframe thead th {\n",
       "        text-align: right;\n",
       "    }\n",
       "</style>\n",
       "<table border=\"1\" class=\"dataframe\">\n",
       "  <thead>\n",
       "    <tr style=\"text-align: right;\">\n",
       "      <th></th>\n",
       "      <th>school_state</th>\n",
       "      <th>teacher_prefix</th>\n",
       "      <th>project_grade_category</th>\n",
       "      <th>teacher_number_of_previously_posted_projects</th>\n",
       "      <th>project_is_approved</th>\n",
       "      <th>clean_categories</th>\n",
       "      <th>clean_subcategories</th>\n",
       "      <th>essay</th>\n",
       "      <th>price</th>\n",
       "    </tr>\n",
       "  </thead>\n",
       "  <tbody>\n",
       "    <tr>\n",
       "      <th>0</th>\n",
       "      <td>ca</td>\n",
       "      <td>mrs</td>\n",
       "      <td>grades_prek_2</td>\n",
       "      <td>53</td>\n",
       "      <td>1</td>\n",
       "      <td>math_science</td>\n",
       "      <td>appliedsciences health_lifescience</td>\n",
       "      <td>i fortunate enough use fairy tale stem kits cl...</td>\n",
       "      <td>725.05</td>\n",
       "    </tr>\n",
       "  </tbody>\n",
       "</table>\n",
       "</div>"
      ],
      "text/plain": [
       "  school_state  ...   price\n",
       "0           ca  ...  725.05\n",
       "\n",
       "[1 rows x 9 columns]"
      ]
     },
     "execution_count": 4,
     "metadata": {
      "tags": []
     },
     "output_type": "execute_result"
    }
   ],
   "source": [
    "data.head(1)"
   ]
  },
  {
   "cell_type": "code",
   "execution_count": 7,
   "metadata": {
    "colab": {
     "base_uri": "https://localhost:8080/"
    },
    "executionInfo": {
     "elapsed": 860,
     "status": "ok",
     "timestamp": 1605512751919,
     "user": {
      "displayName": "chetan vanapariya",
      "photoUrl": "",
      "userId": "09687593949013731715"
     },
     "user_tz": -330
    },
    "id": "WausqgeTBA3G",
    "outputId": "8aea6f04-fef6-40bb-972b-c5dc1b75a639"
   },
   "outputs": [
    {
     "data": {
      "text/plain": [
       "(109248, 9)"
      ]
     },
     "execution_count": 7,
     "metadata": {
      "tags": []
     },
     "output_type": "execute_result"
    }
   ],
   "source": [
    "data.shape"
   ]
  },
  {
   "cell_type": "code",
   "execution_count": 8,
   "metadata": {
    "executionInfo": {
     "elapsed": 1327,
     "status": "ok",
     "timestamp": 1605512948193,
     "user": {
      "displayName": "chetan vanapariya",
      "photoUrl": "",
      "userId": "09687593949013731715"
     },
     "user_tz": -330
    },
    "id": "OJ-8tNW0NJqR"
   },
   "outputs": [],
   "source": [
    "y = data['project_is_approved'].values\n",
    "X = data.drop(['project_is_approved'], axis=1)\n",
    "X_train , X_test , y_train , y_test = train_test_split( X , y , test_size=0.33,stratify=y)"
   ]
  },
  {
   "cell_type": "code",
   "execution_count": 10,
   "metadata": {
    "colab": {
     "base_uri": "https://localhost:8080/"
    },
    "executionInfo": {
     "elapsed": 1327,
     "status": "ok",
     "timestamp": 1605512975732,
     "user": {
      "displayName": "chetan vanapariya",
      "photoUrl": "",
      "userId": "09687593949013731715"
     },
     "user_tz": -330
    },
    "id": "37HjTn_d-sq7",
    "outputId": "398c0d4b-86be-4a5b-8f3c-b93c790caa6e"
   },
   "outputs": [
    {
     "data": {
      "text/plain": [
       "((73196, 8), (73196,), (36052, 8))"
      ]
     },
     "execution_count": 10,
     "metadata": {
      "tags": []
     },
     "output_type": "execute_result"
    }
   ],
   "source": [
    "X_train.shape , y_train.shape , X_test.shape"
   ]
  },
  {
   "cell_type": "code",
   "execution_count": null,
   "metadata": {
    "id": "cJOGwmgTpkkD"
   },
   "outputs": [],
   "source": [
    "# https://stats.stackexchange.com/questions/270546/how-does-keras-embedding-layer-work\n",
    "\"\"\"\n",
    "input_layer = Input(shape=(n,))\n",
    "embedding = Embedding(no_1, no_2, input_length=n)(input_layer)\n",
    "#embedding_layr1 = Embedding( vocab_size , vec_size , input_length=max_length , weights=[word_vector_matrix] )( input_layer1 )\n",
    "\n",
    "flatten = Flatten()(embedding) \"\"\"\n"
   ]
  },
  {
   "cell_type": "code",
   "execution_count": 72,
   "metadata": {
    "executionInfo": {
     "elapsed": 1319,
     "status": "ok",
     "timestamp": 1605519440165,
     "user": {
      "displayName": "chetan vanapariya",
      "photoUrl": "",
      "userId": "09687593949013731715"
     },
     "user_tz": -330
    },
    "id": "jBNtFOD-DAaj"
   },
   "outputs": [],
   "source": [
    "os.environ['PYTHONHASHSEED'] = '0'\n",
    "\n",
    "tf.keras.backend.clear_session()\n",
    "np.random.seed(0)\n",
    "rn.seed(0)\n",
    "\n",
    "def auc_score(y_true , ypred):\n",
    "  #fpr, tpr, thresholds = metrics.roc_curve( y_true , ypred ,pos_label=2)\n",
    "  #auc_scor = metrics.auc(fpr, tpr)\n",
    "  return tf.py_function( roc_auc_score, ( y_true , ypred )  , tf.double )\n",
    "  \n",
    "\n",
    "input_layer1 = Input(shape=(256,),name='input_seq_total_text_data')\n",
    "embedding1 = Embedding(100, 2, input_length=256 )(input_layer1)\n",
    "lstm1 = LSTM(128)(embedding1)\n",
    "flatten = Flatten(name='flatten')(lstm1)\n",
    "\n",
    "input_layer2 = Input(shape=(51,),name='input_school_state')\n",
    "embedding2 = Embedding(51, 2, input_length=51 )(input_layer2)\n",
    "flatten1 = Flatten(name='flatten1')(embedding2)\n",
    "\n",
    "input_layer3 = Input(shape=(4,),name='project_grade_category')\n",
    "embedding3 = Embedding(5, 2, input_length=4 )(input_layer3)\n",
    "flatten2 = Flatten(name='flatten2')(embedding3)\n",
    "\n",
    "input_layer4 = Input(shape=(9,),name='input_clean_categories')\n",
    "embedding4 = Embedding(4, 2, input_length=7 )(input_layer4)\n",
    "flatten3 = Flatten(name='flatten3')(embedding4)\n",
    "\n",
    "input_layer5 = Input(shape=(30,),name='input_clean_subcategories')\n",
    "embedding5 = Embedding(10, 2, input_length=28 )(input_layer5)\n",
    "flatten4 = Flatten(name='flatten4')(embedding5)\n",
    "\n",
    "input_layer6 = Input(shape=(5,),name='input_teacher_prefix')\n",
    "embedding6 = Embedding(4, 2, input_length=4 )(input_layer6)\n",
    "flatten5 = Flatten(name='flatten5')(embedding6)\n",
    "\n",
    "input_layer7 = Input(shape=(1,),name='input_numerical')\n",
    "input7 = Dense(units=1,activation='relu',kernel_initializer='he_normal',name='dense_for_rem_input')(input_layer7)\n",
    "\n",
    "concat = concatenate([flatten, flatten1, flatten2, flatten3, flatten4, flatten5, input7])\n",
    "\n",
    "#concat_dense = Dense(units=351,activation='relu',kernel_initializer='he_normal',name='concat_dense')(concat)\n",
    "concat_dense = Dense(units=327,activation='relu',kernel_initializer='he_normal',name='concat_dense')(concat)\n",
    "\n",
    "dropout_0 = Dropout(0.5)(concat_dense)\n",
    "\n",
    "dense2 = Dense(units=164,activation='relu',kernel_initializer='he_normal',name='dense2')(dropout_0)\n",
    "\n",
    "dropout_1 = Dropout(0.5)(dense2)\n",
    "\n",
    "dense3 = Dense(units=82,activation='relu',kernel_initializer='he_normal',name='dense3')(dropout_1)\n",
    "\n",
    "Out = Dense(units=1,activation='softmax',kernel_initializer='glorot_uniform' ,name='Output')(dense3)\n",
    "\n",
    "model = Model( inputs=[input_layer1, input_layer2, input_layer3 , input_layer4 , input_layer5, input_layer6 ,input_layer7 ],\n",
    "                outputs=[Out] )\n",
    "\n",
    "optimizer_sgd = tf.keras.optimizers.RMSprop(0.01)\n",
    "#optimizer_sgd = tf.keras.optimizers.SGD(learning_rate=0.01, momentum=0.9)\n",
    "model.compile(\n",
    "    optimizer= optimizer_sgd ,\n",
    "    loss='categorical_crossentropy',\n",
    "    metrics=['accuracy' , auc_score],\n",
    ")\n",
    "#model.summary()"
   ]
  },
  {
   "cell_type": "code",
   "execution_count": null,
   "metadata": {
    "id": "TjSgY78bnnc7"
   },
   "outputs": [],
   "source": [
    "model.summary()"
   ]
  },
  {
   "cell_type": "code",
   "execution_count": null,
   "metadata": {
    "id": "75FOWLJVo70_"
   },
   "outputs": [],
   "source": [
    "#tf.keras.utils.plot_model(model, \"mini_resnet.png\", show_shapes=True)\n",
    "tf.keras.utils.plot_model(model, \"mini_net.png\" )"
   ]
  },
  {
   "cell_type": "code",
   "execution_count": null,
   "metadata": {
    "id": "h-2Kt5zhslcj"
   },
   "outputs": [],
   "source": [
    "def auc_score(y_true , ypred):\n",
    "  return tf.py_function( roc_auc_score, ( y_true , ypred )  , tf.double )\n",
    "\n",
    "\n",
    "'''\n",
    "model.compile(\n",
    "    optimizer=tf.keras.optimizers.RMSprop(0.001),\n",
    "    loss='categorical_crossentropy',\n",
    "    metrics=['accuracy', auc_score ],\n",
    ")'''\n",
    "\"\"\"\n",
    "model.compile(\n",
    "    optimizer=tf.keras.optimizers.RMSprop(0.001),\n",
    "    loss='categorical_crossentropy',\n",
    "    metrics=['accuracy' ,auc_score ],\n",
    ")\"\"\""
   ]
  },
  {
   "cell_type": "code",
   "execution_count": null,
   "metadata": {
    "id": "vAPH4fMytksg"
   },
   "outputs": [],
   "source": [
    "\"\"\"\n",
    "model.fit({\"input_seq_total_text_data\": X_train['essay'], \"input_school_state\": X_train['school_state'], \n",
    "           \"project_grade_category\": X_train['project_grade_category']\n",
    "           ,\"input_clean_categories\": X_train['clean_categories'], \"input_clean_subcategories\" :X_train['clean_subcategories'] ,\n",
    "           \"input_teacher_prefix\" : X_train['teacher_prefix'],\n",
    "           \"input_numerical\" : X_train['price'] } , \n",
    "          {\"Output\": y_train }\n",
    "          , batch_size=64, epochs=5 )\n",
    "\"\"\"\n"
   ]
  },
  {
   "cell_type": "code",
   "execution_count": 15,
   "metadata": {
    "executionInfo": {
     "elapsed": 2086,
     "status": "ok",
     "timestamp": 1605513786416,
     "user": {
      "displayName": "chetan vanapariya",
      "photoUrl": "",
      "userId": "09687593949013731715"
     },
     "user_tz": -330
    },
    "id": "dTOsIA3y2lEX"
   },
   "outputs": [],
   "source": [
    "#(x_tr, y_tr), (x_te, y_te) = tf.keras.datasets.mnist.load_data()\n",
    "#x_tr[0][0]"
   ]
  },
  {
   "cell_type": "code",
   "execution_count": 16,
   "metadata": {
    "executionInfo": {
     "elapsed": 19176,
     "status": "ok",
     "timestamp": 1605515286944,
     "user": {
      "displayName": "chetan vanapariya",
      "photoUrl": "",
      "userId": "09687593949013731715"
     },
     "user_tz": -330
    },
    "id": "mOjbpaTW3ZRU"
   },
   "outputs": [],
   "source": [
    "essay_vec = CountVectorizer(min_df=10, max_features=256)\n",
    "essay_vec.fit( X_train['essay'].values )\n",
    "essay = essay_vec.transform( X_train['essay'].values )\n",
    "text_data = essay.toarray()\n",
    "te_text_data = essay_vec.transform( X_test['essay'].values ).toarray()\n",
    "\n",
    "school_state_vec = CountVectorizer()\n",
    "school_state_vec.fit( X_train['school_state'].values )\n",
    "school_state = school_state_vec.transform( X_train['school_state'].values )\n",
    "school_state = school_state.toarray()\n",
    "te_school_state = school_state_vec.transform( X_test['school_state'].values ).toarray()\n",
    "\n",
    "#vectorizations\n",
    "teacher_prefix_vec = CountVectorizer()\n",
    "teacher_prefix_vec.fit( X_train['teacher_prefix'].values)\n",
    "teacher_prefix = teacher_prefix_vec.transform( X_train['teacher_prefix'].values )\n",
    "teacher_prefix = teacher_prefix.toarray()\n",
    "te_teacher_prefix = teacher_prefix_vec.transform( X_test['teacher_prefix'].values ).toarray()\n",
    "\n",
    "project_grade_category_vec = CountVectorizer()\n",
    "project_grade_category_vec.fit( X_train['project_grade_category'].values )\n",
    "project_grade_category = project_grade_category_vec.transform( X_train['project_grade_category'].values )\n",
    "project_grade_category = project_grade_category.toarray()\n",
    "te_project_grade_category = project_grade_category_vec.transform( X_test['project_grade_category'].values ).toarray()\n",
    "\n",
    "clean_categories_vec = CountVectorizer()\n",
    "clean_categories_vec.fit( X_train['clean_categories'].values )\n",
    "clean_categories = clean_categories_vec.transform( X_train['clean_categories'].values )\n",
    "clean_categories = clean_categories.toarray()\n",
    "te_clean_categories = clean_categories_vec.transform( X_test['clean_categories'].values ).toarray()\n",
    "\n",
    "clean_subcategories_vec = CountVectorizer()\n",
    "clean_subcategories_vec.fit( X_train['clean_subcategories'].values )\n",
    "clean_subcategories = clean_subcategories_vec.transform( X_train['clean_subcategories'].values )\n",
    "clean_subcategories = clean_subcategories.toarray()\n",
    "te_clean_subcategories = clean_subcategories_vec.transform( X_test['clean_subcategories'].values ).toarray()\n",
    "\n",
    "#price\n",
    "normalizer_p = Normalizer()\n",
    "normalizer_p.fit(X_train['price'].values.reshape(-1,1))\n",
    "price_norm = normalizer_p.transform(X_train['price'].values.reshape(-1,1))\n",
    "te_price_norm = normalizer_p.transform(X_test['price'].values.reshape(-1,1))\n",
    "\n",
    "x_train_data = {\"input_seq_total_text_data\": text_data, \"input_school_state\": school_state, \n",
    "           \"project_grade_category\": project_grade_category\n",
    "           ,\"input_clean_categories\": clean_categories, \"input_clean_subcategories\" : clean_subcategories ,\n",
    "           \"input_teacher_prefix\" : teacher_prefix,\n",
    "           \"input_numerical\" : price_norm }\n",
    "\n",
    "x_test_data = {\"input_seq_total_text_data\": te_text_data, \"input_school_state\": te_school_state, \n",
    "           \"project_grade_category\": te_project_grade_category\n",
    "           ,\"input_clean_categories\": te_clean_categories, \"input_clean_subcategories\" : te_clean_subcategories ,\n",
    "           \"input_teacher_prefix\" : te_teacher_prefix,\n",
    "           \"input_numerical\" : te_price_norm }\n",
    " "
   ]
  },
  {
   "cell_type": "code",
   "execution_count": 43,
   "metadata": {
    "executionInfo": {
     "elapsed": 1338,
     "status": "ok",
     "timestamp": 1605517069957,
     "user": {
      "displayName": "chetan vanapariya",
      "photoUrl": "",
      "userId": "09687593949013731715"
     },
     "user_tz": -330
    },
    "id": "Zc6QBHW8RXWI"
   },
   "outputs": [],
   "source": [
    "Y_train_cat = tf.keras.utils.to_categorical(y_train, 10) \n",
    "Y_test_cat = tf.keras.utils.to_categorical(y_test, 10)"
   ]
  },
  {
   "cell_type": "code",
   "execution_count": null,
   "metadata": {
    "id": "KPU8KrBG_gNu"
   },
   "outputs": [],
   "source": [
    "stat[0:,0:1].shape"
   ]
  },
  {
   "cell_type": "code",
   "execution_count": 73,
   "metadata": {
    "colab": {
     "base_uri": "https://localhost:8080/"
    },
    "executionInfo": {
     "elapsed": 54775,
     "status": "ok",
     "timestamp": 1605519500672,
     "user": {
      "displayName": "chetan vanapariya",
      "photoUrl": "",
      "userId": "09687593949013731715"
     },
     "user_tz": -330
    },
    "id": "UgLEd4ASKXW0",
    "outputId": "720f353d-5df9-4fe3-f578-fc2d146b9af3"
   },
   "outputs": [
    {
     "name": "stdout",
     "output_type": "stream",
     "text": [
      "Epoch 1/5\n",
      "286/286 [==============================] - 10s 37ms/step - loss: 0.0000e+00 - accuracy: 0.8486 - auc_score: 0.5000 - val_loss: 0.0000e+00 - val_accuracy: 0.8486 - val_auc_score: 0.5000\n",
      "Epoch 2/5\n",
      "286/286 [==============================] - 10s 35ms/step - loss: 0.0000e+00 - accuracy: 0.8486 - auc_score: 0.5000 - val_loss: 0.0000e+00 - val_accuracy: 0.8486 - val_auc_score: 0.5000\n",
      "Epoch 3/5\n",
      "286/286 [==============================] - 10s 35ms/step - loss: 0.0000e+00 - accuracy: 0.8486 - auc_score: 0.5000 - val_loss: 0.0000e+00 - val_accuracy: 0.8486 - val_auc_score: 0.5000\n",
      "Epoch 4/5\n",
      "286/286 [==============================] - 10s 35ms/step - loss: 0.0000e+00 - accuracy: 0.8486 - auc_score: 0.5000 - val_loss: 0.0000e+00 - val_accuracy: 0.8486 - val_auc_score: 0.5000\n",
      "Epoch 5/5\n",
      "286/286 [==============================] - 10s 35ms/step - loss: 0.0000e+00 - accuracy: 0.8486 - auc_score: 0.5000 - val_loss: 0.0000e+00 - val_accuracy: 0.8486 - val_auc_score: 0.5000\n"
     ]
    },
    {
     "data": {
      "text/plain": [
       "<tensorflow.python.keras.callbacks.History at 0x7fa2052d0390>"
      ]
     },
     "execution_count": 73,
     "metadata": {
      "tags": []
     },
     "output_type": "execute_result"
    }
   ],
   "source": [
    "model.fit(x= x_train_data ,y= {\"Output\": y_train },\n",
    "          validation_data = (x_test_data, y_test ),\n",
    "          batch_size=256, epochs=5 ,validation_batch_size=256)\n"
   ]
  },
  {
   "cell_type": "code",
   "execution_count": null,
   "metadata": {
    "colab": {
     "base_uri": "https://localhost:8080/",
     "height": 208
    },
    "executionInfo": {
     "elapsed": 111264,
     "status": "ok",
     "timestamp": 1594531255173,
     "user": {
      "displayName": "chetan vanapariya",
      "photoUrl": "",
      "userId": "09687593949013731715"
     },
     "user_tz": -330
    },
    "id": "jqgoRnqX9r0K",
    "outputId": "f37fbc6b-5a2b-45b3-e337-316a7f426184"
   },
   "outputs": [
    {
     "name": "stdout",
     "output_type": "stream",
     "text": [
      "Epoch 1/5\n",
      "53/53 [==============================] - 21s 397ms/step - loss: 0.0000e+00 - accuracy: 0.8657 - auc_score: 0.5000\n",
      "Epoch 2/5\n",
      "53/53 [==============================] - 21s 397ms/step - loss: 0.0000e+00 - accuracy: 0.8657 - auc_score: 0.5000\n",
      "Epoch 3/5\n",
      "53/53 [==============================] - 21s 398ms/step - loss: 0.0000e+00 - accuracy: 0.8657 - auc_score: 0.5000\n",
      "Epoch 4/5\n",
      "53/53 [==============================] - 21s 397ms/step - loss: 0.0000e+00 - accuracy: 0.8657 - auc_score: 0.5000\n",
      "Epoch 5/5\n",
      "53/53 [==============================] - 21s 404ms/step - loss: 0.0000e+00 - accuracy: 0.8657 - auc_score: 0.5000\n"
     ]
    },
    {
     "data": {
      "text/plain": [
       "<tensorflow.python.keras.callbacks.History at 0x7fe88fbd7a20>"
      ]
     },
     "execution_count": 17,
     "metadata": {
      "tags": []
     },
     "output_type": "execute_result"
    }
   ],
   "source": [
    "model.fit({\"input_seq_total_text_data\": text_data, \"input_school_state\": school_state, \n",
    "           \"project_grade_category\": project_grade_category\n",
    "           ,\"input_clean_categories\": clean_categories, \"input_clean_subcategories\" : clean_subcategories ,\n",
    "           \"input_teacher_prefix\" : teacher_prefix,\n",
    "           \"input_numerical\" : X_train_price_norm } ,\n",
    "          {\"Output\": y_train.reshape(-1,1) }\n",
    "          , batch_size=64, epochs=5 )"
   ]
  },
  {
   "cell_type": "code",
   "execution_count": 27,
   "metadata": {
    "colab": {
     "base_uri": "https://localhost:8080/"
    },
    "executionInfo": {
     "elapsed": 1239,
     "status": "ok",
     "timestamp": 1605515822529,
     "user": {
      "displayName": "chetan vanapariya",
      "photoUrl": "",
      "userId": "09687593949013731715"
     },
     "user_tz": -330
    },
    "id": "4nDoPY79MhVt",
    "outputId": "6731d314-fd10-4f28-f6df-8c2bfc46e922"
   },
   "outputs": [
    {
     "data": {
      "text/plain": [
       "((73196, 256),\n",
       " (73196, 51),\n",
       " (73196, 4),\n",
       " (73196, 9),\n",
       " (73196, 30),\n",
       " (73196, 5),\n",
       " (73196, 1))"
      ]
     },
     "execution_count": 27,
     "metadata": {
      "tags": []
     },
     "output_type": "execute_result"
    }
   ],
   "source": [
    "text_data.shape , school_state.shape ,project_grade_category.shape,clean_categories.shape,\\\n",
    "clean_subcategories.shape,teacher_prefix.shape,price_norm.shape"
   ]
  },
  {
   "cell_type": "markdown",
   "metadata": {
    "id": "D8IxvmFGpkkM"
   },
   "source": [
    "### 1. Go through this blog, if you have any doubt on using predefined Embedding values in Embedding layer - https://machinelearningmastery.com/use-word-embedding-layers-deep-learning-keras/\n",
    "### 2. Please go through this link https://keras.io/getting-started/functional-api-guide/ and check the 'Multi-input and multi-output models' then you will get to know how to give multiple inputs. "
   ]
  },
  {
   "cell_type": "markdown",
   "metadata": {
    "id": "Oz2nApJlpkkO"
   },
   "source": [
    "### Model-2"
   ]
  },
  {
   "cell_type": "code",
   "execution_count": null,
   "metadata": {
    "id": "6UMyVE3OeYyK"
   },
   "outputs": [],
   "source": [
    "\n",
    "tfidf_vec_essay = TfidfVectorizer(min_df=10 )\n",
    "tfidf_vec_essay.fit(X_train['essay'].values)\n",
    "X_train_essay_tfidf = tfidf_vec_essay.transform(X_train['essay'].values)\n",
    "\n",
    "tfidf_of_each_words = np.array(X_train_essay_tfidf.toarray())\n",
    "print( tfidf_of_each_words.shape )"
   ]
  },
  {
   "cell_type": "code",
   "execution_count": null,
   "metadata": {
    "id": "5WN8vBXIjqZD"
   },
   "outputs": [],
   "source": [
    "#X_train_essay_tfidf.shape , X_train_essay_tfidf.toarray()[1][0:10]"
   ]
  },
  {
   "cell_type": "code",
   "execution_count": null,
   "metadata": {
    "id": "ZPq5CZ-apGK4"
   },
   "outputs": [],
   "source": [
    "#x_train_word_df = pd.DataFrame( X_train_essay_tfidf.toarray(),columns=list( tfidf_vec_essay.get_feature_names()))\n",
    "#len( tfidf_vec_essay.get_feature_names())\n",
    "\n",
    "#tfidf_of_each_words = np.array(X_train_essay_tfidf.toarray())\n",
    "#print( tfidf_of_each_words.shape )"
   ]
  },
  {
   "cell_type": "code",
   "execution_count": null,
   "metadata": {
    "id": "AUh3a3nCy7Ob"
   },
   "outputs": [],
   "source": [
    "#(  tfidf_of_each_words.sum(axis=0)  ).shape"
   ]
  },
  {
   "cell_type": "code",
   "execution_count": null,
   "metadata": {
    "colab": {
     "base_uri": "https://localhost:8080/",
     "height": 320
    },
    "executionInfo": {
     "elapsed": 1205,
     "status": "ok",
     "timestamp": 1594540323566,
     "user": {
      "displayName": "chetan vanapariya",
      "photoUrl": "",
      "userId": "09687593949013731715"
     },
     "user_tz": -330
    },
    "id": "CevIAZN35Shd",
    "outputId": "fdd16ac1-df66-4d8b-e7f8-481c96d68117"
   },
   "outputs": [
    {
     "data": {
      "image/png": "[encoded data removed]",
      "text/plain": [
       "<Figure size 360x360 with 1 Axes>"
      ]
     },
     "metadata": {
      "needs_background": "light",
      "tags": []
     },
     "output_type": "display_data"
    }
   ],
   "source": [
    "import matplotlib.pyplot as plt \n",
    "\n",
    "fig = plt.figure(figsize =(5, 5)) \n",
    "# Creating plot \n",
    "plt.boxplot(  tfidf_of_each_words.sum(axis=0)  ) \n",
    "\n",
    "plt.grid(\"whitegrid\")\n",
    "# show plot \n",
    "plt.show()"
   ]
  },
  {
   "cell_type": "code",
   "execution_count": null,
   "metadata": {
    "id": "jOxpmIlDzTLz"
   },
   "outputs": [],
   "source": [
    "\n",
    "x_train_word_df = pd.DataFrame(  tfidf_of_each_words.sum(axis=0) ,columns=['TF_IDF'])\n",
    "x_train_word_df['Features'] = tfidf_vec_essay.get_feature_names()"
   ]
  },
  {
   "cell_type": "code",
   "execution_count": null,
   "metadata": {
    "colab": {
     "base_uri": "https://localhost:8080/",
     "height": 34
    },
    "executionInfo": {
     "elapsed": 1538,
     "status": "ok",
     "timestamp": 1594550651501,
     "user": {
      "displayName": "chetan vanapariya",
      "photoUrl": "",
      "userId": "09687593949013731715"
     },
     "user_tz": -330
    },
    "id": "ghKD1pRo-cU9",
    "outputId": "d5df2a68-ae0a-40c1-c129-29d11b8e4d7d"
   },
   "outputs": [
    {
     "data": {
      "text/plain": [
       "(1079,)"
      ]
     },
     "execution_count": 209,
     "metadata": {
      "tags": []
     },
     "output_type": "execute_result"
    }
   ],
   "source": [
    "top_words = x_train_word_df[ x_train_word_df['TF_IDF'] < 4 ]\n",
    "top_words = top_words[ top_words['TF_IDF'] > 2 ]\n",
    "\n",
    "top_words['Features'].values.shape"
   ]
  },
  {
   "cell_type": "code",
   "execution_count": null,
   "metadata": {
    "id": "JFhzP9cARCMu"
   },
   "outputs": [],
   "source": [
    "#sorted_ifidf['Features'].values[0:10]\n",
    "\n",
    "sorted_ifidf = top_words.sort_values(by=['TF_IDF'] , ascending=False )\n",
    "vocab_dict = {}\n",
    "\n",
    "for i , k in enumerate(sorted_ifidf['Features'].values):\n",
    "  vocab_dict[k] = i"
   ]
  },
  {
   "cell_type": "code",
   "execution_count": null,
   "metadata": {
    "id": "5DEl_hFzUB20"
   },
   "outputs": [],
   "source": [
    "#list(vocab_dict)[0:10] , len(vocab_dict)"
   ]
  },
  {
   "cell_type": "code",
   "execution_count": null,
   "metadata": {
    "id": "XNjCjJuFUrhL"
   },
   "outputs": [],
   "source": [
    "#after removing low and high tf-idf words\n",
    "tfidf_best_thresold_words = TfidfVectorizer(vocabulary= vocab_dict )\n",
    "tfidf_best_thresold_words.fit(X_train['essay'].values)\n",
    "X_train_best_thresold_tfidf = tfidf_best_thresold_words.transform(X_train['essay'].values)\n",
    "X_train_best_thresold_tfidf = X_train_best_thresold_tfidf.toarray()\n",
    "\n",
    "\n",
    "school_state_vect = TfidfVectorizer()\n",
    "school_state_vect.fit( X_train['school_state'].values )\n",
    "school_state_t = school_state_vect.transform( X_train['school_state'].values )\n",
    "school_state_t = school_state_t.toarray()\n",
    "\n",
    "\n",
    "teacher_prefix_vec_t = TfidfVectorizer()\n",
    "teacher_prefix_vec_t.fit( X_train['teacher_prefix'].values)\n",
    "teacher_prefix_t = teacher_prefix_vec_t.transform( X_train['teacher_prefix'].values )\n",
    "teacher_prefix_t = teacher_prefix_t.toarray()\n",
    "\n",
    "project_grade_category_vec_t = TfidfVectorizer()\n",
    "project_grade_category_vec_t.fit( X_train['project_grade_category'].values )\n",
    "project_grade_category_t = project_grade_category_vec_t.transform( X_train['project_grade_category'].values )\n",
    "project_grade_category_t = project_grade_category_t.toarray()\n",
    "\n",
    "clean_categories_vec_t = TfidfVectorizer()\n",
    "clean_categories_vec_t.fit( X_train['clean_categories'].values )\n",
    "clean_categories_t = clean_categories_vec_t.transform( X_train['clean_categories'].values )\n",
    "clean_categories_t = clean_categories_t.toarray()\n",
    "\n",
    "clean_subcategories_vec_t = TfidfVectorizer()\n",
    "clean_subcategories_vec_t.fit( X_train['clean_subcategories'].values )\n",
    "clean_subcategories_t = clean_subcategories_vec_t.transform( X_train['clean_subcategories'].values )\n",
    "clean_subcategories_t = clean_subcategories_t.toarray()"
   ]
  },
  {
   "cell_type": "code",
   "execution_count": null,
   "metadata": {
    "colab": {
     "base_uri": "https://localhost:8080/",
     "height": 34
    },
    "executionInfo": {
     "elapsed": 1383,
     "status": "ok",
     "timestamp": 1594550730541,
     "user": {
      "displayName": "chetan vanapariya",
      "photoUrl": "",
      "userId": "09687593949013731715"
     },
     "user_tz": -330
    },
    "id": "Vegz9u0WGviN",
    "outputId": "82f52be6-f9b6-4540-f9bd-f5015416d89b"
   },
   "outputs": [
    {
     "data": {
      "text/plain": [
       "((3350, 1079), (3350, 51), (3350, 4), (3350, 4), (3350, 7), (3350, 28))"
      ]
     },
     "execution_count": 215,
     "metadata": {
      "tags": []
     },
     "output_type": "execute_result"
    }
   ],
   "source": [
    "#temp = np.array([1.48,1.41,0.0,0.1])\n",
    "#print( np.argsort(temp) )\n",
    "X_train_best_thresold_tfidf.shape ,school_state_t.shape,teacher_prefix_t.shape ,\\\n",
    "project_grade_category_t.shape , \\\n",
    "clean_categories_t.shape, clean_subcategories_t.shape"
   ]
  },
  {
   "cell_type": "code",
   "execution_count": null,
   "metadata": {
    "id": "eU2e2m9aXjw0"
   },
   "outputs": [],
   "source": [
    "os.environ['PYTHONHASHSEED'] = '0'\n",
    "\n",
    "tf.keras.backend.clear_session()\n",
    "np.random.seed(0)\n",
    "rn.seed(0)\n",
    "\n",
    "input_layer1 = Input(shape=(X_train_best_thresold_tfidf.shape[0],),name='input_seq_total_text_data')\n",
    "embedding1 = Embedding(100, 2, input_length= X_train_best_thresold_tfidf.shape[0] )(input_layer1)\n",
    "lstm1 = LSTM(128)(embedding1)\n",
    "flatten = Flatten(name='flatten')(lstm1)\n",
    "\n",
    "input_layer2 = Input(shape=(51,),name='input_school_state')\n",
    "embedding2 = Embedding(51, 2, input_length=51 )(input_layer2)\n",
    "flatten1 = Flatten(name='flatten1')(embedding2)\n",
    "\n",
    "input_layer3 = Input(shape=(4,),name='project_grade_category')\n",
    "embedding3 = Embedding(5, 2, input_length=4 )(input_layer3)\n",
    "flatten2 = Flatten(name='flatten2')(embedding3)\n",
    "\n",
    "input_layer4 = Input(shape=(7,),name='input_clean_categories')\n",
    "embedding4 = Embedding(4, 2, input_length=7 )(input_layer4)\n",
    "flatten3 = Flatten(name='flatten3')(embedding4)\n",
    "\n",
    "input_layer5 = Input(shape=(28,),name='input_clean_subcategories')\n",
    "embedding5 = Embedding(10, 2, input_length=28 )(input_layer5)\n",
    "flatten4 = Flatten(name='flatten4')(embedding5)\n",
    "\n",
    "input_layer6 = Input(shape=(4,),name='input_teacher_prefix')\n",
    "embedding6 = Embedding(4, 2, input_length=4 )(input_layer6)\n",
    "flatten5 = Flatten(name='flatten5')(embedding6)\n",
    "\n",
    "input_layer7 = Input(shape=(1,),name='input_numerical')\n",
    "input7 = Dense(units=1,activation='relu',kernel_initializer='he_normal',name='dense_for_rem_input')(input_layer7)\n",
    "\n",
    "concat = concatenate([flatten, flatten1, flatten2, flatten3, flatten4, flatten5, input7])\n",
    "\n",
    "concat_dense = Dense(units=351,activation='relu',kernel_initializer='he_normal',name='concat_dense')(concat)\n",
    "\n",
    "dropout_0 = Dropout(0.5)(concat_dense)\n",
    "\n",
    "dense2 = Dense(units=64,activation='relu',kernel_initializer='he_normal',name='dense2')(dropout_0)\n",
    "\n",
    "dropout_1 = Dropout(0.5)(dense2)\n",
    "\n",
    "dense3 = Dense(units=16,activation='relu',kernel_initializer='he_normal',name='dense3')(dropout_1)\n",
    "\n",
    "Out = Dense(units=1,activation='softmax',kernel_initializer='glorot_uniform' ,name='Output')(dense3)\n",
    "\n",
    "model2 = Model( inputs=[input_layer1, input_layer2, input_layer3 , input_layer4 , input_layer5, input_layer6 ,input_layer7 ],\n",
    "                outputs=[Out] )\n",
    "\n",
    "model2.compile(\n",
    "    optimizer=tf.keras.optimizers.RMSprop(0.001),\n",
    "    loss='categorical_crossentropy',\n",
    "    metrics=['accuracy' ,auc_score ],\n",
    ")"
   ]
  },
  {
   "cell_type": "code",
   "execution_count": null,
   "metadata": {
    "id": "xou1PzxocTyD"
   },
   "outputs": [],
   "source": [
    "X_train_price_norm = X_train_price_norm.reshape(-1,1)"
   ]
  },
  {
   "cell_type": "code",
   "execution_count": null,
   "metadata": {
    "colab": {
     "base_uri": "https://localhost:8080/",
     "height": 34
    },
    "executionInfo": {
     "elapsed": 1723,
     "status": "ok",
     "timestamp": 1594547759294,
     "user": {
      "displayName": "chetan vanapariya",
      "photoUrl": "",
      "userId": "09687593949013731715"
     },
     "user_tz": -330
    },
    "id": "V1wXsL85cjG0",
    "outputId": "df585487-3556-4c2d-e6fb-8de75c535881"
   },
   "outputs": [
    {
     "data": {
      "text/plain": [
       "(3350, 16)"
      ]
     },
     "execution_count": 198,
     "metadata": {
      "tags": []
     },
     "output_type": "execute_result"
    }
   ],
   "source": [
    "X_train_best_thresold_tfidf[0:,0:16].toarray().shape"
   ]
  },
  {
   "cell_type": "code",
   "execution_count": null,
   "metadata": {
    "colab": {
     "base_uri": "https://localhost:8080/",
     "height": 263
    },
    "executionInfo": {
     "elapsed": 468162,
     "status": "ok",
     "timestamp": 1594551210226,
     "user": {
      "displayName": "chetan vanapariya",
      "photoUrl": "",
      "userId": "09687593949013731715"
     },
     "user_tz": -330
    },
    "id": "SyiHaqwFZjeI",
    "outputId": "7bcdd916-c3d4-4244-e4ef-e3a3270d5f38"
   },
   "outputs": [
    {
     "name": "stdout",
     "output_type": "stream",
     "text": [
      "Epoch 1/5\n",
      "WARNING:tensorflow:Model was constructed with shape (None, 3350) for input Tensor(\"input_seq_total_text_data:0\", shape=(None, 3350), dtype=float32), but it was called on an input with incompatible shape (None, 1079).\n",
      "WARNING:tensorflow:Model was constructed with shape (None, 3350) for input Tensor(\"input_seq_total_text_data:0\", shape=(None, 3350), dtype=float32), but it was called on an input with incompatible shape (None, 1079).\n",
      "53/53 [==============================] - 90s 2s/step - loss: 0.0000e+00 - accuracy: 0.8657 - auc_score: 0.5000\n",
      "Epoch 2/5\n",
      "53/53 [==============================] - 90s 2s/step - loss: 0.0000e+00 - accuracy: 0.8657 - auc_score: 0.5000\n",
      "Epoch 3/5\n",
      "53/53 [==============================] - 94s 2s/step - loss: 0.0000e+00 - accuracy: 0.8657 - auc_score: 0.5000\n",
      "Epoch 4/5\n",
      "53/53 [==============================] - 90s 2s/step - loss: 0.0000e+00 - accuracy: 0.8657 - auc_score: 0.5000\n",
      "Epoch 5/5\n",
      "53/53 [==============================] - 91s 2s/step - loss: 0.0000e+00 - accuracy: 0.8657 - auc_score: 0.5000\n"
     ]
    },
    {
     "data": {
      "text/plain": [
       "<tensorflow.python.keras.callbacks.History at 0x7fe88a0f9dd8>"
      ]
     },
     "execution_count": 217,
     "metadata": {
      "tags": []
     },
     "output_type": "execute_result"
    }
   ],
   "source": [
    "model2.fit({\"input_seq_total_text_data\": X_train_best_thresold_tfidf , \"input_school_state\": school_state_t, \n",
    "           \"project_grade_category\": project_grade_category_t\n",
    "           ,\"input_clean_categories\": clean_categories_t, \"input_clean_subcategories\" : clean_subcategories_t ,\n",
    "           \"input_teacher_prefix\" : teacher_prefix_t,\n",
    "           \"input_numerical\" : X_train_price_norm.reshape(-1,1) } ,\n",
    "          {\"Output\": y_train.reshape(-1,1) }\n",
    "          , batch_size=64, epochs=5 )"
   ]
  },
  {
   "cell_type": "markdown",
   "metadata": {
    "id": "hUMd2qlHpkkS"
   },
   "source": [
    "### Model-3"
   ]
  },
  {
   "cell_type": "code",
   "execution_count": null,
   "metadata": {
    "id": "ZiVqim2Ppjp9"
   },
   "outputs": [],
   "source": [
    "glove_path_ = ''\n",
    "\n",
    "with open( glove_path_ + 'glove_vectors', 'rb') as f:\n",
    "    glove_model = pickle.load(f)\n",
    "    glove_words =  set( glove_model.keys() )\n"
   ]
  },
  {
   "cell_type": "code",
   "execution_count": null,
   "metadata": {
    "colab": {
     "base_uri": "https://localhost:8080/"
    },
    "executionInfo": {
     "elapsed": 962,
     "status": "ok",
     "timestamp": 1604600776433,
     "user": {
      "displayName": "chetan vanapariya",
      "photoUrl": "",
      "userId": "09687593949013731715"
     },
     "user_tz": -330
    },
    "id": "WaFDgvxApnUq",
    "outputId": "bb8a232e-2b9e-45bf-a824-73a32202439d"
   },
   "outputs": [
    {
     "data": {
      "text/plain": [
       "(51510, 300)"
      ]
     },
     "execution_count": 16,
     "metadata": {
      "tags": []
     },
     "output_type": "execute_result"
    }
   ],
   "source": [
    "len( glove_words ), glove_model.get('the').shape[0]"
   ]
  },
  {
   "cell_type": "code",
   "execution_count": null,
   "metadata": {
    "id": "tj-Jgb92rHR2"
   },
   "outputs": [],
   "source": [
    "y = data['project_is_approved'].values\n",
    "X = data.drop(['project_is_approved'], axis=1)\n",
    "#X_train , X_test , y_train , y_test = train_test_split( X , y , test_size=0.33,stratify=y)"
   ]
  },
  {
   "cell_type": "code",
   "execution_count": null,
   "metadata": {
    "colab": {
     "base_uri": "https://localhost:8080/",
     "height": 175
    },
    "executionInfo": {
     "elapsed": 1207,
     "status": "ok",
     "timestamp": 1604601393597,
     "user": {
      "displayName": "chetan vanapariya",
      "photoUrl": "",
      "userId": "09687593949013731715"
     },
     "user_tz": -330
    },
    "id": "EyMxLG1SsaoM",
    "outputId": "fda11f29-7840-4f17-a14e-cf647e58ae6f"
   },
   "outputs": [
    {
     "data": {
      "application/vnd.google.colaboratory.intrinsic+json": {
       "type": "string"
      },
      "text/plain": [
       "'i fortunate enough use fairy tale stem kits classroom well stem journals students really enjoyed i would love implement lakeshore stem kits classroom next school year provide excellent engaging stem lessons my students come variety backgrounds including language socioeconomic status many not lot experience science engineering kits give materials provide exciting opportunities students each month i try several science stem steam projects i would use kits robot help guide science instruction engaging meaningful ways i adapt kits current language arts pacing guide already teach material kits like tall tales paul bunyan johnny appleseed the following units taught next school year i implement kits magnets motion sink vs float robots i often get units not know if i teaching right way using right materials the kits give additional ideas strategies lessons prepare students science it challenging develop high quality science activities these kits give materials i need provide students science activities go along curriculum classroom although i things like magnets classroom i not know use effectively the kits provide right amount materials show use appropriate way'"
      ]
     },
     "execution_count": 19,
     "metadata": {
      "tags": []
     },
     "output_type": "execute_result"
    }
   ],
   "source": [
    "X['essay'][0]"
   ]
  },
  {
   "cell_type": "code",
   "execution_count": null,
   "metadata": {
    "id": "nH8kcY-Ioo-N"
   },
   "outputs": [],
   "source": [
    "text_ = X['essay'].tolist()   #data_df_all['preprocessed_text_all'].tolist()\n",
    "\n",
    "token_ = Tokenizer()\n",
    "token_.fit_on_texts( text_ )\n",
    "\n",
    "vocab_size = len(token_.word_index) + 1\n",
    "\n",
    "encoded_text = token_.texts_to_sequences( text_ )\n",
    "\n",
    "max_length = 300\n",
    "X_ = pad_sequences( encoded_text , maxlen= max_length , padding='post')\n"
   ]
  },
  {
   "cell_type": "code",
   "execution_count": null,
   "metadata": {
    "id": "8zYH9vERtl2d"
   },
   "outputs": [],
   "source": [
    "X_train , X_test , y_train , y_test = train_test_split( X_ , y , test_size=0.33,stratify=y )"
   ]
  },
  {
   "cell_type": "code",
   "execution_count": null,
   "metadata": {
    "id": "Bg7Yadqnnb5V"
   },
   "outputs": [],
   "source": [
    "def get_word_vector_matrix( vocab_size , token_ , glove_model ):\n",
    "\n",
    "  word_vector_matrix = np.zeros( ( vocab_size , glove_model.get('the').shape[0] ) )\n",
    "  vec_count_non_0 = 0\n",
    "  for word , indax in token_.word_index.items():\n",
    "      vector = glove_model.get( word )\n",
    "      if vector is not None :\n",
    "        word_vector_matrix[ indax ] = vector\n",
    "        vec_count_non_0 += 1\n",
    "\n",
    "  return word_vector_matrix\n",
    "\n",
    "word_vector_matrix = get_word_vector_matrix( vocab_size , token_ , glove_model )\n",
    "vec_size = word_vector_matrix.shape[1]"
   ]
  },
  {
   "cell_type": "code",
   "execution_count": null,
   "metadata": {
    "id": "hd49cuBYpt4w"
   },
   "outputs": [],
   "source": [
    "\n",
    "tf.keras.backend.clear_session()\n",
    "np.random.seed(0)\n",
    "rn.seed(0)\n",
    "\n",
    "input_layer1 = Input(shape=(300,),name='input_seq_total_text_data')\n",
    "#embedding1 = Embedding( 4, 2, input_length= 300 )(input_layer1)\n",
    "embedding1 = Embedding( vocab_size , vec_size , input_length=max_length , weights=[word_vector_matrix] )( input_layer1 )\n",
    "lstm1 = LSTM(128)(embedding1)\n",
    "flatten = Flatten(name='flatten')(lstm1)\n",
    "\n",
    "#input_layer2 = Input(shape=(1501,1),name='other_than_text')\n",
    "input_layer2 = Input(shape=(1500,1),name='other_than_text')\n",
    "'''Conv1 = Conv2D(filters=4,kernel_size=(3,3),strides=(1,1),padding='valid',data_format='channels_last',\n",
    "              activation='relu',kernel_initializer=tf.keras.initializers.he_normal(seed=0),name='Conv1')(input_layer2)\n",
    "'''\n",
    "Conv1 = Conv1D(16, 3, 3 , activation=\"relu\" )(input_layer2)\n",
    "'''\n",
    "Conv2 = Conv2D(filters=64,kernel_size=(3,3),strides=(2,2),padding='valid',data_format='channels_last',\n",
    "              activation='relu',kernel_initializer=tf.keras.initializers.he_normal(seed=5),name='Conv2')(Conv1)\n",
    "'''\n",
    "Conv2 = Conv1D(8, 3, 3 , activation=\"relu\")(Conv1)\n",
    "\n",
    "flatten1 = Flatten(name='flatten1')(Conv2)\n",
    "\n",
    "concat = concatenate([flatten, flatten1 ])\n",
    "\n",
    "concat_dense = Dense(units=32,activation='relu',kernel_initializer='he_normal',name='concat_dense')(concat)\n",
    "\n",
    "dropout_0 = Dropout(0.5)(concat_dense)\n",
    "\n",
    "dense2 = Dense(units=64,activation='relu',kernel_initializer='he_normal',name='dense2')(dropout_0)\n",
    "\n",
    "dropout_1 = Dropout(0.5)(dense2)\n",
    "\n",
    "dense3 = Dense(units=16,activation='relu',kernel_initializer='he_normal',name='dense3')(dropout_1)\n",
    "\n",
    "Out = Dense(units=1,activation='softmax',kernel_initializer='glorot_uniform' ,name='Output')(dense3)\n",
    "\n",
    "model3 = Model( inputs=[input_layer1, input_layer2 ],\n",
    "                outputs=[Out] )\n",
    "\n",
    "model3.compile(\n",
    "    optimizer=tf.keras.optimizers.RMSprop(0.001),\n",
    "    loss='categorical_crossentropy',\n",
    "    metrics=['accuracy' ],\n",
    ")"
   ]
  },
  {
   "cell_type": "code",
   "execution_count": null,
   "metadata": {
    "id": "t4e0vpSIuv0U"
   },
   "outputs": [],
   "source": [
    "model3.summary()"
   ]
  },
  {
   "cell_type": "code",
   "execution_count": null,
   "metadata": {
    "id": "3W4fGKHY131v"
   },
   "outputs": [],
   "source": [
    "from tqdm import tqdm"
   ]
  },
  {
   "cell_type": "code",
   "execution_count": null,
   "metadata": {
    "id": "fzpaFvgCw6ll"
   },
   "outputs": [],
   "source": [
    "'''\n",
    "glove_path_ = ''\n",
    "\n",
    "with open( glove_path_ + 'glove_vectors', 'rb') as f:\n",
    "    glove_model = pickle.load(f)\n",
    "    glove_words =  set( glove_model.keys() )\n",
    "'''\n",
    "\n",
    "def compute_TFIDF_W2V(preprocessed_data):\n",
    "\n",
    "  tfidf_model = TfidfVectorizer()\n",
    "  tfidf_model.fit(preprocessed_data)\n",
    "  # we are converting a dictionary with word as a key, and the idf as a value\n",
    "  dictionary = dict(zip(tfidf_model.get_feature_names(), list(tfidf_model.idf_)))\n",
    "  tfidf_words = set(tfidf_model.get_feature_names())\n",
    "  # compute average word2vec for each review.\n",
    "  tfidf_w2v_vectors = []; # the avg-w2v for each sentence/review is stored in this list\n",
    "  for sentence in tqdm(preprocessed_data): # for each review/sentence\n",
    "      vector = np.zeros(300) # as word vectors are of zero length\n",
    "      tf_idf_weight =0; # num of words with a valid vector in the sentence/review\n",
    "      for word in sentence.split(): # for each word in a review/sentence\n",
    "          if (word in glove_words) and (word in tfidf_words):\n",
    "              vec = glove_model[word] # getting the vector for each word\n",
    "              # here we are multiplying idf value(dictionary[word]) and the tf value((sentence.count(word)/len(sentence.split())))\n",
    "              tf_idf = dictionary[word]*(sentence.count(word)/len(sentence.split())) # getting the tfidf value for each word\n",
    "              vector += (vec * tf_idf) # calculating tfidf weighted w2v\n",
    "              tf_idf_weight += tf_idf\n",
    "      if tf_idf_weight != 0:\n",
    "          vector /= tf_idf_weight\n",
    "      tfidf_w2v_vectors.append(vector)\n",
    "  \n",
    "  return np.array(tfidf_w2v_vectors)"
   ]
  },
  {
   "cell_type": "code",
   "execution_count": null,
   "metadata": {
    "id": "SMLFHu9uwKQX"
   },
   "outputs": [],
   "source": [
    "other_text = data.drop(['project_is_approved','essay'], axis=1)\n",
    "X_tr_ot , X_te_ot , y_tr_ot , y_te_ot = train_test_split( other_text , y , test_size=0.33,stratify=y)"
   ]
  },
  {
   "cell_type": "code",
   "execution_count": null,
   "metadata": {
    "id": "WXecadIYxEH7"
   },
   "outputs": [],
   "source": [
    "X_tr_ot.head(1)"
   ]
  },
  {
   "cell_type": "code",
   "execution_count": null,
   "metadata": {
    "colab": {
     "base_uri": "https://localhost:8080/"
    },
    "executionInfo": {
     "elapsed": 2600,
     "status": "ok",
     "timestamp": 1604602944056,
     "user": {
      "displayName": "chetan vanapariya",
      "photoUrl": "",
      "userId": "09687593949013731715"
     },
     "user_tz": -330
    },
    "id": "GxShMTno0h6_",
    "outputId": "0354833e-2bac-4298-8095-b1ad5f7ef1cf"
   },
   "outputs": [
    {
     "name": "stderr",
     "output_type": "stream",
     "text": [
      "100%|██████████| 3350/3350 [00:00<00:00, 48794.18it/s]\n",
      "100%|██████████| 3350/3350 [00:00<00:00, 97883.07it/s]\n",
      "100%|██████████| 3350/3350 [00:00<00:00, 382566.94it/s]\n",
      "100%|██████████| 3350/3350 [00:00<00:00, 412086.65it/s]"
     ]
    },
    {
     "name": "stdout",
     "output_type": "stream",
     "text": [
      "Data model for Other Text\n"
     ]
    },
    {
     "name": "stderr",
     "output_type": "stream",
     "text": [
      "\n",
      "100%|██████████| 3350/3350 [00:00<00:00, 118857.00it/s]\n"
     ]
    }
   ],
   "source": [
    "print(\"Data model for Other Text\")\n",
    "#X_train_essay_tfidfw2v = compute_TFIDF_W2V( X_train['essay'].values )\n",
    "\n",
    "X_train_state_tfidfw2v = compute_TFIDF_W2V( X_tr_ot['school_state'].values )\n",
    "X_train_teacher_tfidfw2v = compute_TFIDF_W2V( X_tr_ot['teacher_prefix'].values )\n",
    "X_train_grade_tfidfw2v = compute_TFIDF_W2V( X_tr_ot['project_grade_category'].values  )\n",
    "X_train_category_tfidfw2v = compute_TFIDF_W2V( X_tr_ot['clean_categories'].values )\n",
    "X_train_subcat_tfidfw2v = compute_TFIDF_W2V( X_tr_ot['clean_subcategories'].values )\n",
    "\n",
    "normalizer_p = Normalizer()\n",
    "normalizer_p.fit(X_tr_ot['price'].values.reshape(-1,1))\n",
    "X_train_price_norm = normalizer_p.transform(X_tr_ot['price'].values.reshape(-1,1))\n",
    "\n"
   ]
  },
  {
   "cell_type": "code",
   "execution_count": null,
   "metadata": {
    "id": "lfTciniD1-Bk"
   },
   "outputs": [],
   "source": [
    "#X_train_subcat_tfidfw2v.shape , X_tr_tfidfw2v.shape"
   ]
  },
  {
   "cell_type": "code",
   "execution_count": null,
   "metadata": {
    "colab": {
     "base_uri": "https://localhost:8080/"
    },
    "executionInfo": {
     "elapsed": 1147,
     "status": "ok",
     "timestamp": 1604605256745,
     "user": {
      "displayName": "chetan vanapariya",
      "photoUrl": "",
      "userId": "09687593949013731715"
     },
     "user_tz": -330
    },
    "id": "Ii4rZdrL7MRR",
    "outputId": "3b3d9aeb-3d9f-42a3-9e5a-348393ee01ae"
   },
   "outputs": [
    {
     "data": {
      "text/plain": [
       "(300,)"
      ]
     },
     "execution_count": 69,
     "metadata": {
      "tags": []
     },
     "output_type": "execute_result"
    }
   ],
   "source": [
    "#X_train_state_tfidfw2v[0].shape"
   ]
  },
  {
   "cell_type": "code",
   "execution_count": null,
   "metadata": {
    "id": "sI3HpjU52cwa"
   },
   "outputs": [],
   "source": [
    "#adding each feature to horizontal\n",
    "X_tr_tfidfw2v = np.hstack(( X_train_state_tfidfw2v , X_train_teacher_tfidfw2v , X_train_grade_tfidfw2v , \\\n",
    "               X_train_category_tfidfw2v, X_train_subcat_tfidfw2v , \\\n",
    "               X_train_price_norm.reshape(-1,1)  ))"
   ]
  },
  {
   "cell_type": "code",
   "execution_count": null,
   "metadata": {
    "colab": {
     "base_uri": "https://localhost:8080/"
    },
    "executionInfo": {
     "elapsed": 1050,
     "status": "ok",
     "timestamp": 1604605423895,
     "user": {
      "displayName": "chetan vanapariya",
      "photoUrl": "",
      "userId": "09687593949013731715"
     },
     "user_tz": -330
    },
    "id": "bapKm6uNTMho",
    "outputId": "e6723242-11a3-4d09-a716-c75cda8efcdb"
   },
   "outputs": [
    {
     "data": {
      "text/plain": [
       "((3350, 300), (3350, 1501, 1))"
      ]
     },
     "execution_count": 77,
     "metadata": {
      "tags": []
     },
     "output_type": "execute_result"
    }
   ],
   "source": [
    "# reshape of all features for convd1\n",
    "\n",
    "X_tr_tfidfw2v = X_tr_tfidfw2v.reshape( X_tr_tfidfw2v.shape[0] , X_tr_tfidfw2v.shape[1] , 1 )\n",
    "X_train.shape , X_tr_tfidfw2v.shape "
   ]
  },
  {
   "cell_type": "code",
   "execution_count": null,
   "metadata": {
    "colab": {
     "base_uri": "https://localhost:8080/",
     "height": 34
    },
    "executionInfo": {
     "elapsed": 1197,
     "status": "ok",
     "timestamp": 1594563100287,
     "user": {
      "displayName": "chetan vanapariya",
      "photoUrl": "",
      "userId": "09687593949013731715"
     },
     "user_tz": -330
    },
    "id": "I7KI5cH7Tajb",
    "outputId": "f559c692-c7e5-4d66-f4e8-da3d1f738a6d"
   },
   "outputs": [
    {
     "data": {
      "text/plain": [
       "((3350, 1501, 1), (3350, 300))"
      ]
     },
     "execution_count": 302,
     "metadata": {
      "tags": []
     },
     "output_type": "execute_result"
    }
   ],
   "source": [
    "# shape of all features together and shape of text feature\n",
    "#X_tr_tfidfw2v.shape , X_train_essay_tfidfw2v.shape"
   ]
  },
  {
   "cell_type": "code",
   "execution_count": null,
   "metadata": {
    "colab": {
     "base_uri": "https://localhost:8080/"
    },
    "executionInfo": {
     "elapsed": 1014,
     "status": "ok",
     "timestamp": 1604605382508,
     "user": {
      "displayName": "chetan vanapariya",
      "photoUrl": "",
      "userId": "09687593949013731715"
     },
     "user_tz": -330
    },
    "id": "2CZo6mlZ3EIG",
    "outputId": "9057fe8d-9edd-445b-d00e-3e3e10d56cc8"
   },
   "outputs": [
    {
     "name": "stderr",
     "output_type": "stream",
     "text": [
      "100%|██████████| 1650/1650 [00:00<00:00, 50466.35it/s]\n",
      "100%|██████████| 1650/1650 [00:00<00:00, 46557.60it/s]\n",
      "100%|██████████| 1650/1650 [00:00<00:00, 325522.18it/s]\n",
      "100%|██████████| 1650/1650 [00:00<00:00, 294543.82it/s]\n",
      "100%|██████████| 1650/1650 [00:00<00:00, 119754.31it/s]\n"
     ]
    },
    {
     "data": {
      "text/plain": [
       "(1650, 1501, 1)"
      ]
     },
     "execution_count": 75,
     "metadata": {
      "tags": []
     },
     "output_type": "execute_result"
    }
   ],
   "source": [
    "X_te_state_tfidfw2v = compute_TFIDF_W2V( X_te_ot['school_state'].values )\n",
    "X_te_teacher_tfidfw2v = compute_TFIDF_W2V( X_te_ot['teacher_prefix'].values )\n",
    "X_te_grade_tfidfw2v = compute_TFIDF_W2V( X_te_ot['project_grade_category'].values  )\n",
    "X_te_category_tfidfw2v = compute_TFIDF_W2V( X_te_ot['clean_categories'].values )\n",
    "X_te_subcat_tfidfw2v = compute_TFIDF_W2V( X_te_ot['clean_subcategories'].values )\n",
    "\n",
    "normalizer_p = Normalizer()\n",
    "normalizer_p.fit(X_te_ot['price'].values.reshape(-1,1))\n",
    "X_te_price_norm = normalizer_p.transform(X_te_ot['price'].values.reshape(-1,1))\n",
    "\n",
    "X_te_tfidfw2v = np.hstack(( X_te_state_tfidfw2v , X_te_teacher_tfidfw2v , X_te_grade_tfidfw2v , \\\n",
    "               X_te_category_tfidfw2v, X_te_subcat_tfidfw2v , \\\n",
    "               X_te_price_norm.reshape(-1,1)  ))\n",
    "\n",
    "X_te_tfidfw2v = X_te_tfidfw2v.reshape( X_te_tfidfw2v.shape[0] , X_te_tfidfw2v.shape[1] , 1 )\n",
    "X_te_tfidfw2v.shape"
   ]
  },
  {
   "cell_type": "code",
   "execution_count": null,
   "metadata": {
    "colab": {
     "base_uri": "https://localhost:8080/"
    },
    "executionInfo": {
     "elapsed": 13782,
     "status": "ok",
     "timestamp": 1604605470637,
     "user": {
      "displayName": "chetan vanapariya",
      "photoUrl": "",
      "userId": "09687593949013731715"
     },
     "user_tz": -330
    },
    "id": "7hKw9GSRnR4s",
    "outputId": "82dd16a1-d2d8-46ca-9053-ec4f385cad57"
   },
   "outputs": [
    {
     "name": "stdout",
     "output_type": "stream",
     "text": [
      "Epoch 1/3\n",
      "67/67 [==============================] - 5s 68ms/step - loss: 0.0000e+00 - accuracy: 0.8657 - val_loss: 0.0000e+00 - val_accuracy: 0.8661\n",
      "Epoch 2/3\n",
      "67/67 [==============================] - 4s 60ms/step - loss: 0.0000e+00 - accuracy: 0.8657 - val_loss: 0.0000e+00 - val_accuracy: 0.8661\n",
      "Epoch 3/3\n",
      "67/67 [==============================] - 4s 61ms/step - loss: 0.0000e+00 - accuracy: 0.8657 - val_loss: 0.0000e+00 - val_accuracy: 0.8661\n"
     ]
    },
    {
     "data": {
      "text/plain": [
       "<tensorflow.python.keras.callbacks.History at 0x7f66be649198>"
      ]
     },
     "execution_count": 79,
     "metadata": {
      "tags": []
     },
     "output_type": "execute_result"
    }
   ],
   "source": [
    "model3.fit({\"input_seq_total_text_data\": X_train , \n",
    "            \"other_than_text\": X_tr_tfidfw2v } ,\n",
    "          {\"Output\": y_train } , \n",
    "           validation_data =( {\"input_seq_total_text_data\": X_test , \"other_than_text\": X_te_tfidfw2v } ,\n",
    "          {\"Output\": y_test } )\n",
    "          , batch_size=50, epochs=3 ,validation_batch_size=50)"
   ]
  }
 ],
 "metadata": {
  "accelerator": "GPU",
  "colab": {
   "collapsed_sections": [
    "pYV9YOyg6s07"
   ],
   "name": "LSTM_-_Assignment_practice_1.ipynb",
   "provenance": []
  },
  "kernelspec": {
   "display_name": "Python 3",
   "language": "python",
   "name": "python3"
  },
  "language_info": {
   "codemirror_mode": {
    "name": "ipython",
    "version": 3
   },
   "file_extension": ".py",
   "mimetype": "text/x-python",
   "name": "python",
   "nbconvert_exporter": "python",
   "pygments_lexer": "ipython3",
   "version": "3.7.3"
  }
 },
 "nbformat": 4,
 "nbformat_minor": 1
}
