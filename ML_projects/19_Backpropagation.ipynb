{
 "cells": [
  {
   "cell_type": "code",
   "execution_count": null,
   "metadata": {
    "colab": {
     "base_uri": "https://localhost:8080/",
     "height": 34
    },
    "executionInfo": {
     "elapsed": 738,
     "status": "ok",
     "timestamp": 1592141531789,
     "user": {
      "displayName": "chetan vanapariya",
      "photoUrl": "",
      "userId": "09687593949013731715"
     },
     "user_tz": -330
    },
    "id": "8EXnw6_ox0XK",
    "outputId": "77721d5a-3ce7-4e09-d8d7-06771d24b0cd"
   },
   "outputs": [
    {
     "data": {
      "text/plain": [
       "1.1"
      ]
     },
     "execution_count": 35,
     "metadata": {
      "tags": []
     },
     "output_type": "execute_result"
    }
   ],
   "source": [
    "import numpy as np\n",
    "X_ = np.array( [1.1,2.2,3.3]) #,[1,2,3],[1,2,3],[5,3,1],[3,2,2]] )\n",
    "\n",
    "#ad = np.max( X , axis=0)\n",
    "#res = X / np.array([10,3,6])\n",
    "#res , ad , X.T\n",
    "df = lambda x: 4 * x**3 - 9 * x ** 2\n",
    "#df(6)\n",
    "X=0\n",
    "X_[1:2][0]\n",
    "\n",
    "X_[0]"
   ]
  },
  {
   "cell_type": "code",
   "execution_count": null,
   "metadata": {
    "colab": {
     "base_uri": "https://localhost:8080/",
     "height": 34
    },
    "executionInfo": {
     "elapsed": 2217,
     "status": "ok",
     "timestamp": 1592057948287,
     "user": {
      "displayName": "chetan vanapariya",
      "photoUrl": "",
      "userId": "09687593949013731715"
     },
     "user_tz": -330
    },
    "id": "0m2IHWtNC20P",
    "outputId": "e3c5cf6d-1a03-40f7-bdfc-128508835e7a"
   },
   "outputs": [
    {
     "data": {
      "text/plain": [
       "array([0.1, 0.1, 0.1, 0.1, 0.1, 0.1, 0.1, 0.1, 0.1])"
      ]
     },
     "execution_count": 3,
     "metadata": {
      "tags": []
     },
     "output_type": "execute_result"
    }
   ],
   "source": [
    "t_=np.ones(9)*0.1\n",
    "t_"
   ]
  },
  {
   "cell_type": "code",
   "execution_count": null,
   "metadata": {
    "id": "SRRtombPn_4r"
   },
   "outputs": [],
   "source": [
    "x = 6  # Starting point\n",
    "step_size = 0.01\n",
    "step_tolerance = 0.00001\n",
    "max_iterations = 10000\n",
    "\n",
    "# Derivative function f'(x)\n",
    "df = lambda x: 4 * x**3 - 9 * x ** 2\n",
    "\n",
    "# Gradient descent iteration\n",
    "for j in range(max_iterations):\n",
    "    print(step , '\\t' , x) \n",
    "    step = step_size * df(x)\n",
    "    x -= step\n",
    "    print( abs(step) )\n",
    "    if abs(step) <= step_tolerance:\n",
    "        break\n"
   ]
  },
  {
   "cell_type": "code",
   "execution_count": 2,
   "metadata": {
    "executionInfo": {
     "elapsed": 995,
     "status": "ok",
     "timestamp": 1606553915409,
     "user": {
      "displayName": "chetan vanapariya",
      "photoUrl": "",
      "userId": "09687593949013731715"
     },
     "user_tz": -330
    },
    "id": "KbR2Rm8iD0cg"
   },
   "outputs": [],
   "source": [
    "path_ = \"\""
   ]
  },
  {
   "cell_type": "code",
   "execution_count": 3,
   "metadata": {
    "colab": {
     "base_uri": "https://localhost:8080/"
    },
    "executionInfo": {
     "elapsed": 1567,
     "status": "ok",
     "timestamp": 1606553920116,
     "user": {
      "displayName": "chetan vanapariya",
      "photoUrl": "",
      "userId": "09687593949013731715"
     },
     "user_tz": -330
    },
    "id": "1hSje5CBgcUb",
    "outputId": "4ef35418-9fe9-4b64-e218-5a27b4565a2f"
   },
   "outputs": [
    {
     "name": "stdout",
     "output_type": "stream",
     "text": [
      "(506, 6)\n",
      "(506, 5) (506,)\n"
     ]
    }
   ],
   "source": [
    "import pickle\n",
    "import numpy as np\n",
    "from tqdm import tqdm\n",
    "import matplotlib.pyplot as plt\n",
    "\n",
    "with open( path_ + 'data.pkl', 'rb') as f:\n",
    "    data = pickle.load(f)\n",
    "print(data.shape)\n",
    "X = data[:, :5]\n",
    "y = data[:, -1]\n",
    "print(X.shape, y.shape)"
   ]
  },
  {
   "cell_type": "code",
   "execution_count": null,
   "metadata": {
    "id": "ShVgjqkXzAoq"
   },
   "outputs": [],
   "source": [
    "#import math\n",
    "#np.exp( 2) , math.exp(2)"
   ]
  },
  {
   "cell_type": "code",
   "execution_count": null,
   "metadata": {
    "id": "0XZHPQBBO2HN"
   },
   "outputs": [],
   "source": [
    "# incorrect function\n",
    "def forward_func_for_gradient( x , w):\n",
    "        # incorrect function\n",
    "\n",
    "        q1 = w[0] * x[0:1][0]\n",
    "        q2 = w[1] * x[1:2][0]\n",
    "        q3 = q1 + q2\n",
    "        q4 = q2 + q1\n",
    "        q5 = q3 * q4\n",
    "        q6 = q5 + w[5]\n",
    "        q7 = np.exp( q6 ) \n",
    "        exp_value  = q7\n",
    "\n",
    "        q8 = q7 + w[6]\n",
    "        q9 = np.tanh( q8 )\n",
    "        tanh_value = q9\n",
    "\n",
    "        q10 = w[2] * x[2:3][0]\n",
    "        q11=w[3] * x[3:4][0]\n",
    "        q12=w[4]*x[4:5][0]\n",
    "        q13=np.sin(q10)\n",
    "        sin_value = q13\n",
    "        \n",
    "        q14=q11+q12\n",
    "        q15=q13*q14\n",
    "        q16=q15 + w[7]\n",
    "        q17 = sigmoid( q16 )\n",
    "\n",
    "        sigmoid_val = q17   #q17\n",
    "\n",
    "        q18=q17 * w[8]\n",
    "        q19=q18 + q9\n",
    "        \n",
    "        y_pred = q19\n",
    "        return y_pred"
   ]
  },
  {
   "cell_type": "code",
   "execution_count": 48,
   "metadata": {
    "executionInfo": {
     "elapsed": 1188,
     "status": "ok",
     "timestamp": 1606558853796,
     "user": {
      "displayName": "chetan vanapariya",
      "photoUrl": "",
      "userId": "09687593949013731715"
     },
     "user_tz": -330
    },
    "id": "7xoZ84SnESL6"
   },
   "outputs": [],
   "source": [
    "\n",
    "def forward_func_for_gradient_1(X_ , y, w):\n",
    "        dl = None\n",
    "        loss = None\n",
    "        exp_value = None\n",
    "        tanh_value = None\n",
    "        sigmoid_val = None\n",
    "        all_points = None\n",
    "        y_pred = 0\n",
    "        #print( len( X_ ) )\n",
    "        # for only single point\n",
    "        if len( X_ ) == 5 and len( [X_[0]] ) == 1 and isinstance(X_[0] , (int,float,complex)):\n",
    "          all_points = np.array( [ X_ ] )\n",
    "          y = [y]\n",
    "        else :\n",
    "          all_points = np.array( X_ )\n",
    "        \n",
    "        #\n",
    "        #print( all_points )\n",
    "        for i , x in enumerate(all_points):\n",
    "\n",
    "            #x = np.array( x )\n",
    "            #print( x )\n",
    "            q1 = w[0] * x[0:1][0]\n",
    "            q2 = w[1] * x[1:2][0]\n",
    "            q3 = q1 + q2\n",
    "            q4 = q2 + q1\n",
    "            q5 = q3 * q4\n",
    "            q6 = q5 + w[5]\n",
    "            q7 = np.exp( q6 ) \n",
    "            exp_value  = q7\n",
    "\n",
    "            q8 = q7 + w[6]\n",
    "            q9 = np.tanh( q8 )\n",
    "            tanh_value = q9\n",
    "\n",
    "            q10 = w[2] * x[2:3][0]\n",
    "            q11=w[3] * x[3:4][0]\n",
    "            q12=w[4]*x[4:5][0]\n",
    "            q13=np.sin(q10)\n",
    "            sin_value = q13\n",
    "            \n",
    "            q14=q11+q12\n",
    "            q15=q13*q14\n",
    "            q16=q15 + w[7]\n",
    "            q17 = sigmoid( q16 )\n",
    "\n",
    "            sigmoid_val = q17   #q17\n",
    "\n",
    "            q18=q17 * w[8]\n",
    "            q19=q18 + q9\n",
    "            \n",
    "            y_pred = q19\n",
    "            #print( y_pred )\n",
    "            loss =  (y[i] - y_pred)**2\n",
    "            dl = -2 * 1 * (y[i] - y_pred ) # derivative loss\n",
    "\n",
    "        dictionary = {}\n",
    "        dictionary['dl']= dl\n",
    "        dictionary['loss']= loss\n",
    "        dictionary['exp']= exp_value\n",
    "        dictionary['tanh']= tanh_value\n",
    "        dictionary['sigmoid']= sigmoid_val\n",
    "\n",
    "        dictionary['q3']= q3\n",
    "        dictionary['q4']= q4\n",
    "        dictionary['q6']= q6\n",
    "        dictionary['q8']= q8\n",
    "\n",
    "        dictionary['q16']= q16\n",
    "        dictionary['q14']= q14\n",
    "        dictionary['q10']= q10\n",
    "\n",
    "        dictionary['w9']= w[8]\n",
    "        \n",
    "        return loss\n"
   ]
  },
  {
   "cell_type": "code",
   "execution_count": 53,
   "metadata": {
    "colab": {
     "base_uri": "https://localhost:8080/"
    },
    "executionInfo": {
     "elapsed": 1066,
     "status": "ok",
     "timestamp": 1606558991533,
     "user": {
      "displayName": "chetan vanapariya",
      "photoUrl": "",
      "userId": "09687593949013731715"
     },
     "user_tz": -330
    },
    "id": "dnJggjJzOELP",
    "outputId": "da1a826f-83b2-4591-d204-ed81121b4daf"
   },
   "outputs": [
    {
     "name": "stdout",
     "output_type": "stream",
     "text": [
      "-0.22973323498702 == -0.2297332349465719\n",
      "-0.02140761471775293 == -0.0214076147198039\n",
      "-0.005625405580266319 == -0.0056254055746940415\n",
      "-0.004657941222712423 == -0.004657941221619666\n",
      "-0.0010077228498574246 == -0.0010077228440596997\n",
      "-0.6334751873437471 == -0.6334751873338096\n",
      "-0.561941842854033 == -0.5619418428914891\n",
      "-0.04806288407316516 == -0.04806288406711267\n",
      "-1.0181044360187037 == -1.0181044360180191\n",
      "--------------------------------------------------\n"
     ]
    },
    {
     "data": {
      "text/plain": [
       "[8.803273354897832e-11,\n",
       " 4.790282643545067e-11,\n",
       " 4.952778786722596e-10,\n",
       " 1.173004240700925e-10,\n",
       " 2.876646564009127e-09,\n",
       " 7.843634186261195e-12,\n",
       " 3.332732625809271e-11,\n",
       " 6.296430143698834e-11,\n",
       " 3.361951351774315e-13]"
      ]
     },
     "execution_count": 53,
     "metadata": {
      "tags": []
     },
     "output_type": "execute_result"
    }
   ],
   "source": [
    "\n",
    "def gradient_checking(data_point, y , W , dwi ):\n",
    "    # compute the L value using forward_propagation()\n",
    "    # compute the gradients of W using backword_propagation()\n",
    "    approx_gradients = []\n",
    "    gradient_check_list = []\n",
    "    epsilon = 0.00001\n",
    "\n",
    "    '''\n",
    "    W_plus_e = W\n",
    "    W_minus_e = W\n",
    "    W_plus_e[i] =  W_plus_e[i] + epsilon\n",
    "    W_minus_e[i] =  W_minus_e[i] - epsilon\n",
    "    dw_i_approx = ( forward_function( X[0] , y[0] , W_plus_e ) - forward_function( X[0] , y[0] , W_minus_e ) ) / (2 * epsilon)'''\n",
    "\n",
    "    for i , each_dwi in enumerate(W):\n",
    "        # add a small value to weight wi, and then find the values of L with the updated weights\n",
    "        # subtract a small value to weight wi, and then find the values of L with the updated weights\n",
    "        # compute the approximation gradients of weight wi\n",
    "        #approx_gradients.append(approximation gradients of weight wi)\n",
    "        \n",
    "        W_plus_e = np.array( W )\n",
    "        W_minus_e = np.array( W )\n",
    "        #print( each_dwi )\n",
    "        W_plus_e[i] = ( W_plus_e[i] + epsilon )\n",
    "        W_minus_e[i] = ( W_minus_e[i] - epsilon )\n",
    "        #print( W )\n",
    "        #print( W_plus_e )\n",
    "        #print( W_minus_e )\n",
    "        #(y[i] - y_pred)**2\n",
    "        \n",
    "        loss_plus = forward_func_for_gradient_1( data_point , y , W_plus_e )\n",
    "        loss_minus = forward_func_for_gradient_1( data_point , y , W_minus_e )\n",
    "        #print( ( y[0] - yp_1 )**2  )\n",
    "        #print( ( y[0] - yp_2 )**2  )\n",
    "        dw_i_approx = (  ( loss_plus )   -  ( loss_minus )  ) / ( 2 * epsilon )\n",
    "        #approx_gradients.append( dw_i_approx )\n",
    "        #print( dw_i_approx )\n",
    "        gradient_check = ( np.sqrt( np.square( dwi[i] - dw_i_approx ))  ) / ( np.sqrt( np.square( dwi[i] )) + \n",
    "                                                                            np.sqrt( np.square( dw_i_approx )))\n",
    "        print(dwi[i] ,\"==\" , dw_i_approx  )\n",
    "        #gradient_check = (  ( dwi[i] - dw_i_approx ))   / (  ( dwi[i] ) +  ( dw_i_approx )  )\n",
    "        \n",
    "        gradient_check_list.append( gradient_check )\n",
    "        #gradient_check_1 =  ( each_dwi - dw_i_approx ) / ( each_dwi + dw_i_approx ) \n",
    "        #print( gradient_check )\n",
    "        #print( gradient_check_1 )\n",
    "\n",
    "    # compare the gradient of weights W from backword_propagation() \n",
    "    #with the aproximation gradients of weights with gradient_check formula\n",
    "    return gradient_check_list\n",
    "\n",
    "W = np.ones(9)*0.1\n",
    "d2=forward_propagation(X[0] , y[0] , W )\n",
    "dw_back=backward_propagation(X[0] , W , d2 )\n",
    "#d2 , dw_back\n",
    "dw_arr = np.zeros(9)\n",
    "dw_arr[0] = dw_back['dw1']\n",
    "dw_arr[1] = dw_back['dw2']\n",
    "dw_arr[2] = dw_back['dw3']\n",
    "dw_arr[3] = dw_back['dw4']\n",
    "dw_arr[4] = dw_back['dw5']\n",
    "dw_arr[5] = dw_back['dw6']\n",
    "dw_arr[6] = dw_back['dw7']\n",
    "dw_arr[7] = dw_back['dw8']\n",
    "dw_arr[8] = dw_back['dw9']\n",
    "#print(dw_arr)\n",
    "#print(W)\n",
    "gradient_checks = gradient_checking(X[0] ,y[0] , W , dw_arr )\n",
    "print(\"-\"*50)\n",
    "#chack = ( dw_arr - np.array( dw_aprx ) ) / ( dw_arr + np.array( dw_aprx ) )\n",
    "#chack\n",
    "gradient_checks"
   ]
  },
  {
   "cell_type": "code",
   "execution_count": null,
   "metadata": {
    "colab": {
     "base_uri": "https://localhost:8080/",
     "height": 121
    },
    "executionInfo": {
     "elapsed": 1791,
     "status": "ok",
     "timestamp": 1593159710255,
     "user": {
      "displayName": "chetan vanapariya",
      "photoUrl": "",
      "userId": "09687593949013731715"
     },
     "user_tz": -330
    },
    "id": "qipz-hiLt9jq",
    "outputId": "bbc779bf-1af8-4bcb-ee45-05f814c1465c"
   },
   "outputs": [
    {
     "data": {
      "text/plain": [
       "(array([-2.29733235e-01, -2.14076147e-02, -5.62540558e-03, -4.65794122e-03,\n",
       "        -1.00772285e-03, -6.33475187e-01, -5.61941843e-01, -4.80628841e-02,\n",
       "        -1.01810444e+00]),\n",
       " array([-4.45863959e-01, -4.15476833e-02,  1.20629394e-03,  1.39173599e-03,\n",
       "         3.01095289e-04,  5.79993302e-01,  9.99667207e-01, -2.54379337e-01,\n",
       "         4.87993257e-01]))"
      ]
     },
     "execution_count": 71,
     "metadata": {
      "tags": []
     },
     "output_type": "execute_result"
    }
   ],
   "source": [
    "dw_arr , np.array( dw_aprx )"
   ]
  },
  {
   "cell_type": "code",
   "execution_count": 6,
   "metadata": {
    "colab": {
     "base_uri": "https://localhost:8080/"
    },
    "executionInfo": {
     "elapsed": 1108,
     "status": "ok",
     "timestamp": 1606554129096,
     "user": {
      "displayName": "chetan vanapariya",
      "photoUrl": "",
      "userId": "09687593949013731715"
     },
     "user_tz": -330
    },
    "id": "QWVDsyNQFnxn",
    "outputId": "3a980a05-2da8-49d9-d886-dafea74e8251"
   },
   "outputs": [
    {
     "data": {
      "text/plain": [
       "True"
      ]
     },
     "execution_count": 6,
     "metadata": {
      "tags": []
     },
     "output_type": "execute_result"
    }
   ],
   "source": [
    "#test grader_forwardprop\n",
    "def grader_forwardprop(data):\n",
    "    dl = (np.round(data['dl'],4)==-1.9285)\n",
    "    loss=(np.round(data['loss'],4)==0.9298)\n",
    "    part1=(np.round(data['exp'],4)==1.1273)\n",
    "    part2=(np.round(data['tanh'],4)==0.8418)\n",
    "    part3=(np.round(data['sigmoid'],4)==0.5279)\n",
    "    assert(dl and loss and part1 and part2 and part3)\n",
    "    return True\n",
    "w=np.ones(9)*0.1\n",
    "d1=forward_propagation(X[0],y[0],w)\n",
    "grader_forwardprop(d1)"
   ]
  },
  {
   "cell_type": "code",
   "execution_count": 7,
   "metadata": {
    "colab": {
     "base_uri": "https://localhost:8080/"
    },
    "executionInfo": {
     "elapsed": 1036,
     "status": "ok",
     "timestamp": 1606554181010,
     "user": {
      "displayName": "chetan vanapariya",
      "photoUrl": "",
      "userId": "09687593949013731715"
     },
     "user_tz": -330
    },
    "id": "YHOEClBIFsAg",
    "outputId": "be4edf0d-5a6a-4cca-f2c8-703a483d3d4c"
   },
   "outputs": [
    {
     "data": {
      "text/plain": [
       "True"
      ]
     },
     "execution_count": 7,
     "metadata": {
      "tags": []
     },
     "output_type": "execute_result"
    }
   ],
   "source": [
    "#test grader_backprop\n",
    "def grader_backprop(data):\n",
    "    dw1=(np.round(data['dw1'],4)==-0.2297)\n",
    "    dw2=(np.round(data['dw2'],4)==-0.0214)\n",
    "    dw3=(np.round(data['dw3'],4)==-0.0056)\n",
    "    dw4=(np.round(data['dw4'],4)==-0.0047)\n",
    "    dw5=(np.round(data['dw5'],4)==-0.001)\n",
    "    dw6=(np.round(data['dw6'],4)==-0.6335)\n",
    "    dw7=(np.round(data['dw7'],4)==-0.5619)\n",
    "    dw8=(np.round(data['dw8'],4)==-0.0481)\n",
    "    dw9=(np.round(data['dw9'],4)==-1.0181)\n",
    "    assert(dw1 and dw2 and dw3 and dw4 and dw5 and dw6 and dw7 and dw8 and dw9)\n",
    "    return True \n",
    "w=np.ones(9)*0.1\n",
    "d1=forward_propagation(X[0],y[0],w)\n",
    "d1=backward_propagation(X[0],w,d1)\n",
    "grader_backprop(d1)"
   ]
  },
  {
   "cell_type": "code",
   "execution_count": 4,
   "metadata": {
    "executionInfo": {
     "elapsed": 1325,
     "status": "ok",
     "timestamp": 1606554060003,
     "user": {
      "displayName": "chetan vanapariya",
      "photoUrl": "",
      "userId": "09687593949013731715"
     },
     "user_tz": -330
    },
    "id": "nUT08iwLuzW1"
   },
   "outputs": [],
   "source": [
    "def sigmoid(z):\n",
    "    '''In this function, we will compute the sigmoid(z)'''\n",
    "    # we can use this function in forward and backward propagation\n",
    "     \n",
    "    return (1 / (1 + np.exp(-z))) \n",
    "    \n",
    "def forward_propagation(X_ , y, w):\n",
    "        '''In this function, we will compute the forward propagation '''\n",
    "        # X: input data point, note that in this assignment you are having 5-d data points\n",
    "        # y: output varible\n",
    "        # W: weight array, its of length 9, W[0] corresponds to w1 in graph, W[1] corresponds to w2 in graph,..., W[8] corresponds to w9 in graph.  \n",
    "        # you have to return the following variables\n",
    "        # exp= part1 (compute the forward propagation until exp and then store the values in exp)\n",
    "        # tanh =part2(compute the forward propagation until tanh and then store the values in tanh)\n",
    "        # sig = part3(compute the forward propagation until sigmoid and then store the values in sig)\n",
    "        # now compute remaining values from computional graph and get y'\n",
    "        # write code to compute the value of L=(y-y')^2\n",
    "        # compute derivative of L  w.r.to Y' and store it in dl\n",
    "        # Create a dictionary to store all the intermediate values\n",
    "        # store L, exp,tanh,sig variables\n",
    "\n",
    "        dl = None\n",
    "        loss = None\n",
    "        exp_value = None\n",
    "        tanh_value = None\n",
    "        sigmoid_val = None\n",
    "        all_points = None\n",
    "\n",
    "        #print( len( X_ ) )\n",
    "        # for only single point\n",
    "        if len( X_ ) == 5 and len( [X_[0]] ) == 1 and isinstance(X_[0] , (int,float,complex)):\n",
    "          all_points = np.array( [ X_ ] )\n",
    "          y = [y]\n",
    "        else :\n",
    "          all_points = np.array( X_ )\n",
    "        \n",
    "        #\n",
    "        #print( all_points )\n",
    "        for i , x in enumerate(all_points):\n",
    "\n",
    "            #x = np.array( x )\n",
    "            #print( x )\n",
    "            q1 = w[0] * x[0:1][0]\n",
    "            q2 = w[1] * x[1:2][0]\n",
    "            q3 = q1 + q2\n",
    "            q4 = q2 + q1\n",
    "            q5 = q3 * q4\n",
    "            q6 = q5 + w[5]\n",
    "            q7 = np.exp( q6 ) \n",
    "            exp_value  = q7\n",
    "\n",
    "            q8 = q7 + w[6]\n",
    "            q9 = np.tanh( q8 )\n",
    "            tanh_value = q9\n",
    "\n",
    "            q10 = w[2] * x[2:3][0]\n",
    "            q11=w[3] * x[3:4][0]\n",
    "            q12=w[4]*x[4:5][0]\n",
    "            q13=np.sin(q10)\n",
    "            sin_value = q13\n",
    "            \n",
    "            q14=q11+q12\n",
    "            q15=q13*q14\n",
    "            q16=q15 + w[7]\n",
    "            q17 = sigmoid( q16 )\n",
    "\n",
    "            sigmoid_val = q17   #q17\n",
    "\n",
    "            q18=q17 * w[8]\n",
    "            q19=q18 + q9\n",
    "            \n",
    "            y_pred = q19\n",
    "            #print( y_pred )\n",
    "            loss =  (y[i] - y_pred)**2\n",
    "            dl = -2 * 1 * (y[i] - y_pred ) # derivative loss\n",
    "\n",
    "        dictionary = {}\n",
    "        dictionary['dl']= dl\n",
    "        dictionary['loss']= loss\n",
    "        dictionary['exp']= exp_value\n",
    "        dictionary['tanh']= tanh_value\n",
    "        dictionary['sigmoid']= sigmoid_val\n",
    "\n",
    "        dictionary['q3']= q3\n",
    "        dictionary['q4']= q4\n",
    "        dictionary['q6']= q6\n",
    "        dictionary['q8']= q8\n",
    "\n",
    "        dictionary['q16']= q16\n",
    "        dictionary['q14']= q14\n",
    "        dictionary['q10']= q10\n",
    "\n",
    "        dictionary['w9']= w[8]\n",
    "        \n",
    "        return dictionary\n"
   ]
  },
  {
   "cell_type": "code",
   "execution_count": 5,
   "metadata": {
    "executionInfo": {
     "elapsed": 1021,
     "status": "ok",
     "timestamp": 1606554068146,
     "user": {
      "displayName": "chetan vanapariya",
      "photoUrl": "",
      "userId": "09687593949013731715"
     },
     "user_tz": -330
    },
    "id": "AjxidUAk2_LE"
   },
   "outputs": [],
   "source": [
    "def backward_propagation(X , W,dict_):\n",
    "    '''In this function, we will compute the backward propagation '''\n",
    "    # L: the loss we calculated for the current point\n",
    "    # dictionary: the outputs of the forward_propagation() function\n",
    "    # write code to compute the gradients of each weight [w1,w2,w3,...,w9]\n",
    "    # Hint: you can use dict type to store the required variables \n",
    "    # dw1 = # in dw1 compute derivative of L w.r.to w1\n",
    "    # dw2 = # in dw2 compute derivative of L w.r.to w2\n",
    "    # dw3 = # in dw3 compute derivative of L w.r.to w3\n",
    "    # dw4 = # in dw4 compute derivative of L w.r.to w4\n",
    "    # dw5 = # in dw5 compute derivative of L w.r.to w5\n",
    "    # dw6 = # in dw6 compute derivative of L w.r.to w6\n",
    "    # dw7 = # in dw7 compute derivative of L w.r.to w7\n",
    "    # dw8 = # in dw8 compute derivative of L w.r.to w8\n",
    "    # dw9 = # in dw9 compute derivative of L w.r.to w9\n",
    "\n",
    "    dw = {}\n",
    "\n",
    "    q8 = dict_['q8']\n",
    "    q6 = dict_['q6']\n",
    "    q4 = dict_['q4']\n",
    "    q3 = dict_['q3']\n",
    "    q16 = dict_['q16']\n",
    "    q14 = dict_['q14']\n",
    "    q10 = dict_['q10']\n",
    "\n",
    "    w9 = dict_['w9']\n",
    "\n",
    "    #print( X )\n",
    "    #print( X[0] )\n",
    "    #print(len( X ))\n",
    "    #print(len( [X[0]] ))\n",
    "    # for only single point\n",
    "    if len( X ) == 5 and len( [X[0]] ) == 1 and isinstance(X[0] , (int,float,complex)):\n",
    "      all_points = np.array( [ X ] )\n",
    "    else :\n",
    "      all_points = np.array( X )\n",
    "    \n",
    "    #\n",
    "    #print( all_points )\n",
    "    for i , point in enumerate(all_points):\n",
    "      f1 = point[0:1][0]\n",
    "      f2 = point[1:2][0]\n",
    "      f3 = point[2:3][0]\n",
    "      f4 = point[3:4][0]\n",
    "      f5 = point[4:5][0]\n",
    "\n",
    "      dw1 = ( 1 - np.square(np.tanh( q8 )) ) * ( np.exp( q6 ) ) * q4 * f1 * dict_['dl'] *2\n",
    "      dw2 = ( 1 - np.square(np.tanh( q8 )) ) * ( np.exp( q6 ) ) * q3 * f2 * dict_['dl'] *2\n",
    "      dw6 = ( 1 - np.square(np.tanh( q8 )) ) * ( np.exp( q6 ) ) * dict_['dl']\n",
    "      dw7 = ( 1 - np.square(np.tanh( q8 )) ) * dict_['dl']\n",
    "      dw9 = dict_['dl'] * sigmoid( q16 )\n",
    "      dw8 = dict_['dl'] * w9 * sigmoid( q16 ) * (1 - sigmoid( q16 ) )\n",
    "      dw3 = dw8 * np.cos( q10 ) * q14 * f3\n",
    "      dw4 = dw8 * np.sin( q10 ) * f4\n",
    "      dw5 = dw8 * np.sin( q10 ) * f5\n",
    "\n",
    "    dw['dw1'] = dw1\n",
    "    dw['dw6'] = dw6\n",
    "    dw['dw7'] = dw7\n",
    "    dw['dw2'] = dw2\n",
    "    dw['dw3'] = dw3\n",
    "    dw['dw4'] = dw4\n",
    "    dw['dw5'] = dw5\n",
    "    dw['dw8'] = dw8\n",
    "    dw['dw9'] = dw9\n",
    "\n",
    "    #return dW, dW is a dictionary with gradients of all the weights\n",
    "    return dw\n"
   ]
  },
  {
   "cell_type": "code",
   "execution_count": null,
   "metadata": {
    "colab": {
     "base_uri": "https://localhost:8080/",
     "height": 104
    },
    "executionInfo": {
     "elapsed": 1548,
     "status": "ok",
     "timestamp": 1592461986458,
     "user": {
      "displayName": "chetan vanapariya",
      "photoUrl": "",
      "userId": "09687593949013731715"
     },
     "user_tz": -330
    },
    "id": "ewBe5u8Ku9jW",
    "outputId": "12d68051-31c0-42db-b455-9313c127c95f"
   },
   "outputs": [
    {
     "data": {
      "text/plain": [
       "{'dl': -1.4220633163091767,\n",
       " 'exp': 1.1085248541463766,\n",
       " 'loss': 0.5055660188980634,\n",
       " 'sigmoid': 0.5230906286440833,\n",
       " 'tanh': 0.836236446870364}"
      ]
     },
     "execution_count": 12,
     "metadata": {
      "tags": []
     },
     "output_type": "execute_result"
    }
   ],
   "source": [
    "w=np.ones(9)*0.1\n",
    "d1=forward_propagation(X,y,w)\n",
    "d1  "
   ]
  },
  {
   "cell_type": "code",
   "execution_count": null,
   "metadata": {
    "colab": {
     "base_uri": "https://localhost:8080/",
     "height": 399
    },
    "executionInfo": {
     "elapsed": 1538,
     "status": "ok",
     "timestamp": 1592491718248,
     "user": {
      "displayName": "chetan vanapariya",
      "photoUrl": "",
      "userId": "09687593949013731715"
     },
     "user_tz": -330
    },
    "id": "tq6wZj9nIx55",
    "outputId": "ca285fb1-2f07-4c55-c462-8cc50faf3fca"
   },
   "outputs": [
    {
     "data": {
      "text/plain": [
       "({'dl': -1.9285278284819143,\n",
       "  'exp': 1.1272967040973583,\n",
       "  'loss': 0.9298048963072919,\n",
       "  'q10': -0.14590003802772022,\n",
       "  'q14': -0.08108256415764016,\n",
       "  'q16': 0.11178802350675654,\n",
       "  'q3': -0.1407922915155795,\n",
       "  'q4': -0.1407922915155795,\n",
       "  'q6': 0.11982246935020793,\n",
       "  'q8': 1.2272967040973584,\n",
       "  'sigmoid': 0.5279179387419721,\n",
       "  'tanh': 0.8417934192562146,\n",
       "  'w9': 0.1},\n",
       " {'dw1': -0.22973323498702,\n",
       "  'dw2': -0.02140761471775293,\n",
       "  'dw3': -0.005625405580266319,\n",
       "  'dw4': -0.004657941222712423,\n",
       "  'dw5': -0.0010077228498574246,\n",
       "  'dw6': -0.6334751873437471,\n",
       "  'dw7': -0.561941842854033,\n",
       "  'dw8': -0.04806288407316516,\n",
       "  'dw9': -1.0181044360187037})"
      ]
     },
     "execution_count": 50,
     "metadata": {
      "tags": []
     },
     "output_type": "execute_result"
    }
   ],
   "source": [
    "w=np.ones(9)*0.1\n",
    "d2=forward_propagation(X[0],y[0],w)\n",
    "dback=backward_propagation(X[0], w,d2)\n",
    "d2 , dback"
   ]
  },
  {
   "cell_type": "code",
   "execution_count": null,
   "metadata": {
    "colab": {
     "base_uri": "https://localhost:8080/",
     "height": 399
    },
    "executionInfo": {
     "elapsed": 2419,
     "status": "ok",
     "timestamp": 1592492001750,
     "user": {
      "displayName": "chetan vanapariya",
      "photoUrl": "",
      "userId": "09687593949013731715"
     },
     "user_tz": -330
    },
    "id": "Ty3lD1ve6wVu",
    "outputId": "7d0a0e50-7558-4657-ae25-68b475febce5"
   },
   "outputs": [
    {
     "data": {
      "text/plain": [
       "({'dl': -1.4220633163091767,\n",
       "  'exp': 1.1085248541463766,\n",
       "  'loss': 0.5055660188980634,\n",
       "  'q10': 0.11764658292771953,\n",
       "  'q14': -0.06450875957920196,\n",
       "  'q16': 0.09242825949978317,\n",
       "  'q3': 0.055046991243424694,\n",
       "  'q4': 0.055046991243424694,\n",
       "  'q6': 0.10303017124495369,\n",
       "  'q8': 1.2085248541463767,\n",
       "  'sigmoid': 0.5230906286440833,\n",
       "  'tanh': 0.836236446870364,\n",
       "  'w9': 0.1},\n",
       " {'dw1': array([0.06721391, 0.00626331, 0.07614286, 0.0347892 , 0.00752647]),\n",
       "  'dw2': array([ 0.03096759, -0.01916182,  0.01581799,  0.05152713,  0.03863308]),\n",
       "  'dw3': array([-0.00134856, -0.0006041 , -0.00068884, -0.00224388, -0.00168238]),\n",
       "  'dw4': array([ 0.00544181,  0.00337236, -0.00047066,  0.00460584,  0.00347811]),\n",
       "  'dw5': array([ 0.00544181,  0.00212854, -0.00047066,  0.00460584,  0.00347811]),\n",
       "  'dw6': -0.4740347986012569,\n",
       "  'dw7': -0.4276266759632459,\n",
       "  'dw8': -0.035475761743794965,\n",
       "  'dw9': -0.7438679940998572})"
      ]
     },
     "execution_count": 52,
     "metadata": {
      "tags": []
     },
     "output_type": "execute_result"
    }
   ],
   "source": [
    "w=np.ones(9)*0.1\n",
    "d2=forward_propagation(X , y , w )\n",
    "dback=backward_propagation(X , w , d2 )\n",
    "d2 , dback"
   ]
  },
  {
   "cell_type": "code",
   "execution_count": null,
   "metadata": {
    "colab": {
     "base_uri": "https://localhost:8080/",
     "height": 399
    },
    "executionInfo": {
     "elapsed": 1663,
     "status": "ok",
     "timestamp": 1593234222567,
     "user": {
      "displayName": "chetan vanapariya",
      "photoUrl": "",
      "userId": "09687593949013731715"
     },
     "user_tz": -330
    },
    "id": "fo8SOVjukjOF",
    "outputId": "9cdc235c-24a0-4fd0-bb07-09f42c6d68c8"
   },
   "outputs": [
    {
     "data": {
      "text/plain": [
       "({'dl': -1.4220633163091767,\n",
       "  'exp': 1.1085248541463766,\n",
       "  'loss': 0.5055660188980634,\n",
       "  'q10': 0.11764658292771953,\n",
       "  'q14': -0.06450875957920196,\n",
       "  'q16': 0.09242825949978317,\n",
       "  'q3': 0.055046991243424694,\n",
       "  'q4': 0.055046991243424694,\n",
       "  'q6': 0.10303017124495369,\n",
       "  'q8': 1.2085248541463767,\n",
       "  'sigmoid': 0.5230906286440833,\n",
       "  'tanh': 0.836236446870364,\n",
       "  'w9': 0.1},\n",
       " {'dw1': -0.006040199845439066,\n",
       "  'dw2': -0.02268793247113964,\n",
       "  'dw3': 0.0026737285012674327,\n",
       "  'dw4': 0.0033445584808278563,\n",
       "  'dw5': -0.0006584258611125038,\n",
       "  'dw6': -0.4740347986012569,\n",
       "  'dw7': -0.4276266759632459,\n",
       "  'dw8': -0.035475761743794965,\n",
       "  'dw9': -0.7438679940998572})"
      ]
     },
     "execution_count": 43,
     "metadata": {
      "tags": []
     },
     "output_type": "execute_result"
    }
   ],
   "source": [
    "w=np.ones(9)*0.1\n",
    "d2=forward_propagation(X , y , w )\n",
    "dback=backward_propagation(X , w , d2 )\n",
    "d2 , dback"
   ]
  },
  {
   "cell_type": "code",
   "execution_count": null,
   "metadata": {
    "colab": {
     "base_uri": "https://localhost:8080/",
     "height": 34
    },
    "executionInfo": {
     "elapsed": 1559,
     "status": "ok",
     "timestamp": 1592289202528,
     "user": {
      "displayName": "chetan vanapariya",
      "photoUrl": "",
      "userId": "09687593949013731715"
     },
     "user_tz": -330
    },
    "id": "7-YU2fpZHEDj",
    "outputId": "965557d9-f9d5-451c-b048-6380b1a2af61"
   },
   "outputs": [
    {
     "data": {
      "text/plain": [
       "(0.9351397450960891, -1.9285278284819143)"
      ]
     },
     "execution_count": 9,
     "metadata": {
      "tags": []
     },
     "output_type": "execute_result"
    }
   ],
   "source": [
    "#-2 * 2.0 * (9-4)\n",
    "#daat = np.array( X[0] )\n",
    "#daat[0][0:1]\n",
    "#len( X[0] )\n",
    "y_actual=1.858849127371369\n",
    "#previous #y_pred=0.891822889311569\n",
    "y_pred = 0.8945852131304118\n",
    "dl_temp = -2 * 1 * ( y_actual - y_pred )\n",
    "loss = 1.858849127371369 - 0.891822889311569\n",
    "(loss**2) , dl_temp"
   ]
  },
  {
   "cell_type": "code",
   "execution_count": null,
   "metadata": {
    "id": "oh8wj1yjGhOi"
   },
   "outputs": [],
   "source": [
    "W = initilize_randomly\n",
    "def gradient_checking(data_point, W):\n",
    "    # compute the L value using forward_propagation()\n",
    "    # compute the gradients of W using backword_propagation()\n",
    "    approx_gradients = []\n",
    "    for each wi weight value in W:\n",
    "        # add a small value to weight wi, and then find the values of L with the updated weights\n",
    "        # subtract a small value to weight wi, and then find the values of L with the updated weights\n",
    "        # compute the approximation gradients of weight wi\n",
    "        approx_gradients.append(approximation gradients of weight wi)\n",
    "    # compare the gradient of weights W from backword_propagation() with the aproximation gradients of weights with gradient_check formula\n",
    "    return gradient_check"
   ]
  },
  {
   "cell_type": "code",
   "execution_count": null,
   "metadata": {
    "colab": {
     "base_uri": "https://localhost:8080/",
     "height": 52
    },
    "executionInfo": {
     "elapsed": 5720,
     "status": "ok",
     "timestamp": 1593231131566,
     "user": {
      "displayName": "chetan vanapariya",
      "photoUrl": "",
      "userId": "09687593949013731715"
     },
     "user_tz": -330
    },
    "id": "xJspU6ZuGhRQ",
    "outputId": "80c73afa-004d-436c-aba0-a084f688cd20"
   },
   "outputs": [
    {
     "data": {
      "text/plain": [
       "(array([0.27570289, 0.26272714, 0.2051514 , 0.15180681, 0.17180973,\n",
       "        0.44500269, 0.34305434, 0.44842578, 1.29457962]), 0.025652518561244078)"
      ]
     },
     "execution_count": 15,
     "metadata": {
      "tags": []
     },
     "output_type": "execute_result"
    }
   ],
   "source": [
    "W = np.ones(9)*0.1\n",
    "dw_arr = np.zeros(9)\n",
    "learning_rate = 0.0001\n",
    "epochs = 100\n",
    "epoch_loss = []\n",
    "\n",
    "for e in range(0, epochs ):\n",
    "  loss_of_each_point = []\n",
    "  for i in range(len(X)):\n",
    "      d2 = forward_propagation(X[i] , y[i] , W )\n",
    "      loss_of_each_point.append( d2['loss'] )\n",
    "      dw_back = backward_propagation(X[i] , W , d2 )\n",
    "\n",
    "      \n",
    "      dw_arr[0] = dw_back['dw1']\n",
    "      dw_arr[1] = dw_back['dw2']\n",
    "      dw_arr[2] = dw_back['dw3']\n",
    "      dw_arr[3] = dw_back['dw4']\n",
    "      dw_arr[4] = dw_back['dw5']\n",
    "      dw_arr[5] = dw_back['dw6']\n",
    "      dw_arr[6] = dw_back['dw7']\n",
    "      dw_arr[7] = dw_back['dw8']\n",
    "      dw_arr[8] = dw_back['dw9']\n",
    "\n",
    "      W = W - ( learning_rate * dw_arr )\n",
    "\n",
    "  avg_loss = np.mean( loss_of_each_point )\n",
    "  epoch_loss.append( avg_loss )\n",
    "\n",
    "W , avg_loss"
   ]
  },
  {
   "cell_type": "code",
   "execution_count": null,
   "metadata": {
    "colab": {
     "base_uri": "https://localhost:8080/",
     "height": 295
    },
    "executionInfo": {
     "elapsed": 1666,
     "status": "ok",
     "timestamp": 1593236771474,
     "user": {
      "displayName": "chetan vanapariya",
      "photoUrl": "",
      "userId": "09687593949013731715"
     },
     "user_tz": -330
    },
    "id": "CjTCVUIoGhTo",
    "outputId": "928e823d-e5ec-4737-8f84-24af5f1f2819"
   },
   "outputs": [
    {
     "data": {
      "image/png": "[encoded data removed]",
      "text/plain": [
       "<Figure size 432x288 with 1 Axes>"
      ]
     },
     "metadata": {
      "needs_background": "light",
      "tags": []
     },
     "output_type": "display_data"
    }
   ],
   "source": [
    "plt.plot( np.array([i for i in range(epochs)]), np.array(epoch_loss), label=\"(Vanilla) Squared Loss\" )\n",
    "plt.legend()\n",
    "plt.xlabel(\"epochs\")\n",
    "plt.ylabel(\"loss\")\n",
    "plt.title(\"Epochs Vs Loss (Vanilla update) \")\n",
    "plt.grid()\n",
    "plt.show()"
   ]
  },
  {
   "cell_type": "code",
   "execution_count": null,
   "metadata": {
    "colab": {
     "base_uri": "https://localhost:8080/",
     "height": 69
    },
    "executionInfo": {
     "elapsed": 4640,
     "status": "ok",
     "timestamp": 1593236977097,
     "user": {
      "displayName": "chetan vanapariya",
      "photoUrl": "",
      "userId": "09687593949013731715"
     },
     "user_tz": -330
    },
    "id": "uucCdyQrGhZt",
    "outputId": "1608b7ea-d5fa-4f4d-9646-74e0b3d97792"
   },
   "outputs": [
    {
     "data": {
      "text/plain": [
       "(array([ 0.39156467,  0.13241529, -0.097797  , -0.44921275,  0.56506333,\n",
       "         1.4305424 ,  1.16624476, -0.48958829,  1.49052144]),\n",
       " 0.015946901110766812)"
      ]
     },
     "execution_count": 80,
     "metadata": {
      "tags": []
     },
     "output_type": "execute_result"
    }
   ],
   "source": [
    "W = np.ones(9)*0.1\n",
    "dw_arr = np.zeros(9)\n",
    "learning_rate = 0.0001\n",
    "momentum_rate = 0.9\n",
    "epochs_m = 100\n",
    "epoch_loss_m = []\n",
    "\n",
    "for e in range(0, epochs_m ):\n",
    "  loss_of_each_point = []\n",
    "  for i in range(len(X)):\n",
    "      d2 = forward_propagation(X[i] , y[i] , W )\n",
    "      loss_of_each_point.append( d2['loss'] )\n",
    "      dw_back = backward_propagation(X[i] , W , d2 )\n",
    "\n",
    "      dw_prev = np.array( dw_arr )\n",
    "      \n",
    "      dw_arr[0] = dw_back['dw1']\n",
    "      dw_arr[1] = dw_back['dw2']\n",
    "      dw_arr[2] = dw_back['dw3']\n",
    "      dw_arr[3] = dw_back['dw4']\n",
    "      dw_arr[4] = dw_back['dw5']\n",
    "      dw_arr[5] = dw_back['dw6']\n",
    "      dw_arr[6] = dw_back['dw7']\n",
    "      dw_arr[7] = dw_back['dw8']\n",
    "      dw_arr[8] = dw_back['dw9']\n",
    "\n",
    "      #W = W - ( learning_rate * dw_arr )\n",
    "      v = ( learning_rate * dw_arr ) + ( momentum_rate * dw_prev )\n",
    "      W = W - v\n",
    "  \n",
    "  avg_loss = np.mean( loss_of_each_point )\n",
    "  epoch_loss_m.append( avg_loss )\n",
    "\n",
    "W , avg_loss"
   ]
  },
  {
   "cell_type": "code",
   "execution_count": null,
   "metadata": {
    "colab": {
     "base_uri": "https://localhost:8080/",
     "height": 295
    },
    "executionInfo": {
     "elapsed": 1689,
     "status": "ok",
     "timestamp": 1593236982439,
     "user": {
      "displayName": "chetan vanapariya",
      "photoUrl": "",
      "userId": "09687593949013731715"
     },
     "user_tz": -330
    },
    "id": "u-m90Sq_Ghce",
    "outputId": "4c905469-3333-45d5-fd7d-86e70b4966ba"
   },
   "outputs": [
    {
     "data": {
      "image/png": "[encoded data removed]",
      "text/plain": [
       "<Figure size 432x288 with 1 Axes>"
      ]
     },
     "metadata": {
      "needs_background": "light",
      "tags": []
     },
     "output_type": "display_data"
    }
   ],
   "source": [
    "plt.plot( np.array([i for i in range(epochs_m)]), np.array(epoch_loss_m), label=\"Squared Loss\" )\n",
    "plt.legend()\n",
    "plt.xlabel(\"epochs\")\n",
    "plt.ylabel(\"loss\")\n",
    "plt.title(\"Epochs Vs Loss ( Momentum update of weights)\")\n",
    "plt.grid()\n",
    "plt.show()"
   ]
  },
  {
   "cell_type": "code",
   "execution_count": null,
   "metadata": {
    "colab": {
     "base_uri": "https://localhost:8080/",
     "height": 69
    },
    "executionInfo": {
     "elapsed": 5509,
     "status": "ok",
     "timestamp": 1593237372396,
     "user": {
      "displayName": "chetan vanapariya",
      "photoUrl": "",
      "userId": "09687593949013731715"
     },
     "user_tz": -330
    },
    "id": "72rRC8rJGhf5",
    "outputId": "65e22aed-90d9-4afa-cba9-021306f65588"
   },
   "outputs": [
    {
     "data": {
      "text/plain": [
       "(array([0.67060786, 0.58676578, 0.97667923, 0.95463654, 0.90107234,\n",
       "        0.9021703 , 0.84673644, 0.90595431, 1.01726725]),\n",
       " 4.7562618865141096e-05)"
      ]
     },
     "execution_count": 88,
     "metadata": {
      "tags": []
     },
     "output_type": "execute_result"
    }
   ],
   "source": [
    "W = np.ones(9)*0.1\n",
    "dw_arr = np.zeros(9)\n",
    "learning_rate = 0.0001\n",
    "epsilon_adam = 10**(-8)\n",
    "\n",
    "epochs_adam = 100\n",
    "epoch_loss_adam = []\n",
    "\n",
    "m_prev = np.zeros(9)\n",
    "v_prev = np.zeros(9)\n",
    "Beta1 = 0.9\n",
    "Beta2 = 0.999\n",
    "\n",
    "for e in range(0, epochs_adam ):\n",
    "  loss_of_each_point = []\n",
    "  for i in range(len(X)):\n",
    "      d2 = forward_propagation(X[i] , y[i] , W )\n",
    "      loss_of_each_point.append( d2['loss'] )\n",
    "      dw_back = backward_propagation(X[i] , W , d2 )\n",
    "\n",
    "      dw_arr[0] = dw_back['dw1']\n",
    "      dw_arr[1] = dw_back['dw2']\n",
    "      dw_arr[2] = dw_back['dw3']\n",
    "      dw_arr[3] = dw_back['dw4']\n",
    "      dw_arr[4] = dw_back['dw5']\n",
    "      dw_arr[5] = dw_back['dw6']\n",
    "      dw_arr[6] = dw_back['dw7']\n",
    "      dw_arr[7] = dw_back['dw8']\n",
    "      dw_arr[8] = dw_back['dw9']\n",
    "\n",
    "      #W = W - ( learning_rate * dw_arr )\n",
    "      #v = ( learning_rate * dw_arr ) + ( momentum * dw_prev )\n",
    "      #W = W - v\n",
    "      m = ( Beta1 * m_prev ) + ( (1-Beta1 ) * dw_arr )\n",
    "      m_prev = m\n",
    "      v = ( Beta2 * v_prev ) + ((1-Beta2) * np.square( dw_arr ))\n",
    "      v_prev = v\n",
    "      m_hat = m / ( 1- (Beta1**(i+1)))\n",
    "      v_hat = v / ( 1- (Beta2**(i+1)))\n",
    "\n",
    "      W = W - ( learning_rate * (m_hat / ( np.sqrt(v_hat) + epsilon_adam) ) )\n",
    "  \n",
    "  avg_loss = np.mean( loss_of_each_point )\n",
    "  epoch_loss_adam.append( avg_loss )\n",
    "\n",
    "W , avg_loss"
   ]
  },
  {
   "cell_type": "code",
   "execution_count": null,
   "metadata": {
    "colab": {
     "base_uri": "https://localhost:8080/",
     "height": 295
    },
    "executionInfo": {
     "elapsed": 1737,
     "status": "ok",
     "timestamp": 1593237375343,
     "user": {
      "displayName": "chetan vanapariya",
      "photoUrl": "",
      "userId": "09687593949013731715"
     },
     "user_tz": -330
    },
    "id": "aiFRk_uFlm2V",
    "outputId": "23c892d1-2089-4a8a-dcf2-d401363f2a76"
   },
   "outputs": [
    {
     "data": {
      "image/png": "[encoded data removed]",
      "text/plain": [
       "<Figure size 432x288 with 1 Axes>"
      ]
     },
     "metadata": {
      "needs_background": "light",
      "tags": []
     },
     "output_type": "display_data"
    }
   ],
   "source": [
    "plt.plot( np.array([i for i in range(epochs_adam)]), np.array(epoch_loss_adam ), label=\"(Adam)Squared Loss\" )\n",
    "plt.legend()\n",
    "plt.xlabel(\"epochs\")\n",
    "plt.ylabel(\"loss\")\n",
    "plt.title(\"Epochs Vs Loss ( Adam optimizer )\")\n",
    "plt.grid()\n",
    "plt.show()"
   ]
  },
  {
   "cell_type": "code",
   "execution_count": null,
   "metadata": {
    "colab": {
     "base_uri": "https://localhost:8080/",
     "height": 34
    },
    "executionInfo": {
     "elapsed": 3445,
     "status": "ok",
     "timestamp": 1593235021840,
     "user": {
      "displayName": "chetan vanapariya",
      "photoUrl": "",
      "userId": "09687593949013731715"
     },
     "user_tz": -330
    },
    "id": "scleSfIXl_bC",
    "outputId": "8e81a292-615b-497b-8f6f-2d899033c921"
   },
   "outputs": [
    {
     "data": {
      "text/plain": [
       "1e-08"
      ]
     },
     "execution_count": 61,
     "metadata": {
      "tags": []
     },
     "output_type": "execute_result"
    }
   ],
   "source": [
    "#epsilon_adam = 1.0e-08\n",
    "#np.power(10,8)\n",
    "10**(-8)"
   ]
  },
  {
   "cell_type": "code",
   "execution_count": null,
   "metadata": {
    "colab": {
     "base_uri": "https://localhost:8080/",
     "height": 295
    },
    "executionInfo": {
     "elapsed": 1829,
     "status": "ok",
     "timestamp": 1593237381384,
     "user": {
      "displayName": "chetan vanapariya",
      "photoUrl": "",
      "userId": "09687593949013731715"
     },
     "user_tz": -330
    },
    "id": "lfXSaOP8rjBY",
    "outputId": "a29bef7b-9c18-4f85-a141-343ef1365d05"
   },
   "outputs": [
    {
     "data": {
      "image/png": "[encoded data removed]",
      "text/plain": [
       "<Figure size 432x288 with 1 Axes>"
      ]
     },
     "metadata": {
      "needs_background": "light",
      "tags": []
     },
     "output_type": "display_data"
    }
   ],
   "source": [
    "plt.plot( np.array([i for i in range(epochs)]), np.array(epoch_loss), label=\"(Vanilla)Squared Loss\" )\n",
    "\n",
    "plt.plot( np.array([i for i in range(epochs_m)]), np.array(epoch_loss_m ), label=\"(Momentum)Squared Loss\" )\n",
    "\n",
    "plt.plot( np.array([i for i in range(epochs_adam)]), np.array(epoch_loss_adam ), label=\"(Adam)Squared Loss\" )\n",
    "\n",
    "plt.legend()\n",
    "plt.xlabel(\"epochs\")\n",
    "plt.ylabel(\"loss\")\n",
    "plt.title(\"Epochs Vs Loss ( different optimizers )\")\n",
    "plt.grid()\n",
    "plt.show()"
   ]
  }
 ],
 "metadata": {
  "colab": {
   "collapsed_sections": [
    "STS4NrQQc6OH",
    "0ufbFBFfhgL0"
   ],
   "name": "Backpropagation_assignment_practice.ipynb",
   "provenance": []
  },
  "kernelspec": {
   "display_name": "Python 3",
   "language": "python",
   "name": "python3"
  },
  "language_info": {
   "codemirror_mode": {
    "name": "ipython",
    "version": 3
   },
   "file_extension": ".py",
   "mimetype": "text/x-python",
   "name": "python",
   "nbconvert_exporter": "python",
   "pygments_lexer": "ipython3",
   "version": "3.7.3"
  }
 },
 "nbformat": 4,
 "nbformat_minor": 1
}
