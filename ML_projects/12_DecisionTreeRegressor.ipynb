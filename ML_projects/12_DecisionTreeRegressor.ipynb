{
 "cells": [
  {
   "cell_type": "code",
   "execution_count": 0,
   "metadata": {
    "colab": {},
    "colab_type": "code",
    "id": "m6ag91ijrQOs"
   },
   "outputs": [],
   "source": [
    "import numpy as np # importing numpy for numerical computation\n",
    "from sklearn.datasets import load_boston # here we are using sklearn's boston dataset\n",
    "from sklearn.metrics import mean_squared_error # importing mean_squared_error metric\n",
    "from sklearn.tree import DecisionTreeRegressor\n",
    "import random\n",
    "from prettytable import PrettyTable"
   ]
  },
  {
   "cell_type": "code",
   "execution_count": 0,
   "metadata": {
    "colab": {},
    "colab_type": "code",
    "id": "CcHOsONTt1K_"
   },
   "outputs": [],
   "source": [
    "boston = load_boston()\n",
    "x=boston.data #independent variables\n",
    "y=boston.target #target variable"
   ]
  },
  {
   "cell_type": "code",
   "execution_count": 25,
   "metadata": {
    "colab": {
     "base_uri": "https://localhost:8080/",
     "height": 34
    },
    "colab_type": "code",
    "executionInfo": {
     "elapsed": 1201,
     "status": "ok",
     "timestamp": 1590429090312,
     "user": {
      "displayName": "chetan vanapariya",
      "photoUrl": "",
      "userId": "09687593949013731715"
     },
     "user_tz": -330
    },
    "id": "pc1htEFYuLRj",
    "outputId": "c5f2f89b-2ac8-4569-8f08-2fe0a015202a"
   },
   "outputs": [
    {
     "data": {
      "text/plain": [
       "(506, 13)"
      ]
     },
     "execution_count": 25,
     "metadata": {
      "tags": []
     },
     "output_type": "execute_result"
    }
   ],
   "source": [
    "x.shape"
   ]
  },
  {
   "cell_type": "code",
   "execution_count": 26,
   "metadata": {
    "colab": {
     "base_uri": "https://localhost:8080/",
     "height": 278
    },
    "colab_type": "code",
    "executionInfo": {
     "elapsed": 1329,
     "status": "ok",
     "timestamp": 1590429092957,
     "user": {
      "displayName": "chetan vanapariya",
      "photoUrl": "",
      "userId": "09687593949013731715"
     },
     "user_tz": -330
    },
    "id": "kQle3T_wuOa3",
    "outputId": "edd0e430-4ce5-4c3c-f804-38145086a239"
   },
   "outputs": [
    {
     "data": {
      "text/plain": [
       "array([[6.3200e-03, 1.8000e+01, 2.3100e+00, 0.0000e+00, 5.3800e-01,\n",
       "        6.5750e+00, 6.5200e+01, 4.0900e+00, 1.0000e+00, 2.9600e+02,\n",
       "        1.5300e+01, 3.9690e+02, 4.9800e+00],\n",
       "       [2.7310e-02, 0.0000e+00, 7.0700e+00, 0.0000e+00, 4.6900e-01,\n",
       "        6.4210e+00, 7.8900e+01, 4.9671e+00, 2.0000e+00, 2.4200e+02,\n",
       "        1.7800e+01, 3.9690e+02, 9.1400e+00],\n",
       "       [2.7290e-02, 0.0000e+00, 7.0700e+00, 0.0000e+00, 4.6900e-01,\n",
       "        7.1850e+00, 6.1100e+01, 4.9671e+00, 2.0000e+00, 2.4200e+02,\n",
       "        1.7800e+01, 3.9283e+02, 4.0300e+00],\n",
       "       [3.2370e-02, 0.0000e+00, 2.1800e+00, 0.0000e+00, 4.5800e-01,\n",
       "        6.9980e+00, 4.5800e+01, 6.0622e+00, 3.0000e+00, 2.2200e+02,\n",
       "        1.8700e+01, 3.9463e+02, 2.9400e+00],\n",
       "       [6.9050e-02, 0.0000e+00, 2.1800e+00, 0.0000e+00, 4.5800e-01,\n",
       "        7.1470e+00, 5.4200e+01, 6.0622e+00, 3.0000e+00, 2.2200e+02,\n",
       "        1.8700e+01, 3.9690e+02, 5.3300e+00]])"
      ]
     },
     "execution_count": 26,
     "metadata": {
      "tags": []
     },
     "output_type": "execute_result"
    }
   ],
   "source": [
    "x[:5]"
   ]
  },
  {
   "cell_type": "code",
   "execution_count": 0,
   "metadata": {
    "colab": {},
    "colab_type": "code",
    "id": "Ph_6D2SDzz7F"
   },
   "outputs": [],
   "source": [
    "def generating_samples(input_data, target_data):\n",
    "\n",
    "    '''In this function, we will write code for generating 30 samples '''\n",
    "    # you can use random.choice to generate random indices without replacement\n",
    "    # Please have a look at this link https://docs.scipy.org/doc/numpy-1.16.0/reference/generated/numpy.random.choice.html for more details\n",
    "    # Please follow above pseudo code for generating samples \n",
    "    x = input_data\n",
    "    y = target_data\n",
    "\n",
    "    total_columns = [i for i in range(0, len( x[0] ) ) ]\n",
    "    # Here, taking 3 columns in each sample\n",
    "    selecting_columns = np.random.choice(total_columns ,size=3, replace=False )\n",
    "\n",
    "    # getting 303 random rows\n",
    "    indx_list_1st = [i for i in range(0, len( x ) ) ]\n",
    "    no_of_1st_sample = int(len( x ) * 0.60)\n",
    "    #\n",
    "    selecting_rows = np.random.choice(indx_list_1st ,size=no_of_1st_sample , replace=False )\n",
    "    sample_data = x[ selecting_rows ]\n",
    "    sample_data = sample_data[0: , selecting_columns]\n",
    "\n",
    "    # getting 203 random rows out of sample data\n",
    "    indx_list_2nd = [i for i in range(0, len( sample_data ) ) ]\n",
    "    no_of_2nd_sample = 1 + int(len( x ) * 0.40)\n",
    "    #\n",
    "    replicating_rows = np.random.choice(indx_list_2nd ,size=no_of_2nd_sample, replace=False )\n",
    "    replicated_sample_data = sample_data[replicating_rows]\n",
    "\n",
    "    #target\n",
    "    target_of_sample_data = y[ selecting_rows ]\n",
    "    target_of_replicated_sample_data = target_of_sample_data[ replicating_rows ]\n",
    "\n",
    "    #temp = target_of_sample_data.reshape(-1,1)\n",
    "    final_sample_data = np.vstack(( sample_data , replicated_sample_data ))\n",
    "    final_target_data = np.vstack(( target_of_sample_data.reshape(-1,1) , target_of_replicated_sample_data.reshape(-1 , 1 ) ))\n",
    "\n",
    "    return final_sample_data , final_target_data, selecting_rows, selecting_columns"
   ]
  },
  {
   "cell_type": "code",
   "execution_count": 0,
   "metadata": {
    "colab": {},
    "colab_type": "code",
    "id": "XXlKWjCcBvTk"
   },
   "outputs": [],
   "source": [
    "# Use generating_samples function to create 30 samples \n",
    "# store these created samples in a list\n",
    "list_input_data =[]\n",
    "list_output_data =[]\n",
    "list_selected_row= []\n",
    "list_selected_columns=[]\n",
    "\n",
    "def get_30_samples():\n",
    "  list_input_data =[]\n",
    "  list_output_data =[]\n",
    "  list_selected_row= []\n",
    "  list_selected_columns=[]\n",
    "\n",
    "  for i in range(0,30):\n",
    "    a,b,c,d = generating_samples(x, y)\n",
    "    list_input_data.append(a)\n",
    "    list_output_data.append(b)\n",
    "    list_selected_row.append(c)\n",
    "    list_selected_columns.append(d)\n",
    "\n",
    "  return list_input_data, list_output_data, list_selected_row, list_selected_columns\n",
    "\n",
    "# get 30 samples\n",
    "list_input_data, list_output_data, selected_rows, selected_columns = get_30_samples()"
   ]
  },
  {
   "cell_type": "code",
   "execution_count": 0,
   "metadata": {
    "colab": {},
    "colab_type": "code",
    "id": "YWQp6tRwMthq"
   },
   "outputs": [],
   "source": [
    "def get_std_of_samples(list_input_data):\n",
    "  input_data_a = np.array(list_input_data)\n",
    "  std = input_data_a.std()\n",
    "  #std / np.sqrt(len(list_input_data))\n",
    "  return std\n",
    "\n",
    "def get_mean_of_samples(input_data):\n",
    "  input_data_a = np.array(input_data)\n",
    "  mean = input_data_a.mean()\n",
    "  #sample_mean.clear()\n",
    "  #sample_mean.append(mean)\n",
    "  return mean\n",
    "\n",
    "def get_list_of_all_models():\n",
    "  l_input_data, l_output_data, selected_rows, selected_columns = get_30_samples()\n",
    "  #reset_mean_of_samples( list_input_data )\n",
    "  list_input_data.clear()\n",
    "  list_output_data.clear()\n",
    "  list_selected_row.clear()\n",
    "  list_selected_columns.clear()\n",
    "\n",
    "  list_input_data.append( l_input_data )\n",
    "  list_output_data.append( l_output_data )\n",
    "  list_selected_row.append( selected_rows )\n",
    "  list_selected_columns.append( selected_columns )\n",
    "\n",
    "  list_of_all_models = []\n",
    "  model = [0 for i in range(0, len(l_input_data))]\n",
    "  for indx , input_data in enumerate(l_input_data):\n",
    "    #print(indx)\n",
    "    model[indx] = DecisionTreeRegressor(max_depth=None,ccp_alpha=0.001)\n",
    "    model[indx] = model[indx].fit(input_data , l_output_data[indx] )\n",
    "    list_of_all_models.append( model[indx] )\n",
    "  return list_of_all_models"
   ]
  },
  {
   "cell_type": "code",
   "execution_count": 0,
   "metadata": {
    "colab": {},
    "colab_type": "code",
    "id": "qWhcvMRWRA9b"
   },
   "outputs": [],
   "source": [
    "def column_sampling(size_of_sample):\n",
    "    total_columns = [i for i in range(0, len( x[0] ) ) ]\n",
    "    selecting_columns = np.random.choice(total_columns , size=size_of_sample , replace=False )\n",
    "    return selecting_columns\n",
    "\n",
    "list_of_models = []\n",
    "\n",
    "def get_y_pred_for_all_models():\n",
    "  list_of_all_models = get_list_of_all_models()\n",
    "  list_of_models.clear()\n",
    "  list_of_models.append( list_of_all_models )\n",
    "  \n",
    "  y_pred_list = []\n",
    "  for indx , model in enumerate(list_of_all_models):\n",
    "    column_sampled = column_sampling(3)\n",
    "    y_pred_list.append(  model.predict(x[0: , column_sampled ]) )\n",
    "  return y_pred_list\n",
    "\n",
    "def get_mean_squared_error():\n",
    "  y_pred_list = get_y_pred_for_all_models()\n",
    "  \n",
    "  y_pred = np.median(y_pred_list , axis = 0)\n",
    "\n",
    "  #https://www.kaggle.com/shreayan98c/boston-house-price-prediction\n",
    "\n",
    "  mean_squared_error1 = mean_squared_error(y, y_pred)\n",
    "\n",
    "  return mean_squared_error1"
   ]
  },
  {
   "cell_type": "code",
   "execution_count": 0,
   "metadata": {
    "colab": {},
    "colab_type": "code",
    "id": "Fog_6DNdS-h_"
   },
   "outputs": [],
   "source": [
    "\n",
    "def load_not_covered_datapoints():\n",
    "  total_columns = [i for i in range(0, len( x[0] ) ) ]\n",
    "  total_rows = [i for i in range(0, len( x ) ) ]\n",
    "\n",
    "  not_covered_rows = []\n",
    "  not_covered_columns = []\n",
    "  # for OOB score, we are considering only those datapoints which are not incuded in previous prediction\n",
    "  for idx , sample_rows in enumerate( list_selected_row[0] ):\n",
    "\n",
    "    not_covered_rows.append( set(total_rows) - set(sample_rows) )\n",
    "    \n",
    "    not_covered_columns.append( set(total_columns) - set( list_selected_columns[0][idx] ) )\n",
    "\n",
    "  return not_covered_rows , not_covered_columns\n",
    "\n",
    "\n",
    "def get_all_oobmodels():\n",
    "  not_covered_rows , not_covered_columns = load_not_covered_datapoints()\n",
    "\n",
    "  list_of_all_oobmodels = []\n",
    "  oobmodel = [0 for i in range(0, len(not_covered_rows))]\n",
    "\n",
    "  for indx , rows in enumerate(not_covered_rows):\n",
    "    #print(indx)\n",
    "    oobmodel[indx] = DecisionTreeRegressor(max_depth=None, ccp_alpha=0.001)\n",
    "    oob_sample_data = x[ list(not_covered_rows[indx]) ]\n",
    "    oob_sample_data = oob_sample_data[0: , list(not_covered_columns[indx])]\n",
    "    \n",
    "    oobmodel[indx] = oobmodel[indx].fit( oob_sample_data , y[ list(not_covered_rows[indx]) ] )\n",
    "    list_of_all_oobmodels.append( oobmodel[indx] )\n",
    "\n",
    "  return list_of_all_oobmodels\n",
    "\n",
    "\n",
    "def column_sampling_oob():\n",
    "    total_columns = [i for i in range(0, len( x[0] ) ) ]\n",
    "    selecting_columns = np.random.choice(total_columns ,size=10, replace=False )\n",
    "    return selecting_columns\n",
    "\n",
    "def get_y_pred_for_oob():\n",
    "  list_of_all_oobmodels = get_all_oobmodels()\n",
    "  y_pred_oob = []\n",
    "\n",
    "  for indx , model in enumerate(list_of_all_oobmodels):\n",
    "    column_sampled = column_sampling_oob()\n",
    "    y_pred_oob.append(  model.predict(x[0: , column_sampled ]) )\n",
    "\n",
    "  return y_pred_oob\n",
    "\n",
    "\n",
    "def get_ooB_score():\n",
    "  y_pred_ooB_score = get_y_pred_for_oob()\n",
    "\n",
    "  y_pred_for_oob = np.median(np.asarray( y_pred_ooB_score ), axis = 0)\n",
    "\n",
    "  #\n",
    "\n",
    "  oob_score = mean_squared_error(y, y_pred_for_oob)\n",
    "  return oob_score"
   ]
  },
  {
   "cell_type": "code",
   "execution_count": 0,
   "metadata": {
    "colab": {},
    "colab_type": "code",
    "id": "ceW5-D88Uswi"
   },
   "outputs": [],
   "source": [
    "MSE = []\n",
    "OOB = []\n",
    "\n",
    "def get_35_times_MSE_OOB():\n",
    "  MSE = []\n",
    "  OOB = []\n",
    "  sample_mean_list = []\n",
    "  sample_std_list = []\n",
    "\n",
    "  for i in range(0,35):\n",
    "    MSE.append( get_mean_squared_error() )\n",
    "    OOB.append( get_ooB_score() )\n",
    "    sample_mean_list.append( get_mean_of_samples( list_input_data[0] ) )\n",
    "    sample_std_list.append( get_std_of_samples( list_input_data[0] ))\n",
    "\n",
    "  return MSE , OOB , sample_mean_list , sample_std_list\n",
    "\n",
    "MSE , OOB , sample_mean_list , sample_std_list = get_35_times_MSE_OOB()"
   ]
  },
  {
   "cell_type": "code",
   "execution_count": 39,
   "metadata": {
    "colab": {
     "base_uri": "https://localhost:8080/",
     "height": 712
    },
    "colab_type": "code",
    "executionInfo": {
     "elapsed": 1283,
     "status": "ok",
     "timestamp": 1590429258384,
     "user": {
      "displayName": "chetan vanapariya",
      "photoUrl": "",
      "userId": "09687593949013731715"
     },
     "user_tz": -330
    },
    "id": "lhSCBOb2pr5O",
    "outputId": "d968bbb4-296e-4930-dab6-f84c1b534afb"
   },
   "outputs": [
    {
     "name": "stdout",
     "output_type": "stream",
     "text": [
      "confidence interval with mean squared error\n",
      "+----------+-------------+-------------+---------+----------+-----------+\n",
      "| #samples | Sample Size | Sample mean | Mean SE | Left C.I | Right C.I |\n",
      "+----------+-------------+-------------+---------+----------+-----------+\n",
      "|    1     |      30     |    84.098   |  78.562 |  55.411  |  112.784  |\n",
      "|    2     |      30     |    71.497   |  86.048 |  40.076  |  102.917  |\n",
      "|    3     |      30     |    60.873   |  84.787 |  29.914  |   91.833  |\n",
      "|    4     |      30     |    64.021   | 114.937 |  22.052  |   105.99  |\n",
      "|    5     |      30     |    69.853   |  91.281 |  36.522  |  103.184  |\n",
      "|    6     |      30     |    78.986   |  77.314 |  50.755  |  107.217  |\n",
      "|    7     |      30     |    91.12    |  85.374 |  59.946  |  122.294  |\n",
      "|    8     |      30     |   102.072   | 104.494 |  63.917  |  140.228  |\n",
      "|    9     |      30     |    67.221   |  79.085 |  38.344  |   96.099  |\n",
      "|    10    |      30     |    56.779   |  93.411 |  22.67   |   90.888  |\n",
      "|    11    |      30     |    60.319   |  81.846 |  30.434  |   90.205  |\n",
      "|    12    |      30     |    58.844   |  87.702 |  26.819  |   90.868  |\n",
      "|    13    |      30     |    78.064   |  79.02  |  49.21   |  106.918  |\n",
      "|    14    |      30     |   102.482   |  90.491 |  69.439  |  135.524  |\n",
      "|    15    |      30     |    67.07    |  84.394 |  36.254  |   97.887  |\n",
      "|    16    |      30     |    77.676   | 128.358 |  30.806  |  124.545  |\n",
      "|    17    |      30     |    70.292   |  87.778 |  38.24   |  102.344  |\n",
      "|    18    |      30     |    67.194   |  79.887 |  38.023  |   96.364  |\n",
      "|    19    |      30     |    59.321   | 120.661 |  15.262  |   103.38  |\n",
      "|    20    |      30     |    87.399   |  86.521 |  55.806  |  118.992  |\n",
      "|    21    |      30     |    85.196   |  88.301 |  52.953  |  117.438  |\n",
      "|    22    |      30     |    91.741   |  87.764 |  59.694  |  123.788  |\n",
      "|    23    |      30     |    60.226   |  83.297 |  29.81   |   90.642  |\n",
      "|    24    |      30     |    52.58    |  90.368 |  19.582  |   85.577  |\n",
      "|    25    |      30     |    56.693   |  62.526 |  33.862  |   79.524  |\n",
      "|    26    |      30     |    77.137   |  83.318 |  46.714  |  107.561  |\n",
      "|    27    |      30     |    65.102   |  88.444 |  32.807  |   97.398  |\n",
      "|    28    |      30     |    78.67    | 103.466 |  40.89   |  116.451  |\n",
      "|    29    |      30     |    48.356   |  78.032 |  19.862  |   76.849  |\n",
      "|    30    |      30     |    57.262   |  69.331 |  31.946  |   82.578  |\n",
      "|    31    |      30     |   110.072   |  83.914 |  79.431  |  140.713  |\n",
      "|    32    |      30     |    74.804   |  71.024 |  48.869  |  100.738  |\n",
      "|    33    |      30     |    98.669   | 121.888 |  54.162  |  143.176  |\n",
      "|    34    |      30     |    63.186   |  74.061 |  36.143  |   90.23   |\n",
      "|    35    |      30     |    72.08    |  71.097 |  46.119  |   98.041  |\n",
      "+----------+-------------+-------------+---------+----------+-----------+\n"
     ]
    }
   ],
   "source": [
    "sample_size = len(list_input_data[0])\n",
    "left_limit = []\n",
    "right_limit = []\n",
    "\n",
    "#refrerence Central_Limit_theorem.ipynb\n",
    "def compute_CI():\n",
    "  left_limit.clear()\n",
    "  right_limit.clear()\n",
    "\n",
    "  for idx in range(len(MSE)):\n",
    "    sample_mean = sample_mean_list[idx]\n",
    "    sample_std = sample_std_list[idx]\n",
    "    #left_limit.append( np.round(sample_mean - 2*(sample_std/np.sqrt(sample_size)), 3) )\n",
    "    #right_limit.append( np.round(sample_mean + 2*(sample_std/np.sqrt(sample_size)), 3))\n",
    "    left_limit.append( np.round(sample_mean - 2*(MSE[idx]/np.sqrt(sample_size)), 3) )\n",
    "    right_limit.append( np.round(sample_mean + 2*(MSE[idx]/np.sqrt(sample_size)), 3))\n",
    "\n",
    "compute_CI()\n",
    "\n",
    "print(\"confidence interval with mean squared error\")\n",
    "t = PrettyTable()\n",
    "t = PrettyTable([\"#samples\", \"Sample Size\", \"Sample mean\", \"Mean SE\",\"Left C.I\",\"Right C.I\"])\n",
    "for i in range(len(MSE)):\n",
    "    row = []\n",
    "    row.append(i+1)\n",
    "    row.append(sample_size)\n",
    "    row.append(np.round(sample_mean_list[i] , 3) )\n",
    "    row.append(np.round(MSE[i] , 3) )\n",
    "    row.append(left_limit[i])\n",
    "    row.append(right_limit[i])\n",
    "    \n",
    "    t.add_row(row)\n",
    "print(t)"
   ]
  },
  {
   "cell_type": "code",
   "execution_count": 43,
   "metadata": {
    "colab": {
     "base_uri": "https://localhost:8080/",
     "height": 712
    },
    "colab_type": "code",
    "executionInfo": {
     "elapsed": 1421,
     "status": "ok",
     "timestamp": 1590429292439,
     "user": {
      "displayName": "chetan vanapariya",
      "photoUrl": "",
      "userId": "09687593949013731715"
     },
     "user_tz": -330
    },
    "id": "pYiWSj54p6vm",
    "outputId": "13cd3def-7a3d-454a-9e5a-6e9f3f729566"
   },
   "outputs": [
    {
     "name": "stdout",
     "output_type": "stream",
     "text": [
      "confidence interval with OOB score\n",
      "+----------+-------------+-------------+-----------+----------+-----------+\n",
      "| #samples | Sample Size | Sample mean | OOB score | Left C.I | Right C.I |\n",
      "+----------+-------------+-------------+-----------+----------+-----------+\n",
      "|    1     |      30     |    67.097   |  151.307  |  11.847  |  122.346  |\n",
      "|    2     |      30     |    75.757   |  136.327  |  25.977  |  125.537  |\n",
      "|    3     |      30     |    84.721   |  118.547  |  41.434  |  128.009  |\n",
      "|    4     |      30     |    40.821   |   70.877  |  14.941  |   66.702  |\n",
      "|    5     |      30     |    70.86    |  227.899  | -12.357  |  154.077  |\n",
      "|    6     |      30     |    51.85    |  102.319  |  14.488  |   89.212  |\n",
      "|    7     |      30     |    72.597   |  112.719  |  31.438  |  113.756  |\n",
      "|    8     |      30     |    57.007   |  193.566  | -13.673  |  127.687  |\n",
      "|    9     |      30     |    73.238   |   61.636  |  50.731  |   95.744  |\n",
      "|    10    |      30     |    46.729   |   89.092  |  14.197  |   79.261  |\n",
      "|    11    |      30     |    89.381   |   74.871  |  62.042  |   116.72  |\n",
      "|    12    |      30     |    82.354   |  203.681  |  7.981   |  156.728  |\n",
      "|    13    |      30     |    65.123   |  109.688  |  25.07   |  105.175  |\n",
      "|    14    |      30     |    73.289   |   72.288  |  46.893  |   99.685  |\n",
      "|    15    |      30     |    67.899   |   58.602  |  46.501  |   89.298  |\n",
      "|    16    |      30     |    69.753   |  118.386  |  26.525  |  112.982  |\n",
      "|    17    |      30     |    76.762   |   69.024  |  51.558  |  101.966  |\n",
      "|    18    |      30     |    70.383   |   87.085  |  38.584  |  102.182  |\n",
      "|    19    |      30     |    50.61    |  216.753  | -28.537  |  129.757  |\n",
      "|    20    |      30     |    77.584   |   93.147  |  43.571  |  111.596  |\n",
      "|    21    |      30     |    66.628   |  182.323  |  0.053   |  133.203  |\n",
      "|    22    |      30     |    56.848   |  247.747  | -33.617  |  147.312  |\n",
      "|    23    |      30     |    67.786   |  361.251  | -64.124  |  199.696  |\n",
      "|    24    |      30     |    80.097   |  121.676  |  35.667  |  124.527  |\n",
      "|    25    |      30     |    65.582   |   93.968  |  31.27   |   99.895  |\n",
      "|    26    |      30     |    53.448   |   84.507  |  22.59   |   84.306  |\n",
      "|    27    |      30     |    58.596   |   75.028  |  31.199  |   85.992  |\n",
      "|    28    |      30     |    71.063   |   81.042  |  41.471  |  100.656  |\n",
      "|    29    |      30     |    49.777   |   73.609  |  22.898  |   76.655  |\n",
      "|    30    |      30     |    45.784   |   62.669  |   22.9   |   68.667  |\n",
      "|    31    |      30     |    69.655   |   69.328  |  44.34   |   94.97   |\n",
      "|    32    |      30     |    65.006   |   84.643  |  34.099  |   95.913  |\n",
      "|    33    |      30     |    71.023   |   87.922  |  38.918  |  103.127  |\n",
      "|    34    |      30     |    72.933   |   82.022  |  42.983  |  102.883  |\n",
      "|    35    |      30     |    69.265   |   66.47   |  44.994  |   93.537  |\n",
      "+----------+-------------+-------------+-----------+----------+-----------+\n"
     ]
    }
   ],
   "source": [
    "sample_size = len(list_input_data[0])\n",
    "left_limit_oob = []\n",
    "right_limit_oob = []\n",
    "\n",
    "#refrerence Central_Limit_theorem.ipynb\n",
    "def compute_CI_for_OOB():\n",
    "  left_limit.clear()\n",
    "  right_limit.clear()\n",
    "\n",
    "  for idx in range(len(OOB)):\n",
    "    sample_mean = sample_mean_list[idx]\n",
    "    sample_std = sample_std_list[idx]\n",
    "    #left_limit.append( np.round(sample_mean - 2*(sample_std/np.sqrt(sample_size)), 3) )\n",
    "    #right_limit.append( np.round(sample_mean + 2*(sample_std/np.sqrt(sample_size)), 3))\n",
    "    left_limit_oob.append( np.round(sample_mean - 2*(OOB[idx]/np.sqrt(sample_size)), 3) )\n",
    "    right_limit_oob.append( np.round(sample_mean + 2*(OOB[idx]/np.sqrt(sample_size)), 3))\n",
    "\n",
    "compute_CI_for_OOB()\n",
    "\n",
    "print(\"confidence interval with OOB score\")\n",
    "tb = PrettyTable()\n",
    "tb = PrettyTable([\"#samples\", \"Sample Size\", \"Sample mean\", \"OOB score\",\"Left C.I\",\"Right C.I\"])\n",
    "for i in range(len(OOB)):\n",
    "    row = []\n",
    "    row.append(i+1)\n",
    "    row.append(sample_size)\n",
    "    row.append(np.round(sample_mean_list[i] , 3) )\n",
    "    row.append(np.round(OOB[i] , 3) )\n",
    "    row.append(left_limit_oob[i])\n",
    "    row.append(right_limit_oob[i])\n",
    "    \n",
    "    tb.add_row(row)\n",
    "print(tb)"
   ]
  },
  {
   "cell_type": "code",
   "execution_count": 49,
   "metadata": {
    "colab": {
     "base_uri": "https://localhost:8080/",
     "height": 34
    },
    "colab_type": "code",
    "executionInfo": {
     "elapsed": 1509,
     "status": "ok",
     "timestamp": 1590429488641,
     "user": {
      "displayName": "chetan vanapariya",
      "photoUrl": "",
      "userId": "09687593949013731715"
     },
     "user_tz": -330
    },
    "id": "i_pUlSD-VYD1",
    "outputId": "d5255e79-fd47-4d25-c6b3-5fead3152bd5"
   },
   "outputs": [
    {
     "name": "stdout",
     "output_type": "stream",
     "text": [
      "predicted price for given query point is = 23.799999999999997\n"
     ]
    }
   ],
   "source": [
    "xq= [0.18,20.0,5.00,0.0,0.421,5.60,72.2,7.95,7.0,30.0,19.1,372.13,18.60]\n",
    "xq = np.array(xq).reshape(1,-1)\n",
    "\n",
    "y_prediction = []\n",
    "\n",
    "for idx , each_model in enumerate(list_of_models[0]):\n",
    "  column_sampled = column_sampling(3)\n",
    "  y_prediction.append( each_model.predict( xq[ 0: ,column_sampled ] ) )\n",
    "\n",
    "\n",
    "y_pred_median = np.median(np.asarray( y_prediction ), axis = 0)\n",
    "print(\"predicted price for given query point is = {0}\".format(y_pred_median[0]) )"
   ]
  }
 ],
 "metadata": {
  "colab": {
   "collapsed_sections": [],
   "name": "12_Bootstrap_assignment_A.ipynb",
   "provenance": []
  },
  "kernelspec": {
   "display_name": "Python 3",
   "language": "python",
   "name": "python3"
  },
  "language_info": {
   "codemirror_mode": {
    "name": "ipython",
    "version": 3
   },
   "file_extension": ".py",
   "mimetype": "text/x-python",
   "name": "python",
   "nbconvert_exporter": "python",
   "pygments_lexer": "ipython3",
   "version": "3.7.3"
  }
 },
 "nbformat": 4,
 "nbformat_minor": 1
}
