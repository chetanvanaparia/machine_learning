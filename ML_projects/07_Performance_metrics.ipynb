{
 "cells": [
  {
   "cell_type": "markdown",
   "metadata": {
    "colab_type": "text",
    "id": "s0Ej_bXyQvnV"
   },
   "source": [
    "# Compute performance metrics for the given Y and Y_prediction"
   ]
  },
  {
   "cell_type": "code",
   "execution_count": 0,
   "metadata": {
    "colab": {},
    "colab_type": "code",
    "id": "4CHb6NE7Qvnc"
   },
   "outputs": [],
   "source": [
    "import numpy as np\n",
    "import pandas as pd\n",
    "# other than these two you should not import any other packages"
   ]
  },
  {
   "cell_type": "code",
   "execution_count": 0,
   "metadata": {
    "colab": {},
    "colab_type": "code",
    "id": "JtTZoezDXRxP"
   },
   "outputs": [],
   "source": [
    "data_matrix = pd.read_csv(\"5_a.csv\");\n",
    "#print(data_matrix.head(10))\n",
    "#print(data_matrix.shape)\n",
    "#print(data_matrix.size)\n",
    "\n",
    "pred_matrix = data_matrix.loc[:,['y','proba']]\n",
    "#pos_data = pred_matrix.loc[pred_matrix['proba'] > 0.5 ]\n",
    "#print(pos_data.shape)\n",
    "#print(pos_data.head(3))\n",
    "\n",
    "pred_matrix['proba'] = [ 0.0 if x < 0.5  else 1.0 for x in pred_matrix['proba']]\n",
    "#print(pred_matrix.shape)\n",
    "#print(pred_matrix.head(3))"
   ]
  },
  {
   "cell_type": "code",
   "execution_count": 0,
   "metadata": {
    "colab": {},
    "colab_type": "code",
    "id": "kdivg5CTyy5d"
   },
   "outputs": [],
   "source": [
    "\n",
    "\n",
    "def compute_confusion_matrix(pred_matrix_data, column_name):\n",
    "\n",
    "  confusion_matrix = {'TP': 0, 'FP' : 0, 'FN':0 , 'TN': 0}\n",
    "\n",
    "  true_posi , false_posi , true_nega , flase_nega = 0,0,0,0\n",
    "\n",
    "  for i in pred_matrix_data.index:\n",
    "      y = pred_matrix_data.at[i, \"y\"]\n",
    "      y_prob = pred_matrix_data.at[i, column_name]\n",
    "      if y==1 and y_prob==1 :\n",
    "        true_posi = (true_posi + 1);\n",
    "      elif y==0 and y_prob == 1 :\n",
    "        false_posi = (false_posi + 1);\n",
    "      elif y==1 and y_prob == 0 :\n",
    "        flase_nega = (flase_nega + 1);\n",
    "      elif y==0 and y_prob == 0 :\n",
    "        true_nega = (true_nega + 1);\n",
    "\n",
    "  confusion_matrix['TP'] = true_posi\n",
    "  confusion_matrix['FP'] = false_posi\n",
    "  confusion_matrix['FN'] = flase_nega\n",
    "  confusion_matrix['TN'] = true_nega\n",
    "\n",
    "  return confusion_matrix;\n",
    "\n",
    "def compute_precision(con_matrix):\n",
    "  return ( con_matrix['TP'] / ( con_matrix['TP'] + con_matrix['FP'] ) );\n",
    "\n",
    "def compute_recall(con_matrix):\n",
    "  return ( con_matrix['TP'] / ( con_matrix['TP'] + con_matrix['FN'] ) );\n",
    "\n",
    "def compute_F1_score(con_matrix):\n",
    "  prec = compute_precision( con_matrix );\n",
    "  recal = compute_recall(con_matrix);\n",
    "  return ( 2 * ( (prec * recal) / (prec + recal) ) );\n",
    "\n",
    "def compute_accuracy_score(con_matrix):\n",
    "  return (( con_matrix['TP'] + con_matrix['TN']) / (con_matrix['TP'] + con_matrix['FP'] + con_matrix['FN'] + con_matrix['TN'] ))\n",
    "\n",
    "\n",
    "def compute_fpr(con_matrix):\n",
    "  return ( con_matrix['FP'] / ( con_matrix['FP'] + con_matrix['TN'] ) );\n",
    "\n",
    "# confu_matrix_ls is list of confusion matrices of All Thresold values\n",
    "def tpr_fpr_compute( confu_matrix_ls ):\n",
    "  tpr_list = []\n",
    "  fpr_list = []\n",
    "  for con_matrix in confu_matrix_ls:\n",
    "    tpr_v = compute_recall( list(con_matrix.values())[0] );\n",
    "    fpr_v = compute_fpr( list(con_matrix.values())[0] );\n",
    "   \n",
    "    tpr_list.append(tpr_v)\n",
    "    fpr_list.append(fpr_v)\n",
    "  return tpr_list , fpr_list ;\n"
   ]
  },
  {
   "cell_type": "code",
   "execution_count": 21,
   "metadata": {
    "colab": {
     "base_uri": "https://localhost:8080/",
     "height": 86
    },
    "colab_type": "code",
    "executionInfo": {
     "elapsed": 1868,
     "status": "ok",
     "timestamp": 1588422831555,
     "user": {
      "displayName": "chetan vanapariya",
      "photoUrl": "",
      "userId": "09687593949013731715"
     },
     "user_tz": -330
    },
    "id": "rZJSf2wwW8Tp",
    "outputId": "c8a51a20-61e9-4509-9fb9-cac24adac2fc"
   },
   "outputs": [
    {
     "name": "stdout",
     "output_type": "stream",
     "text": [
      "confusion matrix :\n",
      "{'TP': 10000, 'FP': 100, 'FN': 0, 'TN': 0}\n",
      "F1_score\n",
      "0.9950248756218906\n"
     ]
    }
   ],
   "source": [
    "conf_matrix = compute_confusion_matrix(pred_matrix , 'proba');\n",
    "F1_score = compute_F1_score(conf_matrix);\n",
    "print(\"confusion matrix :\")\n",
    "print(conf_matrix)\n",
    "print(\"F1_score\")\n",
    "print(F1_score)"
   ]
  },
  {
   "cell_type": "code",
   "execution_count": 0,
   "metadata": {
    "colab": {},
    "colab_type": "code",
    "id": "ftD5TtN80lga"
   },
   "outputs": [],
   "source": [
    "thresold_unique_val = set( [ x for x in data_matrix['proba']] );\n",
    "#print(len(list(set(thresold_unique_val))))\n",
    "thresold_unique_val = sorted(list(thresold_unique_val), reverse=True)\n",
    "#data_matrix.head(5)\n",
    "# Here , Y-scores are computed by their thresold values\n",
    "for thresold in thresold_unique_val:\n",
    "  each_thresold_y = []\n",
    "  for y_score in data_matrix['proba']:\n",
    "    if y_score < thresold :\n",
    "      each_thresold_y.append(0)\n",
    "    else :\n",
    "      each_thresold_y.append(1)\n",
    "  \n",
    "  pred_matrix[thresold] = each_thresold_y"
   ]
  },
  {
   "cell_type": "code",
   "execution_count": 0,
   "metadata": {
    "colab": {},
    "colab_type": "code",
    "id": "pSf4tGOX1HvI"
   },
   "outputs": [],
   "source": [
    "#print(pred_matrix.shape)\n",
    "#pred_matrix.head(3)"
   ]
  },
  {
   "cell_type": "code",
   "execution_count": 0,
   "metadata": {
    "colab": {},
    "colab_type": "code",
    "id": "Yg-NNhix41Oo"
   },
   "outputs": [],
   "source": [
    "confu_matrix_l = []\n",
    "#confusion_matrices are computed as per their thresold values\n",
    "for thresold in thresold_unique_val:\n",
    "  confu_matrix_l.append( { thresold : compute_confusion_matrix( pred_matrix.loc[:,['y',thresold]] , thresold ) } ) ;"
   ]
  },
  {
   "cell_type": "code",
   "execution_count": 9,
   "metadata": {
    "colab": {
     "base_uri": "https://localhost:8080/",
     "height": 52
    },
    "colab_type": "code",
    "executionInfo": {
     "elapsed": 1516,
     "status": "ok",
     "timestamp": 1588443516203,
     "user": {
      "displayName": "chetan vanapariya",
      "photoUrl": "",
      "userId": "09687593949013731715"
     },
     "user_tz": -330
    },
    "id": "zvhBDbjI9sOZ",
    "outputId": "00fcc4ff-a401-4133-af15-a8f9e6909959"
   },
   "outputs": [
    {
     "name": "stdout",
     "output_type": "stream",
     "text": [
      "AUC score :\n",
      "0.48829900000000004\n"
     ]
    }
   ],
   "source": [
    "#pred_matrix_1 = pred_matrix.loc[:,['y','proba']]\n",
    "#pred_matrix_1.head(5)\n",
    "#print(list(confu_matrix_l[0].values())[0])\n",
    "\n",
    "tpr_ls , fpr_ls = tpr_fpr_compute( confu_matrix_l );\n",
    "\n",
    "auc = np.trapz( tpr_ls  , fpr_ls  )\n",
    "print(\"AUC score :\")\n",
    "print(auc)\n"
   ]
  },
  {
   "cell_type": "code",
   "execution_count": 0,
   "metadata": {
    "colab": {
     "base_uri": "https://localhost:8080/",
     "height": 52
    },
    "colab_type": "code",
    "executionInfo": {
     "elapsed": 1347,
     "status": "ok",
     "timestamp": 1588341644554,
     "user": {
      "displayName": "chetan vanapariya",
      "photoUrl": "",
      "userId": "09687593949013731715"
     },
     "user_tz": -330
    },
    "id": "OFdZGuujUPpF",
    "outputId": "1d5418a6-1393-4f1f-fbe4-49f3630917b8"
   },
   "outputs": [
    {
     "name": "stdout",
     "output_type": "stream",
     "text": [
      "accuracy_score :\n",
      "0.9900990099009901\n"
     ]
    }
   ],
   "source": [
    "accuracy_score_ = compute_accuracy_score(conf_matrix)\n",
    "print( \"accuracy_score :\" )\n",
    "print( accuracy_score_ )"
   ]
  },
  {
   "cell_type": "code",
   "execution_count": 10,
   "metadata": {
    "colab": {
     "base_uri": "https://localhost:8080/",
     "height": 295
    },
    "colab_type": "code",
    "executionInfo": {
     "elapsed": 1466,
     "status": "ok",
     "timestamp": 1588443523183,
     "user": {
      "displayName": "chetan vanapariya",
      "photoUrl": "",
      "userId": "09687593949013731715"
     },
     "user_tz": -330
    },
    "id": "Y4jx9fzjPL00",
    "outputId": "1d7f5bb3-c272-4399-a0fe-b25439f05108"
   },
   "outputs": [
    {
     "data": {
      "image/png": "[encoded data removed]",
      "text/plain": [
       "<Figure size 432x288 with 1 Axes>"
      ]
     },
     "metadata": {
      "needs_background": "light",
      "tags": []
     },
     "output_type": "display_data"
    }
   ],
   "source": [
    "import matplotlib.pyplot as plt\n",
    "\n",
    "plt.plot( np.asarray(fpr_ls ) , np.asarray(tpr_ls ) , label='ROC curve')\n",
    " \n",
    "plt.title('Receiver Operating Characteristic Curve ')\n",
    "plt.xlabel(\"FPR\")\n",
    "plt.ylabel(\"TPR\")\n",
    "plt.legend()\n",
    "plt.show()"
   ]
  },
  {
   "cell_type": "code",
   "execution_count": 0,
   "metadata": {
    "colab": {},
    "colab_type": "code",
    "id": "U2sKlq0YQvn5"
   },
   "outputs": [],
   "source": [
    "# write your code\n",
    "data_matrix_b = pd.read_csv(\"5_b.csv\");\n",
    "\n",
    "#print(data_matrix_b.shape)\n",
    "\n",
    "pred_matrix_b = data_matrix_b.loc[:,['y','proba']]\n",
    "\n",
    "pred_matrix_b['proba'] = [ 0.0 if y_pre < 0.5  else 1.0 for y_pre in pred_matrix_b['proba']]\n",
    "#print(pred_matrix_b.shape)\n",
    "#pred_matrix_b.head(5)"
   ]
  },
  {
   "cell_type": "code",
   "execution_count": 0,
   "metadata": {
    "colab": {
     "base_uri": "https://localhost:8080/",
     "height": 86
    },
    "colab_type": "code",
    "executionInfo": {
     "elapsed": 1688,
     "status": "ok",
     "timestamp": 1588328722684,
     "user": {
      "displayName": "chetan vanapariya",
      "photoUrl": "",
      "userId": "09687593949013731715"
     },
     "user_tz": -330
    },
    "id": "-8lRPyd5aalM",
    "outputId": "63938f30-6d48-4e14-fccd-7ccbba6cedb3"
   },
   "outputs": [
    {
     "name": "stdout",
     "output_type": "stream",
     "text": [
      "confusion matrix :\n",
      "{'TP': 55, 'FP': 239, 'FN': 45, 'TN': 9761}\n",
      "F1_score\n",
      "0.2791878172588833\n"
     ]
    }
   ],
   "source": [
    "conf_matrix_b = compute_confusion_matrix(pred_matrix_b , 'proba');\n",
    "print( \"confusion matrix :\" )\n",
    "print( conf_matrix_b )\n",
    "F1_score = compute_F1_score(conf_matrix_b);\n",
    "print(\"F1_score\")\n",
    "print(F1_score)"
   ]
  },
  {
   "cell_type": "code",
   "execution_count": 0,
   "metadata": {
    "colab": {},
    "colab_type": "code",
    "id": "JqzBt7Qea6mA"
   },
   "outputs": [],
   "source": [
    "thresold_unique_val = set( [ x for x in data_matrix_b['proba']] );\n",
    "# print(len(list(set(thresold_unique_val))))\n",
    "thresold_unique_val = sorted(list(thresold_unique_val), reverse=True)\n",
    "#data_matrix.head(5)\n",
    "# Here , Y-scores are computed by their thresold values\n",
    "for thresold in thresold_unique_val:\n",
    "  each_thresold_y = []\n",
    "  for y_score in data_matrix_b['proba']:\n",
    "    if y_score < thresold :\n",
    "      each_thresold_y.append(0)\n",
    "    else :\n",
    "      each_thresold_y.append(1)\n",
    "  \n",
    "  pred_matrix_b[thresold] = each_thresold_y"
   ]
  },
  {
   "cell_type": "code",
   "execution_count": 0,
   "metadata": {
    "colab": {},
    "colab_type": "code",
    "id": "7JZCBEQPbfwB"
   },
   "outputs": [],
   "source": [
    "confu_matrix_thresold = []\n",
    "#confusion_matrices are computed as per their thresold values\n",
    "for thresold in thresold_unique_val:\n",
    "  confu_matrix_thresold.append( { thresold : compute_confusion_matrix( pred_matrix_b.loc[:,['y',thresold]] , thresold ) } ) ;\n"
   ]
  },
  {
   "cell_type": "code",
   "execution_count": 18,
   "metadata": {
    "colab": {
     "base_uri": "https://localhost:8080/",
     "height": 52
    },
    "colab_type": "code",
    "executionInfo": {
     "elapsed": 1656,
     "status": "ok",
     "timestamp": 1588422724021,
     "user": {
      "displayName": "chetan vanapariya",
      "photoUrl": "",
      "userId": "09687593949013731715"
     },
     "user_tz": -330
    },
    "id": "9_0ccjmyXvk5",
    "outputId": "2e90f961-0ec8-4ce8-ff15-edee5ff8ecd8"
   },
   "outputs": [
    {
     "name": "stdout",
     "output_type": "stream",
     "text": [
      "AUC score :\n",
      "0.9377570000000001\n"
     ]
    }
   ],
   "source": [
    "tpr_ls , fpr_ls = tpr_fpr_compute( confu_matrix_thresold );\n",
    "\n",
    "auc = np.trapz( np.asarray(tpr_ls ) , np.asarray(fpr_ls ) )\n",
    "print(\"AUC score :\")\n",
    "print(auc)"
   ]
  },
  {
   "cell_type": "code",
   "execution_count": 19,
   "metadata": {
    "colab": {
     "base_uri": "https://localhost:8080/",
     "height": 295
    },
    "colab_type": "code",
    "executionInfo": {
     "elapsed": 1841,
     "status": "ok",
     "timestamp": 1588422760069,
     "user": {
      "displayName": "chetan vanapariya",
      "photoUrl": "",
      "userId": "09687593949013731715"
     },
     "user_tz": -330
    },
    "id": "zAleEiVRYViA",
    "outputId": "2b1e5e57-c70f-4118-f066-1319de6a5839"
   },
   "outputs": [
    {
     "data": {
      "image/png": "[encoded data removed]",
      "text/plain": [
       "<Figure size 432x288 with 1 Axes>"
      ]
     },
     "metadata": {
      "needs_background": "light",
      "tags": []
     },
     "output_type": "display_data"
    }
   ],
   "source": [
    "import matplotlib.pyplot as plt\n",
    "\n",
    "plt.plot( np.asarray(fpr_ls ) , np.asarray(tpr_ls ) , label='ROC curve')\n",
    " \n",
    "plt.title('Receiver Operating Characteristic Curve ')\n",
    "plt.xlabel(\"FPR\")\n",
    "plt.ylabel(\"TPR\")\n",
    "plt.legend()\n",
    "plt.show()"
   ]
  },
  {
   "cell_type": "code",
   "execution_count": 0,
   "metadata": {
    "colab": {
     "base_uri": "https://localhost:8080/",
     "height": 52
    },
    "colab_type": "code",
    "executionInfo": {
     "elapsed": 1521,
     "status": "ok",
     "timestamp": 1588328769953,
     "user": {
      "displayName": "chetan vanapariya",
      "photoUrl": "",
      "userId": "09687593949013731715"
     },
     "user_tz": -330
    },
    "id": "ZP_tAV-RxCQ2",
    "outputId": "77b7e5ef-cf67-4732-afa1-316a2fe75f48"
   },
   "outputs": [
    {
     "name": "stdout",
     "output_type": "stream",
     "text": [
      "accuracy_score :\n",
      "0.9718811881188119\n"
     ]
    }
   ],
   "source": [
    "accuracy_score_b = compute_accuracy_score(conf_matrix_b)\n",
    "print( \"accuracy_score :\")\n",
    "print( accuracy_score_b )"
   ]
  },
  {
   "cell_type": "code",
   "execution_count": 0,
   "metadata": {
    "colab": {},
    "colab_type": "code",
    "id": "x5HIJzq1QvoE"
   },
   "outputs": [],
   "source": [
    " # write your code\n",
    "data_matrix_c = pd.read_csv(\"5_c.csv\");\n",
    "\n",
    "#print(data_matrix_c.shape)\n",
    "#print(data_matrix_c.head(3))\n",
    "\n",
    "pred_matrix_c = data_matrix_c.loc[:,['y','prob']]\n",
    "\n",
    "pred_matrix_c['prob'] = [ 0 if y_pre < 0.5  else 1 for y_pre in pred_matrix_c['prob']]\n",
    "#print(pred_matrix_c.shape)"
   ]
  },
  {
   "cell_type": "code",
   "execution_count": 0,
   "metadata": {
    "colab": {},
    "colab_type": "code",
    "id": "Vc2sPjy1B6dJ"
   },
   "outputs": [],
   "source": [
    "thresold_unique_val = set( [ x for x in data_matrix_c['prob']] );\n",
    "#print(len(list(set(thresold_unique_val))))\n",
    "thresold_unique_val = sorted(list(thresold_unique_val), reverse=True)\n",
    "#data_matrix.head(5)\n",
    "# Here , Y-scores are computed by their thresold values\n",
    "for thresold in thresold_unique_val:\n",
    "  each_thresold_y = []\n",
    "  for y_score in data_matrix_c['prob']:\n",
    "    if y_score < thresold :\n",
    "      each_thresold_y.append(0)\n",
    "    else :\n",
    "      each_thresold_y.append(1)\n",
    "  \n",
    "  pred_matrix_c[thresold] = each_thresold_y"
   ]
  },
  {
   "cell_type": "code",
   "execution_count": 0,
   "metadata": {
    "colab": {},
    "colab_type": "code",
    "id": "G8PVjXlrE55e"
   },
   "outputs": [],
   "source": [
    "confu_matrix_lc = []\n",
    "#confusion_matrices are computed as per their thresold values\n",
    "for thresold in thresold_unique_val:\n",
    "  confu_matrix_lc.append( { thresold : compute_confusion_matrix( pred_matrix_c.loc[:,['y',thresold]] , thresold ) } ) ;"
   ]
  },
  {
   "cell_type": "code",
   "execution_count": 0,
   "metadata": {
    "colab": {},
    "colab_type": "code",
    "id": "-EZdh0woM5mN"
   },
   "outputs": [],
   "source": [
    "from operator import itemgetter\n",
    "\n",
    "# A=500×number of false negative+100×numebr of false positive\n",
    "\n",
    "matrix_A = []\n",
    "\n",
    "for each_conf_matrix in confu_matrix_lc:\n",
    "  keey = list( each_conf_matrix.keys())\n",
    "  velue = list( each_conf_matrix.values())\n",
    "  each_val = ( 500 * velue[0]['FN'] ) + ( 100 * velue[0]['FP'] )\n",
    "\n",
    "  matrix_A.append( { \"thresold\" : keey[0] , \"FN_FP\" : each_val })\n",
    "\n",
    "list_of_thresold = sorted( matrix_A, key=itemgetter('FN_FP') );\n"
   ]
  },
  {
   "cell_type": "code",
   "execution_count": 0,
   "metadata": {
    "colab": {
     "base_uri": "https://localhost:8080/",
     "height": 52
    },
    "colab_type": "code",
    "executionInfo": {
     "elapsed": 1283,
     "status": "ok",
     "timestamp": 1588343154983,
     "user": {
      "displayName": "chetan vanapariya",
      "photoUrl": "",
      "userId": "09687593949013731715"
     },
     "user_tz": -330
    },
    "id": "S-fEkLNcVuB2",
    "outputId": "74dc0587-a05a-4114-ab31-e9dc893ea84a"
   },
   "outputs": [
    {
     "name": "stdout",
     "output_type": "stream",
     "text": [
      "Best Thresold value for computed matrix_A\n",
      "0.2300390278970873\n"
     ]
    }
   ],
   "source": [
    "print(\"Best Thresold value for computed matrix_A\")\n",
    "print( list_of_thresold[0]['thresold'])"
   ]
  },
  {
   "cell_type": "code",
   "execution_count": 0,
   "metadata": {
    "colab": {},
    "colab_type": "code",
    "id": "DWQnWDRpaWNa"
   },
   "outputs": [],
   "source": [
    "data_matrix_d = pd.read_csv(\"5_d.csv\");\n",
    "\n",
    "#print(data_matrix_d.shape)\n",
    "#print(data_matrix_d.head(3))\n",
    "\n",
    "pred_matrix_d = data_matrix_d.loc[:,['y','pred']]\n",
    "#print(data_matrix_d.head(3))\n",
    "#print(pred_matrix_d.shape)"
   ]
  },
  {
   "cell_type": "code",
   "execution_count": 0,
   "metadata": {
    "colab": {
     "base_uri": "https://localhost:8080/",
     "height": 52
    },
    "colab_type": "code",
    "executionInfo": {
     "elapsed": 3173,
     "status": "ok",
     "timestamp": 1588343169280,
     "user": {
      "displayName": "chetan vanapariya",
      "photoUrl": "",
      "userId": "09687593949013731715"
     },
     "user_tz": -330
    },
    "id": "Dv7eV1mYgugU",
    "outputId": "0eee0593-07c5-4bc6-d9b8-a47794107e40"
   },
   "outputs": [
    {
     "name": "stdout",
     "output_type": "stream",
     "text": [
      "Mean Square Error :\n",
      "177.16569974554707\n"
     ]
    }
   ],
   "source": [
    "\n",
    "def compute_Mean_Square_Error(pred_matrix_d):\n",
    "  sum_of_y_2 = 0 \n",
    "  n = 0\n",
    "  for i in pred_matrix_d.index:\n",
    "        n = i\n",
    "        y = pred_matrix_d.at[i, \"y\"]\n",
    "        ypred = pred_matrix_d.at[i, \"pred\"]\n",
    "        y_square = (( y - ypred)**2)\n",
    "        sum_of_y_2 = (sum_of_y_2 + y_square)\n",
    "\n",
    "  totalcell = pred_matrix_d.shape\n",
    "  n = totalcell[0]\n",
    "  return ( sum_of_y_2 / n );\n",
    "\n",
    "mean_sq_error = compute_Mean_Square_Error(pred_matrix_d)\n",
    "print(\"Mean Square Error :\")\n",
    "print(mean_sq_error)"
   ]
  },
  {
   "cell_type": "code",
   "execution_count": 13,
   "metadata": {
    "colab": {
     "base_uri": "https://localhost:8080/",
     "height": 52
    },
    "colab_type": "code",
    "executionInfo": {
     "elapsed": 2757,
     "status": "ok",
     "timestamp": 1588444003635,
     "user": {
      "displayName": "chetan vanapariya",
      "photoUrl": "",
      "userId": "09687593949013731715"
     },
     "user_tz": -330
    },
    "id": "OeaGQ6WLjxJr",
    "outputId": "3618d57e-2f5c-4574-dea8-18cccf105770"
   },
   "outputs": [
    {
     "name": "stdout",
     "output_type": "stream",
     "text": [
      "Mean Absolute Percentage Error :\n",
      "0.1291202994009687\n"
     ]
    }
   ],
   "source": [
    "def compute_MAPE(pred_matrix_d , sum_of_all_y ):\n",
    "  sum_of_y_error = 0 \n",
    "\n",
    "  for i in pred_matrix_d.index:\n",
    "        \n",
    "        y = pred_matrix_d.at[i, \"y\"]\n",
    "        ypred = pred_matrix_d.at[i, \"pred\"]\n",
    "\n",
    "        #y_error = (( abs( y - ypred) / avg_yi ) * 100 )\n",
    "        y_error =  abs( y - ypred) ;\n",
    "        sum_of_y_error = (sum_of_y_error + y_error)\n",
    "\n",
    "  return ( sum_of_y_error / sum_of_all_y );\n",
    "\n",
    "all_y = pred_matrix_d.loc[:, ['y'] ]\n",
    "\n",
    "sum_of_all_y = sum( list(all_y['y']))\n",
    "\n",
    "MAPE = compute_MAPE(pred_matrix_d , sum_of_all_y)\n",
    "print(\"Mean Absolute Percentage Error :\")\n",
    "print(MAPE)"
   ]
  },
  {
   "cell_type": "code",
   "execution_count": 0,
   "metadata": {
    "colab": {
     "base_uri": "https://localhost:8080/",
     "height": 52
    },
    "colab_type": "code",
    "executionInfo": {
     "elapsed": 3179,
     "status": "ok",
     "timestamp": 1588340967700,
     "user": {
      "displayName": "chetan vanapariya",
      "photoUrl": "",
      "userId": "09687593949013731715"
     },
     "user_tz": -330
    },
    "id": "Raeww_nvf67m",
    "outputId": "390068b0-74ae-45de-aeb2-9dda74e0e790"
   },
   "outputs": [
    {
     "name": "stdout",
     "output_type": "stream",
     "text": [
      "R^2 error\n",
      "0.9563582786990964\n"
     ]
    }
   ],
   "source": [
    "def compute_SS_total( pred_matrix_d ):\n",
    "  sum_of_y = sum(list( pred_matrix_d['y']))\n",
    "  columns_rows = data_matrix_d.shape\n",
    "  n = columns_rows[0]\n",
    "  #print(sum_of_y)\n",
    "  #print(n)\n",
    "  avg_y = (sum_of_y / n)\n",
    "  #print(avg_y)\n",
    "\n",
    "  list_of_y = (list(pred_matrix_d['y'][0:10]))\n",
    "  ss_total = sum([ ((y-avg_y)**2) for y in pred_matrix_d['y']])\n",
    "  return ss_total;\n",
    "\n",
    "def compute_SS_Residue(pred_matrix_d):\n",
    "  sum_of_y_2 = 0 \n",
    "\n",
    "  for i in pred_matrix_d.index:\n",
    "        \n",
    "        y = pred_matrix_d.at[i, \"y\"]\n",
    "        ypred = pred_matrix_d.at[i, \"pred\"]\n",
    "        y_square = (( y - ypred)**2)\n",
    "        sum_of_y_2 = (sum_of_y_2 + y_square)\n",
    "  return sum_of_y_2;\n",
    "\n",
    "ss_res = compute_SS_Residue( pred_matrix_d );\n",
    "\n",
    "ss_total = compute_SS_total( pred_matrix_d );\n",
    "\n",
    "R_2 = ( 1 - (ss_res / ss_total))\n",
    "print(\"R^2 error : \")\n",
    "print(R_2)"
   ]
  }
 ],
 "metadata": {
  "colab": {
   "collapsed_sections": [],
   "name": "7_Performance_metrics_Instructions_A_7.ipynb",
   "provenance": []
  },
  "kernelspec": {
   "display_name": "Python 3",
   "language": "python",
   "name": "python3"
  },
  "language_info": {
   "codemirror_mode": {
    "name": "ipython",
    "version": 3
   },
   "file_extension": ".py",
   "mimetype": "text/x-python",
   "name": "python",
   "nbconvert_exporter": "python",
   "pygments_lexer": "ipython3",
   "version": "3.7.3"
  }
 },
 "nbformat": 4,
 "nbformat_minor": 1
}
