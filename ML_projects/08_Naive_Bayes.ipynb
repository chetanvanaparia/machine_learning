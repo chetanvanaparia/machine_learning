{
 "cells": [
  {
   "cell_type": "markdown",
   "metadata": {
    "colab_type": "text",
    "id": "inzYCIaib3c3"
   },
   "source": [
    "Naive Bayes "
   ]
  },
  {
   "cell_type": "markdown",
   "metadata": {
    "colab_type": "text",
    "id": "FYqCIxzFb3c5"
   },
   "source": [
    "## Loading Data"
   ]
  },
  {
   "cell_type": "code",
   "execution_count": 0,
   "metadata": {
    "colab": {},
    "colab_type": "code",
    "id": "S9QKbPs_4UWG"
   },
   "outputs": [],
   "source": [
    "import warnings\n",
    "warnings.filterwarnings(\"ignore\")\n",
    "\n",
    "import pandas as pd\n",
    "import numpy as np\n",
    "import nltk\n",
    "import matplotlib.pyplot as plt\n",
    "import seaborn as sns\n",
    "from sklearn.feature_extraction.text import TfidfVectorizer\n",
    "from sklearn.feature_extraction.text import CountVectorizer\n",
    "from sklearn.metrics import confusion_matrix\n",
    "from sklearn import metrics\n",
    "from sklearn.metrics import roc_curve, auc\n",
    "\n",
    "import re\n",
    "# Tutorial about Python regular expressions: https://pymotw.com/2/re/\n",
    "\n",
    "import pickle\n",
    "from tqdm import tqdm\n",
    "import os\n",
    "from sklearn.model_selection import train_test_split\n",
    "import random\n",
    "from sklearn.naive_bayes import MultinomialNB\n",
    "from sklearn.model_selection import RandomizedSearchCV\n",
    "from sklearn.preprocessing import Normalizer\n",
    "from sklearn.metrics import roc_curve, auc\n",
    "from sklearn.feature_extraction.text import TfidfVectorizer\n",
    "from scipy.sparse import hstack"
   ]
  },
  {
   "cell_type": "code",
   "execution_count": 0,
   "metadata": {
    "colab": {},
    "colab_type": "code",
    "id": "dA1jknyqb3c_"
   },
   "outputs": [],
   "source": [
    "path_ = ''\n",
    "p_data = pd.read_csv( path_ + 'preprocessed_data.csv' ,  nrows=50000)"
   ]
  },
  {
   "cell_type": "markdown",
   "metadata": {
    "colab_type": "text",
    "id": "WtVV13Fyb3dH"
   },
   "source": [
    "<h2>1.2 Splitting data into Train and cross validation(or test): Stratified Sampling</h2>"
   ]
  },
  {
   "cell_type": "code",
   "execution_count": 0,
   "metadata": {
    "colab": {},
    "colab_type": "code",
    "id": "i-PyprDNb3dI"
   },
   "outputs": [],
   "source": [
    "# please write all the code with proper documentation, and proper titles for each subsection\n",
    "# go through documentations and blogs before you start coding\n",
    "# first figure out what to do, and then think about how to do.\n",
    "# reading and understanding error messages will be very much helpfull in debugging your code\n",
    "# when you plot any graph make sure you use \n",
    "    # a. Title, that describes your plot, this will be very helpful to the reader\n",
    "    # b. Legends if needed\n",
    "    # c. X-axis label\n",
    "    # d. Y-axis label\n",
    "y = p_data['project_is_approved'].values\n",
    "X = p_data.drop(['project_is_approved'], axis=1)\n",
    "\n",
    "X_train , X_test , y_train , y_test = train_test_split( X , y , test_size=0.33, stratify=y)\n",
    "X_train , X_cv , y_train , y_cv = train_test_split( X_train , y_train , test_size=0.33, stratify=y_train)"
   ]
  },
  {
   "cell_type": "code",
   "execution_count": 32,
   "metadata": {
    "colab": {
     "base_uri": "https://localhost:8080/",
     "height": 191
    },
    "colab_type": "code",
    "executionInfo": {
     "elapsed": 73334,
     "status": "ok",
     "timestamp": 1588786446932,
     "user": {
      "displayName": "chetan vanapariya",
      "photoUrl": "",
      "userId": "09687593949013731715"
     },
     "user_tz": -330
    },
    "id": "-SczZKiab3dR",
    "outputId": "fd7a50d4-7c92-4228-84ac-c7fdb16d42f4"
   },
   "outputs": [
    {
     "name": "stdout",
     "output_type": "stream",
     "text": [
      "Before vectorizations\n",
      "(22445, 8) (22445,)\n",
      "(11055, 8) (11055,)\n",
      "(16500, 8) (16500,)\n",
      "****************************************************************************************************\n",
      "After vectorizations\n",
      "(22445, 5000) (22445,)\n",
      "(11055, 5000) (11055,)\n",
      "(16500, 5000) (16500,)\n",
      "====================================================================================================\n"
     ]
    }
   ],
   "source": [
    "# please write all the code with proper documentation, and proper titles for each subsection\n",
    "# go through documentations and blogs before you start coding\n",
    "# first figure out what to do, and then think about how to do.\n",
    "# reading and understanding error messages will be very much helpfull in debugging your code\n",
    "# make sure you featurize train and test data separatly\n",
    "\n",
    "# when you plot any graph make sure you use \n",
    "    # a. Title, that describes your plot, this will be very helpful to the reader\n",
    "    # b. Legends if needed\n",
    "    # c. X-axis label\n",
    "    # d. Y-axis label\n",
    "print(\"Before vectorizations\")\n",
    "print(X_train.shape, y_train.shape)\n",
    "print(X_cv.shape, y_cv.shape)\n",
    "print(X_test.shape, y_test.shape)\n",
    "\n",
    "print(\"*\"*100)\n",
    "\n",
    "vectorizer = CountVectorizer(min_df=10,ngram_range=(1,4), max_features=5000)\n",
    "vectorizer.fit(X_train['essay'].values) \n",
    "\n",
    "X_train_essay_bow = vectorizer.transform(X_train['essay'].values)\n",
    "X_cv_essay_bow = vectorizer.transform(X_cv['essay'].values)\n",
    "X_test_essay_bow = vectorizer.transform(X_test['essay'].values)\n",
    "\n",
    "print(\"After vectorizations\")\n",
    "print(X_train_essay_bow.shape, y_train.shape)\n",
    "print(X_cv_essay_bow.shape, y_cv.shape)\n",
    "print(X_test_essay_bow.shape, y_test.shape)\n",
    "print(\"=\"*100)"
   ]
  },
  {
   "cell_type": "code",
   "execution_count": 33,
   "metadata": {
    "colab": {
     "base_uri": "https://localhost:8080/",
     "height": 923
    },
    "colab_type": "code",
    "executionInfo": {
     "elapsed": 3298,
     "status": "ok",
     "timestamp": 1588786515364,
     "user": {
      "displayName": "chetan vanapariya",
      "photoUrl": "",
      "userId": "09687593949013731715"
     },
     "user_tz": -330
    },
    "id": "EfXkofX1b3da",
    "outputId": "ffd5f7ef-f9f2-48ca-b660-9cd2e22c88e0"
   },
   "outputs": [
    {
     "name": "stdout",
     "output_type": "stream",
     "text": [
      "Data Model for school_state\n",
      "After vectorizations\n",
      "(22445, 51) (22445,)\n",
      "(11055, 51) (11055,)\n",
      "(16500, 51) (16500,)\n",
      "['ak', 'al', 'ar', 'az', 'ca', 'co', 'ct', 'dc', 'de', 'fl', 'ga', 'hi', 'ia', 'id', 'il', 'in', 'ks', 'ky', 'la', 'ma', 'md', 'me', 'mi', 'mn', 'mo', 'ms', 'mt', 'nc', 'nd', 'ne', 'nh', 'nj', 'nm', 'nv', 'ny', 'oh', 'ok', 'or', 'pa', 'ri', 'sc', 'sd', 'tn', 'tx', 'ut', 'va', 'vt', 'wa', 'wi', 'wv', 'wy']\n",
      "====================================================================================================\n",
      "Data Model for teacher_prefix\n",
      "After vectorizations\n",
      "(22445, 5) (22445,)\n",
      "(11055, 5) (11055,)\n",
      "(16500, 5) (16500,)\n",
      "['dr', 'mr', 'mrs', 'ms', 'teacher']\n",
      "====================================================================================================\n",
      "Data Model for clean_categories\n",
      "After vectorizations\n",
      "(22445, 9) (22445,)\n",
      "(11055, 9) (11055,)\n",
      "(16500, 9) (16500,)\n",
      "['appliedlearning', 'care_hunger', 'health_sports', 'history_civics', 'literacy_language', 'math_science', 'music_arts', 'specialneeds', 'warmth']\n",
      "====================================================================================================\n",
      "Data Model for clean_subcategories\n",
      "After vectorizations\n",
      "(22445, 30) (22445,)\n",
      "(11055, 30) (11055,)\n",
      "(16500, 30) (16500,)\n",
      "====================================================================================================\n",
      "Data Model for project_grade_category\n",
      "After vectorizations\n",
      "(22445, 4) (22445,)\n",
      "(11055, 4) (11055,)\n",
      "(16500, 4) (16500,)\n",
      "['grades_3_5', 'grades_6_8', 'grades_9_12', 'grades_prek_2']\n",
      "====================================================================================================\n",
      "Data Model for teacher_number_of_previously_posted_projects\n",
      "After vectorizations\n",
      "(22445, 1) (22445,)\n",
      "(11055, 1) (11055,)\n",
      "(16500, 1) (16500,)\n",
      "====================================================================================================\n",
      "Data Model for project price\n",
      "After vectorizations\n",
      "(22445, 1) (22445,)\n",
      "(11055, 1) (11055,)\n",
      "(16500, 1) (16500,)\n",
      "====================================================================================================\n",
      "Final Data matrix\n",
      "(22445, 5101) (22445,)\n",
      "(11055, 5101) (11055,)\n",
      "(16500, 5101) (16500,)\n",
      "====================================================================================================\n"
     ]
    }
   ],
   "source": [
    "# please write all the code with proper documentation, and proper titles for each subsection\n",
    "# go through documentations and blogs before you start coding \n",
    "# first figure out what to do, and then think about how to do.\n",
    "# reading and understanding error messages will be very much helpfull in debugging your code\n",
    "# make sure you featurize train and test data separatly\n",
    "\n",
    "# when you plot any graph make sure you use \n",
    "    # a. Title, that describes your plot, this will be very helpful to the reader\n",
    "    # b. Legends if needed\n",
    "    # c. X-axis label\n",
    "    # d. Y-axis label\n",
    "\n",
    "#Data Model for school_state\n",
    "print(\"Data Model for school_state\")\n",
    "vectorizer = CountVectorizer()\n",
    "vectorizer.fit(X_train['school_state'].values) # fit has to happen only on train data\n",
    "\n",
    "# we use the fitted CountVectorizer to convert the text to vector\n",
    "X_train_state_ohe = vectorizer.transform(X_train['school_state'].values)\n",
    "X_cv_state_ohe = vectorizer.transform(X_cv['school_state'].values)\n",
    "X_test_state_ohe = vectorizer.transform(X_test['school_state'].values)\n",
    "\n",
    "print(\"After vectorizations\")\n",
    "print(X_train_state_ohe.shape, y_train.shape)\n",
    "print(X_cv_state_ohe.shape, y_cv.shape)\n",
    "print(X_test_state_ohe.shape, y_test.shape)\n",
    "print(vectorizer.get_feature_names())\n",
    "print(\"=\"*100)\n",
    "\n",
    "#Data Model for teacher_prefix\n",
    "print(\"Data Model for teacher_prefix\")\n",
    "vectorizer = CountVectorizer()\n",
    "vectorizer.fit(X_train['teacher_prefix'].values) # fit has to happen only on train data\n",
    "\n",
    "# we use the fitted CountVectorizer to convert the text to vector\n",
    "X_train_teacher_prefix_ohe = vectorizer.transform(X_train['teacher_prefix'].values)\n",
    "X_cv_teacher_prefix_ohe = vectorizer.transform(X_cv['teacher_prefix'].values)\n",
    "X_test_teacher_prefix_ohe = vectorizer.transform(X_test['teacher_prefix'].values)\n",
    "\n",
    "print(\"After vectorizations\")\n",
    "print(X_train_teacher_prefix_ohe.shape, y_train.shape)\n",
    "print(X_cv_teacher_prefix_ohe.shape, y_cv.shape)\n",
    "print(X_test_teacher_prefix_ohe.shape, y_test.shape)\n",
    "print(vectorizer.get_feature_names())\n",
    "print(\"=\"*100)\n",
    "\n",
    "#Data Model for clean_categories\n",
    "print(\"Data Model for clean_categories\")\n",
    "vectorizer = CountVectorizer()\n",
    "vectorizer.fit(X_train['clean_categories'].values) # fit has to happen only on train data\n",
    "\n",
    "# we use the fitted CountVectorizer to convert the text to vector\n",
    "X_train_catg_ohe = vectorizer.transform(X_train['clean_categories'].values)\n",
    "X_cv_catg_ohe = vectorizer.transform(X_cv['clean_categories'].values)\n",
    "X_test_catg_ohe = vectorizer.transform(X_test['clean_categories'].values)\n",
    "\n",
    "print(\"After vectorizations\")\n",
    "print(X_train_catg_ohe.shape, y_train.shape)\n",
    "print(X_cv_catg_ohe.shape, y_cv.shape)\n",
    "print(X_test_catg_ohe.shape, y_test.shape)\n",
    "print(vectorizer.get_feature_names())\n",
    "print(\"=\"*100)\n",
    "\n",
    "#Data Model for clean_subcategories\n",
    "print(\"Data Model for clean_subcategories\")\n",
    "vectorizer = CountVectorizer()\n",
    "vectorizer.fit(X_train['clean_subcategories'].values) # fit has to happen only on train data\n",
    "\n",
    "# we use the fitted CountVectorizer to convert the text to vector\n",
    "X_train_subcatg_ohe = vectorizer.transform(X_train['clean_subcategories'].values)\n",
    "X_cv_subcatg_ohe = vectorizer.transform(X_cv['clean_subcategories'].values)\n",
    "X_test_subcatg_ohe = vectorizer.transform(X_test['clean_subcategories'].values)\n",
    "\n",
    "print(\"After vectorizations\")\n",
    "print(X_train_subcatg_ohe.shape, y_train.shape)\n",
    "print(X_cv_subcatg_ohe.shape, y_cv.shape)\n",
    "print(X_test_subcatg_ohe.shape, y_test.shape)\n",
    "\n",
    "print(\"=\"*100)\n",
    "\n",
    "#Data Model for project_grade_category\n",
    "print(\"Data Model for project_grade_category\")\n",
    "vectorizer = CountVectorizer()\n",
    "vectorizer.fit(X_train['project_grade_category'].values) # fit has to happen only on train data\n",
    "\n",
    "# we use the fitted CountVectorizer to convert the text to vector\n",
    "X_train_gcatg_ohe = vectorizer.transform(X_train['project_grade_category'].values)\n",
    "X_cv_gcatg_ohe = vectorizer.transform(X_cv['project_grade_category'].values)\n",
    "X_test_gcatg_ohe = vectorizer.transform(X_test['project_grade_category'].values)\n",
    "\n",
    "print(\"After vectorizations\")\n",
    "print(X_train_gcatg_ohe.shape, y_train.shape)\n",
    "print(X_cv_gcatg_ohe.shape, y_cv.shape)\n",
    "print(X_test_gcatg_ohe.shape, y_test.shape)\n",
    "print(vectorizer.get_feature_names())\n",
    "print(\"=\"*100)\n",
    "\n",
    "\n",
    "# numerical features\n",
    "# \n",
    "#Data Model for teacher_number_of_previously_posted_projects\n",
    "print(\"Data Model for teacher_number_of_previously_posted_projects\")\n",
    "normalizer = Normalizer()\n",
    "\n",
    "normalizer.fit(X_train['teacher_number_of_previously_posted_projects'].values.reshape(-1,1))\n",
    "\n",
    "X_train_teacher_no_norm = normalizer.transform(X_train['teacher_number_of_previously_posted_projects'].values.reshape(-1,1))\n",
    "X_cv_teacher_no_norm = normalizer.transform(X_cv['teacher_number_of_previously_posted_projects'].values.reshape(-1,1))\n",
    "X_test_teacher_no_norm = normalizer.transform(X_test['teacher_number_of_previously_posted_projects'].values.reshape(-1,1))\n",
    "\n",
    "print(\"After vectorizations\")\n",
    "print(X_train_teacher_no_norm.shape, y_train.shape)\n",
    "print(X_cv_teacher_no_norm.shape, y_cv.shape)\n",
    "print(X_test_teacher_no_norm.shape, y_test.shape)\n",
    "print(\"=\"*100)\n",
    "\n",
    "#Data Model for project price\n",
    "print(\"Data Model for project price\")\n",
    "normalizer = Normalizer()\n",
    "# normalizer.fit(X_train['price'].values)\n",
    "# this will rise an error Expected 2D array, got 1D array instead: \n",
    "# array=[105.22 215.96  96.01 ... 368.98  80.53 709.67].\n",
    "# Reshape your data either using \n",
    "# array.reshape(-1, 1) if your data has a single feature \n",
    "# array.reshape(1, -1)  if it contains a single sample.\n",
    "normalizer.fit(X_train['price'].values.reshape(-1,1))\n",
    "\n",
    "X_train_price_norm = normalizer.transform(X_train['price'].values.reshape(-1,1))\n",
    "X_cv_price_norm = normalizer.transform(X_cv['price'].values.reshape(-1,1))\n",
    "X_test_price_norm = normalizer.transform(X_test['price'].values.reshape(-1,1))\n",
    "\n",
    "\n",
    "\n",
    "print(\"After vectorizations\")\n",
    "print(X_train_price_norm.shape, y_train.shape)\n",
    "print(X_cv_price_norm.shape, y_cv.shape)\n",
    "print(X_test_price_norm.shape, y_test.shape)\n",
    "print(\"=\"*100)\n",
    "\n",
    "\n",
    "# Final Data Matrix\n",
    "X_tr = hstack((X_train_essay_bow , X_train_state_ohe , X_train_teacher_prefix_ohe , \\\n",
    "               X_train_catg_ohe, X_train_subcatg_ohe ,X_train_gcatg_ohe, X_train_price_norm , X_train_teacher_no_norm )).tocsr()\n",
    "X_cr = hstack((X_cv_essay_bow , X_cv_state_ohe , X_cv_teacher_prefix_ohe , \\\n",
    "               X_cv_catg_ohe, X_cv_subcatg_ohe , X_cv_gcatg_ohe, X_cv_price_norm , X_cv_teacher_no_norm )).tocsr()\n",
    "X_te = hstack((X_test_essay_bow , X_test_state_ohe , X_test_teacher_prefix_ohe , \\\n",
    "          X_test_catg_ohe, X_test_subcatg_ohe , X_test_gcatg_ohe , X_test_price_norm , X_test_teacher_no_norm)).tocsr()\n",
    "\n",
    "print(\"Final Data matrix\")\n",
    "print(X_tr.shape, y_train.shape)\n",
    "print(X_cr.shape, y_cv.shape)\n",
    "print(X_te.shape, y_test.shape)\n",
    "print(\"=\"*100)"
   ]
  },
  {
   "cell_type": "code",
   "execution_count": 34,
   "metadata": {
    "colab": {
     "base_uri": "https://localhost:8080/",
     "height": 330
    },
    "colab_type": "code",
    "executionInfo": {
     "elapsed": 3196,
     "status": "ok",
     "timestamp": 1588786575741,
     "user": {
      "displayName": "chetan vanapariya",
      "photoUrl": "",
      "userId": "09687593949013731715"
     },
     "user_tz": -330
    },
    "id": "DNwqilFxb3di",
    "outputId": "afabaed3-d642-489b-b32c-abebc06a1138"
   },
   "outputs": [
    {
     "name": "stdout",
     "output_type": "stream",
     "text": [
      "alpha: hyperparameters\n",
      "{'alpha': [0.03, 0.2, 0.41, 0.42, 0.48, 0.52, 0.55, 0.62, 0.7, 0.94]}\n"
     ]
    },
    {
     "data": {
      "image/png": "[encoded data removed]",
      "text/plain": [
       "<Figure size 432x288 with 1 Axes>"
      ]
     },
     "metadata": {
      "needs_background": "light",
      "tags": []
     },
     "output_type": "display_data"
    }
   ],
   "source": [
    "# please write all the code with proper documentation, and proper titles for each subsection\n",
    "# go through documentations and blogs before you start coding\n",
    "# first figure out what to do, and then think about how to do.\n",
    "# reading and understanding error messages will be very much helpfull in debugging your code\n",
    "# when you plot any graph make sure you use \n",
    "    # a. Title, that describes your plot, this will be very helpful to the reader\n",
    "    # b. Legends if needed\n",
    "    # c. X-axis label\n",
    "    # d. Y-axis label\n",
    "\n",
    "def batch_predict(clf, data):\n",
    "    y_data_pred = []\n",
    "    tr_loop = data.shape[0] - data.shape[0]%1000\n",
    "    \n",
    "    for i in range(0, tr_loop, 1000):\n",
    "        y_data_pred.extend(clf.predict_proba(data[i:i+1000])[:,1])\n",
    "    \n",
    "    if data.shape[0]%1000 !=0:\n",
    "        y_data_pred.extend(clf.predict_proba(data[tr_loop:])[:,1])\n",
    "    \n",
    "    return y_data_pred\n",
    "\n",
    "alpha_ = [ round(random.uniform(0.01,1.0) , 2) for i in range(10) ]\n",
    "\n",
    "alpha_ = sorted(alpha_)\n",
    "\n",
    "MN_NB = MultinomialNB(alpha=alpha_)\n",
    "parameters = {'alpha': alpha_ }\n",
    "print(\"alpha: hyperparameters\")\n",
    "print(parameters)\n",
    "clf = RandomizedSearchCV( MN_NB , parameters, cv=3, scoring='roc_auc' , return_train_score=True)\n",
    "clf.fit(X_tr, y_train)\n",
    "\n",
    "results = pd.DataFrame.from_dict(clf.cv_results_)\n",
    "\n",
    "train_auc= results['mean_train_score']\n",
    "train_auc_std= results['std_train_score']\n",
    "cv_auc = results['mean_test_score'] \n",
    "cv_auc_std= results['std_test_score']\n",
    "K =  results['param_alpha']\n",
    "\n",
    "plt.plot(K, train_auc, label='Train AUC')\n",
    "\n",
    "plt.plot(K, cv_auc, label='CV AUC')\n",
    "\n",
    "plt.scatter(K, train_auc, label='Train AUC points')\n",
    "plt.scatter(K, cv_auc, label='CV AUC points')\n",
    "\n",
    "\n",
    "plt.legend()\n",
    "plt.xlabel(\"alpha: hyperparameter\")\n",
    "plt.ylabel(\"AUC\")\n",
    "plt.title(\"Hyper parameter Vs AUC plot\")\n",
    "plt.grid()\n",
    "plt.show()"
   ]
  },
  {
   "cell_type": "code",
   "execution_count": 35,
   "metadata": {
    "colab": {
     "base_uri": "https://localhost:8080/",
     "height": 295
    },
    "colab_type": "code",
    "executionInfo": {
     "elapsed": 1815,
     "status": "ok",
     "timestamp": 1588786584163,
     "user": {
      "displayName": "chetan vanapariya",
      "photoUrl": "",
      "userId": "09687593949013731715"
     },
     "user_tz": -330
    },
    "id": "fPHhQf5g7I8s",
    "outputId": "9fd277b1-abff-44e0-ac28-86c3cde1edd8"
   },
   "outputs": [
    {
     "data": {
      "image/png": "[encoded data removed]",
      "text/plain": [
       "<Figure size 432x288 with 1 Axes>"
      ]
     },
     "metadata": {
      "needs_background": "light",
      "tags": []
     },
     "output_type": "display_data"
    }
   ],
   "source": [
    "best_alpha_BOW = 0.94\n",
    "\n",
    "MN_NB = MultinomialNB(alpha=best_alpha_BOW)\n",
    "MN_NB.fit(X_tr, y_train)\n",
    "\n",
    "y_train_pred = batch_predict(MN_NB, X_tr)\n",
    "y_test_pred = batch_predict(MN_NB, X_te)\n",
    "\n",
    "train_fpr, train_tpr, tr_thresholds = roc_curve(y_train, y_train_pred)\n",
    "test_fpr, test_tpr, te_thresholds = roc_curve(y_test, y_test_pred)\n",
    "\n",
    "auc_for_BOW = auc(train_fpr, train_tpr)\n",
    "plt.plot(train_fpr, train_tpr, label=\"train AUC =\"+str(auc(train_fpr, train_tpr)))\n",
    "plt.plot(test_fpr, test_tpr, label=\"test AUC =\"+str(auc(test_fpr, test_tpr)))\n",
    "plt.legend()\n",
    "plt.xlabel(\"FPR\")\n",
    "plt.ylabel(\"TPR\")\n",
    "plt.title(\"AUC (Receiver operating characteristic) plot\")\n",
    "plt.grid()\n",
    "plt.show()"
   ]
  },
  {
   "cell_type": "code",
   "execution_count": 36,
   "metadata": {
    "colab": {
     "base_uri": "https://localhost:8080/",
     "height": 156
    },
    "colab_type": "code",
    "executionInfo": {
     "elapsed": 1460,
     "status": "ok",
     "timestamp": 1588786609736,
     "user": {
      "displayName": "chetan vanapariya",
      "photoUrl": "",
      "userId": "09687593949013731715"
     },
     "user_tz": -330
    },
    "id": "mJ-tfuLb7Pz3",
    "outputId": "03d2df4f-999e-41df-9d66-b4791ddbd296"
   },
   "outputs": [
    {
     "name": "stdout",
     "output_type": "stream",
     "text": [
      "====================================================================================================\n",
      "the maximum value of tpr*(1-fpr) 0.4788339832437478 for threshold 0.891\n",
      "Train confusion matrix\n",
      "[[ 2524  1071]\n",
      " [ 5994 12856]]\n",
      "Test confusion matrix\n",
      "[[1617 1025]\n",
      " [4739 9119]]\n"
     ]
    }
   ],
   "source": [
    "def find_best_threshold(threshould, fpr, tpr):\n",
    "    t = threshould[np.argmax(tpr*(1-fpr))]\n",
    "    # (tpr*(1-fpr)) will be maximum if your fpr is very low and tpr is very high\n",
    "    print(\"the maximum value of tpr*(1-fpr)\", max(tpr*(1-fpr)), \"for threshold\", np.round(t,3))\n",
    "    return t\n",
    "\n",
    "def predict_with_best_t(proba, threshould):\n",
    "    predictions = []\n",
    "    for i in proba:\n",
    "        if i>=threshould:\n",
    "            predictions.append(1)\n",
    "        else:\n",
    "            predictions.append(0)\n",
    "    return predictions\n",
    "\n",
    "\n",
    "print(\"=\"*100)\n",
    "from sklearn.metrics import confusion_matrix\n",
    "best_t = find_best_threshold(tr_thresholds, train_fpr, train_tpr)\n",
    "print(\"Train confusion matrix\")\n",
    "print(confusion_matrix(y_train, predict_with_best_t(y_train_pred, best_t)))\n",
    "print(\"Test confusion matrix\")\n",
    "print(confusion_matrix(y_test, predict_with_best_t(y_test_pred, best_t)))"
   ]
  },
  {
   "cell_type": "markdown",
   "metadata": {
    "colab_type": "text",
    "id": "HUcYY9oO7Uze"
   },
   "source": [
    "## 2.1 Appling NB on different kind of featurization as mentioned in the instructions with TF-IDF\n",
    "\n",
    "(Set-2 , TF-IDF )"
   ]
  },
  {
   "cell_type": "code",
   "execution_count": 37,
   "metadata": {
    "colab": {
     "base_uri": "https://localhost:8080/",
     "height": 191
    },
    "colab_type": "code",
    "executionInfo": {
     "elapsed": 69613,
     "status": "ok",
     "timestamp": 1588786690241,
     "user": {
      "displayName": "chetan vanapariya",
      "photoUrl": "",
      "userId": "09687593949013731715"
     },
     "user_tz": -330
    },
    "id": "1Jde9Di_7Ubl",
    "outputId": "5db6c0c5-4d3c-4520-89fe-3c1eaf5f29b0"
   },
   "outputs": [
    {
     "name": "stdout",
     "output_type": "stream",
     "text": [
      "(22445, 8) (22445,)\n",
      "(11055, 8) (11055,)\n",
      "(16500, 8) (16500,)\n",
      "****************************************************************************************************\n",
      "Data model for Essay\n",
      "After vectorizations\n",
      "(22445, 5000) (22445,)\n",
      "(11055, 5000) (11055,)\n",
      "(16500, 5000) (16500,)\n",
      "====================================================================================================\n"
     ]
    }
   ],
   "source": [
    "print(X_train.shape, y_train.shape)\n",
    "print(X_cv.shape, y_cv.shape)\n",
    "print(X_test.shape, y_test.shape)\n",
    "\n",
    "print(\"*\"*100)\n",
    "print(\"Data model for Essay\")\n",
    "tfidf_vec_essay = TfidfVectorizer(min_df=10 , ngram_range=(1,4), max_features=5000 )\n",
    "tfidf_vec_essay.fit(X_train['essay'].values) \n",
    "\n",
    "X_train_essay_tfidf = tfidf_vec_essay.transform(X_train['essay'].values)\n",
    "X_cv_essay_tfidf = tfidf_vec_essay.transform(X_cv['essay'].values)\n",
    "X_test_essay_tfidf = tfidf_vec_essay.transform(X_test['essay'].values)\n",
    "\n",
    "print(\"After vectorizations\")\n",
    "print(X_train_essay_tfidf.shape, y_train.shape)\n",
    "print(X_cv_essay_tfidf.shape, y_cv.shape)\n",
    "print(X_test_essay_tfidf.shape, y_test.shape)\n",
    "print(\"=\"*100)\n"
   ]
  },
  {
   "cell_type": "code",
   "execution_count": 39,
   "metadata": {
    "colab": {
     "base_uri": "https://localhost:8080/",
     "height": 714
    },
    "colab_type": "code",
    "executionInfo": {
     "elapsed": 2936,
     "status": "ok",
     "timestamp": 1588786779723,
     "user": {
      "displayName": "chetan vanapariya",
      "photoUrl": "",
      "userId": "09687593949013731715"
     },
     "user_tz": -330
    },
    "id": "lUa7pPD48IEw",
    "outputId": "804edb48-351e-40ce-b7e1-a2f40e81c96d"
   },
   "outputs": [
    {
     "name": "stdout",
     "output_type": "stream",
     "text": [
      "Data model for school_state\n",
      "After Tf-Idf vectorizations\n",
      "(22445, 51) (22445,)\n",
      "(11055, 51) (11055,)\n",
      "(16500, 51) (16500,)\n",
      "['ak', 'al', 'ar', 'az', 'ca', 'co', 'ct', 'dc', 'de', 'fl', 'ga', 'hi', 'ia', 'id', 'il', 'in', 'ks', 'ky', 'la', 'ma', 'md', 'me', 'mi', 'mn', 'mo', 'ms', 'mt', 'nc', 'nd', 'ne', 'nh', 'nj', 'nm', 'nv', 'ny', 'oh', 'ok', 'or', 'pa', 'ri', 'sc', 'sd', 'tn', 'tx', 'ut', 'va', 'vt', 'wa', 'wi', 'wv', 'wy']\n",
      "====================================================================================================\n",
      "Data model for teacher_prefix\n",
      "After Tf-Idf vectorizations\n",
      "(22445, 5) (22445,)\n",
      "(11055, 5) (11055,)\n",
      "(16500, 5) (16500,)\n",
      "['dr', 'mr', 'mrs', 'ms', 'teacher']\n",
      "====================================================================================================\n",
      "Data model for clean_categories\n",
      "After Tf-Idf vectorizations\n",
      "(22445, 9) (22445,)\n",
      "(11055, 9) (11055,)\n",
      "(16500, 9) (16500,)\n",
      "['appliedlearning', 'care_hunger', 'health_sports', 'history_civics', 'literacy_language', 'math_science', 'music_arts', 'specialneeds', 'warmth']\n",
      "====================================================================================================\n",
      "Data model for clean_subcategories\n",
      "After Tf-Idf vectorizations\n",
      "(22445, 30) (22445,)\n",
      "(11055, 30) (11055,)\n",
      "(16500, 30) (16500,)\n",
      "====================================================================================================\n",
      "Data model for project_grade_category\n",
      "After Tf-Idf vectorizations\n",
      "(22445, 4) (22445,)\n",
      "(11055, 4) (11055,)\n",
      "(16500, 4) (16500,)\n",
      "['grades_3_5', 'grades_6_8', 'grades_9_12', 'grades_prek_2']\n",
      "====================================================================================================\n",
      "Final Data matrix for tfidf\n",
      "(22445, 5101) (22445,)\n",
      "(11055, 5101) (11055,)\n",
      "(16500, 5101) (16500,)\n",
      "====================================================================================================\n"
     ]
    }
   ],
   "source": [
    "print(\"Data model for school_state\")\n",
    "tfidf_vec_state = TfidfVectorizer()\n",
    "#text_tfidf = tfidf_vectorizer.fit_transform(X_train['school_state'].values)\n",
    "#print(\"Shape of matrix after one hot encodig \",text_tfidf.shape)\n",
    "\n",
    "tfidf_vec_state.fit(X_train['school_state'].values) # fit has to happen only on train data\n",
    "\n",
    "# we use the fitted CountVectorizer to convert the text to vector\n",
    "X_train_state_tfidf = tfidf_vec_state.transform(X_train['school_state'].values)\n",
    "X_cv_state_tfidf = tfidf_vec_state.transform(X_cv['school_state'].values)\n",
    "X_test_state_tfidf = tfidf_vec_state.transform(X_test['school_state'].values)\n",
    "\n",
    "print(\"After Tf-Idf vectorizations\")\n",
    "print(X_train_state_tfidf.shape, y_train.shape)\n",
    "print(X_cv_state_tfidf.shape, y_cv.shape)\n",
    "print(X_test_state_tfidf.shape, y_test.shape)\n",
    "print(tfidf_vec_state.get_feature_names())\n",
    "print(\"=\"*100)\n",
    "\n",
    "#\n",
    "print(\"Data model for teacher_prefix\")\n",
    "tfidf_vec_teacher = TfidfVectorizer()\n",
    "tfidf_vec_teacher.fit(X_train['teacher_prefix'].values) # fit has to happen only on train data\n",
    "\n",
    "# we use the fitted CountVectorizer to convert the text to vector\n",
    "X_train_teacher_prefix_tfidf = tfidf_vec_teacher.transform(X_train['teacher_prefix'].values)\n",
    "X_cv_teacher_prefix_tfidf = tfidf_vec_teacher.transform(X_cv['teacher_prefix'].values)\n",
    "X_test_teacher_prefix_tfidf = tfidf_vec_teacher.transform(X_test['teacher_prefix'].values)\n",
    "\n",
    "print(\"After Tf-Idf vectorizations\")\n",
    "print(X_train_teacher_prefix_tfidf.shape, y_train.shape)\n",
    "print(X_cv_teacher_prefix_tfidf.shape, y_cv.shape)\n",
    "print(X_test_teacher_prefix_tfidf.shape, y_test.shape)\n",
    "print(tfidf_vec_teacher.get_feature_names())\n",
    "print(\"=\"*100)\n",
    "\n",
    "#\n",
    "print(\"Data model for clean_categories\")\n",
    "tfidf_vec_catg = TfidfVectorizer()\n",
    "tfidf_vec_catg.fit(X_train['clean_categories'].values) # fit has to happen only on train data\n",
    "\n",
    "# we use the fitted CountVectorizer to convert the text to vector\n",
    "X_train_catg_tfidf = tfidf_vec_catg.transform(X_train['clean_categories'].values)\n",
    "X_cv_catg_tfidf = tfidf_vec_catg.transform(X_cv['clean_categories'].values)\n",
    "X_test_catg_tfidf = tfidf_vec_catg.transform(X_test['clean_categories'].values)\n",
    "\n",
    "print(\"After Tf-Idf vectorizations\")\n",
    "print(X_train_catg_tfidf.shape, y_train.shape)\n",
    "print(X_cv_catg_tfidf.shape, y_cv.shape)\n",
    "print(X_test_catg_tfidf.shape, y_test.shape)\n",
    "print(tfidf_vec_catg.get_feature_names())\n",
    "print(\"=\"*100)\n",
    "\n",
    "#\n",
    "print(\"Data model for clean_subcategories\")\n",
    "tfidf_vec_subcatg = TfidfVectorizer()\n",
    "tfidf_vec_subcatg.fit(X_train['clean_subcategories'].values) # fit has to happen only on train data\n",
    "\n",
    "# we use the fitted CountVectorizer to convert the text to vector\n",
    "X_train_subcatg_tfidf = tfidf_vec_subcatg.transform(X_train['clean_subcategories'].values)\n",
    "X_cv_subcatg_tfidf = tfidf_vec_subcatg.transform(X_cv['clean_subcategories'].values)\n",
    "X_test_subcatg_tfidf = tfidf_vec_subcatg.transform(X_test['clean_subcategories'].values)\n",
    "\n",
    "print(\"After Tf-Idf vectorizations\")\n",
    "print(X_train_subcatg_tfidf.shape, y_train.shape)\n",
    "print(X_cv_subcatg_tfidf.shape, y_cv.shape)\n",
    "print(X_test_subcatg_tfidf.shape, y_test.shape)\n",
    "\n",
    "print(\"=\"*100)\n",
    "\n",
    "#\n",
    "print(\"Data model for project_grade_category\")\n",
    "tfidf_vec_gcatg = TfidfVectorizer()\n",
    "tfidf_vec_gcatg.fit(X_train['project_grade_category'].values) # fit has to happen only on train data\n",
    "\n",
    "# we use the fitted CountVectorizer to convert the text to vector\n",
    "X_train_gcatg_tfidf = tfidf_vec_gcatg.transform(X_train['project_grade_category'].values)\n",
    "X_cv_gcatg_tfidf = tfidf_vec_gcatg.transform(X_cv['project_grade_category'].values)\n",
    "X_test_gcatg_tfidf = tfidf_vec_gcatg.transform(X_test['project_grade_category'].values)\n",
    "\n",
    "print(\"After Tf-Idf vectorizations\")\n",
    "print(X_train_gcatg_tfidf.shape, y_train.shape)\n",
    "print(X_cv_gcatg_tfidf.shape, y_cv.shape)\n",
    "print(X_test_gcatg_tfidf.shape, y_test.shape)\n",
    "print(tfidf_vec_gcatg.get_feature_names())\n",
    "print(\"=\"*100)\n",
    "\n",
    "\n",
    "X_tr = hstack((X_train_essay_tfidf , X_train_state_tfidf ,X_train_teacher_prefix_tfidf , \\\n",
    "               X_train_catg_tfidf , X_train_subcatg_tfidf ,X_train_gcatg_tfidf , X_train_price_norm , X_train_teacher_no_norm )).tocsr()\n",
    "X_cr = hstack((X_cv_essay_tfidf , X_cv_state_tfidf ,X_cv_teacher_prefix_tfidf , \\\n",
    "               X_cv_catg_tfidf , X_cv_subcatg_tfidf , X_cv_gcatg_tfidf , X_cv_price_norm , X_cv_teacher_no_norm )).tocsr()\n",
    "X_te = hstack((X_test_essay_tfidf , X_test_state_tfidf , X_test_teacher_prefix_tfidf , \\\n",
    "          X_test_catg_tfidf , X_test_subcatg_tfidf , X_test_gcatg_tfidf , X_test_price_norm ,  X_test_teacher_no_norm )).tocsr()\n",
    "\n",
    "print(\"Final Data matrix for tfidf\")\n",
    "print(X_tr.shape, y_train.shape)\n",
    "print(X_cr.shape, y_cv.shape)\n",
    "print(X_te.shape, y_test.shape)\n",
    "print(\"=\"*100)"
   ]
  },
  {
   "cell_type": "code",
   "execution_count": 41,
   "metadata": {
    "colab": {
     "base_uri": "https://localhost:8080/",
     "height": 330
    },
    "colab_type": "code",
    "executionInfo": {
     "elapsed": 3070,
     "status": "ok",
     "timestamp": 1588786833389,
     "user": {
      "displayName": "chetan vanapariya",
      "photoUrl": "",
      "userId": "09687593949013731715"
     },
     "user_tz": -330
    },
    "id": "dRRUF1fy8YsL",
    "outputId": "6c3886ee-1a2f-44b8-83c5-6296f35da669"
   },
   "outputs": [
    {
     "name": "stdout",
     "output_type": "stream",
     "text": [
      "alpha : hyperparameter\n",
      "{'alpha': [0.27, 0.47, 0.57, 0.6, 0.69, 0.76, 0.8, 0.83, 0.91, 0.95]}\n"
     ]
    },
    {
     "data": {
      "image/png": "[encoded data removed]",
      "text/plain": [
       "<Figure size 432x288 with 1 Axes>"
      ]
     },
     "metadata": {
      "needs_background": "light",
      "tags": []
     },
     "output_type": "display_data"
    }
   ],
   "source": [
    "def batch_predict(clf, data):\n",
    "    y_data_pred = []\n",
    "    tr_loop = data.shape[0] - data.shape[0]%1000\n",
    "    \n",
    "    for i in range(0, tr_loop, 1000):\n",
    "        y_data_pred.extend(clf.predict_proba(data[i:i+1000])[:,1])\n",
    "    \n",
    "    if data.shape[0]%1000 !=0:\n",
    "        y_data_pred.extend(clf.predict_proba(data[tr_loop:])[:,1])\n",
    "    \n",
    "    return y_data_pred\n",
    "\n",
    "\n",
    "\n",
    "alpha_ = [ round(random.uniform(0.01,1.0) , 2) for i in range(10) ]\n",
    "\n",
    "alpha_ = sorted(alpha_)\n",
    "\n",
    "MN_NB = MultinomialNB(alpha=alpha_)\n",
    "parameters = {'alpha': alpha_ }\n",
    "clf = RandomizedSearchCV( MN_NB , parameters, cv=3, scoring='roc_auc' , return_train_score=True)\n",
    "clf.fit(X_tr, y_train)\n",
    "\n",
    "results = pd.DataFrame.from_dict(clf.cv_results_)\n",
    "\n",
    "print(\"alpha : hyperparameter\")\n",
    "print(parameters)\n",
    "\n",
    "train_auc= results['mean_train_score']\n",
    "train_auc_std= results['std_train_score']\n",
    "cv_auc = results['mean_test_score'] \n",
    "cv_auc_std= results['std_test_score']\n",
    "K =  results['param_alpha']\n",
    "\n",
    "plt.plot(K, train_auc, label='Train AUC')\n",
    "\n",
    "plt.plot(K, cv_auc, label='CV AUC')\n",
    "\n",
    "plt.scatter(K, train_auc, label='Train AUC points')\n",
    "plt.scatter(K, cv_auc, label='CV AUC points')\n",
    "\n",
    "\n",
    "plt.legend()\n",
    "plt.xlabel(\"alpha : hyperparameter\")\n",
    "plt.ylabel(\"AUC\")\n",
    "plt.title(\"Hyper parameter Vs AUC plot\")\n",
    "plt.grid()\n",
    "plt.show()"
   ]
  },
  {
   "cell_type": "code",
   "execution_count": 43,
   "metadata": {
    "colab": {
     "base_uri": "https://localhost:8080/",
     "height": 295
    },
    "colab_type": "code",
    "executionInfo": {
     "elapsed": 1381,
     "status": "ok",
     "timestamp": 1588786861636,
     "user": {
      "displayName": "chetan vanapariya",
      "photoUrl": "",
      "userId": "09687593949013731715"
     },
     "user_tz": -330
    },
    "id": "s1ahnmXE8bqo",
    "outputId": "f5933e25-ea0d-4124-f056-a6b4f9e00904"
   },
   "outputs": [
    {
     "data": {
      "image/png": "[encoded data removed]",
      "text/plain": [
       "<Figure size 432x288 with 1 Axes>"
      ]
     },
     "metadata": {
      "needs_background": "light",
      "tags": []
     },
     "output_type": "display_data"
    }
   ],
   "source": [
    "best_alpha_tfidf = 0.95\n",
    "\n",
    "MN_NB = MultinomialNB(alpha=best_alpha_tfidf)\n",
    "MN_NB.fit(X_tr, y_train)\n",
    "\n",
    "y_train_pred = batch_predict(MN_NB, X_tr)\n",
    "y_test_pred = batch_predict(MN_NB, X_te)\n",
    "\n",
    "train_fpr, train_tpr, tr_thresholds = roc_curve(y_train, y_train_pred)\n",
    "test_fpr, test_tpr, te_thresholds = roc_curve(y_test, y_test_pred)\n",
    "\n",
    "auc_for_tfidf = auc(train_fpr, train_tpr)\n",
    "plt.plot(train_fpr, train_tpr, label=\"train AUC =\"+str(auc(train_fpr, train_tpr)))\n",
    "plt.plot(test_fpr, test_tpr, label=\"test AUC =\"+str(auc(test_fpr, test_tpr)))\n",
    "plt.legend()\n",
    "plt.xlabel(\"FPR\")\n",
    "plt.ylabel(\"TPR\")\n",
    "plt.title(\"AUC (Receiver operating characteristic) plot\")\n",
    "plt.grid()\n",
    "plt.show()"
   ]
  },
  {
   "cell_type": "code",
   "execution_count": 44,
   "metadata": {
    "colab": {
     "base_uri": "https://localhost:8080/",
     "height": 156
    },
    "colab_type": "code",
    "executionInfo": {
     "elapsed": 1091,
     "status": "ok",
     "timestamp": 1588786871472,
     "user": {
      "displayName": "chetan vanapariya",
      "photoUrl": "",
      "userId": "09687593949013731715"
     },
     "user_tz": -330
    },
    "id": "HoPRzXVB8elM",
    "outputId": "a5361874-1671-44d6-f2f4-5e0b61ed35cd"
   },
   "outputs": [
    {
     "name": "stdout",
     "output_type": "stream",
     "text": [
      "====================================================================================================\n",
      "the maximum value of tpr*(1-fpr) 0.44553480187262734 for threshold 0.851\n",
      "Train confusion matrix\n",
      "[[ 2400  1195]\n",
      " [ 6270 12580]]\n",
      "Test confusion matrix\n",
      "[[1530 1112]\n",
      " [4913 8945]]\n"
     ]
    }
   ],
   "source": [
    "def find_best_threshold(threshould, fpr, tpr):\n",
    "    t = threshould[np.argmax(tpr*(1-fpr))]\n",
    "    # (tpr*(1-fpr)) will be maximum if your fpr is very low and tpr is very high\n",
    "    print(\"the maximum value of tpr*(1-fpr)\", max(tpr*(1-fpr)), \"for threshold\", np.round(t,3))\n",
    "    return t\n",
    "\n",
    "def predict_with_best_t(proba, threshould):\n",
    "    predictions = []\n",
    "    for i in proba:\n",
    "        if i>=threshould:\n",
    "            predictions.append(1)\n",
    "        else:\n",
    "            predictions.append(0)\n",
    "    return predictions\n",
    "\n",
    "\n",
    "print(\"=\"*100)\n",
    "from sklearn.metrics import confusion_matrix\n",
    "best_t = find_best_threshold(tr_thresholds, train_fpr, train_tpr)\n",
    "print(\"Train confusion matrix\")\n",
    "print(confusion_matrix(y_train, predict_with_best_t(y_train_pred, best_t)))\n",
    "print(\"Test confusion matrix\")\n",
    "print(confusion_matrix(y_test, predict_with_best_t(y_test_pred, best_t)))"
   ]
  },
  {
   "cell_type": "code",
   "execution_count": 45,
   "metadata": {
    "colab": {
     "base_uri": "https://localhost:8080/",
     "height": 159
    },
    "colab_type": "code",
    "executionInfo": {
     "elapsed": 1401,
     "status": "ok",
     "timestamp": 1588786881095,
     "user": {
      "displayName": "chetan vanapariya",
      "photoUrl": "",
      "userId": "09687593949013731715"
     },
     "user_tz": -330
    },
    "id": "8dRsEME78jjV",
    "outputId": "65220199-2bf6-4204-b8ac-a206ab8575a6"
   },
   "outputs": [
    {
     "name": "stdout",
     "output_type": "stream",
     "text": [
      "The features from Set 2(TF-IDF) using absolute values of feature_log_prob_ parameter of MultinomialNB \n",
      "The top 20 features For positive class-1 :\n",
      "['music_arts', 'ms', 'grades_6_8', 'environmentalscience', 'socialsciences', 'students', 'mrs', 'ca', 'visualarts', 'civics_government', 'warmth', 'teamsports', 'earlydevelopment', 'mr', 'grades_prek_2', 'communityservice', 'teacher', 'grades_9_12', 'teacher_number_of_previously_posted_projects', 'Price']\n",
      "\n",
      "\n",
      "The top 20 features For negative class-2 :\n",
      "['grades_6_8', 'ms', 'music_arts', 'care_hunger', 'environmentalscience', 'students', 'visualarts', 'ca', 'mrs', 'civics_government', 'teamsports', 'warmth', 'earlydevelopment', 'communityservice', 'mr', 'grades_prek_2', 'teacher', 'grades_9_12', 'teacher_number_of_previously_posted_projects', 'Price']\n"
     ]
    }
   ],
   "source": [
    "all_features_lst = list(tfidf_vec_essay.get_feature_names() + tfidf_vec_state.get_feature_names() + \\\n",
    "                        tfidf_vec_gcatg.get_feature_names() + \\\n",
    "                        tfidf_vec_subcatg.get_feature_names() + \\\n",
    "                        tfidf_vec_catg.get_feature_names() + \\\n",
    "                        tfidf_vec_teacher.get_feature_names() + \\\n",
    "                    [\"Price\"] + [\"teacher_number_of_previously_posted_projects\"])\n",
    "\n",
    "\n",
    "\n",
    "#https://stackoverflow.com/questions/52975761/difference-between-coef-and-feature-log-prob-in-multinomial-naive-bayes\n",
    "\n",
    "sorted_prob_positive_indices = MN_NB.feature_log_prob_[1, :].argsort()\n",
    "\n",
    "print(\"The features from Set 2(TF-IDF) using absolute values of feature_log_prob_ parameter of MultinomialNB \")\n",
    "print(\"The top 20 features For positive class-1 :\")\n",
    "top_most = []\n",
    "for index in sorted_prob_positive_indices[-20:]:\n",
    "  top_most.append(all_features_lst[index])\n",
    "\n",
    "print(top_most )\n",
    "\n",
    "print(\"\\n\")\n",
    "print(\"The top 20 features For negative class-2 :\")\n",
    "sorted_prob_negative_indices = MN_NB.feature_log_prob_[0, :].argsort()\n",
    "top_most_0 = []\n",
    "for index in sorted_prob_negative_indices[-20:]:\n",
    "  top_most_0.append(all_features_lst[index])\n",
    "\n",
    "\n",
    "print( top_most_0 )"
   ]
  },
  {
   "cell_type": "markdown",
   "metadata": {
    "colab_type": "text",
    "id": "lS9hIHdib3dp"
   },
   "source": [
    "## 3.\n",
    "<h1> Summary</h1>\n",
    "\n",
    "<br> as mentioned in the step 5 of instructions"
   ]
  },
  {
   "cell_type": "code",
   "execution_count": 46,
   "metadata": {
    "colab": {
     "base_uri": "https://localhost:8080/",
     "height": 121
    },
    "colab_type": "code",
    "executionInfo": {
     "elapsed": 1521,
     "status": "ok",
     "timestamp": 1588786907309,
     "user": {
      "displayName": "chetan vanapariya",
      "photoUrl": "",
      "userId": "09687593949013731715"
     },
     "user_tz": -330
    },
    "id": "qLhOCqQX8x7w",
    "outputId": "3c185e6a-8688-4e95-8c9b-7a0b933f1a2a"
   },
   "outputs": [
    {
     "name": "stdout",
     "output_type": "stream",
     "text": [
      "+------------+----------------+-----------------+-------+\n",
      "| Vectorizer |     Model      | Hyper parameter |  AUC  |\n",
      "+------------+----------------+-----------------+-------+\n",
      "|    BOW     | Multinomial NB |       0.94      | 0.749 |\n",
      "|   TFIDF    | Multinomial NB |       0.95      | 0.722 |\n",
      "+------------+----------------+-----------------+-------+\n"
     ]
    }
   ],
   "source": [
    "from prettytable import PrettyTable\n",
    "\n",
    "t = PrettyTable(['Vectorizer', 'Model','Hyper parameter','AUC'])\n",
    "\n",
    "\n",
    "t.add_row(['BOW', 'Multinomial NB', best_alpha_BOW , round(auc_for_BOW , 3 )])\n",
    "t.add_row(['TFIDF', 'Multinomial NB', best_alpha_tfidf , round(auc_for_tfidf , 3 )])\n",
    "print(t)"
   ]
  }
 ],
 "metadata": {
  "colab": {
   "collapsed_sections": [],
   "name": "6_Assignment_NB_Instructions_A_6.ipynb",
   "provenance": []
  },
  "kernelspec": {
   "display_name": "Python 3",
   "language": "python",
   "name": "python3"
  },
  "language_info": {
   "codemirror_mode": {
    "name": "ipython",
    "version": 3
   },
   "file_extension": ".py",
   "mimetype": "text/x-python",
   "name": "python",
   "nbconvert_exporter": "python",
   "pygments_lexer": "ipython3",
   "version": "3.7.3"
  }
 },
 "nbformat": 4,
 "nbformat_minor": 1
}
