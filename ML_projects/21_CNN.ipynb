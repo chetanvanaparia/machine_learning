{
  "nbformat": 4,
  "nbformat_minor": 0,
  "metadata": {
    "kernelspec": {
      "display_name": "Python 3",
      "language": "python",
      "name": "python3"
    },
    "language_info": {
      "codemirror_mode": {
        "name": "ipython",
        "version": 3
      },
      "file_extension": ".py",
      "mimetype": "text/x-python",
      "name": "python",
      "nbconvert_exporter": "python",
      "pygments_lexer": "ipython3",
      "version": "3.6.8"
    },
    "colab": {
      "provenance": []
    }
  },
  "cells": [
    {
      "cell_type": "markdown",
      "metadata": {
        "id": "_0zs3TflcAEr"
      },
      "source": [
        "<pre>\n",
        "Download all the data in this folder it contains two file both images and labels.\n",
        "            \n",
        "    where the categories are numbered 0 to 15, in the following order:\n",
        "\n",
        "    <b>0 letter\n",
        "    1 form\n",
        "    2 email\n",
        "    3 handwritten\n",
        "    4 advertisement\n",
        "    5 scientific report\n",
        "    6 scientific publication\n",
        "    7 specification\n",
        "    8 file folder\n",
        "    9 news article\n",
        "    10 budget\n",
        "    11 invoice\n",
        "    12 presentation\n",
        "    13 questionnaire\n",
        "    14 resume\n",
        "    15 memo</b>\n",
        "    \n",
        "\n",
        "<a href='https://medium.com/@vijayabhaskar96/tutorial-on-keras-imagedatagenerator-with-flow-from-dataframe-8bd5776e45c1'>https://medium.com/@vijayabhaskar96/tutorial-on-keras-imagedatagenerator-with-flow-from-dataframe-8bd5776e45c1</a>\n",
        "\n",
        "<a href='https://medium.com/@vijayabhaskar96/tutorial-on-keras-flow-from-dataframe-1fd4493d237c'>https://medium.com/@vijayabhaskar96/tutorial-on-keras-flow-from-dataframe-1fd4493d237c</a>\n",
        "\n",
        "\n",
        " <a href='https://blog.keras.io/building-powerful-image-classification-models-using-very-little-data.html'>https://blog.keras.io/building-powerful-image-classification-models-using-very-little-data.html</a>\n",
        "</pre>"
      ]
    },
    {
      "cell_type": "markdown",
      "metadata": {
        "id": "Rvhg4i3eECN6"
      },
      "source": [
        "# Split data into train and test"
      ]
    },
    {
      "cell_type": "code",
      "metadata": {
        "id": "P5-yJUHpHSgB"
      },
      "source": [
        "import pathlib\n",
        "import pandas as pd\n",
        "import numpy as np\n",
        "import os\n",
        "#importing tensorflow\n",
        "from tensorflow.keras.layers import Dense,Input,Conv2D,MaxPool2D,Activation,Dropout,Flatten\n",
        "from tensorflow.keras.models import Model\n",
        "import random as rn\n",
        "import tensorflow as tf"
      ],
      "execution_count": null,
      "outputs": []
    },
    {
      "cell_type": "code",
      "source": [
        "import matplotlib.pyplot as plt\n",
        "%matplotlib inline\n",
        "import seaborn as sn\n",
        "from sklearn.metrics import classification_report"
      ],
      "metadata": {
        "id": "Nm5wTxV9daIj"
      },
      "execution_count": null,
      "outputs": []
    },
    {
      "cell_type": "code",
      "metadata": {
        "id": "5XUt5Ni26Buk"
      },
      "source": [
        "# count the images in dir( recursive path of dir )\n",
        "def count_images_in_dir_recursive():\n",
        "  dir_path = \"/21_Transfer_Learning/rvl-cdip/data_final\"\n",
        "  data_root = pathlib.Path(dir_path)\n",
        "  print(data_root)\n",
        "  #......\n",
        "  all_image_paths = list(data_root.glob('*/*/*/*/*/*'))\n",
        "  image_count = len(all_image_paths)\n",
        "  print( image_count )\n",
        "\n",
        "# count_images_in_dir_recursive()"
      ],
      "execution_count": null,
      "outputs": []
    },
    {
      "cell_type": "code",
      "metadata": {
        "id": "YEttvPAvI9AH"
      },
      "source": [
        "dir_path = \"/21_Transfer_Learning/natural_images\""
      ],
      "execution_count": null,
      "outputs": []
    },
    {
      "cell_type": "code",
      "metadata": {
        "id": "m_PxJJRPDEpr"
      },
      "source": [
        "\n",
        "\n",
        "data_root = pathlib.Path(dir_path)\n",
        "print(data_root)\n",
        "\n",
        "all_image_paths = list(data_root.glob('*/*'))\n",
        "all_image_paths = [str(path) for path in all_image_paths]\n",
        "\n",
        "image_count = len(all_image_paths)\n"
      ],
      "execution_count": null,
      "outputs": []
    },
    {
      "cell_type": "code",
      "metadata": {
        "id": "007wpMp3EyQk"
      },
      "source": [
        "#list(data_root.iterdir())"
      ],
      "execution_count": null,
      "outputs": []
    },
    {
      "cell_type": "code",
      "metadata": {
        "id": "I-LQ2QR1FU8n",
        "colab": {
          "base_uri": "https://localhost:8080/"
        },
        "outputId": "4e4dfd51-1b10-460e-aceb-57ad94cc6157"
      },
      "source": [
        "label_names = sorted(item.name for item in data_root.glob('*/') if item.is_dir())\n",
        "print( label_names )\n",
        "\n",
        "label_to_index = dict((name, index) for index,name in enumerate(label_names))\n",
        "print( label_to_index )"
      ],
      "execution_count": null,
      "outputs": [
        {
          "output_type": "stream",
          "name": "stdout",
          "text": [
            "['airplane', 'car', 'cat', 'dog', 'flower', 'fruit', 'motorbike', 'person']\n",
            "{'airplane': 0, 'car': 1, 'cat': 2, 'dog': 3, 'flower': 4, 'fruit': 5, 'motorbike': 6, 'person': 7}\n"
          ]
        }
      ]
    },
    {
      "cell_type": "code",
      "metadata": {
        "id": "5fV146TXGoin"
      },
      "source": [
        "all_image_labels = [label_to_index[pathlib.Path(path).parent.name]\n",
        "                    for path in all_image_paths]"
      ],
      "execution_count": null,
      "outputs": []
    },
    {
      "cell_type": "code",
      "metadata": {
        "id": "aMt4otRsITEe",
        "colab": {
          "base_uri": "https://localhost:8080/"
        },
        "outputId": "8e8ff114-bc97-46e1-ac70-db1ee451a939"
      },
      "source": [
        "len( all_image_labels )"
      ],
      "execution_count": null,
      "outputs": [
        {
          "output_type": "execute_result",
          "data": {
            "text/plain": [
              "6899"
            ]
          },
          "metadata": {},
          "execution_count": 12
        }
      ]
    },
    {
      "cell_type": "code",
      "metadata": {
        "id": "RO1vaomUIyk3"
      },
      "source": [
        "#img_path_colm = np.array( all_image_paths ).reshape(-1,1)\n",
        "#img_category_colm = np.array( all_image_labels ).reshape(-1,1)"
      ],
      "execution_count": null,
      "outputs": []
    },
    {
      "cell_type": "code",
      "metadata": {
        "id": "FQX1NMJFJCeW"
      },
      "source": [
        "#\n",
        "data_dc = {'img_path' : all_image_paths , 'category' : all_image_labels }"
      ],
      "execution_count": null,
      "outputs": []
    },
    {
      "cell_type": "code",
      "metadata": {
        "id": "2okmpc9QHQfh"
      },
      "source": [
        "all_img_dataframe = pd.DataFrame( data= data_dc )"
      ],
      "execution_count": null,
      "outputs": []
    },
    {
      "cell_type": "code",
      "source": [
        "all_img_dataframe.category.unique()"
      ],
      "metadata": {
        "colab": {
          "base_uri": "https://localhost:8080/"
        },
        "id": "W80VoeVXJw2w",
        "outputId": "5af773df-5e31-4da3-fbd2-a207d99118a8"
      },
      "execution_count": null,
      "outputs": [
        {
          "output_type": "execute_result",
          "data": {
            "text/plain": [
              "array([0, 1, 2, 3, 4, 5, 6, 7])"
            ]
          },
          "metadata": {},
          "execution_count": 21
        }
      ]
    },
    {
      "cell_type": "code",
      "metadata": {
        "id": "Y67VH6S3MGTv"
      },
      "source": [
        "all_img_dataframe.head(2)"
      ],
      "execution_count": null,
      "outputs": []
    },
    {
      "cell_type": "code",
      "metadata": {
        "id": "TswjLtsxMu2X"
      },
      "source": [
        "#all_img_dataframe.to_csv( dir_path + '/natural_images_data/' + 'all_images_data.csv')"
      ],
      "execution_count": null,
      "outputs": []
    },
    {
      "cell_type": "code",
      "metadata": {
        "id": "edyTCkn1OefL"
      },
      "source": [
        "cat_0 = all_img_dataframe.loc[ all_img_dataframe['category'] == 0 ]\n",
        "\n",
        "cat_1 = all_img_dataframe.loc[ all_img_dataframe['category'] == 1 ]\n",
        "cat_2 = all_img_dataframe.loc[ all_img_dataframe['category'] == 2 ]\n",
        "cat_3 = all_img_dataframe.loc[ all_img_dataframe['category'] == 3 ]\n",
        "cat_4 = all_img_dataframe.loc[ all_img_dataframe['category'] == 4 ]\n",
        "cat_5 = all_img_dataframe.loc[ all_img_dataframe['category'] == 5 ]\n",
        "cat_6 = all_img_dataframe.loc[ all_img_dataframe['category'] == 6 ]\n",
        "cat_7 = all_img_dataframe.loc[ all_img_dataframe['category'] == 7 ]"
      ],
      "execution_count": null,
      "outputs": []
    },
    {
      "cell_type": "code",
      "metadata": {
        "id": "t-P3ea4SRyzz",
        "colab": {
          "base_uri": "https://localhost:8080/"
        },
        "outputId": "663ea71f-c9fd-4855-a4eb-85bc97d97811"
      },
      "source": [
        "cat_0.shape , cat_1.shape , cat_2.shape,cat_3.shape,cat_4.shape,cat_5.shape,cat_6.shape, cat_7.shape"
      ],
      "execution_count": null,
      "outputs": [
        {
          "output_type": "execute_result",
          "data": {
            "text/plain": [
              "((727, 2),\n",
              " (968, 2),\n",
              " (885, 2),\n",
              " (702, 2),\n",
              " (843, 2),\n",
              " (1000, 2),\n",
              " (788, 2),\n",
              " (986, 2))"
            ]
          },
          "metadata": {},
          "execution_count": 24
        }
      ]
    },
    {
      "cell_type": "code",
      "metadata": {
        "id": "9GEMBlxKR019"
      },
      "source": [
        "cat_0_split = round( (cat_0.shape[0]*0.80) )\n",
        "cat_1_split = round( (cat_1.shape[0]*0.80) )\n",
        "cat_2_split = round( (cat_2.shape[0]*0.80) )\n",
        "cat_3_split = round( (cat_3.shape[0]*0.80) )\n",
        "cat_4_split = round( (cat_4.shape[0]*0.80) )\n",
        "cat_5_split = round( (cat_5.shape[0]*0.80) )\n",
        "cat_6_split = round( (cat_6.shape[0]*0.80) )\n",
        "cat_7_split = round( (cat_7.shape[0]*0.80) )"
      ],
      "execution_count": null,
      "outputs": []
    },
    {
      "cell_type": "code",
      "metadata": {
        "id": "gFhzdqwfVcnK"
      },
      "source": [
        "cat_0_train = cat_0.iloc[0 : cat_0_split]\n",
        "cat_0_test = cat_0.iloc[ cat_0_split  : cat_0.shape[0] ]\n",
        "\n",
        "cat_1_train = cat_1.iloc[0 : cat_1_split]\n",
        "cat_1_test = cat_1.iloc[ cat_1_split  : cat_1.shape[0] ]\n",
        "\n",
        "cat_2_train = cat_2.iloc[0 : cat_2_split]\n",
        "cat_2_test = cat_2.iloc[ cat_2_split  : cat_2.shape[0] ]\n",
        "\n",
        "cat_3_train = cat_3.iloc[0 : cat_3_split]\n",
        "cat_3_test = cat_3.iloc[ cat_3_split  : cat_3.shape[0] ]\n",
        "\n",
        "cat_4_train = cat_4.iloc[0 : cat_4_split]\n",
        "cat_4_test = cat_4.iloc[ cat_4_split  : cat_4.shape[0] ]\n",
        "\n",
        "cat_5_train = cat_5.iloc[0 : cat_5_split]\n",
        "cat_5_test = cat_5.iloc[ cat_5_split  : cat_5.shape[0] ]\n",
        "\n",
        "cat_6_train = cat_6.iloc[0 : cat_6_split]\n",
        "cat_6_test = cat_6.iloc[ cat_6_split  : cat_6.shape[0] ]\n",
        "\n",
        "cat_7_train = cat_7.iloc[0 : cat_7_split]\n",
        "cat_7_test = cat_7.iloc[ cat_7_split  : cat_7.shape[0] ]"
      ],
      "execution_count": null,
      "outputs": []
    },
    {
      "cell_type": "code",
      "metadata": {
        "id": "fQOznTZNYoNl",
        "colab": {
          "base_uri": "https://localhost:8080/"
        },
        "outputId": "2e1cd378-10de-43ce-8012-8f347a0e6194"
      },
      "source": [
        "cat_1_train.shape , cat_1_test.shape"
      ],
      "execution_count": null,
      "outputs": [
        {
          "output_type": "execute_result",
          "data": {
            "text/plain": [
              "((774, 2), (194, 2))"
            ]
          },
          "metadata": {},
          "execution_count": 27
        }
      ]
    },
    {
      "cell_type": "code",
      "metadata": {
        "id": "KJ3t1Yvsfmq3"
      },
      "source": [
        "train_img_df = pd.concat([cat_0_train , cat_1_train ,cat_2_train,cat_3_train,cat_4_train,cat_5_train,cat_6_train,cat_7_train])"
      ],
      "execution_count": null,
      "outputs": []
    },
    {
      "cell_type": "code",
      "metadata": {
        "id": "Fnnz01OPgZ6r"
      },
      "source": [
        "train_img_df.tail()"
      ],
      "execution_count": null,
      "outputs": []
    },
    {
      "cell_type": "code",
      "metadata": {
        "id": "3Iuk0pKPc6D4"
      },
      "source": [
        "test_img_df =  pd.concat([cat_0_test , cat_1_test ,cat_2_test,cat_3_test,cat_4_test,cat_5_test,cat_6_test,cat_7_test])"
      ],
      "execution_count": null,
      "outputs": []
    },
    {
      "cell_type": "code",
      "metadata": {
        "id": "LvRNaAPohyt3"
      },
      "source": [
        "test_img_df.tail()"
      ],
      "execution_count": null,
      "outputs": []
    },
    {
      "cell_type": "code",
      "metadata": {
        "id": "FP2mO-Joh98r"
      },
      "source": [
        "#train_img_df.to_csv( dir_path + '/natural_images_data/' + 'train_images_data.csv' , index=False )\n",
        "#test_img_df.to_csv( dir_path + '/natural_images_data/' + 'test_images_data.csv' , index=False )\n",
        "#train_img_df.to_csv( dir_path + '/natural_images_data/' + 'train_images_data.csv'  )\n",
        "#test_img_df.to_csv( dir_path + '/natural_images_data/' + 'test_images_data.csv'  )"
      ],
      "execution_count": null,
      "outputs": []
    },
    {
      "cell_type": "code",
      "metadata": {
        "id": "NuQQgs42ie-K"
      },
      "source": [
        "train_img_df = pd.read_csv( dir_path + '_data/' + 'train_images_data.csv' , index_col= [0])\n",
        "test_img_df = pd.read_csv( dir_path + '_data/' + 'test_images_data.csv' , index_col= [0])"
      ],
      "execution_count": null,
      "outputs": []
    },
    {
      "cell_type": "code",
      "metadata": {
        "id": "1muX7f1wL8jC",
        "colab": {
          "base_uri": "https://localhost:8080/",
          "height": 206
        },
        "outputId": "3a6da823-0287-4543-a127-d900d70b8f18"
      },
      "source": [
        "train_img_df.head()"
      ],
      "execution_count": null,
      "outputs": [
        {
          "output_type": "execute_result",
          "data": {
            "text/plain": [
              "                                            img_path  category\n",
              "0  /content/drive/My Drive/Colab Notebooks/21_Tra...         0\n",
              "1  /content/drive/My Drive/Colab Notebooks/21_Tra...         0\n",
              "2  /content/drive/My Drive/Colab Notebooks/21_Tra...         0\n",
              "3  /content/drive/My Drive/Colab Notebooks/21_Tra...         0\n",
              "4  /content/drive/My Drive/Colab Notebooks/21_Tra...         0"
            ],
            "text/html": [
              "\n",
              "  <div id=\"df-b991b040-3cb2-4a98-8746-df8d41384e00\">\n",
              "    <div class=\"colab-df-container\">\n",
              "      <div>\n",
              "<style scoped>\n",
              "    .dataframe tbody tr th:only-of-type {\n",
              "        vertical-align: middle;\n",
              "    }\n",
              "\n",
              "    .dataframe tbody tr th {\n",
              "        vertical-align: top;\n",
              "    }\n",
              "\n",
              "    .dataframe thead th {\n",
              "        text-align: right;\n",
              "    }\n",
              "</style>\n",
              "<table border=\"1\" class=\"dataframe\">\n",
              "  <thead>\n",
              "    <tr style=\"text-align: right;\">\n",
              "      <th></th>\n",
              "      <th>img_path</th>\n",
              "      <th>category</th>\n",
              "    </tr>\n",
              "  </thead>\n",
              "  <tbody>\n",
              "    <tr>\n",
              "      <th>0</th>\n",
              "      <td>/content/drive/My Drive/Colab Notebooks/21_Tra...</td>\n",
              "      <td>0</td>\n",
              "    </tr>\n",
              "    <tr>\n",
              "      <th>1</th>\n",
              "      <td>/content/drive/My Drive/Colab Notebooks/21_Tra...</td>\n",
              "      <td>0</td>\n",
              "    </tr>\n",
              "    <tr>\n",
              "      <th>2</th>\n",
              "      <td>/content/drive/My Drive/Colab Notebooks/21_Tra...</td>\n",
              "      <td>0</td>\n",
              "    </tr>\n",
              "    <tr>\n",
              "      <th>3</th>\n",
              "      <td>/content/drive/My Drive/Colab Notebooks/21_Tra...</td>\n",
              "      <td>0</td>\n",
              "    </tr>\n",
              "    <tr>\n",
              "      <th>4</th>\n",
              "      <td>/content/drive/My Drive/Colab Notebooks/21_Tra...</td>\n",
              "      <td>0</td>\n",
              "    </tr>\n",
              "  </tbody>\n",
              "</table>\n",
              "</div>\n",
              "      <button class=\"colab-df-convert\" onclick=\"convertToInteractive('df-b991b040-3cb2-4a98-8746-df8d41384e00')\"\n",
              "              title=\"Convert this dataframe to an interactive table.\"\n",
              "              style=\"display:none;\">\n",
              "        \n",
              "  <svg xmlns=\"http://www.w3.org/2000/svg\" height=\"24px\"viewBox=\"0 0 24 24\"\n",
              "       width=\"24px\">\n",
              "    <path d=\"M0 0h24v24H0V0z\" fill=\"none\"/>\n",
              "    <path d=\"M18.56 5.44l.94 2.06.94-2.06 2.06-.94-2.06-.94-.94-2.06-.94 2.06-2.06.94zm-11 1L8.5 8.5l.94-2.06 2.06-.94-2.06-.94L8.5 2.5l-.94 2.06-2.06.94zm10 10l.94 2.06.94-2.06 2.06-.94-2.06-.94-.94-2.06-.94 2.06-2.06.94z\"/><path d=\"M17.41 7.96l-1.37-1.37c-.4-.4-.92-.59-1.43-.59-.52 0-1.04.2-1.43.59L10.3 9.45l-7.72 7.72c-.78.78-.78 2.05 0 2.83L4 21.41c.39.39.9.59 1.41.59.51 0 1.02-.2 1.41-.59l7.78-7.78 2.81-2.81c.8-.78.8-2.07 0-2.86zM5.41 20L4 18.59l7.72-7.72 1.47 1.35L5.41 20z\"/>\n",
              "  </svg>\n",
              "      </button>\n",
              "      \n",
              "  <style>\n",
              "    .colab-df-container {\n",
              "      display:flex;\n",
              "      flex-wrap:wrap;\n",
              "      gap: 12px;\n",
              "    }\n",
              "\n",
              "    .colab-df-convert {\n",
              "      background-color: #E8F0FE;\n",
              "      border: none;\n",
              "      border-radius: 50%;\n",
              "      cursor: pointer;\n",
              "      display: none;\n",
              "      fill: #1967D2;\n",
              "      height: 32px;\n",
              "      padding: 0 0 0 0;\n",
              "      width: 32px;\n",
              "    }\n",
              "\n",
              "    .colab-df-convert:hover {\n",
              "      background-color: #E2EBFA;\n",
              "      box-shadow: 0px 1px 2px rgba(60, 64, 67, 0.3), 0px 1px 3px 1px rgba(60, 64, 67, 0.15);\n",
              "      fill: #174EA6;\n",
              "    }\n",
              "\n",
              "    [theme=dark] .colab-df-convert {\n",
              "      background-color: #3B4455;\n",
              "      fill: #D2E3FC;\n",
              "    }\n",
              "\n",
              "    [theme=dark] .colab-df-convert:hover {\n",
              "      background-color: #434B5C;\n",
              "      box-shadow: 0px 1px 3px 1px rgba(0, 0, 0, 0.15);\n",
              "      filter: drop-shadow(0px 1px 2px rgba(0, 0, 0, 0.3));\n",
              "      fill: #FFFFFF;\n",
              "    }\n",
              "  </style>\n",
              "\n",
              "      <script>\n",
              "        const buttonEl =\n",
              "          document.querySelector('#df-b991b040-3cb2-4a98-8746-df8d41384e00 button.colab-df-convert');\n",
              "        buttonEl.style.display =\n",
              "          google.colab.kernel.accessAllowed ? 'block' : 'none';\n",
              "\n",
              "        async function convertToInteractive(key) {\n",
              "          const element = document.querySelector('#df-b991b040-3cb2-4a98-8746-df8d41384e00');\n",
              "          const dataTable =\n",
              "            await google.colab.kernel.invokeFunction('convertToInteractive',\n",
              "                                                     [key], {});\n",
              "          if (!dataTable) return;\n",
              "\n",
              "          const docLinkHtml = 'Like what you see? Visit the ' +\n",
              "            '<a target=\"_blank\" href=https://colab.research.google.com/notebooks/data_table.ipynb>data table notebook</a>'\n",
              "            + ' to learn more about interactive tables.';\n",
              "          element.innerHTML = '';\n",
              "          dataTable['output_type'] = 'display_data';\n",
              "          await google.colab.output.renderOutput(dataTable, element);\n",
              "          const docLink = document.createElement('div');\n",
              "          docLink.innerHTML = docLinkHtml;\n",
              "          element.appendChild(docLink);\n",
              "        }\n",
              "      </script>\n",
              "    </div>\n",
              "  </div>\n",
              "  "
            ]
          },
          "metadata": {},
          "execution_count": 34
        }
      ]
    },
    {
      "cell_type": "code",
      "metadata": {
        "id": "oMXy0GeuNOzT",
        "colab": {
          "base_uri": "https://localhost:8080/"
        },
        "outputId": "2eef7c2c-3d82-4e01-b0f7-f7b921ebc529"
      },
      "source": [
        "train_img_df.shape , test_img_df.shape"
      ],
      "execution_count": null,
      "outputs": [
        {
          "output_type": "execute_result",
          "data": {
            "text/plain": [
              "((5519, 2), (1380, 2))"
            ]
          },
          "metadata": {},
          "execution_count": 35
        }
      ]
    },
    {
      "cell_type": "code",
      "metadata": {
        "id": "DhSUwiINpFYf"
      },
      "source": [
        "train_image_paths = list( train_img_df['img_path'].values )\n",
        "train_image_labels = list( train_img_df['category'].values )"
      ],
      "execution_count": null,
      "outputs": []
    },
    {
      "cell_type": "code",
      "metadata": {
        "id": "cflkwkdXrN-5"
      },
      "source": [
        "test_image_paths = list( test_img_df['img_path'].values )\n",
        "test_image_labels = list( test_img_df['category'].values )"
      ],
      "execution_count": null,
      "outputs": []
    },
    {
      "cell_type": "code",
      "metadata": {
        "id": "BH9FYQhMqW5B",
        "colab": {
          "base_uri": "https://localhost:8080/"
        },
        "outputId": "ded59400-ca87-4d2c-b24d-8cc91c3f6008"
      },
      "source": [
        "len( train_image_paths ) ,len( train_image_labels ) ,len( test_image_paths ) ,len( test_image_labels )"
      ],
      "execution_count": null,
      "outputs": [
        {
          "output_type": "execute_result",
          "data": {
            "text/plain": [
              "(5519, 5519, 1380, 1380)"
            ]
          },
          "metadata": {},
          "execution_count": 38
        }
      ]
    },
    {
      "cell_type": "code",
      "metadata": {
        "id": "_QGc9IfkkK8Z",
        "colab": {
          "base_uri": "https://localhost:8080/"
        },
        "outputId": "84478c89-3494-4bb1-e744-e445c6cd95f0"
      },
      "source": [
        "###Image data Generator class\n",
        "ImageFlow = tf.keras.preprocessing.image.ImageDataGenerator()\n",
        "##We are fitting the data to Image data generator.\n",
        "ImageGenerator = ImageFlow.flow_from_directory(dir_path,target_size=(156,256),seed=10,batch_size=32)"
      ],
      "execution_count": null,
      "outputs": [
        {
          "output_type": "stream",
          "name": "stdout",
          "text": [
            "Found 6899 images belonging to 8 classes.\n"
          ]
        }
      ]
    },
    {
      "cell_type": "code",
      "metadata": {
        "id": "ZtlfSy_JkgeY"
      },
      "source": [
        "##Checking time taken to load images. \n",
        "import time\n",
        "start = time.time()\n",
        "total_batches = 0\n",
        "\n",
        "batches = 0\n",
        "per_batch = 32\n",
        "for x_batch, y_batch in ImageGenerator:\n",
        "    batches += 1\n",
        "    if batches >= 6899/per_batch:\n",
        "        total_batches = total_batches + batches\n",
        "        break \n",
        "end = time.time()\n",
        "duration = end-start\n",
        "print(\"{} batches: {} s\".format(total_batches, duration))\n",
        "print(\"{:0.5f} Images/s\".format(per_batch*total_batches/duration))"
      ],
      "execution_count": null,
      "outputs": []
    },
    {
      "cell_type": "code",
      "metadata": {
        "id": "yD1FxKt8nEr-"
      },
      "source": [
        "def tfdata_generator(images, labels, is_training, batch_size=32):\n",
        "    '''Construct a data generator using tf.Dataset'''\n",
        "    \n",
        "    def parse_function(filename, label):\n",
        "        #reading path \n",
        "        image_string = tf.io.read_file(filename)\n",
        "        #decoding image\n",
        "        image = tf.image.decode_jpeg(image_string, channels=3)\n",
        "\n",
        "        # This will convert to float values in [0, 1]\n",
        "        image = tf.image.convert_image_dtype(image, tf.float32)\n",
        "        #resize the image\n",
        "        image = tf.image.resize(image, [156, 256])\n",
        "        #one hot coding for label\n",
        "        y = tf.one_hot(tf.cast(label, tf.uint8), 8)\n",
        "        return image, y\n",
        "    \n",
        "    ##creating a dataset from tensorslices\n",
        "    dataset = tf.data.Dataset.from_tensor_slices((images, labels))\n",
        "    \n",
        "    if is_training:\n",
        "        dataset = dataset.shuffle(5000)  # depends on sample size\n",
        "    if (not is_training):\n",
        "        dataset = dataset.shuffle(1200)\n",
        "\n",
        "\n",
        "    # Transform and batch data at the same time\n",
        "    dataset = dataset.apply(tf.data.experimental.map_and_batch( parse_function, batch_size,num_parallel_batches=4,  # cpu cores\n",
        "        drop_remainder=True if is_training else False))\n",
        "    \n",
        "    #repeat the dataset indefinitely\n",
        "    dataset = dataset.repeat()\n",
        "\n",
        "    \n",
        "    #prefetch the data into CPU/GPU\n",
        "    dataset = dataset.prefetch(tf.data.experimental.AUTOTUNE)\n",
        "\n",
        "    return dataset"
      ],
      "execution_count": null,
      "outputs": []
    },
    {
      "cell_type": "code",
      "metadata": {
        "id": "hPo-2C8X1yZm"
      },
      "source": [
        "def tf_test_generator(images, batch_size=32):\n",
        "    '''Construct a data generator using tf.Dataset'''\n",
        "    \n",
        "    def parse_function(filename, label):\n",
        "        #reading path \n",
        "        image_string = tf.io.read_file(filename)\n",
        "        #decoding image\n",
        "        image = tf.image.decode_jpeg(image_string, channels=3)\n",
        "\n",
        "        # This will convert to float values in [0, 1]\n",
        "        image = tf.image.convert_image_dtype(image, tf.float32)\n",
        "        #resize the image\n",
        "        image = tf.image.resize(image, [156, 256])\n",
        "        #one hot coding for label\n",
        "        #y = tf.one_hot(tf.cast(label, tf.uint8), 8)\n",
        "        return image\n",
        "    \n",
        "    ##creating a dataset from tensorslices\n",
        "    #dataset = tf.data.Dataset.from_tensor_slices((images, labels))\n",
        "    dataset = tf.data.Dataset.from_tensor_slices( images )\n",
        "\n",
        "    #if is_training:\n",
        "    dataset = dataset.shuffle( len(images) )  # depends on sample size\n",
        "\n",
        "    # Transform and batch data at the same time\n",
        "    dataset = dataset.apply(tf.data.experimental.map_and_batch( parse_function, batch_size,num_parallel_batches=4,  # cpu cores\n",
        "        drop_remainder=False))\n",
        "    \n",
        "    #repeat the dataset indefinitely\n",
        "    dataset = dataset.repeat()\n",
        "\n",
        "    \n",
        "    #prefetch the data into CPU/GPU\n",
        "    dataset = dataset.prefetch(tf.data.experimental.AUTOTUNE)\n",
        "\n",
        "    return dataset"
      ],
      "execution_count": null,
      "outputs": []
    },
    {
      "cell_type": "code",
      "metadata": {
        "id": "N0zwf3Qzo8Kl"
      },
      "source": [
        "#creating a generator for train data\n",
        "tf.keras.backend.clear_session()\n",
        "tf_train_image_generator = tfdata_generator( train_image_paths , train_image_labels, is_training=True, batch_size=32 )\n",
        "\n",
        "#tf_train_image_generator = tfdata_generator( train_image_paths , train_image_labels, is_training=True, batch_size=32)\n",
        "#tf_train_image_generator = tfdata_generator( train_image_paths , train_image_labels, is_training=True, batch_size=256 )"
      ],
      "execution_count": null,
      "outputs": []
    },
    {
      "cell_type": "code",
      "metadata": {
        "id": "3WBxZz_0EAU5"
      },
      "source": [
        "#creating a generator for train data\n",
        "tf.keras.backend.clear_session()\n",
        "tf_validation_image_generator = tfdata_generator( test_image_paths , test_image_labels, is_training=True , batch_size=32 )"
      ],
      "execution_count": null,
      "outputs": []
    },
    {
      "cell_type": "code",
      "metadata": {
        "id": "yeyVa5FB8QXG",
        "colab": {
          "base_uri": "https://localhost:8080/"
        },
        "outputId": "c101b172-6708-468f-f787-3a9e335705b6"
      },
      "source": [
        "# Model- 1\n",
        "os.environ['PYTHONHASHSEED'] = '0'\n",
        "\n",
        "##https://keras.io/getting-started/faq/#how-can-i-obtain-reproducible-results-using-keras-during-development\n",
        "## Have to clear the session. If you are not clearing, Graph will create again and again and graph size will increses. \n",
        "## Varibles will also set to some value from before session\n",
        "tf.keras.backend.clear_session()\n",
        "\n",
        "## Set the random seed values to regenerate the model.\n",
        "np.random.seed(0)\n",
        "rn.seed(0)\n",
        "\n",
        "#Input layer\n",
        "input_layer = Input(shape=(156,256,3),name='Input_Layer')\n",
        "\n",
        "vgg16_layer = tf.keras.applications.VGG16(\n",
        "              include_top=False, weights='imagenet', input_tensor=None, input_shape=(156,256,3),\n",
        "              pooling=None, classes=8, classifier_activation='softmax'\n",
        "            )(input_layer)\n",
        "\n",
        "#Conv Layer\n",
        "Conv1 = Conv2D(filters=128,kernel_size=(3,3),strides=(1,1),padding='same',data_format='channels_last',\n",
        "              activation='relu',kernel_initializer=tf.keras.initializers.he_normal(seed=0),name='Conv1')(vgg16_layer)\n",
        "#MaxPool Layer\n",
        "#Pool1 = MaxPool2D(pool_size=(2,2),strides=(2,2),padding='valid',data_format='channels_last',name='Pool1')(Conv1)\n",
        "Pool1 = MaxPool2D(pool_size=(2,2),strides=(1,1),padding='same',data_format='channels_last',name='Pool1')(Conv1)\n",
        "\n",
        "#Flatten\n",
        "flatten = Flatten(data_format='channels_last',name='Flatten')(Pool1)\n",
        "#FC layer\n",
        "FC1 = Dense(units=128,activation='relu',kernel_initializer=tf.keras.initializers.glorot_normal(seed=32),name='FC1')(flatten)\n",
        "\n",
        "#FC layer\n",
        "FC2 = Dense(units=64,activation='relu',kernel_initializer=tf.keras.initializers.glorot_normal(seed=33),name='FC2')(FC1)\n",
        "\n",
        "#output layer\n",
        "Out = Dense(units=8,activation='softmax',kernel_initializer=tf.keras.initializers.glorot_normal(seed=3),name='Output')(FC2)\n",
        "\n",
        "#Creating a model\n",
        "model = Model(inputs=input_layer,outputs=Out)\n",
        "\n",
        "for layer in model.layers[1:2]:\n",
        "    layer.trainable = False\n",
        "\n",
        "#compiling \n",
        "model.compile(optimizer=tf.keras.optimizers.Adam(learning_rate=0.001),loss='categorical_crossentropy',metrics=['accuracy'])\n",
        "\n",
        "model.summary()"
      ],
      "execution_count": null,
      "outputs": [
        {
          "output_type": "stream",
          "name": "stdout",
          "text": [
            "Model: \"model\"\n",
            "_________________________________________________________________\n",
            " Layer (type)                Output Shape              Param #   \n",
            "=================================================================\n",
            " Input_Layer (InputLayer)    [(None, 156, 256, 3)]     0         \n",
            "                                                                 \n",
            " vgg16 (Functional)          (None, 4, 8, 512)         14714688  \n",
            "                                                                 \n",
            " Conv1 (Conv2D)              (None, 4, 8, 128)         589952    \n",
            "                                                                 \n",
            " Pool1 (MaxPooling2D)        (None, 4, 8, 128)         0         \n",
            "                                                                 \n",
            " Flatten (Flatten)           (None, 4096)              0         \n",
            "                                                                 \n",
            " FC1 (Dense)                 (None, 128)               524416    \n",
            "                                                                 \n",
            " FC2 (Dense)                 (None, 64)                8256      \n",
            "                                                                 \n",
            " Output (Dense)              (None, 8)                 520       \n",
            "                                                                 \n",
            "=================================================================\n",
            "Total params: 15,837,832\n",
            "Trainable params: 1,123,144\n",
            "Non-trainable params: 14,714,688\n",
            "_________________________________________________________________\n"
          ]
        }
      ]
    },
    {
      "cell_type": "code",
      "metadata": {
        "id": "j9e9OwnJ7UYh",
        "colab": {
          "base_uri": "https://localhost:8080/"
        },
        "outputId": "9c274621-8705-429d-a629-41c2174e8e0e"
      },
      "source": [
        "tf_train_image_generator"
      ],
      "execution_count": null,
      "outputs": [
        {
          "output_type": "execute_result",
          "data": {
            "text/plain": [
              "<PrefetchDataset element_spec=(TensorSpec(shape=(32, 156, 256, 3), dtype=tf.float32, name=None), TensorSpec(shape=(32, 8), dtype=tf.float32, name=None))>"
            ]
          },
          "metadata": {},
          "execution_count": 50
        }
      ]
    },
    {
      "cell_type": "code",
      "metadata": {
        "id": "BIJJVLl0w1Cp",
        "colab": {
          "base_uri": "https://localhost:8080/"
        },
        "outputId": "b8eb021d-0634-41fe-f27d-0c01ccd15046"
      },
      "source": [
        "tf_validation_image_generator"
      ],
      "execution_count": null,
      "outputs": [
        {
          "output_type": "execute_result",
          "data": {
            "text/plain": [
              "<PrefetchDataset element_spec=(TensorSpec(shape=(32, 156, 256, 3), dtype=tf.float32, name=None), TensorSpec(shape=(32, 8), dtype=tf.float32, name=None))>"
            ]
          },
          "metadata": {},
          "execution_count": 51
        }
      ]
    },
    {
      "cell_type": "code",
      "source": [
        "#tf_train_image_generator\n",
        "for x, y in tf_train_image_generator:\n",
        "    print(x.shape , y.shape)\n",
        "    print(x , y)\n",
        "    break\n",
        "    #plt.imshow(x)\n",
        "    "
      ],
      "metadata": {
        "colab": {
          "base_uri": "https://localhost:8080/"
        },
        "id": "tbtrzrbfUjJA",
        "outputId": "5aeff7b6-d4d9-4cf5-d3ad-7105077333f3"
      },
      "execution_count": null,
      "outputs": [
        {
          "output_type": "stream",
          "name": "stdout",
          "text": [
            "(32, 156, 256, 3) (32, 8)\n",
            "tf.Tensor(\n",
            "[[[[1.0000000e+00 1.0000000e+00 1.0000000e+00]\n",
            "   [1.0000000e+00 1.0000000e+00 1.0000000e+00]\n",
            "   [1.0000000e+00 1.0000000e+00 1.0000000e+00]\n",
            "   ...\n",
            "   [1.0000000e+00 1.0000000e+00 1.0000000e+00]\n",
            "   [1.0000000e+00 1.0000000e+00 1.0000000e+00]\n",
            "   [1.0000000e+00 1.0000000e+00 1.0000000e+00]]\n",
            "\n",
            "  [[1.0000000e+00 1.0000000e+00 1.0000000e+00]\n",
            "   [1.0000000e+00 1.0000000e+00 1.0000000e+00]\n",
            "   [1.0000000e+00 1.0000000e+00 1.0000000e+00]\n",
            "   ...\n",
            "   [1.0000000e+00 1.0000000e+00 1.0000000e+00]\n",
            "   [1.0000000e+00 1.0000000e+00 1.0000000e+00]\n",
            "   [1.0000000e+00 1.0000000e+00 1.0000000e+00]]\n",
            "\n",
            "  [[1.0000000e+00 1.0000000e+00 1.0000000e+00]\n",
            "   [1.0000000e+00 1.0000000e+00 1.0000000e+00]\n",
            "   [1.0000000e+00 1.0000000e+00 1.0000000e+00]\n",
            "   ...\n",
            "   [1.0000000e+00 1.0000000e+00 1.0000000e+00]\n",
            "   [1.0000000e+00 1.0000000e+00 1.0000000e+00]\n",
            "   [1.0000000e+00 1.0000000e+00 1.0000000e+00]]\n",
            "\n",
            "  ...\n",
            "\n",
            "  [[1.0000000e+00 1.0000000e+00 1.0000000e+00]\n",
            "   [1.0000000e+00 1.0000000e+00 1.0000000e+00]\n",
            "   [1.0000000e+00 1.0000000e+00 1.0000000e+00]\n",
            "   ...\n",
            "   [1.0000000e+00 1.0000000e+00 1.0000000e+00]\n",
            "   [1.0000000e+00 1.0000000e+00 1.0000000e+00]\n",
            "   [1.0000000e+00 1.0000000e+00 1.0000000e+00]]\n",
            "\n",
            "  [[1.0000000e+00 1.0000000e+00 1.0000000e+00]\n",
            "   [1.0000000e+00 1.0000000e+00 1.0000000e+00]\n",
            "   [1.0000000e+00 1.0000000e+00 1.0000000e+00]\n",
            "   ...\n",
            "   [1.0000000e+00 1.0000000e+00 1.0000000e+00]\n",
            "   [1.0000000e+00 1.0000000e+00 1.0000000e+00]\n",
            "   [1.0000000e+00 1.0000000e+00 1.0000000e+00]]\n",
            "\n",
            "  [[1.0000000e+00 1.0000000e+00 1.0000000e+00]\n",
            "   [1.0000000e+00 1.0000000e+00 1.0000000e+00]\n",
            "   [1.0000000e+00 1.0000000e+00 1.0000000e+00]\n",
            "   ...\n",
            "   [1.0000000e+00 1.0000000e+00 1.0000000e+00]\n",
            "   [1.0000000e+00 1.0000000e+00 1.0000000e+00]\n",
            "   [1.0000000e+00 1.0000000e+00 1.0000000e+00]]]\n",
            "\n",
            "\n",
            " [[[9.1094542e-01 9.3447483e-01 9.3447483e-01]\n",
            "   [9.4030851e-01 9.6383792e-01 9.6383792e-01]\n",
            "   [9.4372571e-01 9.6725512e-01 9.6725512e-01]\n",
            "   ...\n",
            "   [9.7647065e-01 9.8431379e-01 9.7254908e-01]\n",
            "   [9.7647065e-01 9.8431379e-01 9.7254908e-01]\n",
            "   [9.7365201e-01 9.8149514e-01 9.6973044e-01]]\n",
            "\n",
            "  [[9.5159793e-01 9.7512734e-01 9.7512734e-01]\n",
            "   [9.4443822e-01 9.6796763e-01 9.6796763e-01]\n",
            "   [9.3543798e-01 9.6374679e-01 9.6215361e-01]\n",
            "   ...\n",
            "   [9.7684771e-01 9.8469085e-01 9.8076928e-01]\n",
            "   [9.7678882e-01 9.8463196e-01 9.8071039e-01]\n",
            "   [9.7392303e-01 9.8176616e-01 9.7784460e-01]]\n",
            "\n",
            "  [[9.3938702e-01 9.6291643e-01 9.6291643e-01]\n",
            "   [9.2575580e-01 9.5762092e-01 9.5484233e-01]\n",
            "   [9.4129437e-01 9.7546905e-01 9.7192061e-01]\n",
            "   ...\n",
            "   [9.8039222e-01 9.8823535e-01 9.8305690e-01]\n",
            "   [9.7977948e-01 9.8762262e-01 9.8244417e-01]\n",
            "   [9.7647065e-01 9.8431379e-01 9.7913533e-01]]\n",
            "\n",
            "  ...\n",
            "\n",
            "  [[9.7355675e-03 9.7355675e-03 2.8186275e-03]\n",
            "   [4.0197601e-03 4.0197601e-03 0.0000000e+00]\n",
            "   [1.0774115e-02 1.0774115e-02 2.9309781e-03]\n",
            "   ...\n",
            "   [3.9010963e-01 2.2001158e-01 4.8753610e-01]\n",
            "   [3.6493531e-01 1.8993531e-01 4.3618503e-01]\n",
            "   [3.3948365e-01 1.5124834e-01 3.8749152e-01]]\n",
            "\n",
            "  [[6.7401966e-03 6.7401966e-03 6.7401966e-03]\n",
            "   [3.9215689e-03 3.9215689e-03 3.9215689e-03]\n",
            "   [9.4362749e-03 9.4362749e-03 9.4362749e-03]\n",
            "   ...\n",
            "   [3.8363048e-01 2.1818928e-01 4.9037066e-01]\n",
            "   [3.6251408e-01 1.9551067e-01 4.4625533e-01]\n",
            "   [3.4045771e-01 1.6205938e-01 4.0640563e-01]]\n",
            "\n",
            "  [[1.0536105e-02 1.0536105e-02 1.0536105e-02]\n",
            "   [7.6114512e-03 7.6114512e-03 7.6114512e-03]\n",
            "   [1.1690096e-02 1.1690096e-02 1.1690096e-02]\n",
            "   ...\n",
            "   [3.8264289e-01 2.2345170e-01 4.9330467e-01]\n",
            "   [3.7488776e-01 2.0834365e-01 4.6655443e-01]\n",
            "   [3.4873608e-01 1.7508410e-01 4.2434883e-01]]]\n",
            "\n",
            "\n",
            " [[[5.9785539e-01 5.5863971e-01 4.6060053e-01]\n",
            "   [5.2120101e-01 4.8400739e-01 3.8799024e-01]\n",
            "   [5.0312501e-01 4.7175249e-01 3.8155639e-01]\n",
            "   ...\n",
            "   [4.3811277e-01 4.4203433e-01 3.7481621e-01]\n",
            "   [3.2950369e-01 3.3342525e-01 2.6283702e-01]\n",
            "   [3.1920958e-01 3.2313114e-01 2.5254291e-01]]\n",
            "\n",
            "  [[5.3492975e-01 4.9571404e-01 3.9767486e-01]\n",
            "   [4.9595031e-01 4.5773596e-01 3.6205903e-01]\n",
            "   [4.9256694e-01 4.5893639e-01 3.6949298e-01]\n",
            "   ...\n",
            "   [4.6485850e-01 4.6878007e-01 4.0042779e-01]\n",
            "   [3.7037498e-01 3.7429655e-01 3.0370829e-01]\n",
            "   [3.3972770e-01 3.4364927e-01 2.7306104e-01]]\n",
            "\n",
            "  [[4.3065292e-01 3.9143720e-01 2.9339799e-01]\n",
            "   [4.5410633e-01 4.1420040e-01 3.1908733e-01]\n",
            "   [4.7507074e-01 4.3769830e-01 3.4950215e-01]\n",
            "   ...\n",
            "   [5.0918001e-01 5.1310158e-01 4.4286981e-01]\n",
            "   [4.3810451e-01 4.4202608e-01 3.7143782e-01]\n",
            "   [3.7372917e-01 3.7765074e-01 3.0706248e-01]]\n",
            "\n",
            "  ...\n",
            "\n",
            "  [[3.9435026e-01 3.6689925e-01 2.5317374e-01]\n",
            "   [5.1643473e-01 4.8493960e-01 3.7222514e-01]\n",
            "   [5.1275814e-01 4.6962091e-01 3.5981697e-01]\n",
            "   ...\n",
            "   [5.0166005e-01 4.7420907e-01 4.1146398e-01]\n",
            "   [5.4932749e-01 5.2187651e-01 4.5913139e-01]\n",
            "   [4.9925056e-01 4.7179958e-01 4.0905449e-01]]\n",
            "\n",
            "  [[3.6972901e-01 3.4227803e-01 2.2855254e-01]\n",
            "   [4.8807162e-01 4.5657653e-01 3.4386206e-01]\n",
            "   [5.0216472e-01 4.5902747e-01 3.4922352e-01]\n",
            "   ...\n",
            "   [5.0072032e-01 4.7326931e-01 4.1052422e-01]\n",
            "   [5.5095065e-01 5.2349967e-01 4.6075457e-01]\n",
            "   [5.0143760e-01 4.7398663e-01 4.1124153e-01]]\n",
            "\n",
            "  [[3.5487133e-01 3.2742035e-01 2.1369487e-01]\n",
            "   [4.7095591e-01 4.3946081e-01 3.2674634e-01]\n",
            "   [4.9577209e-01 4.5263484e-01 3.4283090e-01]\n",
            "   ...\n",
            "   [5.0015324e-01 4.7270223e-01 4.0995714e-01]\n",
            "   [5.5193019e-01 5.2447921e-01 4.6173409e-01]\n",
            "   [5.0275737e-01 4.7530639e-01 4.1256130e-01]]]\n",
            "\n",
            "\n",
            " ...\n",
            "\n",
            "\n",
            " [[[1.0000000e+00 1.0000000e+00 1.0000000e+00]\n",
            "   [1.0000000e+00 1.0000000e+00 1.0000000e+00]\n",
            "   [1.0000000e+00 1.0000000e+00 1.0000000e+00]\n",
            "   ...\n",
            "   [1.0000000e+00 1.0000000e+00 1.0000000e+00]\n",
            "   [1.0000000e+00 1.0000000e+00 1.0000000e+00]\n",
            "   [1.0000000e+00 1.0000000e+00 1.0000000e+00]]\n",
            "\n",
            "  [[1.0000000e+00 1.0000000e+00 1.0000000e+00]\n",
            "   [1.0000000e+00 1.0000000e+00 1.0000000e+00]\n",
            "   [1.0000000e+00 1.0000000e+00 1.0000000e+00]\n",
            "   ...\n",
            "   [1.0000000e+00 1.0000000e+00 1.0000000e+00]\n",
            "   [1.0000000e+00 1.0000000e+00 1.0000000e+00]\n",
            "   [1.0000000e+00 1.0000000e+00 1.0000000e+00]]\n",
            "\n",
            "  [[1.0000000e+00 1.0000000e+00 1.0000000e+00]\n",
            "   [1.0000000e+00 1.0000000e+00 1.0000000e+00]\n",
            "   [1.0000000e+00 1.0000000e+00 1.0000000e+00]\n",
            "   ...\n",
            "   [1.0000000e+00 1.0000000e+00 1.0000000e+00]\n",
            "   [1.0000000e+00 1.0000000e+00 1.0000000e+00]\n",
            "   [1.0000000e+00 1.0000000e+00 1.0000000e+00]]\n",
            "\n",
            "  ...\n",
            "\n",
            "  [[1.0000000e+00 1.0000000e+00 1.0000000e+00]\n",
            "   [1.0000000e+00 1.0000000e+00 1.0000000e+00]\n",
            "   [1.0000000e+00 1.0000000e+00 1.0000000e+00]\n",
            "   ...\n",
            "   [1.0000000e+00 1.0000000e+00 1.0000000e+00]\n",
            "   [1.0000000e+00 1.0000000e+00 1.0000000e+00]\n",
            "   [1.0000000e+00 1.0000000e+00 1.0000000e+00]]\n",
            "\n",
            "  [[1.0000000e+00 1.0000000e+00 1.0000000e+00]\n",
            "   [1.0000000e+00 1.0000000e+00 1.0000000e+00]\n",
            "   [1.0000000e+00 1.0000000e+00 1.0000000e+00]\n",
            "   ...\n",
            "   [1.0000000e+00 1.0000000e+00 1.0000000e+00]\n",
            "   [1.0000000e+00 1.0000000e+00 1.0000000e+00]\n",
            "   [1.0000000e+00 1.0000000e+00 1.0000000e+00]]\n",
            "\n",
            "  [[1.0000000e+00 1.0000000e+00 1.0000000e+00]\n",
            "   [1.0000000e+00 1.0000000e+00 1.0000000e+00]\n",
            "   [1.0000000e+00 1.0000000e+00 1.0000000e+00]\n",
            "   ...\n",
            "   [1.0000000e+00 1.0000000e+00 1.0000000e+00]\n",
            "   [1.0000000e+00 1.0000000e+00 1.0000000e+00]\n",
            "   [1.0000000e+00 1.0000000e+00 1.0000000e+00]]]\n",
            "\n",
            "\n",
            " [[[1.0000000e+00 1.0000000e+00 1.0000000e+00]\n",
            "   [1.0000000e+00 1.0000000e+00 1.0000000e+00]\n",
            "   [1.0000000e+00 1.0000000e+00 1.0000000e+00]\n",
            "   ...\n",
            "   [1.0000000e+00 1.0000000e+00 1.0000000e+00]\n",
            "   [1.0000000e+00 1.0000000e+00 1.0000000e+00]\n",
            "   [1.0000000e+00 1.0000000e+00 1.0000000e+00]]\n",
            "\n",
            "  [[1.0000000e+00 1.0000000e+00 1.0000000e+00]\n",
            "   [1.0000000e+00 1.0000000e+00 1.0000000e+00]\n",
            "   [1.0000000e+00 1.0000000e+00 1.0000000e+00]\n",
            "   ...\n",
            "   [1.0000000e+00 1.0000000e+00 1.0000000e+00]\n",
            "   [1.0000000e+00 1.0000000e+00 1.0000000e+00]\n",
            "   [1.0000000e+00 1.0000000e+00 1.0000000e+00]]\n",
            "\n",
            "  [[1.0000000e+00 1.0000000e+00 1.0000000e+00]\n",
            "   [1.0000000e+00 1.0000000e+00 1.0000000e+00]\n",
            "   [1.0000000e+00 1.0000000e+00 1.0000000e+00]\n",
            "   ...\n",
            "   [1.0000000e+00 1.0000000e+00 1.0000000e+00]\n",
            "   [1.0000000e+00 1.0000000e+00 1.0000000e+00]\n",
            "   [1.0000000e+00 1.0000000e+00 1.0000000e+00]]\n",
            "\n",
            "  ...\n",
            "\n",
            "  [[1.0000000e+00 1.0000000e+00 1.0000000e+00]\n",
            "   [1.0000000e+00 1.0000000e+00 1.0000000e+00]\n",
            "   [1.0000000e+00 1.0000000e+00 1.0000000e+00]\n",
            "   ...\n",
            "   [1.0000000e+00 1.0000000e+00 1.0000000e+00]\n",
            "   [1.0000000e+00 1.0000000e+00 1.0000000e+00]\n",
            "   [1.0000000e+00 1.0000000e+00 1.0000000e+00]]\n",
            "\n",
            "  [[1.0000000e+00 1.0000000e+00 1.0000000e+00]\n",
            "   [1.0000000e+00 1.0000000e+00 1.0000000e+00]\n",
            "   [1.0000000e+00 1.0000000e+00 1.0000000e+00]\n",
            "   ...\n",
            "   [1.0000000e+00 1.0000000e+00 1.0000000e+00]\n",
            "   [1.0000000e+00 1.0000000e+00 1.0000000e+00]\n",
            "   [1.0000000e+00 1.0000000e+00 1.0000000e+00]]\n",
            "\n",
            "  [[1.0000000e+00 1.0000000e+00 1.0000000e+00]\n",
            "   [1.0000000e+00 1.0000000e+00 1.0000000e+00]\n",
            "   [1.0000000e+00 1.0000000e+00 1.0000000e+00]\n",
            "   ...\n",
            "   [1.0000000e+00 1.0000000e+00 1.0000000e+00]\n",
            "   [1.0000000e+00 1.0000000e+00 1.0000000e+00]\n",
            "   [1.0000000e+00 1.0000000e+00 1.0000000e+00]]]\n",
            "\n",
            "\n",
            " [[[0.0000000e+00 1.6138764e-02 4.5248881e-04]\n",
            "   [0.0000000e+00 1.6022991e-02 3.3671531e-04]\n",
            "   [0.0000000e+00 1.5794979e-02 1.0870337e-04]\n",
            "   ...\n",
            "   [3.6845866e-01 3.7912810e-01 3.5857815e-01]\n",
            "   [3.5576600e-01 3.7236372e-01 3.4983769e-01]\n",
            "   [3.4932128e-01 3.6892912e-01 3.4539971e-01]]\n",
            "\n",
            "  [[0.0000000e+00 1.8250378e-02 2.5641022e-03]\n",
            "   [0.0000000e+00 1.7594328e-02 1.9080526e-03]\n",
            "   [0.0000000e+00 1.6302262e-02 6.1598548e-04]\n",
            "   ...\n",
            "   [3.4484854e-01 3.5551795e-01 3.3496803e-01]\n",
            "   [3.4021232e-01 3.5681003e-01 3.3428401e-01]\n",
            "   [3.3785823e-01 3.5746610e-01 3.3393666e-01]]\n",
            "\n",
            "  [[0.0000000e+00 1.1161388e-02 0.0000000e+00]\n",
            "   [0.0000000e+00 1.2897990e-02 5.7886745e-04]\n",
            "   [0.0000000e+00 1.6318168e-02 1.7189271e-03]\n",
            "   ...\n",
            "   [3.9855978e-01 4.0922922e-01 3.9211711e-01]\n",
            "   [3.8921130e-01 4.0580904e-01 3.8444072e-01]\n",
            "   [3.8446459e-01 4.0407243e-01 3.8054302e-01]]\n",
            "\n",
            "  ...\n",
            "\n",
            "  [[3.4690827e-02 3.0769261e-02 1.5082985e-02]\n",
            "   [3.3262953e-02 3.0190397e-02 1.4079615e-02]\n",
            "   [3.0450800e-02 2.9050345e-02 1.2103512e-02]\n",
            "   ...\n",
            "   [3.3119377e-01 2.0186459e-01 1.7241320e-01]\n",
            "   [3.3461392e-01 2.0102853e-01 1.7750546e-01]\n",
            "   [3.3635053e-01 2.0060402e-01 1.8009105e-01]]\n",
            "\n",
            "  [[4.1779824e-02 4.2986527e-02 2.4736114e-02]\n",
            "   [4.0429141e-02 4.2330466e-02 2.3732744e-02]\n",
            "   [3.7769020e-02 4.1038383e-02 2.1756642e-02]\n",
            "   ...\n",
            "   [4.6152622e-01 3.5844731e-01 2.8073028e-01]\n",
            "   [4.6023414e-01 3.5259494e-01 2.8080624e-01]\n",
            "   [4.5957807e-01 3.4962338e-01 2.8084478e-01]]\n",
            "\n",
            "  [[4.6606388e-02 5.0527960e-02 3.0920113e-02]\n",
            "   [4.6490628e-02 5.0412197e-02 3.0804353e-02]\n",
            "   [4.6262644e-02 5.0184213e-02 3.0576367e-02]\n",
            "   ...\n",
            "   [4.6000814e-01 3.7347159e-01 2.6483455e-01]\n",
            "   [4.6502450e-01 3.7255964e-01 2.6985091e-01]\n",
            "   [4.6757159e-01 3.7209660e-01 2.7239799e-01]]]], shape=(32, 156, 256, 3), dtype=float32) tf.Tensor(\n",
            "[[0. 0. 0. 0. 0. 1. 0. 0.]\n",
            " [0. 0. 1. 0. 0. 0. 0. 0.]\n",
            " [1. 0. 0. 0. 0. 0. 0. 0.]\n",
            " [0. 0. 0. 0. 0. 0. 1. 0.]\n",
            " [0. 1. 0. 0. 0. 0. 0. 0.]\n",
            " [0. 1. 0. 0. 0. 0. 0. 0.]\n",
            " [0. 0. 0. 0. 0. 1. 0. 0.]\n",
            " [0. 1. 0. 0. 0. 0. 0. 0.]\n",
            " [0. 0. 0. 0. 0. 1. 0. 0.]\n",
            " [0. 0. 1. 0. 0. 0. 0. 0.]\n",
            " [0. 1. 0. 0. 0. 0. 0. 0.]\n",
            " [0. 0. 0. 0. 0. 1. 0. 0.]\n",
            " [0. 0. 0. 0. 0. 0. 1. 0.]\n",
            " [1. 0. 0. 0. 0. 0. 0. 0.]\n",
            " [0. 0. 0. 0. 0. 0. 1. 0.]\n",
            " [0. 0. 0. 1. 0. 0. 0. 0.]\n",
            " [0. 1. 0. 0. 0. 0. 0. 0.]\n",
            " [0. 0. 1. 0. 0. 0. 0. 0.]\n",
            " [0. 0. 0. 0. 0. 0. 1. 0.]\n",
            " [0. 0. 1. 0. 0. 0. 0. 0.]\n",
            " [0. 0. 0. 0. 0. 1. 0. 0.]\n",
            " [0. 0. 0. 0. 1. 0. 0. 0.]\n",
            " [0. 0. 0. 1. 0. 0. 0. 0.]\n",
            " [0. 0. 0. 0. 1. 0. 0. 0.]\n",
            " [0. 0. 0. 0. 0. 0. 0. 1.]\n",
            " [0. 0. 0. 1. 0. 0. 0. 0.]\n",
            " [1. 0. 0. 0. 0. 0. 0. 0.]\n",
            " [0. 1. 0. 0. 0. 0. 0. 0.]\n",
            " [1. 0. 0. 0. 0. 0. 0. 0.]\n",
            " [0. 0. 0. 0. 0. 1. 0. 0.]\n",
            " [0. 0. 0. 0. 0. 1. 0. 0.]\n",
            " [0. 0. 1. 0. 0. 0. 0. 0.]], shape=(32, 8), dtype=float32)\n"
          ]
        }
      ]
    },
    {
      "cell_type": "code",
      "metadata": {
        "id": "B2mBA2DgrhR-"
      },
      "source": [
        "#creating a generator for test data\n",
        "#tf.keras.backend.clear_session()\n",
        "#tf_test_image_generator = tf_test_generator( test_image_paths , batch_size=32)"
      ],
      "execution_count": null,
      "outputs": []
    },
    {
      "cell_type": "code",
      "metadata": {
        "id": "bCKiid9yAKjR"
      },
      "source": [
        "#compiling \n",
        "#model.compile(optimizer=tf.keras.optimizers.Adam(lr=0.01),loss='categorical_crossentropy',metrics=['accuracy'])\n",
        "#model.fit_generator(ImageGenerator,steps_per_epoch=216,epochs=3)"
      ],
      "execution_count": null,
      "outputs": []
    },
    {
      "cell_type": "code",
      "metadata": {
        "id": "iJbqCoi1mtsz"
      },
      "source": [
        "import datetime"
      ],
      "execution_count": null,
      "outputs": []
    },
    {
      "cell_type": "code",
      "metadata": {
        "id": "xR2xabN1mchC"
      },
      "source": [
        "#log_dir=\"logs\\\\fit\\\\\" + datetime.datetime.now().strftime(\"%d-%m-%Y-%H%M%S\")\n",
        "#log_dir"
      ],
      "execution_count": null,
      "outputs": []
    },
    {
      "cell_type": "code",
      "source": [
        "log_root_path = \"/content/21_Transfer_Learning\"\n",
        "log_dir = log_root_path + \"/logs/fit/model1/\" + datetime.datetime.now().strftime(\"%d%m%Y-%H%M%S\")\n",
        "tensorboard_callback = tf.keras.callbacks.TensorBoard(log_dir=log_dir,histogram_freq=0, write_graph=True,write_grads=True)\n",
        "'''\n",
        "model.fit_generator( tf_train_image_generator ,steps_per_epoch=173 ,epochs=1 ,validation_data= tf_validation_image_generator, \n",
        "                    validation_steps=44 ,workers=4,\n",
        "                    callbacks=[tensorboard_callback])\n",
        "'''\n",
        "model.fit( tf_train_image_generator ,steps_per_epoch=173 ,epochs=1 ,validation_data= tf_validation_image_generator, \n",
        "                    validation_steps=44 ,workers=4,\n",
        "                    callbacks=[tensorboard_callback])"
      ],
      "metadata": {
        "colab": {
          "base_uri": "https://localhost:8080/"
        },
        "id": "e3GKAattNZjr",
        "outputId": "02a2eced-7bd4-4866-934f-b56ff64cb6be"
      },
      "execution_count": null,
      "outputs": [
        {
          "output_type": "stream",
          "name": "stdout",
          "text": [
            "WARNING:tensorflow:`write_grads` will be ignored in TensorFlow 2.0 for the `TensorBoard` Callback.\n",
            "173/173 [==============================] - 2948s 17s/step - loss: 0.1624 - accuracy: 0.9409 - val_loss: 0.0748 - val_accuracy: 0.9723\n"
          ]
        },
        {
          "output_type": "execute_result",
          "data": {
            "text/plain": [
              "<keras.callbacks.History at 0x7f934832f590>"
            ]
          },
          "metadata": {},
          "execution_count": 73
        }
      ]
    },
    {
      "cell_type": "code",
      "source": [
        "tf.keras.backend.clear_session()\n",
        "#tf_validation_image_generator = tfdata_generator( test_image_paths , test_image_labels, is_training=True , batch_size=32 )\n",
        "tf_test_image_generator_0 = tfdata_generator(test_image_paths, test_image_labels, is_training=True, batch_size=32)"
      ],
      "metadata": {
        "id": "B_ns7qDhZ1EO"
      },
      "execution_count": null,
      "outputs": []
    },
    {
      "cell_type": "code",
      "source": [
        "len(test_image_paths) , tf_test_image_generator_0"
      ],
      "metadata": {
        "colab": {
          "base_uri": "https://localhost:8080/"
        },
        "id": "WJ1emSwoqzEg",
        "outputId": "ac6dcabe-d954-4034-b13c-fe74852ba33a"
      },
      "execution_count": null,
      "outputs": [
        {
          "output_type": "execute_result",
          "data": {
            "text/plain": [
              "(1380,\n",
              " <PrefetchDataset element_spec=(TensorSpec(shape=(32, 156, 256, 3), dtype=tf.float32, name=None), TensorSpec(shape=(32, 8), dtype=tf.float32, name=None))>)"
            ]
          },
          "metadata": {},
          "execution_count": 93
        }
      ]
    },
    {
      "cell_type": "code",
      "source": [
        "temp_y_pred = model.predict(tf_test_image_generator_0, steps=44)"
      ],
      "metadata": {
        "id": "IumFfQg_yf2O"
      },
      "execution_count": null,
      "outputs": []
    },
    {
      "cell_type": "code",
      "source": [
        "temp_y_pred.shape , temp_y_pred[0:1380].shape"
      ],
      "metadata": {
        "colab": {
          "base_uri": "https://localhost:8080/"
        },
        "id": "_Zzz-PRR4JxB",
        "outputId": "b5a1bbcf-32a9-4afd-b4ce-ae7e0cb2880c"
      },
      "execution_count": null,
      "outputs": [
        {
          "output_type": "execute_result",
          "data": {
            "text/plain": [
              "((1408, 8), (1380, 8))"
            ]
          },
          "metadata": {},
          "execution_count": 98
        }
      ]
    },
    {
      "cell_type": "code",
      "source": [
        "'''temp_y = []\n",
        "for x, y in tf_test_image_generator_0:\n",
        "    #print(x.shape , y.shape)\n",
        "    #print(x , y)\n",
        "    #y = model.predict(x)\n",
        "    temp_y.append( y )\n",
        "    #break\n",
        "    #plt.imshow(x)\n",
        "'''"
      ],
      "metadata": {
        "id": "HgxPIvtjzh7j"
      },
      "execution_count": null,
      "outputs": []
    },
    {
      "cell_type": "code",
      "source": [
        "y_predicted_0 = [] #model.predict(tf_validation_image_generator)\n",
        "y_test = []\n",
        "\n",
        "\n",
        "for x,y in tf_test_image_generator_0:\n",
        "    #y_test.append(np.argmax( y ))\n",
        "    \n",
        "    #y_pred = model.predict(x)\n",
        "    #print(y)\n",
        "    #break\n",
        "    #y_predicted_0.append( y_pred )\n",
        "    y_test.append( y )\n",
        "\n",
        "\n",
        "#y_predicted_labels_0 = [np.argmax(i) for i in y_predicted_0]"
      ],
      "metadata": {
        "id": "mOzmptpOTzrS"
      },
      "execution_count": null,
      "outputs": []
    },
    {
      "cell_type": "code",
      "source": [
        "y_predicted_labels_0 = [np.argmax(i) for i in temp_y_pred[0:1380]]\n"
      ],
      "metadata": {
        "id": "s3_R7TZ-4ziq"
      },
      "execution_count": null,
      "outputs": []
    },
    {
      "cell_type": "code",
      "source": [
        "#len(y_test), #y_predicted_0\n",
        "len(test_image_labels)"
      ],
      "metadata": {
        "colab": {
          "base_uri": "https://localhost:8080/"
        },
        "id": "ljrCLSf5qezW",
        "outputId": "f68fe359-06f5-4869-ceef-0b9436b342f2"
      },
      "execution_count": null,
      "outputs": [
        {
          "output_type": "execute_result",
          "data": {
            "text/plain": [
              "1380"
            ]
          },
          "metadata": {},
          "execution_count": 100
        }
      ]
    },
    {
      "cell_type": "code",
      "source": [
        "cm = tf.math.confusion_matrix(labels= test_image_labels , predictions= y_predicted_labels_0 )\n",
        "\n",
        "plt.figure(figsize = (10,7))\n",
        "sn.heatmap(cm, annot=True, fmt='d')\n",
        "plt.xlabel('Predicted')\n",
        "plt.ylabel('Truth')"
      ],
      "metadata": {
        "colab": {
          "base_uri": "https://localhost:8080/",
          "height": 459
        },
        "id": "fNgVe93WT6Ox",
        "outputId": "daba1738-47f9-4899-dbdc-e3d48d18ae58"
      },
      "execution_count": null,
      "outputs": [
        {
          "output_type": "execute_result",
          "data": {
            "text/plain": [
              "Text(69.0, 0.5, 'Truth')"
            ]
          },
          "metadata": {},
          "execution_count": 104
        },
        {
          "output_type": "display_data",
          "data": {
            "text/plain": [
              "<Figure size 720x504 with 2 Axes>"
            ],
            "image/png": "[encoded data removed]"
          },
          "metadata": {
            "needs_background": "light"
          }
        }
      ]
    },
    {
      "cell_type": "code",
      "source": [
        "print(\"Classification Report: \\n\", classification_report(test_image_labels, y_predicted_labels_0 ))\n"
      ],
      "metadata": {
        "colab": {
          "base_uri": "https://localhost:8080/"
        },
        "id": "CreeiR6IWfdI",
        "outputId": "c6aa685b-1cb5-435a-b5ad-3e91cb88d7cd"
      },
      "execution_count": null,
      "outputs": [
        {
          "output_type": "stream",
          "name": "stdout",
          "text": [
            "Classification Report: \n",
            "               precision    recall  f1-score   support\n",
            "\n",
            "           0       0.08      0.08      0.08       145\n",
            "           1       0.13      0.13      0.13       194\n",
            "           2       0.11      0.11      0.11       177\n",
            "           3       0.11      0.12      0.12       140\n",
            "           4       0.16      0.17      0.16       169\n",
            "           5       0.10      0.10      0.10       200\n",
            "           6       0.13      0.13      0.13       158\n",
            "           7       0.19      0.19      0.19       197\n",
            "\n",
            "    accuracy                           0.13      1380\n",
            "   macro avg       0.13      0.13      0.13      1380\n",
            "weighted avg       0.13      0.13      0.13      1380\n",
            "\n"
          ]
        }
      ]
    },
    {
      "cell_type": "code",
      "metadata": {
        "id": "ZVJba1KVkhMF",
        "colab": {
          "base_uri": "https://localhost:8080/",
          "height": 51
        },
        "outputId": "423d0262-af1f-4ca8-a878-4e94c67ef4e3"
      },
      "source": [
        "log_root_path = \"/content/21_Transfer_Learning\"\n",
        "log_dir = log_root_path + \"/logs/fit/model1/\" + datetime.datetime.now().strftime(\"%d%m%Y-%H%M%S\")\n",
        "tensorboard_callback = tf.keras.callbacks.TensorBoard(log_dir=log_dir,histogram_freq=0, write_graph=True,write_grads=True)\n",
        "\n",
        "model.fit_generator( tf_train_image_generator ,steps_per_epoch=21,epochs=1 ,validation_data= tf_validation_image_generator, \n",
        "                    validation_steps=6 ,workers=4,\n",
        "                    callbacks=[tensorboard_callback])"
      ],
      "execution_count": null,
      "outputs": [
        {
          "output_type": "stream",
          "text": [
            "WARNING:tensorflow:`write_grads` will be ignored in TensorFlow 2.0 for the `TensorBoard` Callback.\n",
            " 1/21 [>.............................] - ETA: 0s - loss: 0.0722 - accuracy: 0.9688"
          ],
          "name": "stdout"
        }
      ]
    },
    {
      "cell_type": "code",
      "metadata": {
        "id": "qjlT5vPa2V83",
        "colab": {
          "base_uri": "https://localhost:8080/",
          "height": 357
        },
        "outputId": "c416cd41-a259-4fdd-fb85-14fc32b8cdc2"
      },
      "source": [
        "os.environ['PYTHONHASHSEED'] = '0'\n",
        "\n",
        "##https://keras.io/getting-started/faq/#how-can-i-obtain-reproducible-results-using-keras-during-development\n",
        "## Have to clear the session. If you are not clearing, Graph will create again and again and graph size will increses. \n",
        "## Varibles will also set to some value from before session\n",
        "tf.keras.backend.clear_session()\n",
        "\n",
        "## Set the random seed values to regenerate the model.\n",
        "np.random.seed(0)\n",
        "rn.seed(0)\n",
        "\n",
        "#Input layer\n",
        "input_layer2 = Input(shape=(156,256,3),name='Input_Layer')\n",
        "\n",
        "vgg16_layer2 = tf.keras.applications.VGG16(\n",
        "              include_top=False, weights='imagenet', input_tensor=None, input_shape=(156,256,3),\n",
        "              pooling=None, classes=8, classifier_activation='softmax'\n",
        "            )(input_layer2)\n",
        "\n",
        "#Conv Layer\n",
        "Conv21 = Conv2D(filters=32,kernel_size=(2,2),strides=(2,2),padding='valid',data_format='channels_last',\n",
        "              activation='relu',kernel_initializer=tf.keras.initializers.he_normal(seed=0),name='Conv1')( vgg16_layer2 )\n",
        "\n",
        "Conv22 = Conv2D(filters=8,kernel_size=(1,1),strides=(2,4),padding='valid',data_format='channels_last',\n",
        "              activation='relu',kernel_initializer=tf.keras.initializers.he_normal(seed=0),name='Conv2')(Conv21)\n",
        "              \n",
        "#MaxPool Layer\n",
        "#Pool21 = MaxPool2D(pool_size=(2,2),strides=(2,2),padding='valid',data_format='channels_last',name='Pool1')(Conv2)\n",
        "#Pool22 = MaxPool2D(pool_size=(2,2),strides=(2,2),padding='valid',data_format='channels_last',name='Pool1')(Pool21)\n",
        "\n",
        "#Flatten\n",
        "flatten2 = Flatten(data_format='channels_last',name='Flatten')(Conv22)\n",
        "#FC layer\n",
        "#FC21 = Dense(units=32,activation='relu',kernel_initializer=tf.keras.initializers.glorot_normal(seed=32),name='FC1')(flatten2)\n",
        "\n",
        "#FC layer\n",
        "#FC22 = Dense(units=16,activation='relu',kernel_initializer=tf.keras.initializers.glorot_normal(seed=33),name='FC2')(FC21)\n",
        "\n",
        "#output layer\n",
        "Out2 = Dense(units=8,activation='softmax',kernel_initializer=tf.keras.initializers.glorot_normal(seed=3),name='Output')(flatten2)\n",
        "\n",
        "#Creating a model\n",
        "model2 = Model(inputs=input_layer2,outputs=Out2)\n",
        "\n",
        "for layer in model2.layers[1:2]:\n",
        "    layer.trainable = False\n",
        "\n",
        "#compiling \n",
        "model2.compile(optimizer=tf.keras.optimizers.Adam(lr=0.01),loss='categorical_crossentropy',metrics=['accuracy'])\n",
        "\n",
        "model2.summary()"
      ],
      "execution_count": null,
      "outputs": [
        {
          "output_type": "stream",
          "text": [
            "Model: \"functional_1\"\n",
            "_________________________________________________________________\n",
            "Layer (type)                 Output Shape              Param #   \n",
            "=================================================================\n",
            "Input_Layer (InputLayer)     [(None, 156, 256, 3)]     0         \n",
            "_________________________________________________________________\n",
            "vgg16 (Functional)           (None, 4, 8, 512)         14714688  \n",
            "_________________________________________________________________\n",
            "Conv1 (Conv2D)               (None, 2, 4, 32)          65568     \n",
            "_________________________________________________________________\n",
            "Conv2 (Conv2D)               (None, 1, 1, 8)           264       \n",
            "_________________________________________________________________\n",
            "Flatten (Flatten)            (None, 8)                 0         \n",
            "_________________________________________________________________\n",
            "Output (Dense)               (None, 8)                 72        \n",
            "=================================================================\n",
            "Total params: 14,780,592\n",
            "Trainable params: 65,904\n",
            "Non-trainable params: 14,714,688\n",
            "_________________________________________________________________\n"
          ],
          "name": "stdout"
        }
      ]
    },
    {
      "cell_type": "code",
      "metadata": {
        "id": "q0aiMdnLPnrk",
        "colab": {
          "base_uri": "https://localhost:8080/",
          "height": 935
        },
        "outputId": "58e066ff-0d85-4eee-dcc5-c7684be6cb24"
      },
      "source": [
        "os.environ['PYTHONHASHSEED'] = '0'\n",
        "\n",
        "##https://keras.io/getting-started/faq/#how-can-i-obtain-reproducible-results-using-keras-during-development\n",
        "## Have to clear the session. If you are not clearing, Graph will create again and again and graph size will increses. \n",
        "## Varibles will also set to some value from before session\n",
        "tf.keras.backend.clear_session()\n",
        "\n",
        "## Set the random seed values to regenerate the model.\n",
        "np.random.seed(0)\n",
        "rn.seed(0)\n",
        "\n",
        "#Input layer\n",
        "input_layer3 = Input(shape=(156,256,3),name='Input_Layer')\n",
        "'''\n",
        "vgg16_layer3 = tf.keras.applications.VGG16(\n",
        "              include_top=False, weights='imagenet', input_tensor= None, input_shape=(156,256,3),\n",
        "              pooling=None , classes=8, classifier_activation='softmax'\n",
        "            )(input_layer3)\n",
        "'''\n",
        "vgg16_layer3 = tf.keras.applications.VGG16(\n",
        "              include_top=False, weights='imagenet', input_tensor= input_layer3, input_shape=(156,256,3),\n",
        "              pooling=None , classes=8, classifier_activation='softmax'\n",
        "            )\n",
        "#Conv Layer\n",
        "#Conv31 = Conv2D(filters=32,kernel_size=(2,2),strides=(2,2),padding='valid',data_format='channels_last',\n",
        "#              activation='relu',kernel_initializer=tf.keras.initializers.he_normal(seed=0),name='Conv1')(vgg16_layer3 )\n",
        "\n",
        "Conv31 = Conv2D(filters=32,kernel_size=(3,3),strides=(1,1),padding='valid',data_format='channels_last',\n",
        "              activation='relu',kernel_initializer=tf.keras.initializers.he_normal(seed=0),name='Conv1')(vgg16_layer3.layers[-1].output )\n",
        "\n",
        "Conv32 = Conv2D(filters=8,kernel_size=(1,1),strides=(1,1),padding='valid',data_format='channels_last',\n",
        "              activation='relu',kernel_initializer=tf.keras.initializers.he_normal(seed=0),name='Conv2')(Conv31)\n",
        "              \n",
        "#MaxPool Layer\n",
        "#Pool21 = MaxPool2D(pool_size=(2,2),strides=(2,2),padding='valid',data_format='channels_last',name='Pool1')(Conv2)\n",
        "#Pool22 = MaxPool2D(pool_size=(2,2),strides=(2,2),padding='valid',data_format='channels_last',name='Pool1')(Pool21)\n",
        "\n",
        "#Flatten\n",
        "flatten3 = Flatten(data_format='channels_last',name='Flatten')(Conv32)\n",
        "#FC layer\n",
        "#FC21 = Dense(units=32,activation='relu',kernel_initializer=tf.keras.initializers.glorot_normal(seed=32),name='FC1')(flatten2)\n",
        "\n",
        "#FC layer\n",
        "#FC22 = Dense(units=16,activation='relu',kernel_initializer=tf.keras.initializers.glorot_normal(seed=33),name='FC2')(FC21)\n",
        "\n",
        "#output layer\n",
        "Out3 = Dense(units=8,activation='softmax',kernel_initializer=tf.keras.initializers.glorot_normal(seed=3),name='Output')(flatten3)\n",
        "\n",
        "#Creating a model\n",
        "model3 = Model( inputs=input_layer3 , outputs=Out3 )\n",
        "\n",
        "for layer in model3.layers[0:13]:\n",
        "    layer.trainable = False\n",
        "    #print(layer.trainable)\n",
        "\n",
        "#compiling \n",
        "model3.compile(optimizer=tf.keras.optimizers.Adam(lr=0.01),loss='categorical_crossentropy',metrics=['accuracy'])\n",
        "\n",
        "model3.summary()"
      ],
      "execution_count": null,
      "outputs": [
        {
          "output_type": "stream",
          "text": [
            "Model: \"functional_1\"\n",
            "_________________________________________________________________\n",
            "Layer (type)                 Output Shape              Param #   \n",
            "=================================================================\n",
            "Input_Layer (InputLayer)     [(None, 156, 256, 3)]     0         \n",
            "_________________________________________________________________\n",
            "block1_conv1 (Conv2D)        (None, 156, 256, 64)      1792      \n",
            "_________________________________________________________________\n",
            "block1_conv2 (Conv2D)        (None, 156, 256, 64)      36928     \n",
            "_________________________________________________________________\n",
            "block1_pool (MaxPooling2D)   (None, 78, 128, 64)       0         \n",
            "_________________________________________________________________\n",
            "block2_conv1 (Conv2D)        (None, 78, 128, 128)      73856     \n",
            "_________________________________________________________________\n",
            "block2_conv2 (Conv2D)        (None, 78, 128, 128)      147584    \n",
            "_________________________________________________________________\n",
            "block2_pool (MaxPooling2D)   (None, 39, 64, 128)       0         \n",
            "_________________________________________________________________\n",
            "block3_conv1 (Conv2D)        (None, 39, 64, 256)       295168    \n",
            "_________________________________________________________________\n",
            "block3_conv2 (Conv2D)        (None, 39, 64, 256)       590080    \n",
            "_________________________________________________________________\n",
            "block3_conv3 (Conv2D)        (None, 39, 64, 256)       590080    \n",
            "_________________________________________________________________\n",
            "block3_pool (MaxPooling2D)   (None, 19, 32, 256)       0         \n",
            "_________________________________________________________________\n",
            "block4_conv1 (Conv2D)        (None, 19, 32, 512)       1180160   \n",
            "_________________________________________________________________\n",
            "block4_conv2 (Conv2D)        (None, 19, 32, 512)       2359808   \n",
            "_________________________________________________________________\n",
            "block4_conv3 (Conv2D)        (None, 19, 32, 512)       2359808   \n",
            "_________________________________________________________________\n",
            "block4_pool (MaxPooling2D)   (None, 9, 16, 512)        0         \n",
            "_________________________________________________________________\n",
            "block5_conv1 (Conv2D)        (None, 9, 16, 512)        2359808   \n",
            "_________________________________________________________________\n",
            "block5_conv2 (Conv2D)        (None, 9, 16, 512)        2359808   \n",
            "_________________________________________________________________\n",
            "block5_conv3 (Conv2D)        (None, 9, 16, 512)        2359808   \n",
            "_________________________________________________________________\n",
            "block5_pool (MaxPooling2D)   (None, 4, 8, 512)         0         \n",
            "_________________________________________________________________\n",
            "Conv1 (Conv2D)               (None, 2, 6, 32)          147488    \n",
            "_________________________________________________________________\n",
            "Conv2 (Conv2D)               (None, 2, 6, 8)           264       \n",
            "_________________________________________________________________\n",
            "Flatten (Flatten)            (None, 96)                0         \n",
            "_________________________________________________________________\n",
            "Output (Dense)               (None, 8)                 776       \n",
            "=================================================================\n",
            "Total params: 14,863,216\n",
            "Trainable params: 9,587,760\n",
            "Non-trainable params: 5,275,456\n",
            "_________________________________________________________________\n"
          ],
          "name": "stdout"
        }
      ]
    },
    {
      "cell_type": "code",
      "metadata": {
        "id": "4ZCrKRHdzjjJ",
        "colab": {
          "base_uri": "https://localhost:8080/",
          "height": 34
        },
        "outputId": "1bd04851-b0f4-4030-ca28-00842d39eb08"
      },
      "source": [
        "input_layer3.shape"
      ],
      "execution_count": null,
      "outputs": [
        {
          "output_type": "execute_result",
          "data": {
            "text/plain": [
              "TensorShape([None, 156, 256, 3])"
            ]
          },
          "metadata": {
            "tags": []
          },
          "execution_count": 64
        }
      ]
    },
    {
      "cell_type": "code",
      "metadata": {
        "id": "YrNyJmMTBYGK",
        "colab": {
          "base_uri": "https://localhost:8080/",
          "height": 119
        },
        "outputId": "88e5f39c-0ce8-4249-f2e0-734316f8661b"
      },
      "source": [
        "for layer in model3.layers:\n",
        "    #layer.trainable = False\n",
        "    print(layer.name)"
      ],
      "execution_count": null,
      "outputs": [
        {
          "output_type": "stream",
          "text": [
            "Input_Layer\n",
            "vgg16\n",
            "Conv1\n",
            "Conv2\n",
            "Flatten\n",
            "Output\n"
          ],
          "name": "stdout"
        }
      ]
    },
    {
      "cell_type": "code",
      "metadata": {
        "id": "Wa08E0o7z96o",
        "colab": {
          "base_uri": "https://localhost:8080/",
          "height": 935
        },
        "outputId": "483fec41-7f75-48f2-8a59-c9d1903ecb5a"
      },
      "source": [
        "from keras.applications.vgg16 import VGG16\n",
        "# load model\n",
        "# input_layer3 = None   #Input(shape=(156,256,3),name='Input_Layer')\n",
        "\n",
        "model_vgg16_1 = VGG16(include_top=False, weights='imagenet', input_tensor= None, input_shape=(156,256,3),\n",
        "              pooling=None , classes=8, classifier_activation='softmax')\n",
        "\n",
        "#for layer in model_vgg16_1.layers[0:19-6]:\n",
        "#    layer.trainable = False\n",
        "#    #print(layer.name)\n",
        "#print( len(model_vgg16_1.layers[-6:]) )\n",
        "#print( model_vgg16_1.layers[-1].output )\n",
        "\n",
        "Conv31 = Conv2D(filters=32,kernel_size=(2,2),strides=(2,2),padding='valid',data_format='channels_last',\n",
        "              activation='relu',kernel_initializer=tf.keras.initializers.he_normal(seed=0),\n",
        "              name='Conv1')(  model_vgg16_1.layers[-1].output )\n",
        "\n",
        "Conv32 = Conv2D(filters=8,kernel_size=(1,1),strides=(2,4),padding='valid',data_format='channels_last',\n",
        "              activation='relu',kernel_initializer=tf.keras.initializers.he_normal(seed=0),name='Conv2')(Conv31)\n",
        "\n",
        "# Flatten\n",
        "flatten3 = Flatten(data_format='channels_last',name='Flatten')(Conv32)\n",
        "Out3 = Dense(units=8,activation='softmax',kernel_initializer=tf.keras.initializers.glorot_normal(seed=3),name='Output')( flatten3 )                          \n",
        "           \n",
        "model_3 = Model(inputs = model_vgg16_1.input , outputs = Out3)\n",
        "\n",
        "#model3 = Model( inputs=input_layer3 , outputs= flatten3 )\n",
        "# summarize the model\n",
        "#model_vgg16_1.summary()\n",
        "\n",
        "for layer in model_3.layers[0:19-6]:\n",
        "    layer.trainable = False\n",
        "\n",
        "model_3.summary()"
      ],
      "execution_count": null,
      "outputs": [
        {
          "output_type": "stream",
          "text": [
            "Model: \"functional_23\"\n",
            "_________________________________________________________________\n",
            "Layer (type)                 Output Shape              Param #   \n",
            "=================================================================\n",
            "input_11 (InputLayer)        [(None, 156, 256, 3)]     0         \n",
            "_________________________________________________________________\n",
            "block1_conv1 (Conv2D)        (None, 156, 256, 64)      1792      \n",
            "_________________________________________________________________\n",
            "block1_conv2 (Conv2D)        (None, 156, 256, 64)      36928     \n",
            "_________________________________________________________________\n",
            "block1_pool (MaxPooling2D)   (None, 78, 128, 64)       0         \n",
            "_________________________________________________________________\n",
            "block2_conv1 (Conv2D)        (None, 78, 128, 128)      73856     \n",
            "_________________________________________________________________\n",
            "block2_conv2 (Conv2D)        (None, 78, 128, 128)      147584    \n",
            "_________________________________________________________________\n",
            "block2_pool (MaxPooling2D)   (None, 39, 64, 128)       0         \n",
            "_________________________________________________________________\n",
            "block3_conv1 (Conv2D)        (None, 39, 64, 256)       295168    \n",
            "_________________________________________________________________\n",
            "block3_conv2 (Conv2D)        (None, 39, 64, 256)       590080    \n",
            "_________________________________________________________________\n",
            "block3_conv3 (Conv2D)        (None, 39, 64, 256)       590080    \n",
            "_________________________________________________________________\n",
            "block3_pool (MaxPooling2D)   (None, 19, 32, 256)       0         \n",
            "_________________________________________________________________\n",
            "block4_conv1 (Conv2D)        (None, 19, 32, 512)       1180160   \n",
            "_________________________________________________________________\n",
            "block4_conv2 (Conv2D)        (None, 19, 32, 512)       2359808   \n",
            "_________________________________________________________________\n",
            "block4_conv3 (Conv2D)        (None, 19, 32, 512)       2359808   \n",
            "_________________________________________________________________\n",
            "block4_pool (MaxPooling2D)   (None, 9, 16, 512)        0         \n",
            "_________________________________________________________________\n",
            "block5_conv1 (Conv2D)        (None, 9, 16, 512)        2359808   \n",
            "_________________________________________________________________\n",
            "block5_conv2 (Conv2D)        (None, 9, 16, 512)        2359808   \n",
            "_________________________________________________________________\n",
            "block5_conv3 (Conv2D)        (None, 9, 16, 512)        2359808   \n",
            "_________________________________________________________________\n",
            "block5_pool (MaxPooling2D)   (None, 4, 8, 512)         0         \n",
            "_________________________________________________________________\n",
            "Conv1 (Conv2D)               (None, 2, 4, 32)          65568     \n",
            "_________________________________________________________________\n",
            "Conv2 (Conv2D)               (None, 1, 1, 8)           264       \n",
            "_________________________________________________________________\n",
            "Flatten (Flatten)            (None, 8)                 0         \n",
            "_________________________________________________________________\n",
            "Output (Dense)               (None, 8)                 72        \n",
            "=================================================================\n",
            "Total params: 14,780,592\n",
            "Trainable params: 9,505,136\n",
            "Non-trainable params: 5,275,456\n",
            "_________________________________________________________________\n"
          ],
          "name": "stdout"
        }
      ]
    },
    {
      "cell_type": "code",
      "metadata": {
        "id": "_1FXcpVB0Tdq",
        "colab": {
          "base_uri": "https://localhost:8080/",
          "height": 187
        },
        "outputId": "ec6b3f57-446e-4834-bf26-1c654e065e3d"
      },
      "source": [
        "for layr in model_vgg16_1.layers[0:5]:\n",
        "  print(layr.name)\n",
        "  print(layr.trainable)"
      ],
      "execution_count": null,
      "outputs": [
        {
          "output_type": "stream",
          "text": [
            "input_2\n",
            "True\n",
            "block1_conv1\n",
            "True\n",
            "block1_conv2\n",
            "True\n",
            "block1_pool\n",
            "True\n",
            "block2_conv1\n",
            "True\n"
          ],
          "name": "stdout"
        }
      ]
    },
    {
      "cell_type": "code",
      "metadata": {
        "id": "veGCF1FBGJmz",
        "colab": {
          "base_uri": "https://localhost:8080/",
          "height": 357
        },
        "outputId": "5686f4f7-ca7d-4d65-c540-34842192c95e"
      },
      "source": [
        "vgg16_layer2 = tf.keras.applications.VGG16(\n",
        "              include_top=False, weights='imagenet', input_tensor=None, input_shape=(156,256,3),\n",
        "              pooling=None, classes=8, classifier_activation='softmax'\n",
        "            )\n",
        "\n",
        "print( \"len :--> \" , len( vgg16_layer2.layers ))\n",
        "for layr in vgg16_layer2.layers:\n",
        "  print(layr.name)\n",
        "  #print(layr.trainable)"
      ],
      "execution_count": null,
      "outputs": [
        {
          "output_type": "stream",
          "text": [
            "len :-->  19\n",
            "input_19\n",
            "block1_conv1\n",
            "block1_conv2\n",
            "block1_pool\n",
            "block2_conv1\n",
            "block2_conv2\n",
            "block2_pool\n",
            "block3_conv1\n",
            "block3_conv2\n",
            "block3_conv3\n",
            "block3_pool\n",
            "block4_conv1\n",
            "block4_conv2\n",
            "block4_conv3\n",
            "block4_pool\n",
            "block5_conv1\n",
            "block5_conv2\n",
            "block5_conv3\n",
            "block5_pool\n"
          ],
          "name": "stdout"
        }
      ]
    }
  ]
}