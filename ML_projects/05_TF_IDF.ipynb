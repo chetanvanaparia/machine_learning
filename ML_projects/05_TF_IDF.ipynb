{
 "cells": [
  {
   "cell_type": "markdown",
   "metadata": {
    "colab_type": "text",
    "id": "OnV82tg1xLi0"
   },
   "source": [
    "### Corpus"
   ]
  },
  {
   "cell_type": "code",
   "execution_count": 0,
   "metadata": {
    "colab": {},
    "colab_type": "code",
    "id": "bUsYm9wjxLi1"
   },
   "outputs": [],
   "source": [
    "## SkLearn# Collection of string documents\n",
    "\n",
    "corpus = [\n",
    "     'this is the first document',\n",
    "     'this document is the second document',\n",
    "     'and this is the third one',\n",
    "     'is this the first document',\n",
    "]"
   ]
  },
  {
   "cell_type": "markdown",
   "metadata": {
    "colab_type": "text",
    "id": "eLwmFZfKxLi4"
   },
   "source": [
    "### SkLearn Implementation"
   ]
  },
  {
   "cell_type": "code",
   "execution_count": 0,
   "metadata": {
    "colab": {},
    "colab_type": "code",
    "id": "Np4dfQOkxLi4"
   },
   "outputs": [],
   "source": [
    "from sklearn.feature_extraction.text import TfidfVectorizer\n",
    "vectorizer = TfidfVectorizer()\n",
    "vectorizer.fit(corpus)\n",
    "skl_output = vectorizer.transform(corpus)"
   ]
  },
  {
   "cell_type": "code",
   "execution_count": 0,
   "metadata": {
    "colab": {
     "base_uri": "https://localhost:8080/",
     "height": 34
    },
    "colab_type": "code",
    "executionInfo": {
     "elapsed": 1654,
     "status": "ok",
     "timestamp": 1587809718957,
     "user": {
      "displayName": "chetan vanapariya",
      "photoUrl": "",
      "userId": "09687593949013731715"
     },
     "user_tz": -330
    },
    "id": "-7Om8YpYxLi6",
    "outputId": "1e01a704-c908-467b-a817-1bdbacd2c35e"
   },
   "outputs": [
    {
     "name": "stdout",
     "output_type": "stream",
     "text": [
      "['and', 'document', 'first', 'is', 'one', 'second', 'the', 'third', 'this']\n"
     ]
    }
   ],
   "source": [
    "# sklearn feature names, they are sorted in alphabetic order by default.\n",
    "\n",
    "print(vectorizer.get_feature_names())"
   ]
  },
  {
   "cell_type": "code",
   "execution_count": 0,
   "metadata": {
    "colab": {
     "base_uri": "https://localhost:8080/",
     "height": 52
    },
    "colab_type": "code",
    "executionInfo": {
     "elapsed": 1592,
     "status": "ok",
     "timestamp": 1587809722852,
     "user": {
      "displayName": "chetan vanapariya",
      "photoUrl": "",
      "userId": "09687593949013731715"
     },
     "user_tz": -330
    },
    "id": "dTKplK96xLi-",
    "outputId": "29fe7b89-0ca6-4b14-afd5-8568c1ebd7aa"
   },
   "outputs": [
    {
     "name": "stdout",
     "output_type": "stream",
     "text": [
      "[1.91629073 1.22314355 1.51082562 1.         1.91629073 1.91629073\n",
      " 1.         1.91629073 1.        ]\n"
     ]
    }
   ],
   "source": [
    "# Here we will print the sklearn tfidf vectorizer idf values after applying the fit method\n",
    "# After using the fit function on the corpus the vocab has 9 words in it, and each has its idf value.\n",
    "\n",
    "print(vectorizer.idf_)"
   ]
  },
  {
   "cell_type": "code",
   "execution_count": 0,
   "metadata": {
    "colab": {
     "base_uri": "https://localhost:8080/",
     "height": 34
    },
    "colab_type": "code",
    "executionInfo": {
     "elapsed": 1533,
     "status": "ok",
     "timestamp": 1587809727375,
     "user": {
      "displayName": "chetan vanapariya",
      "photoUrl": "",
      "userId": "09687593949013731715"
     },
     "user_tz": -330
    },
    "id": "-CTiWHygxLjA",
    "outputId": "dc90a953-c1b3-4a52-80ef-34a5e436ccc0"
   },
   "outputs": [
    {
     "data": {
      "text/plain": [
       "(4, 9)"
      ]
     },
     "execution_count": 23,
     "metadata": {
      "tags": []
     },
     "output_type": "execute_result"
    }
   ],
   "source": [
    "# shape of sklearn tfidf vectorizer output after applying transform method.\n",
    "\n",
    "skl_output.shape"
   ]
  },
  {
   "cell_type": "code",
   "execution_count": 0,
   "metadata": {
    "colab": {
     "base_uri": "https://localhost:8080/",
     "height": 104
    },
    "colab_type": "code",
    "executionInfo": {
     "elapsed": 861,
     "status": "ok",
     "timestamp": 1587809729459,
     "user": {
      "displayName": "chetan vanapariya",
      "photoUrl": "",
      "userId": "09687593949013731715"
     },
     "user_tz": -330
    },
    "id": "bDKEpbA-xLjD",
    "outputId": "60bd27fa-cd07-4192-a876-043204546c6f"
   },
   "outputs": [
    {
     "name": "stdout",
     "output_type": "stream",
     "text": [
      "  (0, 8)\t0.38408524091481483\n",
      "  (0, 6)\t0.38408524091481483\n",
      "  (0, 3)\t0.38408524091481483\n",
      "  (0, 2)\t0.5802858236844359\n",
      "  (0, 1)\t0.46979138557992045\n"
     ]
    }
   ],
   "source": [
    "# sklearn tfidf values for first line of the above corpus.\n",
    "# Here the output is a sparse matrix\n",
    "\n",
    "print(skl_output[0])"
   ]
  },
  {
   "cell_type": "code",
   "execution_count": 0,
   "metadata": {
    "colab": {
     "base_uri": "https://localhost:8080/",
     "height": 52
    },
    "colab_type": "code",
    "executionInfo": {
     "elapsed": 993,
     "status": "ok",
     "timestamp": 1587809733798,
     "user": {
      "displayName": "chetan vanapariya",
      "photoUrl": "",
      "userId": "09687593949013731715"
     },
     "user_tz": -330
    },
    "id": "3QWo34hexLjF",
    "outputId": "40c42134-ee81-4cfe-fc49-e7edcd50873c"
   },
   "outputs": [
    {
     "name": "stdout",
     "output_type": "stream",
     "text": [
      "[[0.         0.46979139 0.58028582 0.38408524 0.         0.\n",
      "  0.38408524 0.         0.38408524]]\n"
     ]
    }
   ],
   "source": [
    "# sklearn tfidf values for first line of the above corpus.\n",
    "# To understand the output better, here we are converting the sparse output matrix to dense matrix and printing it.\n",
    "# Notice that this output is normalized using L2 normalization. sklearn does this by default.\n",
    "\n",
    "print(skl_output[0].toarray())"
   ]
  },
  {
   "cell_type": "markdown",
   "metadata": {
    "colab_type": "text",
    "id": "qfIwx5LzxLjI"
   },
   "source": [
    "### Your custom implementation"
   ]
  },
  {
   "cell_type": "code",
   "execution_count": 0,
   "metadata": {
    "colab": {
     "base_uri": "https://localhost:8080/",
     "height": 399
    },
    "colab_type": "code",
    "executionInfo": {
     "elapsed": 1424,
     "status": "ok",
     "timestamp": 1587838431769,
     "user": {
      "displayName": "chetan vanapariya",
      "photoUrl": "",
      "userId": "09687593949013731715"
     },
     "user_tz": -330
    },
    "id": "HjuCcJwXxLjJ",
    "outputId": "1882c129-cdcd-4176-e3bf-4a7a56c3caf7"
   },
   "outputs": [
    {
     "name": "stderr",
     "output_type": "stream",
     "text": [
      "100%|██████████| 4/4 [00:00<00:00, 14639.80it/s]"
     ]
    },
    {
     "name": "stdout",
     "output_type": "stream",
     "text": [
      "['this is the first document', 'this document is the second document', 'and this is the third one', 'is this the first document']\n",
      "\n",
      "vocabulary of unique words\n",
      "['and', 'document', 'first', 'is', 'one', 'second', 'the', 'third', 'this']\n",
      "\n",
      "No. of ( Docs , vocabulary) =  (4, 9)\n",
      "\n",
      "IDF score :\n",
      "[1.916290731874155, 1.2231435513142097, 1.5108256237659907, 1.0, 1.916290731874155, 1.916290731874155, 1.0, 1.916290731874155, 1.0]\n",
      "\n",
      "TF-IDF score for the Document-1 (row-1) :\n",
      "[(0, 1), 0.24462871026284191]\n",
      "[(0, 2), 0.3021651247531981]\n",
      "[(0, 3), 0.19999999999999998]\n",
      "[(0, 6), 0.19999999999999998]\n",
      "[(0, 8), 0.19999999999999998]\n",
      "\n",
      "Dense matrix for sparse matrix: \n",
      "[0.         0.24462871 0.30216512 0.2        0.         0.\n",
      " 0.2        0.         0.2       ]\n"
     ]
    },
    {
     "name": "stderr",
     "output_type": "stream",
     "text": [
      "\n"
     ]
    }
   ],
   "source": [
    "# Write your code here.\n",
    "# Make sure its well documented and readble with appropriate comments.\n",
    "# Compare your results with the above sklearn tfidf vectorizer\n",
    "# You are not supposed to use any other library apart from the ones given below\n",
    "\n",
    "from collections import Counter\n",
    "from tqdm import tqdm\n",
    "from scipy.sparse import csr_matrix\n",
    "import math\n",
    "import operator\n",
    "# from sklearn.preprocessing import normalize\n",
    "from sklearn.preprocessing import Normalizer\n",
    "import numpy\n",
    "\n",
    "#fit function will return unique words\n",
    "def fit(dataset):    \n",
    "    unique_words = set() # at first we will initialize an empty set\n",
    "    # check if its list type or not\n",
    "    if isinstance(dataset, (list,)):\n",
    "        for row in dataset: # for each review in the dataset\n",
    "            for word in row.split(\" \"): # for each word in the review. #split method converts a string into list of words\n",
    "                if len(word) < 2:\n",
    "                    continue\n",
    "                unique_words.add(word)\n",
    "        unique_words = sorted(list(unique_words))\n",
    "        vocab = {j:i for i,j in enumerate(unique_words)}\n",
    "        return vocab\n",
    "    else:\n",
    "        print(\"you need to pass list of sentance\")\n",
    "\n",
    "\n",
    "def transform(dataset,vocab):\n",
    "    rows = []\n",
    "    columns = []\n",
    "    values = []\n",
    "    if isinstance(dataset, (list,)):\n",
    "        for idx, row in enumerate(tqdm(dataset)): # for each document in the dataset\n",
    "            # it will return a dict type object where key is the word and values is its frequency, {word:frequency}\n",
    "            word_freq = dict(Counter(row.split()))\n",
    "            # for every unique word in the document\n",
    "            for word, freq in word_freq.items():  # for each unique word in the review.                \n",
    "                if len(word) < 2:\n",
    "                    continue\n",
    "                # we will check if its there in the vocabulary that we build in fit() function\n",
    "                # dict.get() function will return the values, if the key doesn't exits it will return -1\n",
    "                col_index = vocab.get(word, -1) # retreving the dimension number of a word\n",
    "                # if the word exists\n",
    "                if col_index !=-1:\n",
    "                    # we are storing the index of the document\n",
    "                    rows.append(idx)\n",
    "                    # we are storing the dimensions of the word\n",
    "                    columns.append(col_index)\n",
    "                    # we are storing the frequency of the word\n",
    "                    values.append(freq)\n",
    "        #print(rows)\n",
    "        #print(columns)\n",
    "        #print(values)\n",
    "        return csr_matrix((values, (rows,columns)), shape=(len(dataset),len(vocab)))\n",
    "    else:\n",
    "        print(\"you need to pass list of strings\")\n",
    "\n",
    "\n",
    "# L2 normalization using sklearn Normalizer\n",
    "def get_normlized_data(X) :\n",
    "  transformer_l2 = Normalizer().fit(X)\n",
    "  return transformer_l2.transform(X);\n",
    "\n",
    "def get_tf_velues( sparse_data_l2_norm ) :\n",
    "  tf_values= []\n",
    "  \n",
    "  for i , row_  in enumerate(sparse_data_l2_norm) :\n",
    "    total_words = sum(row_)\n",
    "    for j , col_  in enumerate(row_) :\n",
    "      if col_ != 0 :\n",
    "        tf_values.append([(i,j), sparse_data_l2_norm[i][j] / total_words ])\n",
    "\n",
    "  return tf_values;\n",
    "\n",
    "def get_tf_dense_metrix( sparse_data_l2_m ) :\n",
    "  tf_dense_m = []\n",
    "  for i , row_  in enumerate(sparse_data_l2_m) :\n",
    "    tf_values_row = []\n",
    "    total_words = sum(row_)\n",
    "    for j , col_  in enumerate(row_) :\n",
    "        tf_values_row.append( ( col_ / total_words ) )\n",
    "\n",
    "    tf_dense_m.append( tf_values_row )\n",
    "    \n",
    "  return tf_dense_m;\n",
    "\n",
    "def get_tf_idf_dense_metrix(tf_dense, idf_val):\n",
    "  idf_dense_m = []\n",
    "  \n",
    "  for i, row_ele in enumerate(tf_dense):\n",
    "    each_row_d = []\n",
    "    for j, col_e in enumerate(row_ele):\n",
    "      cell_val = ( col_e * idf_val.get(j) );\n",
    "      each_row_d.append( cell_val )\n",
    "    idf_dense_m.append( each_row_d )\n",
    "  return idf_dense_m;\n",
    "\n",
    "def get_idf_score( sparse_data ) :\n",
    "  idf_score = {}\n",
    "  for  i in range(0,len(sparse_data[0]) ):\n",
    "    word_in_doc = 0\n",
    "    for j in range(0,len(sparse_data) ) :\n",
    "      if sparse_data[j][i] != 0 :\n",
    "        word_in_doc = word_in_doc + 1 ;\n",
    "    idf_score[i] =  1 + math.log( (1 + len(sparse_data) ) / (word_in_doc +1) ) \n",
    "  return idf_score;\n",
    "\n",
    "\n",
    "def get_tf_idf( tf_values , idf_score ) :\n",
    "  tf_idf_values = []\n",
    "  for each_tf in tf_values:\n",
    "    each_tf_idf = []\n",
    "    each_tf_idf.append(  each_tf[0] )\n",
    "    each_tf_idf.append(  each_tf[1] * idf_score.get(each_tf[0][1]) )\n",
    "    tf_idf_values.append( each_tf_idf )\n",
    "  \n",
    "  return tf_idf_values;\n",
    "\n",
    "\n",
    "print(corpus)\n",
    "vocab = fit(corpus)\n",
    "\n",
    "print(\"\\nvocabulary of unique words\")\n",
    "print(sorted(list(vocab.keys())))\n",
    "#print(transform(strings, vocab).toarray())\n",
    "sparse_arr = transform(corpus, vocab).toarray();\n",
    "sparse_data = sparse_arr.tolist();\n",
    "# print(sparse_arr)\n",
    "print(\"\\nNo. of ( Docs , vocabulary) = \" , end=\" \")\n",
    "print(sparse_arr.shape)\n",
    "print()\n",
    "# L2 normalization using sklearn Normalizer\n",
    "sparse_normal_data = get_normlized_data(sparse_data)\n",
    "\n",
    "tf_values_ = get_tf_velues( sparse_normal_data );\n",
    "idf_score_ = get_idf_score( sparse_data )\n",
    "\n",
    "print(\"IDF score :\")\n",
    "print(list( idf_score_.values()))\n",
    "print()\n",
    "\n",
    "tf_idf = get_tf_idf( tf_values_ , idf_score_ );\n",
    "print(\"TF-IDF score for the Document-1 (row-1) :\")\n",
    "for cell_i in tf_idf[0:5] :\n",
    "  print(cell_i)\n",
    "\n",
    "\n",
    "tf_dense_metrix = get_tf_dense_metrix( sparse_normal_data );\n",
    "tf_idf_dense_m = get_tf_idf_dense_metrix( tf_dense_metrix , idf_score_ );\n",
    "print(\"\\nDense matrix for sparse matrix: \")\n",
    "print(numpy.asarray(tf_idf_dense_m[0]))\n"
   ]
  },
  {
   "cell_type": "markdown",
   "metadata": {
    "colab_type": "text",
    "id": "MMxBmVZExLjK"
   },
   "source": [
    "## Task-2"
   ]
  },
  {
   "cell_type": "code",
   "execution_count": 0,
   "metadata": {
    "colab": {
     "base_uri": "https://localhost:8080/",
     "height": 34
    },
    "colab_type": "code",
    "executionInfo": {
     "elapsed": 2887,
     "status": "ok",
     "timestamp": 1587837489713,
     "user": {
      "displayName": "chetan vanapariya",
      "photoUrl": "",
      "userId": "09687593949013731715"
     },
     "user_tz": -330
    },
    "id": "NHxPLlwNxLjL",
    "outputId": "fe36938c-8834-432f-e037-1d7e0daadfac"
   },
   "outputs": [
    {
     "name": "stdout",
     "output_type": "stream",
     "text": [
      "Number of documents in corpus =  746\n"
     ]
    }
   ],
   "source": [
    "# Below is the code to load the cleaned_strings pickle file provided\n",
    "# Here corpus is of list type\n",
    "\n",
    "import pickle\n",
    "with open('cleaned_strings', 'rb') as f:\n",
    "    corpus_d = pickle.load(f)\n",
    "    \n",
    "corpus_1 = corpus_d;\n",
    "# printing the length of the corpus loaded\n",
    "print(\"Number of documents in corpus = \",len(corpus_1))"
   ]
  },
  {
   "cell_type": "code",
   "execution_count": 0,
   "metadata": {
    "colab": {},
    "colab_type": "code",
    "id": "ZULfoOIdxLjQ"
   },
   "outputs": [],
   "source": [
    "# Write your code here.\n",
    "# Try not to hardcode any values.\n",
    "# Make sure its well documented and readble with appropriate comments.\n",
    "def get_top_features(vocab , idf_score, top_no):\n",
    "  sorted_x = sorted(idf_score.items(), key=operator.itemgetter(1),reverse = True )\n",
    "  short_dict = dict(sorted_x[:top_no])\n",
    "  vocab_top_keys =  ( dict(sorted_x[:top_no]).keys() ) ;\n",
    "  vocab_top_list = {};\n",
    "  for k , v in vocab.items():\n",
    "    if v in vocab_top_keys:\n",
    "      vocab_top_list[k] = v ;\n",
    "  vocab_top_list_ord = {}\n",
    "  i = 0;\n",
    "  for k,v in vocab_top_list.items() :\n",
    "    vocab_top_list_ord[k] = i ;\n",
    "    i = (1 + i ) ;\n",
    "  return vocab_top_list_ord;"
   ]
  },
  {
   "cell_type": "code",
   "execution_count": 161,
   "metadata": {
    "colab": {
     "base_uri": "https://localhost:8080/",
     "height": 558
    },
    "colab_type": "code",
    "executionInfo": {
     "elapsed": 1361,
     "status": "ok",
     "timestamp": 1587840914979,
     "user": {
      "displayName": "chetan vanapariya",
      "photoUrl": "",
      "userId": "09687593949013731715"
     },
     "user_tz": -330
    },
    "id": "1_DJnnR3xLjR",
    "outputId": "160643f8-b702-41b8-a234-bec978684dd6"
   },
   "outputs": [
    {
     "name": "stderr",
     "output_type": "stream",
     "text": [
      "100%|██████████| 746/746 [00:00<00:00, 66712.52it/s]\n"
     ]
    },
    {
     "name": "stdout",
     "output_type": "stream",
     "text": [
      "\n",
      "Total No. of ( Docs , vocabulary) =  (746, 2886)\n",
      "\n"
     ]
    },
    {
     "name": "stderr",
     "output_type": "stream",
     "text": [
      "100%|██████████| 746/746 [00:00<00:00, 95505.49it/s]"
     ]
    },
    {
     "name": "stdout",
     "output_type": "stream",
     "text": [
      "\n",
      "Top 50 unique words by IDF-score\n",
      "['aailiyah', 'abandoned', 'abroad', 'abstruse', 'academy', 'accents', 'accessible', 'acclaimed', 'accolades', 'accurate', 'accurately', 'achille', 'ackerman', 'actions', 'adams', 'add', 'added', 'admins', 'admiration', 'admitted', 'adrift', 'adventure', 'aesthetically', 'affected', 'affleck', 'afternoon', 'aged', 'ages', 'agree', 'agreed', 'aimless', 'aired', 'akasha', 'akin', 'alert', 'alike', 'allison', 'allow', 'allowing', 'alongside', 'amateurish', 'amaze', 'amazed', 'amazingly', 'amusing', 'amust', 'anatomist', 'angel', 'angela', 'angelina']\n",
      "\n",
      "\n",
      "Data of Top 50 unique words by IDF-score \n",
      "( Docs , vocabulary) =  (746, 50)\n",
      "\n",
      "IDF score dictionary :\n",
      "{0: 6.922918004572872, 1: 6.922918004572872, 2: 6.922918004572872, 3: 6.922918004572872, 4: 6.922918004572872, 5: 6.922918004572872, 6: 6.922918004572872, 7: 6.922918004572872, 8: 6.922918004572872, 9: 6.922918004572872, 10: 6.922918004572872, 11: 6.922918004572872, 12: 6.922918004572872, 13: 6.922918004572872, 14: 6.922918004572872, 15: 6.922918004572872, 16: 6.922918004572872, 17: 6.922918004572872, 18: 6.922918004572872, 19: 6.922918004572872, 20: 6.922918004572872, 21: 6.922918004572872, 22: 6.922918004572872, 23: 6.922918004572872, 24: 6.922918004572872, 25: 6.922918004572872, 26: 6.922918004572872, 27: 6.922918004572872, 28: 6.922918004572872, 29: 6.922918004572872, 30: 6.922918004572872, 31: 6.922918004572872, 32: 6.922918004572872, 33: 6.922918004572872, 34: 6.922918004572872, 35: 6.922918004572872, 36: 6.922918004572872, 37: 6.922918004572872, 38: 6.922918004572872, 39: 6.922918004572872, 40: 6.922918004572872, 41: 6.922918004572872, 42: 6.922918004572872, 43: 6.922918004572872, 44: 6.922918004572872, 45: 6.922918004572872, 46: 6.922918004572872, 47: 6.922918004572872, 48: 6.922918004572872, 49: 6.922918004572872}\n",
      "Only IDF score : \n",
      "[6.922918004572872, 6.922918004572872, 6.922918004572872, 6.922918004572872, 6.922918004572872, 6.922918004572872, 6.922918004572872, 6.922918004572872, 6.922918004572872, 6.922918004572872, 6.922918004572872, 6.922918004572872, 6.922918004572872, 6.922918004572872, 6.922918004572872, 6.922918004572872, 6.922918004572872, 6.922918004572872, 6.922918004572872, 6.922918004572872, 6.922918004572872, 6.922918004572872, 6.922918004572872, 6.922918004572872, 6.922918004572872, 6.922918004572872, 6.922918004572872, 6.922918004572872, 6.922918004572872, 6.922918004572872, 6.922918004572872, 6.922918004572872, 6.922918004572872, 6.922918004572872, 6.922918004572872, 6.922918004572872, 6.922918004572872, 6.922918004572872, 6.922918004572872, 6.922918004572872, 6.922918004572872, 6.922918004572872, 6.922918004572872, 6.922918004572872, 6.922918004572872, 6.922918004572872, 6.922918004572872, 6.922918004572872, 6.922918004572872, 6.922918004572872]\n",
      "\n",
      "TF-IDF score for the Document-1 (row-1) :\n",
      "[(0, 30), 6.922918004572872]\n",
      "\n",
      "Dense matrix for sparse matrix: \n",
      "[0.       0.       0.       0.       0.       0.       0.       0.\n",
      " 0.       0.       0.       0.       0.       0.       0.       0.\n",
      " 0.       0.       0.       0.       0.       0.       0.       0.\n",
      " 0.       0.       0.       0.       0.       0.       6.922918 0.\n",
      " 0.       0.       0.       0.       0.       0.       0.       0.\n",
      " 0.       0.       0.       0.       0.       0.       0.       0.\n",
      " 0.       0.      ]\n"
     ]
    },
    {
     "name": "stderr",
     "output_type": "stream",
     "text": [
      "\n",
      "/usr/local/lib/python3.6/dist-packages/ipykernel_launcher.py:81: RuntimeWarning: invalid value encountered in double_scalars\n"
     ]
    }
   ],
   "source": [
    "# print(corpus_1)\n",
    "vocab = fit(corpus_1)\n",
    "# print(\"\\n vocab of unique words\")\n",
    "# print(sorted(list(vocab.keys())))\n",
    "# print(vocab)\n",
    "#print(transform(strings, vocab).toarray())\n",
    "sparse_arr_1 = transform(corpus_1, vocab).toarray();\n",
    "sparse_data_1 = sparse_arr_1.tolist();\n",
    "# print(sparse_arr)\n",
    "print(\"\\nTotal No. of ( Docs , vocabulary) = \" , end=\" \")\n",
    "print(sparse_arr_1.shape)\n",
    "print()\n",
    "# tf_values_ = get_tf_velues( get_normlized_data(sparse_data_1) );\n",
    "idf_score_1 = get_idf_score( sparse_data_1 )\n",
    "\n",
    "\n",
    "# top-50\n",
    "vocab_top_50 = get_top_features( vocab , idf_score_1 , 50 )\n",
    "print(\"\\nTop 50 unique words by IDF-score\")\n",
    "print( list(vocab_top_50.keys() ) )\n",
    "sparse_arr_2 = transform(corpus_1, vocab_top_50).toarray();\n",
    "sparse_data_2 = sparse_arr_2.tolist();\n",
    "print(\"\\n\\nData of Top 50 unique words by IDF-score \\n( Docs , vocabulary) = \" , end=\" \")\n",
    "print(sparse_arr_2.shape)\n",
    "print()\n",
    "\n",
    "# L2 normalization using sklearn Normalizer\n",
    "normal_data_2 = get_normlized_data(sparse_data_2)\n",
    "# print( normal_data_2[0])\n",
    "tf_values_2 = get_tf_velues(  normal_data_2 );\n",
    "idf_score_2 = get_idf_score( sparse_data_2 )\n",
    "\n",
    "\n",
    "print(\"IDF score dictionary :\")\n",
    "print( idf_score_2 )\n",
    "print(\"Only IDF score : \")\n",
    "print(list( idf_score_2.values()))\n",
    "print()\n",
    "\n",
    "tf_idf = get_tf_idf( tf_values_2 , idf_score_2 );\n",
    "\n",
    "print(\"TF-IDF score for the Document-1 (row-1) :\")\n",
    "for cell_i in tf_idf[0:1] :\n",
    "  print(cell_i)\n",
    "\n",
    "tf_dense_metrix = get_tf_dense_metrix( normal_data_2 );\n",
    "tf_idf_dense_m = get_tf_idf_dense_metrix( tf_dense_metrix , idf_score_2 );\n",
    "# To understand the output better, here we are converting the sparse output matrix to dense matrix and printing it.\n",
    "print(\"\\nDense matrix for sparse matrix: \")\n",
    "print(numpy.asarray(tf_idf_dense_m[0]))"
   ]
  },
  {
   "cell_type": "code",
   "execution_count": 0,
   "metadata": {
    "colab": {
     "base_uri": "https://localhost:8080/",
     "height": 367
    },
    "colab_type": "code",
    "executionInfo": {
     "elapsed": 1621,
     "status": "ok",
     "timestamp": 1587840040879,
     "user": {
      "displayName": "chetan vanapariya",
      "photoUrl": "",
      "userId": "09687593949013731715"
     },
     "user_tz": -330
    },
    "id": "239bzM-d1lgR",
    "outputId": "981f34a3-f9a4-4121-a681-92e88a3e2cbb"
   },
   "outputs": [
    {
     "name": "stdout",
     "output_type": "stream",
     "text": [
      "Features Name using sklearn\n",
      "['aailiyah', 'abandoned', 'ability', 'abroad', 'absolutely', 'abstruse', 'abysmal', 'academy', 'accents', 'accessible', 'acclaimed', 'accolades', 'accurate', 'accurately', 'accused', 'achievement', 'achille', 'ackerman', 'act', 'acted', 'acting', 'action', 'actions', 'actor', 'actors', 'actress', 'actresses', 'actually', 'adams', 'adaptation', 'add', 'added', 'addition', 'admins', 'admiration', 'admitted', 'adorable', 'adrift', 'adventure', 'advise', 'aerial', 'aesthetically', 'affected', 'affleck', 'afraid', 'africa', 'afternoon', 'age', 'aged', 'ages', 'ago', 'agree', 'agreed', 'aimless', 'air', 'aired', 'akasha', 'akin', 'alert', 'alexander', 'alike', 'allison', 'allow', 'allowing', 'almost', 'along', 'alongside', 'already', 'also', 'although', 'always', 'amateurish', 'amaze', 'amazed', 'amazing', 'amazingly', 'america', 'american', 'americans', 'among', 'amount', 'amusing', 'amust', 'anatomist', 'angel', 'angela', 'angeles', 'angelina', 'angle', 'angles', 'angry', 'anguish', 'angus', 'animals', 'animated', 'animation', 'anita', 'ann', 'anne', 'anniversary', 'annoying', 'another', 'anthony', 'antithesis', 'anyone', 'anything', 'anyway', 'apart', 'appalling', 'appealing', 'appearance', 'appears', 'applauded', 'applause', 'appreciate', 'appropriate', 'apt', 'argued', 'armageddon', 'armand', 'around', 'array', 'art', 'articulated', 'artiness', 'artist', 'artistic', 'artless', 'arts', 'aside', 'ask', 'asleep', 'aspect', 'aspects', 'ass', 'assante', 'assaulted', 'assistant', 'astonishingly', 'astronaut', 'atmosphere', 'atrocious', 'atrocity', 'attempt', 'attempted', 'attempting', 'attempts', 'attention', 'attractive', 'audience', 'audio', 'aurv', 'austen', 'austere', 'author', 'average', 'aversion', 'avoid', 'avoided', 'award', 'awarded', 'awards', 'away', 'awesome', 'awful', 'awkwardly', 'aye', 'baaaaaad', 'babbling', 'babie', 'baby', 'babysitting', 'back', 'backdrop', 'backed', 'bad', 'badly', 'bag', 'bailey', 'bakery', 'balance', 'balanced', 'ball', 'ballet', 'balls', 'band', 'barcelona', 'barely', 'barking', 'barney', 'barren', 'based', 'basic', 'basically', 'bat', 'bates', 'baxendale', 'bear', 'beautiful', 'beautifully', 'bec', 'became', 'bechard', 'become', 'becomes', 'began', 'begin', 'beginning', 'behind', 'behold', 'bela', 'believable', 'believe', 'believed', 'bell', 'bellucci', 'belly', 'belmondo', 'ben', 'bendingly', 'bennett', 'bergen', 'bertolucci', 'best', 'better', 'betty', 'beware', 'beyond', 'bible', 'big', 'biggest', 'billy', 'biographical', 'bipolarity', 'bit', 'bitchy', 'black', 'blah', 'blake', 'bland', 'blandly', 'blare', 'blatant', 'blew', 'blood', 'blown', 'blue', 'blush', 'boasts', 'bob', 'body', 'bohemian', 'boiling', 'bold', 'bombardments', 'bond', 'bonding', 'bonus', 'bonuses', 'boobs', 'boogeyman', 'book', 'boost', 'bop', 'bordered', 'borderlines', 'borders', 'bore', 'bored', 'boring', 'borrowed', 'boss', 'bother', 'bothersome', 'bought', 'box', 'boyfriend', 'boyle', 'brain', 'brainsucking', 'brat', 'breaking', 'breeders', 'brevity', 'brian', 'brief', 'brigand', 'bright', 'brilliance', 'brilliant', 'brilliantly', 'bring', 'brings', 'broad', 'broke', 'brooding', 'brother', 'brutal', 'buddy', 'budget', 'buffalo', 'buffet', 'build', 'builders', 'buildings', 'built', 'bullock', 'bully', 'bunch', 'burton', 'business', 'buy', 'cable', 'cailles', 'california', 'call', 'called', 'calls', 'came', 'cameo', 'camera', 'camerawork', 'camp', 'campy', 'canada', 'cancan', 'candace', 'candle', 'cannot', 'cant', 'captain', 'captured', 'captures', 'car', 'card', 'cardboard', 'cardellini', 'care', 'carol', 'carrell', 'carries', 'carry', 'cars', 'cartoon', 'cartoons', 'case', 'cases', 'cast', 'casted', 'casting', 'cat', 'catchy', 'caught', 'cause', 'ceases', 'celebration', 'celebrity', 'celluloid', 'centers', 'central', 'century', 'certain', 'certainly', 'cg', 'cgi', 'chalkboard', 'challenges', 'chance', 'change', 'changes', 'changing', 'channel', 'character', 'characterisation', 'characters', 'charisma', 'charismatic', 'charles', 'charlie', 'charm', 'charming', 'chase', 'chasing', 'cheap', 'cheaply', 'check', 'checking', 'cheek', 'cheekbones', 'cheerfull', 'cheerless', 'cheesiness', 'cheesy', 'chemistry', 'chick', 'child', 'childhood', 'children', 'childrens', 'chills', 'chilly', 'chimp', 'chodorov', 'choice', 'choices', 'choked', 'chosen', 'chow', 'christmas', 'christopher', 'church', 'cinema', 'cinematic', 'cinematographers', 'cinematography', 'circumstances', 'class', 'classic', 'classical', 'clear', 'clearly', 'clever', 'clich', 'cliche', 'clients', 'cliff', 'climax', 'close', 'closed', 'clothes', 'club', 'co', 'coach', 'coal', 'coastal', 'coaster', 'coherent', 'cold', 'cole', 'collect', 'collective', 'colored', 'colorful', 'colours', 'columbo', 'come', 'comedic', 'comedy', 'comes', 'comfortable', 'comforting', 'comical', 'coming', 'commands', 'comment', 'commentary', 'commented', 'comments', 'commercial', 'community', 'company', 'compelling', 'competent', 'complete', 'completed', 'completely', 'complex', 'complexity', 'composed', 'composition', 'comprehensible', 'compromise', 'computer', 'concentrate', 'conception', 'conceptually', 'concerning', 'concerns', 'concert', 'conclusion', 'condescends', 'confidence', 'configuration', 'confirm', 'conflict', 'confuses', 'confusing', 'connections', 'connery', 'connor', 'conrad', 'consequences', 'consider', 'considerable', 'considered', 'considering', 'considers', 'consistent', 'consolations', 'constant', 'constantine', 'constructed', 'contained', 'containing', 'contains', 'content', 'continually', 'continuation', 'continue', 'continuity', 'continuously', 'contract', 'contrast', 'contributing', 'contributory', 'contrived', 'control', 'controversy', 'convention', 'convey', 'convince', 'convincing', 'convoluted', 'cool', 'coppola', 'cords', 'core', 'corn', 'corny', 'correct', 'cost', 'costs', 'costumes', 'cotton', 'could', 'couple', 'course', 'court', 'courtroom', 'cover', 'cowardice', 'cox', 'crackles', 'crafted', 'crap', 'crash', 'crashed', 'crayon', 'crayons', 'crazy', 'create', 'created', 'creates', 'creative', 'creativity', 'creature', 'credible', 'credit', 'credits', 'crew', 'crime', 'crisp', 'critic', 'critical', 'crocdodile', 'crocs', 'cross', 'crowd', 'crowe', 'cruel', 'cruise', 'cry', 'cult', 'culture', 'curtain', 'custer', 'cute', 'cutest', 'cutie', 'cutouts', 'cuts', 'cutting', 'dads', 'damian', 'damn', 'dance', 'dancing', 'dangerous', 'dark', 'darren', 'daughter', 'daughters', 'day', 'days', 'de', 'dead', 'deadly', 'deadpan', 'deal', 'dealt', 'death', 'debated', 'debbie', 'debits', 'debut', 'decay', 'decent', 'decidely', 'decipher', 'decisions', 'dedication', 'dee', 'deep', 'deeply', 'defensemen', 'defined', 'definitely', 'delete', 'delight', 'delightful', 'delights', 'deliver', 'delivered', 'delivering', 'delivers', 'dependant', 'depending', 'depends', 'depicted', 'depicts', 'depressing', 'depth', 'derivative', 'describe', 'describes', 'desert', 'deserved', 'deserves', 'deserving', 'design', 'designed', 'designer', 'desperately', 'desperation', 'despised', 'despite', 'destroy', 'detailing', 'details', 'develop', 'development', 'developments', 'di', 'diabetic', 'dialog', 'dialogs', 'dialogue', 'diaper', 'dickens', 'difference', 'different', 'dignity', 'dimensional', 'direct', 'directed', 'directing', 'direction', 'director', 'directorial', 'directors', 'disappointed', 'disappointing', 'disappointment', 'disaster', 'disbelief', 'discomfort', 'discovering', 'discovery', 'disgrace', 'disgusting', 'dislike', 'disliked', 'disney', 'disparate', 'distant', 'distinction', 'distorted', 'distract', 'distressed', 'disturbing', 'diving', 'doctor', 'documentaries', 'documentary', 'dodge', 'dogs', 'dollars', 'dominated', 'done', 'donlevy', 'dont', 'doomed', 'dose', 'doubt', 'downs', 'dozen', 'dr', 'dracula', 'draft', 'drag', 'drago', 'drama', 'dramatic', 'drawings', 'drawn', 'dream', 'dreams', 'dreary', 'dribble', 'drift', 'drifting', 'drive', 'drooling', 'dropped', 'dry', 'due', 'duet', 'dull', 'dumb', 'dumbest', 'duper', 'duris', 'dustin', 'dvd', 'dwight', 'dysfunction', 'earlier', 'early', 'earth', 'easily', 'easy', 'eating', 'ebay', 'ebola', 'eccleston', 'ed', 'edge', 'editing', 'edition', 'educational', 'edward', 'effect', 'effective', 'effects', 'effort', 'efforts', 'egotism', 'eighth', 'eiko', 'either', 'elaborately', 'elderly', 'elegant', 'element', 'elias', 'eloquently', 'else', 'elsewhere', 'embarrassed', 'embarrassing', 'embassy', 'emerge', 'emilio', 'emily', 'emoting', 'emotion', 'emotionally', 'emotions', 'emperor', 'empowerment', 'emptiness', 'empty', 'en', 'enchanting', 'end', 'endearing', 'ended', 'ending', 'endlessly', 'ends', 'energetic', 'energy', 'engaging', 'english', 'enhanced', 'enjoy', 'enjoyable', 'enjoyed', 'enjoyment', 'enough', 'enter', 'enterprise', 'entertained', 'entertaining', 'entire', 'entirely', 'entrance', 'episode', 'episodes', 'equivalent', 'era', 'errol', 'errors', 'escalating', 'escapism', 'especially', 'essence', 'establish', 'established', 'estate', 'estevez', 'etc', 'european', 'evaluate', 'even', 'events', 'ever', 'every', 'everybody', 'everyone', 'everything', 'everywhere', 'evidently', 'evil', 'evinced', 'evokes', 'exactly', 'exaggerating', 'example', 'excellent', 'excellently', 'except', 'exceptional', 'exceptionally', 'excerpts', 'excessively', 'exchange', 'exciting', 'excruciatingly', 'excuse', 'excuses', 'executed', 'exemplars', 'existent', 'existential', 'expansive', 'expect', 'expectations', 'expected', 'expecting', 'experience', 'experiences', 'expert', 'explain', 'explains', 'explanation', 'exploit', 'explorations', 'explosion', 'expression', 'exquisite', 'extant', 'exteriors', 'extraneous', 'extraordinary', 'extremely', 'eye', 'eyes', 'fabulous', 'face', 'faces', 'facial', 'facing', 'fact', 'factory', 'failed', 'fails', 'fair', 'fairly', 'faithful', 'fall', 'falling', 'falls', 'falsely', 'falwell', 'fame', 'famed', 'family', 'famous', 'fan', 'fanciful', 'fans', 'fantastic', 'fantasy', 'far', 'farce', 'fare', 'fascinated', 'fascinating', 'fascination', 'fashioned', 'fast', 'faster', 'fat', 'father', 'faultless', 'fausa', 'faux', 'favorite', 'favourite', 'fear', 'feature', 'features', 'feel', 'feeling', 'feelings', 'feet', 'feisty', 'fellowes', 'felt', 'female', 'females', 'ferry', 'fest', 'fi', 'fields', 'fifteen', 'fifties', 'fill', 'film', 'filmed', 'filmiing', 'filmmaker', 'filmography', 'films', 'final', 'finale', 'finally', 'financial', 'find', 'finds', 'fine', 'finest', 'fingernails', 'finished', 'fire', 'first', 'fish', 'fishnet', 'fisted', 'fit', 'five', 'flag', 'flakes', 'flaming', 'flashbacks', 'flat', 'flaw', 'flawed', 'flaws', 'fleshed', 'flick', 'flicks', 'florida', 'flowed', 'flying', 'flynn', 'focus', 'fodder', 'follow', 'following', 'follows', 'foolish', 'footage', 'football', 'force', 'forced', 'forces', 'ford', 'foreign', 'foreigner', 'forever', 'forget', 'forgettable', 'forgetting', 'forgot', 'forgotten', 'form', 'format', 'former', 'fort', 'forth', 'forwarded', 'found', 'four', 'fox', 'foxx', 'frances', 'francis', 'frankly', 'free', 'freedom', 'freeman', 'french', 'fresh', 'freshness', 'friends', 'friendship', 'frightening', 'front', 'frontier', 'frost', 'frustration', 'fulci', 'fulfilling', 'full', 'fully', 'fumbling', 'fun', 'function', 'fundamental', 'funniest', 'funny', 'future', 'fx', 'gabriel', 'gadget', 'gain', 'gake', 'galley', 'gallon', 'game', 'games', 'garage', 'garbage', 'garbo', 'garfield', 'gas', 'gaudi', 'gave', 'gay', 'geek', 'gem', 'general', 'generally', 'generates', 'generic', 'genius', 'genre', 'gently', 'genuine', 'george', 'gerardo', 'gere', 'get', 'gets', 'getting', 'ghibili', 'giallo', 'gibberish', 'gifted', 'giovanni', 'girl', 'girlfriend', 'girls', 'girolamo', 'give', 'given', 'gives', 'giving', 'glad', 'glance', 'glasses', 'gloriously', 'go', 'goalies', 'god', 'goes', 'going', 'gone', 'gonna', 'good', 'gore', 'goremeister', 'gorman', 'gosh', 'got', 'goth', 'gotta', 'gotten', 'government', 'grace', 'grade', 'gradually', 'grainy', 'granted', 'graphics', 'grasp', 'grates', 'great', 'greatest', 'greatness', 'green', 'greenstreet', 'grew', 'grim', 'grimes', 'gripping', 'groove', 'gross', 'ground', 'guards', 'guess', 'guests', 'guilt', 'gung', 'guy', 'guys', 'hackneyed', 'haggis', 'hair', 'hairsplitting', 'half', 'halfway', 'ham', 'hand', 'handle', 'handled', 'handles', 'hands', 'hang', 'hankies', 'hanks', 'happen', 'happened', 'happiness', 'happy', 'hard', 'harris', 'hate', 'hated', 'hatred', 'havilland', 'hay', 'hayao', 'hayworth', 'hbo', 'head', 'heads', 'hear', 'heard', 'heart', 'hearts', 'heartwarming', 'heaven', 'heche', 'heels', 'heist', 'helen', 'hell', 'hellish', 'helms', 'help', 'helping', 'helps', 'hence', 'hendrikson', 'hernandez', 'hero', 'heroes', 'heroine', 'heroism', 'hes', 'hide', 'high', 'higher', 'highest', 'highlights', 'highly', 'hilarious', 'hill', 'hilt', 'hip', 'history', 'hitchcock', 'ho', 'hockey', 'hoffman', 'hold', 'holding', 'holds', 'holes', 'hollander', 'hollow', 'hollywood', 'home', 'homework', 'honest', 'honestly', 'hoot', 'hope', 'hopefully', 'hopeless', 'horrendous', 'horrendously', 'horrible', 'horrid', 'horrified', 'horror', 'horse', 'hosting', 'hot', 'hour', 'hours', 'house', 'houses', 'howdy', 'howe', 'howell', 'however', 'huge', 'hugo', 'human', 'humanity', 'humans', 'hummh', 'humor', 'humorous', 'humour', 'hurt', 'huston', 'hype', 'hypocrisy', 'idea', 'idealogical', 'identified', 'identifies', 'identify', 'idiot', 'idiotic', 'idyllic', 'iffy', 'im', 'imaginable', 'imagination', 'imaginative', 'imagine', 'imdb', 'imitation', 'impact', 'imperial', 'implausible', 'important', 'impossible', 'impressed', 'impression', 'impressive', 'improved', 'improvement', 'improvisation', 'impulse', 'inappropriate', 'incendiary', 'includes', 'including', 'incomprehensible', 'inconsistencies', 'incorrectness', 'incredible', 'incredibly', 'indeed', 'indescribably', 'indication', 'indictment', 'indie', 'individual', 'indoor', 'indulgent', 'industry', 'ineptly', 'inexperience', 'inexplicable', 'initially', 'innocence', 'insane', 'inside', 'insincere', 'insipid', 'insomniacs', 'inspiration', 'inspiring', 'instant', 'instead', 'instruments', 'insulin', 'insult', 'intangibles', 'integral', 'integration', 'intelligence', 'intelligent', 'intense', 'intensity', 'intentions', 'interacting', 'interest', 'interested', 'interesting', 'interim', 'interplay', 'interpretations', 'interview', 'intoning', 'intrigued', 'inventive', 'involved', 'involves', 'involving', 'iq', 'ireland', 'ironically', 'irons', 'ironside', 'irritating', 'ishioka', 'iso', 'issue', 'issues', 'istagey', 'italian', 'ive', 'jack', 'jaclyn', 'james', 'jamie', 'japanese', 'jason', 'jay', 'jealousy', 'jean', 'jennifer', 'jerky', 'jerry', 'jessica', 'jessice', 'jet', 'jim', 'jimmy', 'job', 'jobs', 'joe', 'john', 'joins', 'joke', 'jokes', 'jonah', 'jones', 'journey', 'joy', 'joyce', 'juano', 'judge', 'judging', 'judith', 'judo', 'julian', 'june', 'junk', 'junkyard', 'justice', 'jutland', 'kanaly', 'kathy', 'keep', 'keeps', 'keira', 'keith', 'kept', 'kevin', 'kid', 'kidnapped', 'kids', 'kieslowski', 'kill', 'killer', 'killing', 'killings', 'kind', 'kinda', 'kirk', 'kitchy', 'knew', 'knightley', 'knocked', 'know', 'known', 'knows', 'koteas', 'kris', 'kristoffersen', 'kudos', 'la', 'labute', 'lack', 'lacked', 'lacks', 'ladies', 'lady', 'lame', 'lance', 'landscapes', 'lane', 'lange', 'largely', 'laselva', 'lassie', 'last', 'lasting', 'latched', 'late', 'later', 'latest', 'latifa', 'latin', 'latter', 'laugh', 'laughable', 'laughed', 'laughs', 'layers', 'lazy', 'lead', 'leading', 'leap', 'learn', 'least', 'leave', 'leaves', 'leaving', 'lee', 'left', 'legal', 'legendary', 'length', 'leni', 'less', 'lesser', 'lestat', 'let', 'lets', 'letting', 'level', 'levels', 'lewis', 'lid', 'lie', 'lies', 'lieutenant', 'life', 'lifetime', 'light', 'lighting', 'like', 'liked', 'likes', 'lilli', 'lilt', 'limitations', 'limited', 'linda', 'line', 'linear', 'lines', 'lino', 'lion', 'list', 'literally', 'littered', 'little', 'lived', 'lives', 'living', 'loads', 'local', 'location', 'locations', 'loewenhielm', 'logic', 'london', 'loneliness', 'long', 'longer', 'look', 'looked', 'looking', 'looks', 'loose', 'loosely', 'lord', 'los', 'losing', 'lost', 'lot', 'lots', 'lousy', 'lovable', 'love', 'loved', 'lovely', 'loves', 'low', 'lower', 'loyalty', 'lucio', 'lucy', 'lugosi', 'lust', 'luv', 'lyrics', 'macbeth', 'machine', 'mad', 'made', 'magnificent', 'main', 'mainly', 'major', 'make', 'maker', 'makers', 'makes', 'making', 'male', 'males', 'malta', 'man', 'managed', 'manages', 'manna', 'mansonites', 'many', 'marbles', 'march', 'marine', 'marion', 'mark', 'marred', 'marriage', 'martin', 'masculine', 'masculinity', 'massive', 'master', 'masterful', 'masterpiece', 'masterpieces', 'material', 'matrix', 'matter', 'matthews', 'mature', 'may', 'maybe', 'mchattie', 'mclaglen', 'meagre', 'mean', 'meanders', 'meaning', 'meanings', 'meant', 'medical', 'mediocre', 'meld', 'melodrama', 'melville', 'member', 'members', 'memorable', 'memories', 'memorized', 'menace', 'menacing', 'mention', 'mercy', 'meredith', 'merit', 'mesmerising', 'mess', 'messages', 'meteorite', 'mexican', 'michael', 'mickey', 'microsoft', 'middle', 'might', 'mighty', 'mind', 'mindblowing', 'miner', 'mini', 'minor', 'minute', 'minutes', 'mirrormask', 'miserable', 'miserably', 'mishima', 'misplace', 'miss', 'missed', 'mistakes', 'miyazaki', 'modern', 'modest', 'mollusk', 'moment', 'moments', 'momentum', 'money', 'monica', 'monolog', 'monotonous', 'monster', 'monstrous', 'monumental', 'moral', 'morgan', 'morons', 'mostly', 'mother', 'motion', 'motivations', 'mountain', 'mouse', 'mouth', 'move', 'moved', 'movements', 'moves', 'movie', 'movies', 'moving', 'ms', 'much', 'muddled', 'muppets', 'murder', 'murdered', 'murdering', 'murky', 'music', 'musician', 'must', 'mystifying', 'naked', 'narration', 'narrative', 'nasty', 'national', 'nationalities', 'native', 'natural', 'nature', 'naughty', 'nearly', 'necklace', 'need', 'needed', 'needlessly', 'negative', 'negulesco', 'neighbour', 'neil', 'nerves', 'nervous', 'net', 'netflix', 'network', 'never', 'nevertheless', 'nevsky', 'new', 'next', 'nice', 'nicola', 'night', 'nimoy', 'nine', 'no', 'noble', 'nobody', 'noir', 'non', 'none', 'nonetheless', 'nonsense', 'nor', 'normally', 'northern', 'nostalgia', 'not', 'notable', 'notch', 'note', 'noteworthy', 'nothing', 'novella', 'number', 'numbers', 'nun', 'nuns', 'nurse', 'nut', 'nuts', 'obliged', 'obsessed', 'obvious', 'obviously', 'occasionally', 'occupied', 'occur', 'occurs', 'odd', 'offend', 'offensive', 'offer', 'offers', 'often', 'oh', 'okay', 'old', 'olde', 'older', 'ole', 'olivia', 'omit', 'one', 'ones', 'open', 'opened', 'opening', 'operas', 'opinion', 'ordeal', 'oriented', 'original', 'originality', 'origins', 'ortolani', 'oscar', 'others', 'otherwise', 'ought', 'outlandish', 'outlets', 'outside', 'outward', 'overacting', 'overall', 'overcome', 'overdue', 'overly', 'overs', 'overt', 'overwrought', 'owed', 'owls', 'owned', 'owns', 'oy', 'pace', 'paced', 'pacing', 'pack', 'paid', 'painful', 'painfully', 'paint', 'painted', 'pair', 'palance', 'pandering', 'pans', 'paolo', 'pap', 'paper', 'par', 'parents', 'park', 'parker', 'part', 'partaking', 'particular', 'particularly', 'parts', 'passed', 'passion', 'past', 'patent', 'pathetic', 'patriotism', 'paul', 'pay', 'peaking', 'pearls', 'peculiarity', 'pedestal', 'pencil', 'people', 'perabo', 'perfect', 'perfected', 'perfectly', 'performance', 'performances', 'perhaps', 'period', 'perplexing', 'person', 'personalities', 'personally', 'peter', 'pg', 'phantasm', 'phenomenal', 'philippa', 'phony', 'photograph', 'photography', 'phrase', 'physical', 'pi', 'picked', 'picture', 'pictures', 'piece', 'pieces', 'pile', 'pillow', 'pitch', 'pitiful', 'pixar', 'place', 'places', 'plain', 'plane', 'planned', 'plants', 'play', 'played', 'player', 'players', 'playing', 'plays', 'pleasant', 'pleased', 'pleaser', 'pleasing', 'pledge', 'plenty', 'plmer', 'plot', 'plug', 'plus', 'pm', 'poet', 'poetry', 'poignant', 'point', 'pointillistic', 'pointless', 'poised', 'poler', 'political', 'politically', 'politics', 'ponyo', 'poor', 'poorly', 'popcorn', 'popular', 'portrayal', 'portrayals', 'portrayed', 'portraying', 'positive', 'possible', 'possibly', 'post', 'potted', 'power', 'powerful', 'powerhouse', 'practical', 'practically', 'pray', 'precisely', 'predict', 'predictable', 'predictably', 'prejudice', 'prelude', 'premise', 'prepared', 'presence', 'presents', 'preservation', 'president', 'pretentious', 'pretext', 'pretty', 'previous', 'primal', 'primary', 'probably', 'problem', 'problems', 'proceedings', 'process', 'produce', 'produced', 'producer', 'producers', 'product', 'production', 'professionals', 'professor', 'progresses', 'promote', 'prompted', 'prone', 'propaganda', 'properly', 'proud', 'proudly', 'provided', 'provokes', 'provoking', 'ps', 'pseudo', 'psychological', 'psychotic', 'public', 'pull', 'pulling', 'pulls', 'punched', 'punches', 'punish', 'punishment', 'puppet', 'puppets', 'pure', 'purity', 'put', 'putting', 'puzzle', 'pyromaniac', 'qu', 'quaid', 'qualities', 'quality', 'question', 'questioning', 'quick', 'quicker', 'quiet', 'quinn', 'quite', 'race', 'racial', 'racism', 'radiant', 'raging', 'random', 'range', 'ranks', 'rare', 'rate', 'rated', 'rather', 'rating', 'ratings', 'raver', 'raw', 'ray', 'reactions', 'readers', 'reading', 'ready', 'real', 'realised', 'realistic', 'reality', 'realize', 'realized', 'really', 'reason', 'reasonable', 'reasons', 'receive', 'received', 'recent', 'recently', 'recommend', 'recommended', 'reconciliation', 'recover', 'recurring', 'redeemed', 'redeeming', 'reenactments', 'references', 'reflected', 'refreshing', 'regardless', 'regret', 'regrettable', 'regrettably', 'rejection', 'relate', 'related', 'relation', 'relations', 'relationship', 'relationships', 'relatively', 'relaxing', 'release', 'released', 'relief', 'relying', 'remaining', 'remake', 'remarkable', 'remember', 'reminded', 'remotely', 'removing', 'rendering', 'rendition', 'renowned', 'rent', 'repair', 'repeated', 'repeating', 'repeats', 'repertory', 'reporter', 'represents', 'require', 'rescue', 'researched', 'resounding', 'respecting', 'rest', 'restrained', 'result', 'results', 'resume', 'retarded', 'retreat', 'return', 'revealing', 'revenge', 'revere', 'reverse', 'review', 'reviewer', 'reviewers', 'reviews', 'rice', 'rickman', 'ridiculous', 'ridiculousness', 'right', 'riot', 'rips', 'rise', 'rita', 'rivalry', 'riveted', 'riz', 'road', 'robert', 'robotic', 'rochon', 'rocked', 'rocks', 'roeg', 'role', 'roles', 'roller', 'rolls', 'romantic', 'room', 'roosevelt', 'roth', 'rough', 'round', 'routine', 'row', 'rpg', 'rpger', 'rubbish', 'rubin', 'rumbles', 'run', 'running', 'ruthless', 'ryan', 'ryans', 'sabotages', 'sack', 'sacrifice', 'sad', 'said', 'sake', 'salesman', 'sam', 'sample', 'sand', 'sandra', 'sappiest', 'sarcophage', 'sat', 'satanic', 'savalas', 'savant', 'save', 'savor', 'saw', 'say', 'says', 'scale', 'scamp', 'scare', 'scared', 'scares', 'scary', 'scene', 'scenery', 'scenes', 'schilling', 'schizophrenic', 'school', 'schoolers', 'schrader', 'schultz', 'sci', 'science', 'scientist', 'score', 'scot', 'scream', 'screamy', 'screen', 'screened', 'screenplay', 'screenwriter', 'scrimm', 'script', 'scripted', 'scripting', 'scripts', 'sculpture', 'sea', 'seamless', 'seamlessly', 'sean', 'season', 'seat', 'second', 'secondary', 'secondly', 'see', 'seeing', 'seem', 'seemed', 'seems', 'seen', 'selections', 'self', 'sells', 'semi', 'senior', 'sense', 'senses', 'sensibility', 'sensitivities', 'sentiment', 'seperate', 'sequel', 'sequels', 'sequence', 'sequences', 'series', 'serious', 'seriously', 'served', 'set', 'sets', 'setting', 'settings', 'seuss', 'several', 'sex', 'shakespear', 'shakespears', 'shallow', 'shame', 'shameful', 'share', 'sharing', 'sharply', 'shatner', 'shattered', 'shed', 'sheer', 'shelf', 'shell', 'shelves', 'shenanigans', 'shepard', 'shined', 'shirley', 'shocking', 'shooting', 'short', 'shortlist', 'shot', 'shots', 'show', 'showcasing', 'showed', 'shows', 'shut', 'sibling', 'sick', 'side', 'sidelined', 'sign', 'significant', 'silent', 'silly', 'simmering', 'simplifying', 'simply', 'since', 'sincere', 'sing', 'singing', 'single', 'sinister', 'sink', 'sinking', 'sister', 'sisters', 'sit', 'sitcoms', 'site', 'sites', 'sits', 'situation', 'situations', 'skilled', 'skip', 'slackers', 'slavic', 'sleep', 'slideshow', 'slightest', 'slightly', 'slimy', 'sloppy', 'slow', 'slurs', 'smack', 'small', 'smart', 'smells', 'smile', 'smiling', 'smith', 'smoothly', 'snider', 'snow', 'soap', 'sobering', 'social', 'soldiers', 'sole', 'solid', 'solidifying', 'solving', 'someone', 'something', 'sometimes', 'somewhat', 'son', 'song', 'songs', 'soon', 'sophisticated', 'sorrentino', 'sorry', 'sort', 'soul', 'sound', 'sounded', 'sounds', 'soundtrack', 'sour', 'south', 'southern', 'space', 'spacek', 'spacey', 'span', 'speak', 'speaking', 'special', 'speed', 'spend', 'spent', 'spew', 'sphere', 'spiffy', 'splendid', 'spock', 'spoil', 'spoiled', 'spoiler', 'spoilers', 'spot', 'spy', 'squibs', 'stable', 'stage', 'stagy', 'stand', 'standout', 'stanwyck', 'star', 'starlet', 'starring', 'stars', 'start', 'started', 'starts', 'state', 'stay', 'stayed', 'stealing', 'steamboat', 'steele', 'step', 'stephen', 'stereotypes', 'stereotypically', 'steve', 'stewart', 'stick', 'still', 'stinker', 'stinks', 'stocking', 'stockings', 'stoic', 'store', 'stories', 'storm', 'story', 'storyline', 'storytelling', 'stowe', 'strange', 'stranger', 'stratus', 'straw', 'street', 'strident', 'string', 'strives', 'strokes', 'strong', 'struck', 'structure', 'struggle', 'stuart', 'student', 'students', 'studio', 'study', 'stuff', 'stunning', 'stupid', 'stupidity', 'style', 'stylized', 'sub', 'subject', 'subjects', 'sublime', 'sublimely', 'subplots', 'subtitles', 'subtle', 'subversive', 'subverting', 'succeeded', 'succeeds', 'success', 'suck', 'sucked', 'sucks', 'suffered', 'suffering', 'suggest', 'suggests', 'suited', 'sum', 'summary', 'sundays', 'super', 'superb', 'superbad', 'superbly', 'superficial', 'superlative', 'supernatural', 'supporting', 'supposed', 'supposedly', 'sure', 'surely', 'surf', 'surface', 'surprised', 'surprises', 'surprising', 'surprisingly', 'surrounding', 'surroundings', 'survivors', 'suspense', 'suspension', 'sven', 'swamp', 'sweep', 'sweet', 'switched', 'swords', 'sydney', 'sympathetic', 'syrupy', 'system', 'tacky', 'taelons', 'take', 'taken', 'takes', 'taking', 'tale', 'talent', 'talented', 'talents', 'talk', 'tanks', 'taped', 'tardis', 'task', 'taste', 'taxidermists', 'taylor', 'teacher', 'teaches', 'team', 'tear', 'tears', 'technically', 'teddy', 'tedium', 'teen', 'teenagers', 'teeth', 'telephone', 'television', 'tell', 'telly', 'temperaments', 'ten', 'tender', 'tension', 'tensions', 'terminology', 'terms', 'terrible', 'terribly', 'terrific', 'terror', 'th', 'thanks', 'theater', 'theatre', 'theatres', 'theatrical', 'theme', 'themes', 'therapy', 'thick', 'thing', 'things', 'think', 'thinking', 'thomerson', 'thoroughly', 'thorsen', 'though', 'thought', 'thoughts', 'thousand', 'thread', 'three', 'threshold', 'thrilled', 'thriller', 'thrillers', 'throughout', 'throwback', 'thrown', 'thug', 'thumper', 'thunderbirds', 'thus', 'ticker', 'tickets', 'tightly', 'time', 'timeless', 'timely', 'timers', 'times', 'timing', 'tiny', 'tired', 'title', 'titta', 'today', 'together', 'told', 'tolerable', 'tolerate', 'tom', 'tomorrow', 'tone', 'tongue', 'tonight', 'tons', 'tony', 'took', 'toons', 'top', 'tops', 'torture', 'tortured', 'total', 'totally', 'touch', 'touches', 'touching', 'tough', 'towards', 'towers', 'townsend', 'track', 'tract', 'traditional', 'traffic', 'trailer', 'train', 'tranquillity', 'transcend', 'transfers', 'translate', 'translating', 'trap', 'trash', 'trashy', 'treachery', 'treasure', 'treat', 'treatments', 'trek', 'tremendous', 'tremendously', 'tries', 'trilogy', 'trinity', 'trip', 'triumphed', 'trond', 'trooper', 'trouble', 'truck', 'true', 'truly', 'trumbull', 'trumpeter', 'truth', 'try', 'trying', 'trysts', 'tsunami', 'tuneful', 'turkey', 'turn', 'turned', 'turns', 'tv', 'twice', 'twirling', 'twist', 'twists', 'two', 'tying', 'type', 'typical', 'ue', 'ugliest', 'ugly', 'uhura', 'ultra', 'um', 'unaccompanied', 'unbearable', 'unbearably', 'unbelievable', 'uncalled', 'unconditional', 'unconvincing', 'underacting', 'underappreciated', 'underbite', 'underlines', 'underlying', 'underneath', 'underrated', 'understand', 'understanding', 'understated', 'understatement', 'understood', 'undertone', 'underwater', 'undoubtedly', 'uneasy', 'unemployed', 'unethical', 'unfaithful', 'unfolds', 'unforgettable', 'unfortunate', 'unfortunately', 'unfunny', 'unintentionally', 'uninteresting', 'union', 'unique', 'uniqueness', 'universal', 'universe', 'unless', 'unlockable', 'unmatched', 'unmitigated', 'unmoving', 'unnecessary', 'unneeded', 'unoriginal', 'unpleasant', 'unpredictability', 'unpredictable', 'unrealistic', 'unrecognizable', 'unrecommended', 'unremarkable', 'unrestrained', 'unsatisfactory', 'unwatchable', 'upa', 'uplifting', 'upper', 'ups', 'uptight', 'ursula', 'us', 'use', 'used', 'user', 'uses', 'using', 'ussr', 'usual', 'utter', 'utterly', 'valentine', 'value', 'values', 'vampire', 'vandiver', 'variation', 'vehicles', 'ventura', 'verbal', 'verbatim', 'versatile', 'version', 'versus', 'vessel', 'veteran', 'vey', 'vibe', 'victor', 'video', 'view', 'viewer', 'viewing', 'views', 'villain', 'villains', 'violence', 'violin', 'virtue', 'virus', 'vision', 'visual', 'visually', 'vitally', 'vivian', 'vivid', 'vocal', 'voice', 'volatile', 'volcano', 'vomit', 'vomited', 'voyage', 'vulcan', 'waiting', 'waitress', 'walk', 'walked', 'wall', 'want', 'wanted', 'wanting', 'wants', 'war', 'warmth', 'warn', 'warning', 'wartime', 'warts', 'washed', 'washing', 'waste', 'wasted', 'waster', 'wasting', 'watch', 'watchable', 'watched', 'watching', 'water', 'watkins', 'watson', 'wave', 'way', 'waylaid', 'wayne', 'ways', 'wb', 'weak', 'weaker', 'weariness', 'weaving', 'website', 'wedding', 'weight', 'weird', 'well', 'welsh', 'went', 'whatever', 'whatsoever', 'whenever', 'whether', 'whine', 'whiny', 'white', 'whites', 'whoever', 'whole', 'wholesome', 'wide', 'widmark', 'wife', 'wih', 'wild', 'wilkinson', 'william', 'willie', 'wily', 'win', 'wind', 'wise', 'wish', 'within', 'without', 'witticisms', 'witty', 'woa', 'women', 'wonder', 'wondered', 'wonderful', 'wonderfully', 'wong', 'wont', 'woo', 'wooden', 'word', 'words', 'work', 'worked', 'working', 'works', 'world', 'worry', 'worse', 'worst', 'worth', 'worthless', 'worthwhile', 'worthy', 'would', 'wouldnt', 'woven', 'wow', 'wrap', 'write', 'writer', 'writers', 'writing', 'written', 'wrong', 'wrote', 'yardley', 'yawn', 'yeah', 'year', 'years', 'yelps', 'yes', 'yet', 'young', 'younger', 'youthful', 'youtube', 'yun', 'zillion', 'zombie', 'zombiez']\n",
      "(746, 2886)\n",
      "\n",
      "IDF score using sklearn:\n",
      "[6.922918   6.922918   6.22977082 ... 6.922918   6.5174529  6.922918  ]\n",
      "\n",
      "TD-IDF using sklearn\n",
      "  (0, 2878)\t0.35781145622317734\n",
      "  (0, 2287)\t0.3377679916467555\n",
      "  (0, 1653)\t0.35781145622317734\n",
      "  (0, 1651)\t0.16192317905848022\n",
      "  (0, 1545)\t0.30566026894803877\n",
      "  (0, 720)\t0.4123943870778812\n",
      "  (0, 688)\t0.4123943870778812\n",
      "  (0, 53)\t0.4123943870778812\n",
      "\n",
      "Dense metrix using sklearn\n",
      "[[0. 0. 0. ... 0. 0. 0.]]\n"
     ]
    }
   ],
   "source": [
    "# using sklearn Tfidf-Vectorizer for above corpus\n",
    "\n",
    "vectorizer = TfidfVectorizer()\n",
    "vectorizer.fit(corpus_1)\n",
    "skl_output = vectorizer.transform(corpus_1)\n",
    "\n",
    "# sklearn feature names, they are sorted in alphabetic order by default.\n",
    "print(\"Features Name using sklearn\")\n",
    "print(vectorizer.get_feature_names())\n",
    "\n",
    "# shape of sklearn tfidf vectorizer output after applying transform method.\n",
    "print(skl_output.shape)\n",
    "\n",
    "print(\"\\nIDF score using sklearn:\")\n",
    "print(vectorizer.idf_)\n",
    "print(\"\\nTD-IDF using sklearn\")\n",
    "print(skl_output[0])\n",
    "\n",
    "print(\"\\nDense metrix using sklearn\")\n",
    "print(skl_output[0].toarray())"
   ]
  }
 ],
 "metadata": {
  "colab": {
   "collapsed_sections": [],
   "name": "5_Assignment_A_5.ipynb",
   "provenance": []
  },
  "kernelspec": {
   "display_name": "Python 3",
   "language": "python",
   "name": "python3"
  },
  "language_info": {
   "codemirror_mode": {
    "name": "ipython",
    "version": 3
   },
   "file_extension": ".py",
   "mimetype": "text/x-python",
   "name": "python",
   "nbconvert_exporter": "python",
   "pygments_lexer": "ipython3",
   "version": "3.7.3"
  }
 },
 "nbformat": 4,
 "nbformat_minor": 1
}
